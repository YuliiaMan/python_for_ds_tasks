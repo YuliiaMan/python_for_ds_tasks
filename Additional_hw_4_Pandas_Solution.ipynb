{
  "cells": [
    {
      "cell_type": "markdown",
      "metadata": {
        "id": "view-in-github",
        "colab_type": "text"
      },
      "source": [
        "<a href=\"https://colab.research.google.com/github/YuliiaMan/python_for_ds_tasks/blob/main/Additional_hw_4_Pandas_Solution.ipynb\" target=\"_parent\"><img src=\"https://colab.research.google.com/assets/colab-badge.svg\" alt=\"Open In Colab\"/></a>"
      ]
    },
    {
      "cell_type": "markdown",
      "id": "f27af02b",
      "metadata": {
        "id": "f27af02b"
      },
      "source": [
        "# Додаткове завдання з pandas\n",
        "Вітаю! В цьому завданні будемо працювати з даними з опитування щодо зарплат ІТ спеціалістів на рексурсі DOU від грудня 2022 року. Впевнена, це буде цікаве дослідження, а заразом і практика pandas :)\n",
        "Цей аналіз може бути корисним людині, яка обирає напрям роботи в ІТ і хоче зрозуміти тенденції. За якісного виконання цього аналізу, цей проєкт можна сміливо додавати у Ваше портфоліо!"
      ]
    },
    {
      "cell_type": "code",
      "execution_count": 3,
      "id": "d862d910",
      "metadata": {
        "ExecuteTime": {
          "end_time": "2023-07-05T17:28:44.732912Z",
          "start_time": "2023-07-05T17:28:43.305915Z"
        },
        "id": "d862d910"
      },
      "outputs": [],
      "source": [
        "import pandas as pd"
      ]
    },
    {
      "cell_type": "markdown",
      "id": "dce4f0a0",
      "metadata": {
        "id": "dce4f0a0"
      },
      "source": [
        "1. Зчитайте дані з файлу `2022_dec_raw.csv`. Увага! Тут необхідно використати аргумент `pd.read_csv` `sep=';'`, бо розділювач в даних - крапка з комою."
      ]
    },
    {
      "cell_type": "code",
      "source": [
        "from google.colab import drive\n",
        "drive.mount('/content/drive')"
      ],
      "metadata": {
        "id": "Pj6dW7mAFqCZ",
        "outputId": "c68d4a77-4f10-4def-9c68-0027e5b7dee9",
        "colab": {
          "base_uri": "https://localhost:8080/"
        }
      },
      "id": "Pj6dW7mAFqCZ",
      "execution_count": 4,
      "outputs": [
        {
          "output_type": "stream",
          "name": "stdout",
          "text": [
            "Mounted at /content/drive\n"
          ]
        }
      ]
    },
    {
      "cell_type": "code",
      "execution_count": 5,
      "id": "6ed034bf",
      "metadata": {
        "ExecuteTime": {
          "end_time": "2023-07-06T12:01:26.329176Z",
          "start_time": "2023-07-06T12:01:26.224968Z"
        },
        "id": "6ed034bf"
      },
      "outputs": [],
      "source": [
        "data_path = '/content/drive/MyDrive/datastat/2022_dec_raw.csv'\n",
        "df = pd.read_csv(data_path, sep=';')"
      ]
    },
    {
      "cell_type": "markdown",
      "id": "7cf480dc",
      "metadata": {
        "id": "7cf480dc"
      },
      "source": [
        "2. Які колонки мають дані?"
      ]
    },
    {
      "cell_type": "code",
      "execution_count": null,
      "id": "07715eeb",
      "metadata": {
        "ExecuteTime": {
          "end_time": "2023-07-05T17:31:33.340882Z",
          "start_time": "2023-07-05T17:31:33.333094Z"
        },
        "id": "07715eeb",
        "outputId": "8dd8236f-6331-416f-d391-74cea45f5bbc"
      },
      "outputs": [
        {
          "data": {
            "text/plain": [
              "Index(['Timestamp', 'Ви працюєте зараз в ІТ?', 'Де ви зараз живете? ',\n",
              "       'В якій області ви зараз живете?',\n",
              "       'Зарплата у $$$ за місяць, лише ставка після сплати податків',\n",
              "       'Ваша стать', 'Ваш вік', 'Яка у вас освіта?',\n",
              "       'Чи є у вас науковий ступінь? ', 'Знання англійської мови',\n",
              "       'Оберіть вашу посаду', 'Ваш тайтл', 'Ваша спеціалізація',\n",
              "       'Вкажіть вашу спеціалізацію', 'Оберіть вашу спеціалізацію',\n",
              "       'Ваша посада', 'Оберіть вашу посаду2', 'Ваша посада3', 'Ваша посада4',\n",
              "       'Ваша посада5', 'Ваша посада6', 'Ваша посада7',\n",
              "       'Чи використовуєте ви у своїй роботі мови програмування (одну чи декілька)?',\n",
              "       'Основна мова програмування', 'Вкажіть вашу основну спеціалізацію',\n",
              "       'В якій сфері працюєте?', 'Тип компанії',\n",
              "       'Загальний стаж роботи за спеціальністю'],\n",
              "      dtype='object')"
            ]
          },
          "execution_count": 12,
          "metadata": {},
          "output_type": "execute_result"
        }
      ],
      "source": [
        "df.columns"
      ]
    },
    {
      "cell_type": "markdown",
      "id": "6d324476",
      "metadata": {
        "id": "6d324476"
      },
      "source": [
        "3. Скільки рядків та колонок мають дані? Скільки пропущених значень має кожна з колонок?"
      ]
    },
    {
      "cell_type": "code",
      "execution_count": null,
      "id": "66a05b9f",
      "metadata": {
        "ExecuteTime": {
          "end_time": "2023-07-05T17:32:45.392970Z",
          "start_time": "2023-07-05T17:32:45.334153Z"
        },
        "id": "66a05b9f",
        "outputId": "ea0b86fe-2b14-45e1-cd88-1a560d04becc"
      },
      "outputs": [
        {
          "name": "stdout",
          "output_type": "stream",
          "text": [
            "<class 'pandas.core.frame.DataFrame'>\n",
            "RangeIndex: 13315 entries, 0 to 13314\n",
            "Data columns (total 28 columns):\n",
            " #   Column                                                                      Non-Null Count  Dtype \n",
            "---  ------                                                                      --------------  ----- \n",
            " 0   Timestamp                                                                   13315 non-null  object\n",
            " 1   Ви працюєте зараз в ІТ?                                                     13315 non-null  object\n",
            " 2   Де ви зараз живете?                                                         13315 non-null  object\n",
            " 3   В якій області ви зараз живете?                                             11538 non-null  object\n",
            " 4   Зарплата у $$$ за місяць, лише ставка після сплати податків                 13288 non-null  object\n",
            " 5   Ваша стать                                                                  13315 non-null  object\n",
            " 6   Ваш вік                                                                     13315 non-null  object\n",
            " 7   Яка у вас освіта?                                                           13315 non-null  object\n",
            " 8   Чи є у вас науковий ступінь?                                                13204 non-null  object\n",
            " 9   Знання англійської мови                                                     13315 non-null  object\n",
            " 10  Оберіть вашу посаду                                                         13315 non-null  object\n",
            " 11  Ваш тайтл                                                                   13315 non-null  object\n",
            " 12  Ваша спеціалізація                                                          159 non-null    object\n",
            " 13  Вкажіть вашу спеціалізацію                                                  2364 non-null   object\n",
            " 14  Оберіть вашу спеціалізацію                                                  486 non-null    object\n",
            " 15  Ваша посада                                                                 305 non-null    object\n",
            " 16  Оберіть вашу посаду2                                                        560 non-null    object\n",
            " 17  Ваша посада3                                                                821 non-null    object\n",
            " 18  Ваша посада4                                                                485 non-null    object\n",
            " 19  Ваша посада5                                                                288 non-null    object\n",
            " 20  Ваша посада6                                                                353 non-null    object\n",
            " 21  Ваша посада7                                                                116 non-null    object\n",
            " 22  Чи використовуєте ви у своїй роботі мови програмування (одну чи декілька)?  4874 non-null   object\n",
            " 23  Основна мова програмування                                                  9060 non-null   object\n",
            " 24  Вкажіть вашу основну спеціалізацію                                          9059 non-null   object\n",
            " 25  В якій сфері працюєте?                                                      13315 non-null  object\n",
            " 26  Тип компанії                                                                13315 non-null  object\n",
            " 27  Загальний стаж роботи за спеціальністю                                      13315 non-null  object\n",
            "dtypes: object(28)\n",
            "memory usage: 2.8+ MB\n"
          ]
        }
      ],
      "source": [
        "df.info()"
      ]
    },
    {
      "cell_type": "markdown",
      "id": "854846c5",
      "metadata": {
        "ExecuteTime": {
          "end_time": "2023-07-06T09:12:21.537631Z",
          "start_time": "2023-07-06T09:12:21.481059Z"
        },
        "id": "854846c5"
      },
      "source": [
        "4. Які колонки мають всі значення заповненими (не мають дожного None значення)? Виведіть програмно список цих колонок."
      ]
    },
    {
      "cell_type": "code",
      "execution_count": null,
      "id": "eb8e60f3",
      "metadata": {
        "ExecuteTime": {
          "end_time": "2023-07-06T09:11:48.536079Z",
          "start_time": "2023-07-06T09:11:48.479992Z"
        },
        "id": "eb8e60f3"
      },
      "outputs": [],
      "source": [
        "isna = df.isna().sum()"
      ]
    },
    {
      "cell_type": "code",
      "execution_count": null,
      "id": "2dc2ea09",
      "metadata": {
        "ExecuteTime": {
          "end_time": "2023-07-06T09:12:00.097587Z",
          "start_time": "2023-07-06T09:12:00.062048Z"
        },
        "id": "2dc2ea09",
        "outputId": "2006d555-4d33-46ee-cd83-76d90a80e678"
      },
      "outputs": [
        {
          "data": {
            "text/plain": [
              "Index(['Timestamp', 'Ви працюєте зараз в ІТ?', 'Де ви зараз живете? ',\n",
              "       'Ваша стать', 'Ваш вік', 'Яка у вас освіта?', 'Знання англійської мови',\n",
              "       'Оберіть вашу посаду', 'Ваш тайтл', 'В якій сфері працюєте?',\n",
              "       'Тип компанії', 'Загальний стаж роботи за спеціальністю'],\n",
              "      dtype='object')"
            ]
          },
          "execution_count": 24,
          "metadata": {},
          "output_type": "execute_result"
        }
      ],
      "source": [
        "isna[isna==0].index"
      ]
    },
    {
      "cell_type": "markdown",
      "id": "2e6a2867",
      "metadata": {
        "ExecuteTime": {
          "end_time": "2023-07-06T10:56:38.046761Z",
          "start_time": "2023-07-06T10:56:38.038875Z"
        },
        "id": "2e6a2867"
      },
      "source": [
        "5. Який тип мають колонки в наборі даних? Які з колонок типу object логічно на ваш погляд перетворити на числові колонки?"
      ]
    },
    {
      "cell_type": "code",
      "execution_count": null,
      "id": "3e5e1776",
      "metadata": {
        "ExecuteTime": {
          "end_time": "2023-07-06T11:00:53.527335Z",
          "start_time": "2023-07-06T11:00:53.521605Z"
        },
        "id": "3e5e1776",
        "outputId": "2f012ae6-0cc6-48e7-8973-10b2406291c9"
      },
      "outputs": [
        {
          "data": {
            "text/plain": [
              "Timestamp                                                                      object\n",
              "Ви працюєте зараз в ІТ?                                                        object\n",
              "Де ви зараз живете?                                                            object\n",
              "В якій області ви зараз живете?                                                object\n",
              "Зарплата у $$$ за місяць, лише ставка після сплати податків                   float64\n",
              "Ваша стать                                                                     object\n",
              "Ваш вік                                                                       float64\n",
              "Яка у вас освіта?                                                              object\n",
              "Чи є у вас науковий ступінь?                                                   object\n",
              "Знання англійської мови                                                        object\n",
              "Оберіть вашу посаду                                                            object\n",
              "Ваш тайтл                                                                      object\n",
              "Ваша спеціалізація                                                             object\n",
              "Вкажіть вашу спеціалізацію                                                     object\n",
              "Оберіть вашу спеціалізацію                                                     object\n",
              "Ваша посада                                                                    object\n",
              "Оберіть вашу посаду2                                                           object\n",
              "Ваша посада3                                                                   object\n",
              "Ваша посада4                                                                   object\n",
              "Ваша посада5                                                                   object\n",
              "Ваша посада6                                                                   object\n",
              "Ваша посада7                                                                   object\n",
              "Чи використовуєте ви у своїй роботі мови програмування (одну чи декілька)?     object\n",
              "Основна мова програмування                                                     object\n",
              "Вкажіть вашу основну спеціалізацію                                             object\n",
              "В якій сфері працюєте?                                                         object\n",
              "Тип компанії                                                                   object\n",
              "Загальний стаж роботи за спеціальністю                                         object\n",
              "dtype: object"
            ]
          },
          "execution_count": 43,
          "metadata": {},
          "output_type": "execute_result"
        }
      ],
      "source": [
        "df.dtypes"
      ]
    },
    {
      "cell_type": "markdown",
      "id": "3da64e75",
      "metadata": {
        "id": "3da64e75"
      },
      "source": [
        "6. Трансформуйте колонки 'Ваш вік', 'Зарплата у $$$ за місяць, лише ставка після сплати податків' у тип даних float. УВАГА! Перед трансформацією подивіться, які дані містять ці колонки. Аби успішно трансформувати тип даних, треба спочатку привести рядки до того виду, який буде підходити, аби потім рядок зробити типом float."
      ]
    },
    {
      "cell_type": "code",
      "execution_count": null,
      "id": "3c4f691c",
      "metadata": {
        "ExecuteTime": {
          "end_time": "2023-07-06T12:01:35.481399Z",
          "start_time": "2023-07-06T12:01:35.463186Z"
        },
        "id": "3c4f691c"
      },
      "outputs": [],
      "source": [
        "number_cols = ['Ваш вік', 'Зарплата у $$$ за місяць, лише ставка після сплати податків']\n",
        "for c in number_cols:\n",
        "    df[c] = df[c].str.replace(',', '.')\n",
        "    df[c] = df[c].astype(float)"
      ]
    },
    {
      "cell_type": "markdown",
      "id": "9c4181cb",
      "metadata": {
        "ExecuteTime": {
          "end_time": "2023-07-06T11:36:23.006200Z",
          "start_time": "2023-07-06T11:36:22.975108Z"
        },
        "id": "9c4181cb"
      },
      "source": [
        "7. Це завдання з зірочкою! Нам треба транфсформувати колонку Timestamp у тип даних `datetime64[ns]`. Це не так просто як здається на першйий погляд :) Але це реальна ситуація, яка може трапитись при зборі даних в роботі аналітиком.\n",
        "Я запропоную один зі способів виконати завдання, але ви можете написати по-своєму. Головне - отримати колонку - потрібного типу.\n",
        "Пропоную наступний алгоритм дій:\n",
        "    1. Подивитись, які дані містяться в цій колонці. Виведіть перші і останні 5 записів. Чи однаковий формат цих даних? (спойлер: ні, бо інакше все було б просто :))\n",
        "    2. Нам треба враховуючи різний формат даних перетворити рядок у колонці `Timestamp` на тип `datetime64[ns]`. Як це зробити? Для перетворення рядка на `datetime64` пропоную скористатись `datetime.datetime.strptime`.\n",
        "    Для цього треба імпортувати бібліотеку `datetime`. Я пропоную написати функцію для обробки кожного окремого рядка, яка враховує довжину рядка і на основі цього застосовує різний формат даних дати.\n",
        "    Як прописувати формат даних можна переглянути [тут](https://www.w3schools.com/python/python_datetime.asp).\n",
        "    3. Коли функція для обробки кожного окремого рядка готова, застосуйте її для всіх даних з допомогою методу `apply`."
      ]
    },
    {
      "cell_type": "code",
      "execution_count": null,
      "id": "18a9113c",
      "metadata": {
        "ExecuteTime": {
          "end_time": "2023-07-06T12:01:32.158933Z",
          "start_time": "2023-07-06T12:01:32.150618Z"
        },
        "id": "18a9113c"
      },
      "outputs": [],
      "source": [
        "df['timestamp_len'] = df.Timestamp.str.len()"
      ]
    },
    {
      "cell_type": "code",
      "execution_count": null,
      "id": "5468de03",
      "metadata": {
        "ExecuteTime": {
          "end_time": "2023-07-06T12:01:32.470644Z",
          "start_time": "2023-07-06T12:01:32.467309Z"
        },
        "id": "5468de03"
      },
      "outputs": [],
      "source": [
        "import datetime\n",
        "\n",
        "def process_timestamp(row):\n",
        "    if row.timestamp_len == 16:\n",
        "        return datetime.datetime.strptime(row.Timestamp, '%d.%m.%Y %H:%M')\n",
        "    else:\n",
        "        return datetime.datetime.strptime(row.Timestamp, '%m.%d.%Y %H:%M:%S')"
      ]
    },
    {
      "cell_type": "code",
      "execution_count": null,
      "id": "7500c250",
      "metadata": {
        "ExecuteTime": {
          "end_time": "2023-07-06T12:01:33.085130Z",
          "start_time": "2023-07-06T12:01:32.721192Z"
        },
        "id": "7500c250"
      },
      "outputs": [],
      "source": [
        "df['Timestamp'] = df.apply(process_timestamp, axis=1)"
      ]
    },
    {
      "cell_type": "markdown",
      "id": "e60cd492",
      "metadata": {
        "id": "e60cd492"
      },
      "source": [
        "8. Для колонок типу даних object (які такими лишились після всіх наших трансформацій) виведіть кількість унікальних значень."
      ]
    },
    {
      "cell_type": "code",
      "execution_count": null,
      "id": "ea3467fa",
      "metadata": {
        "ExecuteTime": {
          "end_time": "2023-07-06T11:38:51.013461Z",
          "start_time": "2023-07-06T11:38:50.964519Z"
        },
        "id": "ea3467fa",
        "outputId": "0e596b54-2c07-4da5-a648-622cbba7aebd"
      },
      "outputs": [
        {
          "data": {
            "text/plain": [
              "Ви працюєте зараз в ІТ?                                                          5\n",
              "Де ви зараз живете?                                                              2\n",
              "В якій області ви зараз живете?                                                 23\n",
              "Ваша стать                                                                       2\n",
              "Яка у вас освіта?                                                                5\n",
              "Чи є у вас науковий ступінь?                                                     3\n",
              "Знання англійської мови                                                          5\n",
              "Оберіть вашу посаду                                                             22\n",
              "Ваш тайтл                                                                       10\n",
              "Ваша спеціалізація                                                               8\n",
              "Вкажіть вашу спеціалізацію                                                       4\n",
              "Оберіть вашу спеціалізацію                                                      21\n",
              "Ваша посада                                                                     15\n",
              "Оберіть вашу посаду2                                                             7\n",
              "Ваша посада3                                                                     7\n",
              "Ваша посада4                                                                     5\n",
              "Ваша посада5                                                                     6\n",
              "Ваша посада6                                                                     2\n",
              "Ваша посада7                                                                     4\n",
              "Чи використовуєте ви у своїй роботі мови програмування (одну чи декілька)?       2\n",
              "Основна мова програмування                                                      33\n",
              "Вкажіть вашу основну спеціалізацію                                              12\n",
              "В якій сфері працюєте?                                                        1768\n",
              "Тип компанії                                                                     6\n",
              "Загальний стаж роботи за спеціальністю                                          19\n",
              "dtype: int64"
            ]
          },
          "execution_count": 84,
          "metadata": {},
          "output_type": "execute_result"
        }
      ],
      "source": [
        "df.select_dtypes('object').nunique()"
      ]
    },
    {
      "cell_type": "markdown",
      "id": "03500adf",
      "metadata": {
        "id": "03500adf"
      },
      "source": [
        "9. Для колонок типу даних object виведіть топ 10 найбільш частих значень з кількістю рядків, в яких це значення зустрічається. Зробіть це для кожної колонки окремо. Наприклад, в циклі.  \n",
        "Що цікавого бачите? Які висновки можна зробити? Що особисто Вас вразило?"
      ]
    },
    {
      "cell_type": "code",
      "execution_count": null,
      "id": "a5f8a44c",
      "metadata": {
        "ExecuteTime": {
          "end_time": "2023-07-06T11:40:26.106363Z",
          "start_time": "2023-07-06T11:40:26.095865Z"
        },
        "id": "a5f8a44c"
      },
      "outputs": [],
      "source": [
        "object_dtypes = df.select_dtypes('object').columns"
      ]
    },
    {
      "cell_type": "code",
      "execution_count": null,
      "id": "4a6f93d3",
      "metadata": {
        "ExecuteTime": {
          "end_time": "2023-07-06T11:41:58.501921Z",
          "start_time": "2023-07-06T11:41:58.420942Z"
        },
        "id": "4a6f93d3",
        "outputId": "e6168fea-5c27-47c9-a2f2-66309a101006"
      },
      "outputs": [
        {
          "data": {
            "text/plain": [
              "Так, працюю full-time      12643\n",
              "Ні, тимчасово не працюю      380\n",
              "Так, працюю part-time        152\n",
              "Так, я фрилансер             115\n",
              "Інше                          25\n",
              "Name: Ви працюєте зараз в ІТ?, dtype: int64"
            ]
          },
          "metadata": {},
          "output_type": "display_data"
        },
        {
          "data": {
            "text/plain": [
              "В Україні                                                      11587\n",
              "За кордоном (переїхали через війну, але планую повернутися)     1728\n",
              "Name: Де ви зараз живете? , dtype: int64"
            ]
          },
          "metadata": {},
          "output_type": "display_data"
        },
        {
          "data": {
            "text/plain": [
              "Київ чи область                4411\n",
              "Львів чи область               2353\n",
              "Дніпро чи область               751\n",
              "Івано-Франківськ чи область     478\n",
              "Вінниця чи область              447\n",
              "Одеса чи область                443\n",
              "Харків чи область               355\n",
              "Полтава чи область              252\n",
              "Черкаси чи область              232\n",
              "Хмельницький чи область         230\n",
              "Name: В якій області ви зараз живете?, dtype: int64"
            ]
          },
          "metadata": {},
          "output_type": "display_data"
        },
        {
          "data": {
            "text/plain": [
              "Чоловік    10221\n",
              "Жінка       3094\n",
              "Name: Ваша стать, dtype: int64"
            ]
          },
          "metadata": {},
          "output_type": "display_data"
        },
        {
          "data": {
            "text/plain": [
              "Вища (бакалавр, спеціаліст, магістр)    10645\n",
              "Дві вищі                                 1002\n",
              "Ще студент вишу                           811\n",
              "Середня                                   447\n",
              "Середня спеціальна                        410\n",
              "Name: Яка у вас освіта?, dtype: int64"
            ]
          },
          "metadata": {},
          "output_type": "display_data"
        },
        {
          "data": {
            "text/plain": [
              "Немає                  12980\n",
              "Кандидат наук / PhD      216\n",
              "Доктор наук                8\n",
              "Name: Чи є у вас науковий ступінь? , dtype: int64"
            ]
          },
          "metadata": {},
          "output_type": "display_data"
        },
        {
          "data": {
            "text/plain": [
              "Upper-Intermediate    5538\n",
              "Intermediate          4475\n",
              "Advanced              1622\n",
              "Pre-Intermediate      1401\n",
              "Elementary             279\n",
              "Name: Знання англійської мови, dtype: int64"
            ]
          },
          "metadata": {},
          "output_type": "display_data"
        },
        {
          "data": {
            "text/plain": [
              "Software Engineer (Junior, Middle, Senior, Team/Tech Lead, Architect)             6773\n",
              "QA Engineer (Junior, Middle, Senior, Team/Tech Lead, Manager)                     2364\n",
              "Project/Product/Program Manager, Product Owner, Scrum Master, Delivery Manager     821\n",
              "HR/Recruiter                                                                       560\n",
              "Designer / Artist (Graphic, UX/UI, Game, Artist, Sound etc.)                       486\n",
              "Analyst (Business, Data, System)                                                   485\n",
              "DevOps, SRE                                                                        353\n",
              "Marketing, SEO, Copywriter                                                         305\n",
              "Data Science, Machine Learning, Big Data                                           288\n",
              "Game Developer / Programmer                                                        160\n",
              "Name: Оберіть вашу посаду, dtype: int64"
            ]
          },
          "metadata": {},
          "output_type": "display_data"
        },
        {
          "data": {
            "text/plain": [
              "Middle            4710\n",
              "Senior            3400\n",
              "Junior            2316\n",
              "Team Lead          883\n",
              "Немає тайтлу       571\n",
              "Tech Lead          430\n",
              "Manager            375\n",
              "Head               250\n",
              "Intern/Trainee     240\n",
              "Architect          140\n",
              "Name: Ваш тайтл, dtype: int64"
            ]
          },
          "metadata": {},
          "output_type": "display_data"
        },
        {
          "data": {
            "text/plain": [
              "Programmer                       89\n",
              "Gameplay Programmer              42\n",
              "Engine Programmer                 8\n",
              ".NET Programmer                   6\n",
              "Ul Programmer                     4\n",
              "Rendering/Graphics Programmer     4\n",
              "Al Programmer                     3\n",
              "Інше                              3\n",
              "Name: Ваша спеціалізація, dtype: int64"
            ]
          },
          "metadata": {},
          "output_type": "display_data"
        },
        {
          "data": {
            "text/plain": [
              "Manual QA         1467\n",
              "Automation QA      531\n",
              "General QA         354\n",
              "Performance QA      12\n",
              "Name: Вкажіть вашу спеціалізацію, dtype: int64"
            ]
          },
          "metadata": {},
          "output_type": "display_data"
        },
        {
          "data": {
            "text/plain": [
              "UI/UX Designer              201\n",
              "Product Designer             60\n",
              "3D Artist                    40\n",
              "2D Artist                    35\n",
              "Graphic / Video Designer     33\n",
              "Game Designer                20\n",
              "Designer                     15\n",
              "Animator                     14\n",
              "Other                        12\n",
              "Web Designer                 11\n",
              "Name: Оберіть вашу спеціалізацію, dtype: int64"
            ]
          },
          "metadata": {},
          "output_type": "display_data"
        },
        {
          "data": {
            "text/plain": [
              "Other                            44\n",
              "Marketing Manager                44\n",
              "SEO Specialist                   34\n",
              "Digital Marketing Manager        33\n",
              "Copywriter                       27\n",
              "Chief Marketing Officer (CMO)    22\n",
              "Employer Brand Manager           20\n",
              "SMM Manager                      20\n",
              "PR Manager                       16\n",
              "Product Marketing Manager        11\n",
              "Name: Ваша посада, dtype: int64"
            ]
          },
          "metadata": {},
          "output_type": "display_data"
        },
        {
          "data": {
            "text/plain": [
              "Recruiter                             201\n",
              "HR Manager                            131\n",
              "Talent Acquisition Manager             52\n",
              "Talent Researcher/Sourcer              51\n",
              "HR Director                            45\n",
              "HR Business Partner                    40\n",
              "People partner / Happiness manager     40\n",
              "Name: Оберіть вашу посаду2, dtype: int64"
            ]
          },
          "metadata": {},
          "output_type": "display_data"
        },
        {
          "data": {
            "text/plain": [
              "Project Manager     443\n",
              "Product Manager     135\n",
              "Delivery Manager     88\n",
              "Product Owner        67\n",
              "Scrum Master         42\n",
              "Program Manager      29\n",
              "Business Manager     17\n",
              "Name: Ваша посада3, dtype: int64"
            ]
          },
          "metadata": {},
          "output_type": "display_data"
        },
        {
          "data": {
            "text/plain": [
              "Business Analyst    289\n",
              "Data Analyst        106\n",
              "Product Analyst      34\n",
              "System Analyst       32\n",
              "BI Analyst           24\n",
              "Name: Ваша посада4, dtype: int64"
            ]
          },
          "metadata": {},
          "output_type": "display_data"
        },
        {
          "data": {
            "text/plain": [
              "Data Engineer / Big Data Engineer    104\n",
              "Data Scientist                        93\n",
              "Machine Learning Engineer             46\n",
              "Computer Vision Engineer              21\n",
              "Research Engineer                     15\n",
              "BI Engineer                            9\n",
              "Name: Ваша посада5, dtype: int64"
            ]
          },
          "metadata": {},
          "output_type": "display_data"
        },
        {
          "data": {
            "text/plain": [
              "DevOps Engineer              325\n",
              "Site Reliability Engineer     28\n",
              "Name: Ваша посада6, dtype: int64"
            ]
          },
          "metadata": {},
          "output_type": "display_data"
        },
        {
          "data": {
            "text/plain": [
              "CTO                        41\n",
              "Director of Engineering    33\n",
              "CEO, (co-) founder         28\n",
              "Program Director           14\n",
              "Name: Ваша посада7, dtype: int64"
            ]
          },
          "metadata": {},
          "output_type": "display_data"
        },
        {
          "data": {
            "text/plain": [
              "Ні, не використовую    2754\n",
              "Так, використовую      2120\n",
              "Name: Чи використовуєте ви у своїй роботі мови програмування (одну чи декілька)?, dtype: int64"
            ]
          },
          "metadata": {},
          "output_type": "display_data"
        },
        {
          "data": {
            "text/plain": [
              "JavaScript    1695\n",
              "Java          1241\n",
              "Python        1190\n",
              "TypeScript    1179\n",
              "C# / .NET     1179\n",
              "PHP            627\n",
              "Kotlin         286\n",
              "C++            251\n",
              "Swift          221\n",
              "SQL            201\n",
              "Name: Основна мова програмування, dtype: int64"
            ]
          },
          "metadata": {},
          "output_type": "display_data"
        },
        {
          "data": {
            "text/plain": [
              "Back-end  розробка               2847\n",
              "Full Stack розробка              1628\n",
              "Front-end  розробка              1628\n",
              "QA                               1079\n",
              "Mobile  розробка                  665\n",
              "Робота з даними, аналіз даних     558\n",
              "DevOps                            308\n",
              "Інше                              293\n",
              "Embedded                           49\n",
              "embedded                            2\n",
              "Name: Вкажіть вашу основну спеціалізацію, dtype: int64"
            ]
          },
          "metadata": {},
          "output_type": "display_data"
        },
        {
          "data": {
            "text/plain": [
              "Інша                    1445\n",
              "E-commerce              1243\n",
              "Fintech / Banking        942\n",
              "Medtech / Healthcare     547\n",
              "GameDev                  449\n",
              "Gambling                 352\n",
              "Edtech / Education       250\n",
              "Telecom                  232\n",
              "Mobile                   200\n",
              "Adtech / Advertising     193\n",
              "Name: В якій сфері працюєте?, dtype: int64"
            ]
          },
          "metadata": {},
          "output_type": "display_data"
        },
        {
          "data": {
            "text/plain": [
              "Аутсорсингова    5593\n",
              "Продуктова       4940\n",
              "Аутстафінгова    1767\n",
              "Стартап           539\n",
              "Інша              355\n",
              "Фріланс           121\n",
              "Name: Тип компанії, dtype: int64"
            ]
          },
          "metadata": {},
          "output_type": "display_data"
        },
        {
          "data": {
            "text/plain": [
              "3 роки               1608\n",
              "4 роки               1447\n",
              "2 роки               1427\n",
              "5 років              1351\n",
              "1,5 року             1056\n",
              "6 років               982\n",
              "1 рік                 922\n",
              "7 років               791\n",
              "10 років              599\n",
              "15 і більше років     586\n",
              "Name: Загальний стаж роботи за спеціальністю, dtype: int64"
            ]
          },
          "metadata": {},
          "output_type": "display_data"
        }
      ],
      "source": [
        "for c in object_dtypes:\n",
        "    display(df[c].value_counts().sort_values(ascending=False).head(10))"
      ]
    },
    {
      "cell_type": "markdown",
      "id": "35cf7d10",
      "metadata": {
        "id": "35cf7d10"
      },
      "source": [
        "10. Виведіть медіанну (медіана - це значення, менше якого є рівно 50% вибірки і більше якого є теж рівно 50% вибірки)\n",
        "ЗП (Зарплата у $$$) для кожного рівня знання англійської. Які висновки можна зробити?"
      ]
    },
    {
      "cell_type": "code",
      "execution_count": null,
      "id": "0f5700e3",
      "metadata": {
        "ExecuteTime": {
          "end_time": "2023-07-06T11:50:13.175675Z",
          "start_time": "2023-07-06T11:50:13.163874Z"
        },
        "id": "0f5700e3",
        "outputId": "0c454878-5fe5-41f1-9cdf-ee1557961d22"
      },
      "outputs": [
        {
          "data": {
            "text/plain": [
              "Знання англійської мови\n",
              "Advanced              3500.0\n",
              "Elementary            1155.0\n",
              "Intermediate          2125.0\n",
              "Pre-Intermediate      1404.0\n",
              "Upper-Intermediate    3300.0\n",
              "Name: Зарплата у $$$ за місяць, лише ставка після сплати податків, dtype: float64"
            ]
          },
          "execution_count": 95,
          "metadata": {},
          "output_type": "execute_result"
        }
      ],
      "source": [
        "df.groupby('Знання англійської мови')['Зарплата у $$$ за місяць, лише ставка після сплати податків'].median()"
      ]
    },
    {
      "cell_type": "markdown",
      "id": "0992c456",
      "metadata": {
        "ExecuteTime": {
          "end_time": "2023-07-06T11:56:25.250162Z",
          "start_time": "2023-07-06T11:56:25.244477Z"
        },
        "id": "0992c456"
      },
      "source": [
        "11. Є така штука як сортування значень категоріальної змінної. Нам це зараз стане в нагоді, адже рівні англійської можна посортувати.\n",
        "Давайте відсотруємо рівні англ. і тайтли. Просто запустіть код нижче і проаналізуйте, що він робить."
      ]
    },
    {
      "cell_type": "code",
      "execution_count": 6,
      "id": "43426864",
      "metadata": {
        "ExecuteTime": {
          "end_time": "2023-07-06T12:04:24.267988Z",
          "start_time": "2023-07-06T12:04:24.261491Z"
        },
        "id": "43426864"
      },
      "outputs": [],
      "source": [
        "df['Знання англійської мови'] = pd.Categorical(df['Знання англійської мови'],\n",
        "                      categories=['Elementary','Pre-Intermediate','Intermediate','Upper-Intermediate','Advanced'],\n",
        "                      ordered=True)\n",
        "\n",
        "df['Ваш тайтл'] = pd.Categorical(df['Ваш тайтл'],\n",
        "                      categories=['Intern/Trainee', 'Junior', 'Немає тайтлу', 'Middle', 'Senior', 'Tech Lead', 'Team Lead', 'Architect', 'Head', 'Manager'],\n",
        "                      ordered=True)"
      ]
    },
    {
      "cell_type": "code",
      "execution_count": 7,
      "id": "896cae76",
      "metadata": {
        "ExecuteTime": {
          "end_time": "2023-07-06T12:02:04.014128Z",
          "start_time": "2023-07-06T12:02:04.007964Z"
        },
        "id": "896cae76",
        "outputId": "bc5c1fe5-82c8-44c5-ee13-227000f86a8f",
        "colab": {
          "base_uri": "https://localhost:8080/"
        }
      },
      "outputs": [
        {
          "output_type": "execute_result",
          "data": {
            "text/plain": [
              "['Team Lead', 'Middle', 'Junior', 'Senior', 'Tech Lead', 'Intern/Trainee', 'Немає тайтлу', 'Manager', 'Architect', 'Head']\n",
              "Categories (10, object): ['Intern/Trainee' < 'Junior' < 'Немає тайтлу' < 'Middle' ... 'Team Lead' <\n",
              "                          'Architect' < 'Head' < 'Manager']"
            ]
          },
          "metadata": {},
          "execution_count": 7
        }
      ],
      "source": [
        "df['Ваш тайтл'].unique()"
      ]
    },
    {
      "cell_type": "markdown",
      "id": "d055e149",
      "metadata": {
        "ExecuteTime": {
          "end_time": "2023-07-06T11:52:57.539571Z",
          "start_time": "2023-07-06T11:52:57.535277Z"
        },
        "id": "d055e149"
      },
      "source": [
        "12. Зробіть зводну таблицю, де стовпці - це 'Ваш тайтл', рядки - 'Знання англійської мови', а значення - медіанна ЗП. Які висновки можна зробити?\n",
        "Тут ще для зручності можна зробити градієнтне забарвлення і відформатувати значення для легшого перегляду."
      ]
    },
    {
      "cell_type": "code",
      "execution_count": 11,
      "id": "0d697ca8",
      "metadata": {
        "ExecuteTime": {
          "end_time": "2023-07-06T12:04:26.305531Z",
          "start_time": "2023-07-06T12:04:26.272705Z"
        },
        "id": "0d697ca8",
        "outputId": "fc81c28f-1997-4a92-99fb-3186fe2d46c4",
        "colab": {
          "base_uri": "https://localhost:8080/",
          "height": 463
        }
      },
      "outputs": [
        {
          "output_type": "stream",
          "name": "stderr",
          "text": [
            "<ipython-input-11-651885f1638f>:1: FutureWarning: The default value of observed=False is deprecated and will change to observed=True in a future version of pandas. Specify observed=False to silence this warning and retain the current behavior\n",
            "  df.pivot_table(index='Знання англійської мови', columns='Ваш тайтл', values='Зарплата у $$$ за місяць, лише ставка після сплати податків', aggfunc='median').style.background_gradient().format('{:.0f}')\n"
          ]
        },
        {
          "output_type": "error",
          "ename": "TypeError",
          "evalue": "agg function failed [how->median,dtype->object]",
          "traceback": [
            "\u001b[0;31m---------------------------------------------------------------------------\u001b[0m",
            "\u001b[0;31mTypeError\u001b[0m                                 Traceback (most recent call last)",
            "\u001b[0;32m/usr/local/lib/python3.11/dist-packages/pandas/core/groupby/groupby.py\u001b[0m in \u001b[0;36m_agg_py_fallback\u001b[0;34m(self, how, values, ndim, alt)\u001b[0m\n\u001b[1;32m   1941\u001b[0m         \u001b[0;32mtry\u001b[0m\u001b[0;34m:\u001b[0m\u001b[0;34m\u001b[0m\u001b[0;34m\u001b[0m\u001b[0m\n\u001b[0;32m-> 1942\u001b[0;31m             \u001b[0mres_values\u001b[0m \u001b[0;34m=\u001b[0m \u001b[0mself\u001b[0m\u001b[0;34m.\u001b[0m\u001b[0m_grouper\u001b[0m\u001b[0;34m.\u001b[0m\u001b[0magg_series\u001b[0m\u001b[0;34m(\u001b[0m\u001b[0mser\u001b[0m\u001b[0;34m,\u001b[0m \u001b[0malt\u001b[0m\u001b[0;34m,\u001b[0m \u001b[0mpreserve_dtype\u001b[0m\u001b[0;34m=\u001b[0m\u001b[0;32mTrue\u001b[0m\u001b[0;34m)\u001b[0m\u001b[0;34m\u001b[0m\u001b[0;34m\u001b[0m\u001b[0m\n\u001b[0m\u001b[1;32m   1943\u001b[0m         \u001b[0;32mexcept\u001b[0m \u001b[0mException\u001b[0m \u001b[0;32mas\u001b[0m \u001b[0merr\u001b[0m\u001b[0;34m:\u001b[0m\u001b[0;34m\u001b[0m\u001b[0;34m\u001b[0m\u001b[0m\n",
            "\u001b[0;32m/usr/local/lib/python3.11/dist-packages/pandas/core/groupby/ops.py\u001b[0m in \u001b[0;36magg_series\u001b[0;34m(self, obj, func, preserve_dtype)\u001b[0m\n\u001b[1;32m    863\u001b[0m \u001b[0;34m\u001b[0m\u001b[0m\n\u001b[0;32m--> 864\u001b[0;31m         \u001b[0mresult\u001b[0m \u001b[0;34m=\u001b[0m \u001b[0mself\u001b[0m\u001b[0;34m.\u001b[0m\u001b[0m_aggregate_series_pure_python\u001b[0m\u001b[0;34m(\u001b[0m\u001b[0mobj\u001b[0m\u001b[0;34m,\u001b[0m \u001b[0mfunc\u001b[0m\u001b[0;34m)\u001b[0m\u001b[0;34m\u001b[0m\u001b[0;34m\u001b[0m\u001b[0m\n\u001b[0m\u001b[1;32m    865\u001b[0m \u001b[0;34m\u001b[0m\u001b[0m\n",
            "\u001b[0;32m/usr/local/lib/python3.11/dist-packages/pandas/core/groupby/ops.py\u001b[0m in \u001b[0;36m_aggregate_series_pure_python\u001b[0;34m(self, obj, func)\u001b[0m\n\u001b[1;32m    884\u001b[0m         \u001b[0;32mfor\u001b[0m \u001b[0mi\u001b[0m\u001b[0;34m,\u001b[0m \u001b[0mgroup\u001b[0m \u001b[0;32min\u001b[0m \u001b[0menumerate\u001b[0m\u001b[0;34m(\u001b[0m\u001b[0msplitter\u001b[0m\u001b[0;34m)\u001b[0m\u001b[0;34m:\u001b[0m\u001b[0;34m\u001b[0m\u001b[0;34m\u001b[0m\u001b[0m\n\u001b[0;32m--> 885\u001b[0;31m             \u001b[0mres\u001b[0m \u001b[0;34m=\u001b[0m \u001b[0mfunc\u001b[0m\u001b[0;34m(\u001b[0m\u001b[0mgroup\u001b[0m\u001b[0;34m)\u001b[0m\u001b[0;34m\u001b[0m\u001b[0;34m\u001b[0m\u001b[0m\n\u001b[0m\u001b[1;32m    886\u001b[0m             \u001b[0mres\u001b[0m \u001b[0;34m=\u001b[0m \u001b[0mextract_result\u001b[0m\u001b[0;34m(\u001b[0m\u001b[0mres\u001b[0m\u001b[0;34m)\u001b[0m\u001b[0;34m\u001b[0m\u001b[0;34m\u001b[0m\u001b[0m\n",
            "\u001b[0;32m/usr/local/lib/python3.11/dist-packages/pandas/core/groupby/groupby.py\u001b[0m in \u001b[0;36m<lambda>\u001b[0;34m(x)\u001b[0m\n\u001b[1;32m   2533\u001b[0m             \u001b[0;34m\"median\"\u001b[0m\u001b[0;34m,\u001b[0m\u001b[0;34m\u001b[0m\u001b[0;34m\u001b[0m\u001b[0m\n\u001b[0;32m-> 2534\u001b[0;31m             \u001b[0malt\u001b[0m\u001b[0;34m=\u001b[0m\u001b[0;32mlambda\u001b[0m \u001b[0mx\u001b[0m\u001b[0;34m:\u001b[0m \u001b[0mSeries\u001b[0m\u001b[0;34m(\u001b[0m\u001b[0mx\u001b[0m\u001b[0;34m,\u001b[0m \u001b[0mcopy\u001b[0m\u001b[0;34m=\u001b[0m\u001b[0;32mFalse\u001b[0m\u001b[0;34m)\u001b[0m\u001b[0;34m.\u001b[0m\u001b[0mmedian\u001b[0m\u001b[0;34m(\u001b[0m\u001b[0mnumeric_only\u001b[0m\u001b[0;34m=\u001b[0m\u001b[0mnumeric_only\u001b[0m\u001b[0;34m)\u001b[0m\u001b[0;34m,\u001b[0m\u001b[0;34m\u001b[0m\u001b[0;34m\u001b[0m\u001b[0m\n\u001b[0m\u001b[1;32m   2535\u001b[0m             \u001b[0mnumeric_only\u001b[0m\u001b[0;34m=\u001b[0m\u001b[0mnumeric_only\u001b[0m\u001b[0;34m,\u001b[0m\u001b[0;34m\u001b[0m\u001b[0;34m\u001b[0m\u001b[0m\n",
            "\u001b[0;32m/usr/local/lib/python3.11/dist-packages/pandas/core/series.py\u001b[0m in \u001b[0;36mmedian\u001b[0;34m(self, axis, skipna, numeric_only, **kwargs)\u001b[0m\n\u001b[1;32m   6558\u001b[0m     ):\n\u001b[0;32m-> 6559\u001b[0;31m         \u001b[0;32mreturn\u001b[0m \u001b[0mNDFrame\u001b[0m\u001b[0;34m.\u001b[0m\u001b[0mmedian\u001b[0m\u001b[0;34m(\u001b[0m\u001b[0mself\u001b[0m\u001b[0;34m,\u001b[0m \u001b[0maxis\u001b[0m\u001b[0;34m,\u001b[0m \u001b[0mskipna\u001b[0m\u001b[0;34m,\u001b[0m \u001b[0mnumeric_only\u001b[0m\u001b[0;34m,\u001b[0m \u001b[0;34m**\u001b[0m\u001b[0mkwargs\u001b[0m\u001b[0;34m)\u001b[0m\u001b[0;34m\u001b[0m\u001b[0;34m\u001b[0m\u001b[0m\n\u001b[0m\u001b[1;32m   6560\u001b[0m \u001b[0;34m\u001b[0m\u001b[0m\n",
            "\u001b[0;32m/usr/local/lib/python3.11/dist-packages/pandas/core/generic.py\u001b[0m in \u001b[0;36mmedian\u001b[0;34m(self, axis, skipna, numeric_only, **kwargs)\u001b[0m\n\u001b[1;32m  12430\u001b[0m     ) -> Series | float:\n\u001b[0;32m> 12431\u001b[0;31m         return self._stat_function(\n\u001b[0m\u001b[1;32m  12432\u001b[0m             \u001b[0;34m\"median\"\u001b[0m\u001b[0;34m,\u001b[0m \u001b[0mnanops\u001b[0m\u001b[0;34m.\u001b[0m\u001b[0mnanmedian\u001b[0m\u001b[0;34m,\u001b[0m \u001b[0maxis\u001b[0m\u001b[0;34m,\u001b[0m \u001b[0mskipna\u001b[0m\u001b[0;34m,\u001b[0m \u001b[0mnumeric_only\u001b[0m\u001b[0;34m,\u001b[0m \u001b[0;34m**\u001b[0m\u001b[0mkwargs\u001b[0m\u001b[0;34m\u001b[0m\u001b[0;34m\u001b[0m\u001b[0m\n",
            "\u001b[0;32m/usr/local/lib/python3.11/dist-packages/pandas/core/generic.py\u001b[0m in \u001b[0;36m_stat_function\u001b[0;34m(self, name, func, axis, skipna, numeric_only, **kwargs)\u001b[0m\n\u001b[1;32m  12376\u001b[0m \u001b[0;34m\u001b[0m\u001b[0m\n\u001b[0;32m> 12377\u001b[0;31m         return self._reduce(\n\u001b[0m\u001b[1;32m  12378\u001b[0m             \u001b[0mfunc\u001b[0m\u001b[0;34m,\u001b[0m \u001b[0mname\u001b[0m\u001b[0;34m=\u001b[0m\u001b[0mname\u001b[0m\u001b[0;34m,\u001b[0m \u001b[0maxis\u001b[0m\u001b[0;34m=\u001b[0m\u001b[0maxis\u001b[0m\u001b[0;34m,\u001b[0m \u001b[0mskipna\u001b[0m\u001b[0;34m=\u001b[0m\u001b[0mskipna\u001b[0m\u001b[0;34m,\u001b[0m \u001b[0mnumeric_only\u001b[0m\u001b[0;34m=\u001b[0m\u001b[0mnumeric_only\u001b[0m\u001b[0;34m\u001b[0m\u001b[0;34m\u001b[0m\u001b[0m\n",
            "\u001b[0;32m/usr/local/lib/python3.11/dist-packages/pandas/core/series.py\u001b[0m in \u001b[0;36m_reduce\u001b[0;34m(self, op, name, axis, skipna, numeric_only, filter_type, **kwds)\u001b[0m\n\u001b[1;32m   6456\u001b[0m                 )\n\u001b[0;32m-> 6457\u001b[0;31m             \u001b[0;32mreturn\u001b[0m \u001b[0mop\u001b[0m\u001b[0;34m(\u001b[0m\u001b[0mdelegate\u001b[0m\u001b[0;34m,\u001b[0m \u001b[0mskipna\u001b[0m\u001b[0;34m=\u001b[0m\u001b[0mskipna\u001b[0m\u001b[0;34m,\u001b[0m \u001b[0;34m**\u001b[0m\u001b[0mkwds\u001b[0m\u001b[0;34m)\u001b[0m\u001b[0;34m\u001b[0m\u001b[0;34m\u001b[0m\u001b[0m\n\u001b[0m\u001b[1;32m   6458\u001b[0m \u001b[0;34m\u001b[0m\u001b[0m\n",
            "\u001b[0;32m/usr/local/lib/python3.11/dist-packages/pandas/core/nanops.py\u001b[0m in \u001b[0;36mf\u001b[0;34m(values, axis, skipna, **kwds)\u001b[0m\n\u001b[1;32m    146\u001b[0m             \u001b[0;32melse\u001b[0m\u001b[0;34m:\u001b[0m\u001b[0;34m\u001b[0m\u001b[0;34m\u001b[0m\u001b[0m\n\u001b[0;32m--> 147\u001b[0;31m                 \u001b[0mresult\u001b[0m \u001b[0;34m=\u001b[0m \u001b[0malt\u001b[0m\u001b[0;34m(\u001b[0m\u001b[0mvalues\u001b[0m\u001b[0;34m,\u001b[0m \u001b[0maxis\u001b[0m\u001b[0;34m=\u001b[0m\u001b[0maxis\u001b[0m\u001b[0;34m,\u001b[0m \u001b[0mskipna\u001b[0m\u001b[0;34m=\u001b[0m\u001b[0mskipna\u001b[0m\u001b[0;34m,\u001b[0m \u001b[0;34m**\u001b[0m\u001b[0mkwds\u001b[0m\u001b[0;34m)\u001b[0m\u001b[0;34m\u001b[0m\u001b[0;34m\u001b[0m\u001b[0m\n\u001b[0m\u001b[1;32m    148\u001b[0m \u001b[0;34m\u001b[0m\u001b[0m\n",
            "\u001b[0;32m/usr/local/lib/python3.11/dist-packages/pandas/core/nanops.py\u001b[0m in \u001b[0;36mnanmedian\u001b[0;34m(values, axis, skipna, mask)\u001b[0m\n\u001b[1;32m    786\u001b[0m             \u001b[0;32mif\u001b[0m \u001b[0minferred\u001b[0m \u001b[0;32min\u001b[0m \u001b[0;34m[\u001b[0m\u001b[0;34m\"string\"\u001b[0m\u001b[0;34m,\u001b[0m \u001b[0;34m\"mixed\"\u001b[0m\u001b[0;34m]\u001b[0m\u001b[0;34m:\u001b[0m\u001b[0;34m\u001b[0m\u001b[0;34m\u001b[0m\u001b[0m\n\u001b[0;32m--> 787\u001b[0;31m                 \u001b[0;32mraise\u001b[0m \u001b[0mTypeError\u001b[0m\u001b[0;34m(\u001b[0m\u001b[0;34mf\"Cannot convert {values} to numeric\"\u001b[0m\u001b[0;34m)\u001b[0m\u001b[0;34m\u001b[0m\u001b[0;34m\u001b[0m\u001b[0m\n\u001b[0m\u001b[1;32m    788\u001b[0m         \u001b[0;32mtry\u001b[0m\u001b[0;34m:\u001b[0m\u001b[0;34m\u001b[0m\u001b[0;34m\u001b[0m\u001b[0m\n",
            "\u001b[0;31mTypeError\u001b[0m: Cannot convert ['200' '500' '400' '350' '500' '1000' '1000' '1200'] to numeric",
            "\nThe above exception was the direct cause of the following exception:\n",
            "\u001b[0;31mTypeError\u001b[0m                                 Traceback (most recent call last)",
            "\u001b[0;32m<ipython-input-11-651885f1638f>\u001b[0m in \u001b[0;36m<cell line: 0>\u001b[0;34m()\u001b[0m\n\u001b[0;32m----> 1\u001b[0;31m \u001b[0mdf\u001b[0m\u001b[0;34m.\u001b[0m\u001b[0mpivot_table\u001b[0m\u001b[0;34m(\u001b[0m\u001b[0mindex\u001b[0m\u001b[0;34m=\u001b[0m\u001b[0;34m'Знання англійської мови'\u001b[0m\u001b[0;34m,\u001b[0m \u001b[0mcolumns\u001b[0m\u001b[0;34m=\u001b[0m\u001b[0;34m'Ваш тайтл'\u001b[0m\u001b[0;34m,\u001b[0m \u001b[0mvalues\u001b[0m\u001b[0;34m=\u001b[0m\u001b[0;34m'Зарплата у $$$ за місяць, лише ставка після сплати податків'\u001b[0m\u001b[0;34m,\u001b[0m \u001b[0maggfunc\u001b[0m\u001b[0;34m=\u001b[0m\u001b[0;34m'median'\u001b[0m\u001b[0;34m)\u001b[0m\u001b[0;34m.\u001b[0m\u001b[0mstyle\u001b[0m\u001b[0;34m.\u001b[0m\u001b[0mbackground_gradient\u001b[0m\u001b[0;34m(\u001b[0m\u001b[0;34m)\u001b[0m\u001b[0;34m.\u001b[0m\u001b[0mformat\u001b[0m\u001b[0;34m(\u001b[0m\u001b[0;34m'{:.0f}'\u001b[0m\u001b[0;34m)\u001b[0m\u001b[0;34m\u001b[0m\u001b[0;34m\u001b[0m\u001b[0m\n\u001b[0m",
            "\u001b[0;32m/usr/local/lib/python3.11/dist-packages/pandas/core/frame.py\u001b[0m in \u001b[0;36mpivot_table\u001b[0;34m(self, values, index, columns, aggfunc, fill_value, margins, dropna, margins_name, observed, sort)\u001b[0m\n\u001b[1;32m   9507\u001b[0m         \u001b[0;32mfrom\u001b[0m \u001b[0mpandas\u001b[0m\u001b[0;34m.\u001b[0m\u001b[0mcore\u001b[0m\u001b[0;34m.\u001b[0m\u001b[0mreshape\u001b[0m\u001b[0;34m.\u001b[0m\u001b[0mpivot\u001b[0m \u001b[0;32mimport\u001b[0m \u001b[0mpivot_table\u001b[0m\u001b[0;34m\u001b[0m\u001b[0;34m\u001b[0m\u001b[0m\n\u001b[1;32m   9508\u001b[0m \u001b[0;34m\u001b[0m\u001b[0m\n\u001b[0;32m-> 9509\u001b[0;31m         return pivot_table(\n\u001b[0m\u001b[1;32m   9510\u001b[0m             \u001b[0mself\u001b[0m\u001b[0;34m,\u001b[0m\u001b[0;34m\u001b[0m\u001b[0;34m\u001b[0m\u001b[0m\n\u001b[1;32m   9511\u001b[0m             \u001b[0mvalues\u001b[0m\u001b[0;34m=\u001b[0m\u001b[0mvalues\u001b[0m\u001b[0;34m,\u001b[0m\u001b[0;34m\u001b[0m\u001b[0;34m\u001b[0m\u001b[0m\n",
            "\u001b[0;32m/usr/local/lib/python3.11/dist-packages/pandas/core/reshape/pivot.py\u001b[0m in \u001b[0;36mpivot_table\u001b[0;34m(data, values, index, columns, aggfunc, fill_value, margins, dropna, margins_name, observed, sort)\u001b[0m\n\u001b[1;32m    100\u001b[0m         \u001b[0;32mreturn\u001b[0m \u001b[0mtable\u001b[0m\u001b[0;34m.\u001b[0m\u001b[0m__finalize__\u001b[0m\u001b[0;34m(\u001b[0m\u001b[0mdata\u001b[0m\u001b[0;34m,\u001b[0m \u001b[0mmethod\u001b[0m\u001b[0;34m=\u001b[0m\u001b[0;34m\"pivot_table\"\u001b[0m\u001b[0;34m)\u001b[0m\u001b[0;34m\u001b[0m\u001b[0;34m\u001b[0m\u001b[0m\n\u001b[1;32m    101\u001b[0m \u001b[0;34m\u001b[0m\u001b[0m\n\u001b[0;32m--> 102\u001b[0;31m     table = __internal_pivot_table(\n\u001b[0m\u001b[1;32m    103\u001b[0m         \u001b[0mdata\u001b[0m\u001b[0;34m,\u001b[0m\u001b[0;34m\u001b[0m\u001b[0;34m\u001b[0m\u001b[0m\n\u001b[1;32m    104\u001b[0m         \u001b[0mvalues\u001b[0m\u001b[0;34m,\u001b[0m\u001b[0;34m\u001b[0m\u001b[0;34m\u001b[0m\u001b[0m\n",
            "\u001b[0;32m/usr/local/lib/python3.11/dist-packages/pandas/core/reshape/pivot.py\u001b[0m in \u001b[0;36m__internal_pivot_table\u001b[0;34m(data, values, index, columns, aggfunc, fill_value, margins, dropna, margins_name, observed, sort)\u001b[0m\n\u001b[1;32m    181\u001b[0m             \u001b[0mstacklevel\u001b[0m\u001b[0;34m=\u001b[0m\u001b[0mfind_stack_level\u001b[0m\u001b[0;34m(\u001b[0m\u001b[0;34m)\u001b[0m\u001b[0;34m,\u001b[0m\u001b[0;34m\u001b[0m\u001b[0;34m\u001b[0m\u001b[0m\n\u001b[1;32m    182\u001b[0m         )\n\u001b[0;32m--> 183\u001b[0;31m     \u001b[0magged\u001b[0m \u001b[0;34m=\u001b[0m \u001b[0mgrouped\u001b[0m\u001b[0;34m.\u001b[0m\u001b[0magg\u001b[0m\u001b[0;34m(\u001b[0m\u001b[0maggfunc\u001b[0m\u001b[0;34m)\u001b[0m\u001b[0;34m\u001b[0m\u001b[0;34m\u001b[0m\u001b[0m\n\u001b[0m\u001b[1;32m    184\u001b[0m \u001b[0;34m\u001b[0m\u001b[0m\n\u001b[1;32m    185\u001b[0m     \u001b[0;32mif\u001b[0m \u001b[0mdropna\u001b[0m \u001b[0;32mand\u001b[0m \u001b[0misinstance\u001b[0m\u001b[0;34m(\u001b[0m\u001b[0magged\u001b[0m\u001b[0;34m,\u001b[0m \u001b[0mABCDataFrame\u001b[0m\u001b[0;34m)\u001b[0m \u001b[0;32mand\u001b[0m \u001b[0mlen\u001b[0m\u001b[0;34m(\u001b[0m\u001b[0magged\u001b[0m\u001b[0;34m.\u001b[0m\u001b[0mcolumns\u001b[0m\u001b[0;34m)\u001b[0m\u001b[0;34m:\u001b[0m\u001b[0;34m\u001b[0m\u001b[0;34m\u001b[0m\u001b[0m\n",
            "\u001b[0;32m/usr/local/lib/python3.11/dist-packages/pandas/core/groupby/generic.py\u001b[0m in \u001b[0;36maggregate\u001b[0;34m(self, func, engine, engine_kwargs, *args, **kwargs)\u001b[0m\n\u001b[1;32m   1430\u001b[0m \u001b[0;34m\u001b[0m\u001b[0m\n\u001b[1;32m   1431\u001b[0m         \u001b[0mop\u001b[0m \u001b[0;34m=\u001b[0m \u001b[0mGroupByApply\u001b[0m\u001b[0;34m(\u001b[0m\u001b[0mself\u001b[0m\u001b[0;34m,\u001b[0m \u001b[0mfunc\u001b[0m\u001b[0;34m,\u001b[0m \u001b[0margs\u001b[0m\u001b[0;34m=\u001b[0m\u001b[0margs\u001b[0m\u001b[0;34m,\u001b[0m \u001b[0mkwargs\u001b[0m\u001b[0;34m=\u001b[0m\u001b[0mkwargs\u001b[0m\u001b[0;34m)\u001b[0m\u001b[0;34m\u001b[0m\u001b[0;34m\u001b[0m\u001b[0m\n\u001b[0;32m-> 1432\u001b[0;31m         \u001b[0mresult\u001b[0m \u001b[0;34m=\u001b[0m \u001b[0mop\u001b[0m\u001b[0;34m.\u001b[0m\u001b[0magg\u001b[0m\u001b[0;34m(\u001b[0m\u001b[0;34m)\u001b[0m\u001b[0;34m\u001b[0m\u001b[0;34m\u001b[0m\u001b[0m\n\u001b[0m\u001b[1;32m   1433\u001b[0m         \u001b[0;32mif\u001b[0m \u001b[0;32mnot\u001b[0m \u001b[0mis_dict_like\u001b[0m\u001b[0;34m(\u001b[0m\u001b[0mfunc\u001b[0m\u001b[0;34m)\u001b[0m \u001b[0;32mand\u001b[0m \u001b[0mresult\u001b[0m \u001b[0;32mis\u001b[0m \u001b[0;32mnot\u001b[0m \u001b[0;32mNone\u001b[0m\u001b[0;34m:\u001b[0m\u001b[0;34m\u001b[0m\u001b[0;34m\u001b[0m\u001b[0m\n\u001b[1;32m   1434\u001b[0m             \u001b[0;31m# GH #52849\u001b[0m\u001b[0;34m\u001b[0m\u001b[0;34m\u001b[0m\u001b[0m\n",
            "\u001b[0;32m/usr/local/lib/python3.11/dist-packages/pandas/core/apply.py\u001b[0m in \u001b[0;36magg\u001b[0;34m(self)\u001b[0m\n\u001b[1;32m    185\u001b[0m \u001b[0;34m\u001b[0m\u001b[0m\n\u001b[1;32m    186\u001b[0m         \u001b[0;32mif\u001b[0m \u001b[0misinstance\u001b[0m\u001b[0;34m(\u001b[0m\u001b[0mfunc\u001b[0m\u001b[0;34m,\u001b[0m \u001b[0mstr\u001b[0m\u001b[0;34m)\u001b[0m\u001b[0;34m:\u001b[0m\u001b[0;34m\u001b[0m\u001b[0;34m\u001b[0m\u001b[0m\n\u001b[0;32m--> 187\u001b[0;31m             \u001b[0;32mreturn\u001b[0m \u001b[0mself\u001b[0m\u001b[0;34m.\u001b[0m\u001b[0mapply_str\u001b[0m\u001b[0;34m(\u001b[0m\u001b[0;34m)\u001b[0m\u001b[0;34m\u001b[0m\u001b[0;34m\u001b[0m\u001b[0m\n\u001b[0m\u001b[1;32m    188\u001b[0m \u001b[0;34m\u001b[0m\u001b[0m\n\u001b[1;32m    189\u001b[0m         \u001b[0;32mif\u001b[0m \u001b[0mis_dict_like\u001b[0m\u001b[0;34m(\u001b[0m\u001b[0mfunc\u001b[0m\u001b[0;34m)\u001b[0m\u001b[0;34m:\u001b[0m\u001b[0;34m\u001b[0m\u001b[0;34m\u001b[0m\u001b[0m\n",
            "\u001b[0;32m/usr/local/lib/python3.11/dist-packages/pandas/core/apply.py\u001b[0m in \u001b[0;36mapply_str\u001b[0;34m(self)\u001b[0m\n\u001b[1;32m    601\u001b[0m                 \u001b[0;32melse\u001b[0m\u001b[0;34m:\u001b[0m\u001b[0;34m\u001b[0m\u001b[0;34m\u001b[0m\u001b[0m\n\u001b[1;32m    602\u001b[0m                     \u001b[0mself\u001b[0m\u001b[0;34m.\u001b[0m\u001b[0mkwargs\u001b[0m\u001b[0;34m[\u001b[0m\u001b[0;34m\"axis\"\u001b[0m\u001b[0;34m]\u001b[0m \u001b[0;34m=\u001b[0m \u001b[0mself\u001b[0m\u001b[0;34m.\u001b[0m\u001b[0maxis\u001b[0m\u001b[0;34m\u001b[0m\u001b[0;34m\u001b[0m\u001b[0m\n\u001b[0;32m--> 603\u001b[0;31m         \u001b[0;32mreturn\u001b[0m \u001b[0mself\u001b[0m\u001b[0;34m.\u001b[0m\u001b[0m_apply_str\u001b[0m\u001b[0;34m(\u001b[0m\u001b[0mobj\u001b[0m\u001b[0;34m,\u001b[0m \u001b[0mfunc\u001b[0m\u001b[0;34m,\u001b[0m \u001b[0;34m*\u001b[0m\u001b[0mself\u001b[0m\u001b[0;34m.\u001b[0m\u001b[0margs\u001b[0m\u001b[0;34m,\u001b[0m \u001b[0;34m**\u001b[0m\u001b[0mself\u001b[0m\u001b[0;34m.\u001b[0m\u001b[0mkwargs\u001b[0m\u001b[0;34m)\u001b[0m\u001b[0;34m\u001b[0m\u001b[0;34m\u001b[0m\u001b[0m\n\u001b[0m\u001b[1;32m    604\u001b[0m \u001b[0;34m\u001b[0m\u001b[0m\n\u001b[1;32m    605\u001b[0m     \u001b[0;32mdef\u001b[0m \u001b[0mapply_list_or_dict_like\u001b[0m\u001b[0;34m(\u001b[0m\u001b[0mself\u001b[0m\u001b[0;34m)\u001b[0m \u001b[0;34m->\u001b[0m \u001b[0mDataFrame\u001b[0m \u001b[0;34m|\u001b[0m \u001b[0mSeries\u001b[0m\u001b[0;34m:\u001b[0m\u001b[0;34m\u001b[0m\u001b[0;34m\u001b[0m\u001b[0m\n",
            "\u001b[0;32m/usr/local/lib/python3.11/dist-packages/pandas/core/apply.py\u001b[0m in \u001b[0;36m_apply_str\u001b[0;34m(self, obj, func, *args, **kwargs)\u001b[0m\n\u001b[1;32m    691\u001b[0m             \u001b[0mf\u001b[0m \u001b[0;34m=\u001b[0m \u001b[0mgetattr\u001b[0m\u001b[0;34m(\u001b[0m\u001b[0mobj\u001b[0m\u001b[0;34m,\u001b[0m \u001b[0mfunc\u001b[0m\u001b[0;34m)\u001b[0m\u001b[0;34m\u001b[0m\u001b[0;34m\u001b[0m\u001b[0m\n\u001b[1;32m    692\u001b[0m             \u001b[0;32mif\u001b[0m \u001b[0mcallable\u001b[0m\u001b[0;34m(\u001b[0m\u001b[0mf\u001b[0m\u001b[0;34m)\u001b[0m\u001b[0;34m:\u001b[0m\u001b[0;34m\u001b[0m\u001b[0;34m\u001b[0m\u001b[0m\n\u001b[0;32m--> 693\u001b[0;31m                 \u001b[0;32mreturn\u001b[0m \u001b[0mf\u001b[0m\u001b[0;34m(\u001b[0m\u001b[0;34m*\u001b[0m\u001b[0margs\u001b[0m\u001b[0;34m,\u001b[0m \u001b[0;34m**\u001b[0m\u001b[0mkwargs\u001b[0m\u001b[0;34m)\u001b[0m\u001b[0;34m\u001b[0m\u001b[0;34m\u001b[0m\u001b[0m\n\u001b[0m\u001b[1;32m    694\u001b[0m \u001b[0;34m\u001b[0m\u001b[0m\n\u001b[1;32m    695\u001b[0m             \u001b[0;31m# people may aggregate on a non-callable attribute\u001b[0m\u001b[0;34m\u001b[0m\u001b[0;34m\u001b[0m\u001b[0m\n",
            "\u001b[0;32m/usr/local/lib/python3.11/dist-packages/pandas/core/groupby/groupby.py\u001b[0m in \u001b[0;36mmedian\u001b[0;34m(self, numeric_only)\u001b[0m\n\u001b[1;32m   2530\u001b[0m         \u001b[0mFreq\u001b[0m\u001b[0;34m:\u001b[0m \u001b[0mMS\u001b[0m\u001b[0;34m,\u001b[0m \u001b[0mdtype\u001b[0m\u001b[0;34m:\u001b[0m \u001b[0mfloat64\u001b[0m\u001b[0;34m\u001b[0m\u001b[0;34m\u001b[0m\u001b[0m\n\u001b[1;32m   2531\u001b[0m         \"\"\"\n\u001b[0;32m-> 2532\u001b[0;31m         result = self._cython_agg_general(\n\u001b[0m\u001b[1;32m   2533\u001b[0m             \u001b[0;34m\"median\"\u001b[0m\u001b[0;34m,\u001b[0m\u001b[0;34m\u001b[0m\u001b[0;34m\u001b[0m\u001b[0m\n\u001b[1;32m   2534\u001b[0m             \u001b[0malt\u001b[0m\u001b[0;34m=\u001b[0m\u001b[0;32mlambda\u001b[0m \u001b[0mx\u001b[0m\u001b[0;34m:\u001b[0m \u001b[0mSeries\u001b[0m\u001b[0;34m(\u001b[0m\u001b[0mx\u001b[0m\u001b[0;34m,\u001b[0m \u001b[0mcopy\u001b[0m\u001b[0;34m=\u001b[0m\u001b[0;32mFalse\u001b[0m\u001b[0;34m)\u001b[0m\u001b[0;34m.\u001b[0m\u001b[0mmedian\u001b[0m\u001b[0;34m(\u001b[0m\u001b[0mnumeric_only\u001b[0m\u001b[0;34m=\u001b[0m\u001b[0mnumeric_only\u001b[0m\u001b[0;34m)\u001b[0m\u001b[0;34m,\u001b[0m\u001b[0;34m\u001b[0m\u001b[0;34m\u001b[0m\u001b[0m\n",
            "\u001b[0;32m/usr/local/lib/python3.11/dist-packages/pandas/core/groupby/groupby.py\u001b[0m in \u001b[0;36m_cython_agg_general\u001b[0;34m(self, how, alt, numeric_only, min_count, **kwargs)\u001b[0m\n\u001b[1;32m   1996\u001b[0m             \u001b[0;32mreturn\u001b[0m \u001b[0mresult\u001b[0m\u001b[0;34m\u001b[0m\u001b[0;34m\u001b[0m\u001b[0m\n\u001b[1;32m   1997\u001b[0m \u001b[0;34m\u001b[0m\u001b[0m\n\u001b[0;32m-> 1998\u001b[0;31m         \u001b[0mnew_mgr\u001b[0m \u001b[0;34m=\u001b[0m \u001b[0mdata\u001b[0m\u001b[0;34m.\u001b[0m\u001b[0mgrouped_reduce\u001b[0m\u001b[0;34m(\u001b[0m\u001b[0marray_func\u001b[0m\u001b[0;34m)\u001b[0m\u001b[0;34m\u001b[0m\u001b[0;34m\u001b[0m\u001b[0m\n\u001b[0m\u001b[1;32m   1999\u001b[0m         \u001b[0mres\u001b[0m \u001b[0;34m=\u001b[0m \u001b[0mself\u001b[0m\u001b[0;34m.\u001b[0m\u001b[0m_wrap_agged_manager\u001b[0m\u001b[0;34m(\u001b[0m\u001b[0mnew_mgr\u001b[0m\u001b[0;34m)\u001b[0m\u001b[0;34m\u001b[0m\u001b[0;34m\u001b[0m\u001b[0m\n\u001b[1;32m   2000\u001b[0m         \u001b[0;32mif\u001b[0m \u001b[0mhow\u001b[0m \u001b[0;32min\u001b[0m \u001b[0;34m[\u001b[0m\u001b[0;34m\"idxmin\"\u001b[0m\u001b[0;34m,\u001b[0m \u001b[0;34m\"idxmax\"\u001b[0m\u001b[0;34m]\u001b[0m\u001b[0;34m:\u001b[0m\u001b[0;34m\u001b[0m\u001b[0;34m\u001b[0m\u001b[0m\n",
            "\u001b[0;32m/usr/local/lib/python3.11/dist-packages/pandas/core/internals/managers.py\u001b[0m in \u001b[0;36mgrouped_reduce\u001b[0;34m(self, func)\u001b[0m\n\u001b[1;32m   1467\u001b[0m                 \u001b[0;31m#  while others do not.\u001b[0m\u001b[0;34m\u001b[0m\u001b[0;34m\u001b[0m\u001b[0m\n\u001b[1;32m   1468\u001b[0m                 \u001b[0;32mfor\u001b[0m \u001b[0msb\u001b[0m \u001b[0;32min\u001b[0m \u001b[0mblk\u001b[0m\u001b[0;34m.\u001b[0m\u001b[0m_split\u001b[0m\u001b[0;34m(\u001b[0m\u001b[0;34m)\u001b[0m\u001b[0;34m:\u001b[0m\u001b[0;34m\u001b[0m\u001b[0;34m\u001b[0m\u001b[0m\n\u001b[0;32m-> 1469\u001b[0;31m                     \u001b[0mapplied\u001b[0m \u001b[0;34m=\u001b[0m \u001b[0msb\u001b[0m\u001b[0;34m.\u001b[0m\u001b[0mapply\u001b[0m\u001b[0;34m(\u001b[0m\u001b[0mfunc\u001b[0m\u001b[0;34m)\u001b[0m\u001b[0;34m\u001b[0m\u001b[0;34m\u001b[0m\u001b[0m\n\u001b[0m\u001b[1;32m   1470\u001b[0m                     \u001b[0mresult_blocks\u001b[0m \u001b[0;34m=\u001b[0m \u001b[0mextend_blocks\u001b[0m\u001b[0;34m(\u001b[0m\u001b[0mapplied\u001b[0m\u001b[0;34m,\u001b[0m \u001b[0mresult_blocks\u001b[0m\u001b[0;34m)\u001b[0m\u001b[0;34m\u001b[0m\u001b[0;34m\u001b[0m\u001b[0m\n\u001b[1;32m   1471\u001b[0m             \u001b[0;32melse\u001b[0m\u001b[0;34m:\u001b[0m\u001b[0;34m\u001b[0m\u001b[0;34m\u001b[0m\u001b[0m\n",
            "\u001b[0;32m/usr/local/lib/python3.11/dist-packages/pandas/core/internals/blocks.py\u001b[0m in \u001b[0;36mapply\u001b[0;34m(self, func, **kwargs)\u001b[0m\n\u001b[1;32m    391\u001b[0m         \u001b[0mone\u001b[0m\u001b[0;34m\u001b[0m\u001b[0;34m\u001b[0m\u001b[0m\n\u001b[1;32m    392\u001b[0m         \"\"\"\n\u001b[0;32m--> 393\u001b[0;31m         \u001b[0mresult\u001b[0m \u001b[0;34m=\u001b[0m \u001b[0mfunc\u001b[0m\u001b[0;34m(\u001b[0m\u001b[0mself\u001b[0m\u001b[0;34m.\u001b[0m\u001b[0mvalues\u001b[0m\u001b[0;34m,\u001b[0m \u001b[0;34m**\u001b[0m\u001b[0mkwargs\u001b[0m\u001b[0;34m)\u001b[0m\u001b[0;34m\u001b[0m\u001b[0;34m\u001b[0m\u001b[0m\n\u001b[0m\u001b[1;32m    394\u001b[0m \u001b[0;34m\u001b[0m\u001b[0m\n\u001b[1;32m    395\u001b[0m         \u001b[0mresult\u001b[0m \u001b[0;34m=\u001b[0m \u001b[0mmaybe_coerce_values\u001b[0m\u001b[0;34m(\u001b[0m\u001b[0mresult\u001b[0m\u001b[0;34m)\u001b[0m\u001b[0;34m\u001b[0m\u001b[0;34m\u001b[0m\u001b[0m\n",
            "\u001b[0;32m/usr/local/lib/python3.11/dist-packages/pandas/core/groupby/groupby.py\u001b[0m in \u001b[0;36marray_func\u001b[0;34m(values)\u001b[0m\n\u001b[1;32m   1993\u001b[0m \u001b[0;34m\u001b[0m\u001b[0m\n\u001b[1;32m   1994\u001b[0m             \u001b[0;32massert\u001b[0m \u001b[0malt\u001b[0m \u001b[0;32mis\u001b[0m \u001b[0;32mnot\u001b[0m \u001b[0;32mNone\u001b[0m\u001b[0;34m\u001b[0m\u001b[0;34m\u001b[0m\u001b[0m\n\u001b[0;32m-> 1995\u001b[0;31m             \u001b[0mresult\u001b[0m \u001b[0;34m=\u001b[0m \u001b[0mself\u001b[0m\u001b[0;34m.\u001b[0m\u001b[0m_agg_py_fallback\u001b[0m\u001b[0;34m(\u001b[0m\u001b[0mhow\u001b[0m\u001b[0;34m,\u001b[0m \u001b[0mvalues\u001b[0m\u001b[0;34m,\u001b[0m \u001b[0mndim\u001b[0m\u001b[0;34m=\u001b[0m\u001b[0mdata\u001b[0m\u001b[0;34m.\u001b[0m\u001b[0mndim\u001b[0m\u001b[0;34m,\u001b[0m \u001b[0malt\u001b[0m\u001b[0;34m=\u001b[0m\u001b[0malt\u001b[0m\u001b[0;34m)\u001b[0m\u001b[0;34m\u001b[0m\u001b[0;34m\u001b[0m\u001b[0m\n\u001b[0m\u001b[1;32m   1996\u001b[0m             \u001b[0;32mreturn\u001b[0m \u001b[0mresult\u001b[0m\u001b[0;34m\u001b[0m\u001b[0;34m\u001b[0m\u001b[0m\n\u001b[1;32m   1997\u001b[0m \u001b[0;34m\u001b[0m\u001b[0m\n",
            "\u001b[0;32m/usr/local/lib/python3.11/dist-packages/pandas/core/groupby/groupby.py\u001b[0m in \u001b[0;36m_agg_py_fallback\u001b[0;34m(self, how, values, ndim, alt)\u001b[0m\n\u001b[1;32m   1944\u001b[0m             \u001b[0mmsg\u001b[0m \u001b[0;34m=\u001b[0m \u001b[0;34mf\"agg function failed [how->{how},dtype->{ser.dtype}]\"\u001b[0m\u001b[0;34m\u001b[0m\u001b[0;34m\u001b[0m\u001b[0m\n\u001b[1;32m   1945\u001b[0m             \u001b[0;31m# preserve the kind of exception that raised\u001b[0m\u001b[0;34m\u001b[0m\u001b[0;34m\u001b[0m\u001b[0m\n\u001b[0;32m-> 1946\u001b[0;31m             \u001b[0;32mraise\u001b[0m \u001b[0mtype\u001b[0m\u001b[0;34m(\u001b[0m\u001b[0merr\u001b[0m\u001b[0;34m)\u001b[0m\u001b[0;34m(\u001b[0m\u001b[0mmsg\u001b[0m\u001b[0;34m)\u001b[0m \u001b[0;32mfrom\u001b[0m \u001b[0merr\u001b[0m\u001b[0;34m\u001b[0m\u001b[0;34m\u001b[0m\u001b[0m\n\u001b[0m\u001b[1;32m   1947\u001b[0m \u001b[0;34m\u001b[0m\u001b[0m\n\u001b[1;32m   1948\u001b[0m         \u001b[0;32mif\u001b[0m \u001b[0mser\u001b[0m\u001b[0;34m.\u001b[0m\u001b[0mdtype\u001b[0m \u001b[0;34m==\u001b[0m \u001b[0mobject\u001b[0m\u001b[0;34m:\u001b[0m\u001b[0;34m\u001b[0m\u001b[0;34m\u001b[0m\u001b[0m\n",
            "\u001b[0;31mTypeError\u001b[0m: agg function failed [how->median,dtype->object]"
          ]
        }
      ],
      "source": [
        "df.pivot_table(index='Знання англійської мови', columns='Ваш тайтл', values='Зарплата у $$$ за місяць, лише ставка після сплати податків', aggfunc='median').style.background_gradient().format('{:.0f}')"
      ]
    },
    {
      "cell_type": "markdown",
      "id": "edbb7046",
      "metadata": {
        "id": "edbb7046"
      },
      "source": [
        "13. Виведіть результат методу describe() по колонцы розміру ЗП для топ 5 за частотою зустрічання в даних областей (В якій області ви зараз живете?). Зробіть висновки, де вигідніше жити з точки зору ЗП і чи суттєва різниця на Ваш погляд для прийняття рішення про переїзд?"
      ]
    },
    {
      "cell_type": "code",
      "execution_count": null,
      "id": "66e7b636",
      "metadata": {
        "ExecuteTime": {
          "end_time": "2023-07-06T12:08:02.194367Z",
          "start_time": "2023-07-06T12:08:02.189467Z"
        },
        "id": "66e7b636"
      },
      "outputs": [],
      "source": [
        "top_districts = df['В якій області ви зараз живете?'].value_counts().sort_values(ascending=False).head(5).index"
      ]
    },
    {
      "cell_type": "code",
      "execution_count": null,
      "id": "f0a3d276",
      "metadata": {
        "ExecuteTime": {
          "end_time": "2023-07-06T12:09:59.662640Z",
          "start_time": "2023-07-06T12:09:59.610373Z"
        },
        "id": "f0a3d276",
        "outputId": "e70e09b0-e0d6-4de1-8119-2a04ae047248"
      },
      "outputs": [
        {
          "data": {
            "text/html": [
              "<style type=\"text/css\">\n",
              "#T_35a79_row0_col0 {\n",
              "  background-color: #fef6fa;\n",
              "  color: #000000;\n",
              "}\n",
              "#T_35a79_row0_col1 {\n",
              "  background-color: #d7d6e9;\n",
              "  color: #000000;\n",
              "}\n",
              "#T_35a79_row0_col2 {\n",
              "  background-color: #e1dfed;\n",
              "  color: #000000;\n",
              "}\n",
              "#T_35a79_row0_col3, #T_35a79_row3_col0, #T_35a79_row3_col1, #T_35a79_row3_col4, #T_35a79_row3_col5, #T_35a79_row3_col6, #T_35a79_row3_col7, #T_35a79_row4_col2, #T_35a79_row4_col6 {\n",
              "  background-color: #023858;\n",
              "  color: #f1f1f1;\n",
              "}\n",
              "#T_35a79_row0_col4 {\n",
              "  background-color: #a8bedc;\n",
              "  color: #000000;\n",
              "}\n",
              "#T_35a79_row0_col5 {\n",
              "  background-color: #81aed2;\n",
              "  color: #f1f1f1;\n",
              "}\n",
              "#T_35a79_row0_col6 {\n",
              "  background-color: #dddbec;\n",
              "  color: #000000;\n",
              "}\n",
              "#T_35a79_row0_col7 {\n",
              "  background-color: #e0deed;\n",
              "  color: #000000;\n",
              "}\n",
              "#T_35a79_row1_col0, #T_35a79_row1_col7, #T_35a79_row2_col1, #T_35a79_row2_col2, #T_35a79_row2_col4, #T_35a79_row2_col5, #T_35a79_row2_col6, #T_35a79_row3_col3 {\n",
              "  background-color: #fff7fb;\n",
              "  color: #000000;\n",
              "}\n",
              "#T_35a79_row1_col1 {\n",
              "  background-color: #5ea0ca;\n",
              "  color: #f1f1f1;\n",
              "}\n",
              "#T_35a79_row1_col2 {\n",
              "  background-color: #e5e1ef;\n",
              "  color: #000000;\n",
              "}\n",
              "#T_35a79_row1_col3, #T_35a79_row2_col3 {\n",
              "  background-color: #e3e0ee;\n",
              "  color: #000000;\n",
              "}\n",
              "#T_35a79_row1_col4 {\n",
              "  background-color: #4c99c5;\n",
              "  color: #f1f1f1;\n",
              "}\n",
              "#T_35a79_row1_col5 {\n",
              "  background-color: #056dac;\n",
              "  color: #f1f1f1;\n",
              "}\n",
              "#T_35a79_row1_col6 {\n",
              "  background-color: #589ec8;\n",
              "  color: #f1f1f1;\n",
              "}\n",
              "#T_35a79_row2_col0, #T_35a79_row2_col7 {\n",
              "  background-color: #f4edf6;\n",
              "  color: #000000;\n",
              "}\n",
              "#T_35a79_row3_col2, #T_35a79_row4_col4 {\n",
              "  background-color: #0a73b2;\n",
              "  color: #f1f1f1;\n",
              "}\n",
              "#T_35a79_row4_col0 {\n",
              "  background-color: #7bacd1;\n",
              "  color: #f1f1f1;\n",
              "}\n",
              "#T_35a79_row4_col1 {\n",
              "  background-color: #034267;\n",
              "  color: #f1f1f1;\n",
              "}\n",
              "#T_35a79_row4_col3 {\n",
              "  background-color: #4a98c5;\n",
              "  color: #f1f1f1;\n",
              "}\n",
              "#T_35a79_row4_col5 {\n",
              "  background-color: #04598c;\n",
              "  color: #f1f1f1;\n",
              "}\n",
              "#T_35a79_row4_col7 {\n",
              "  background-color: #62a2cb;\n",
              "  color: #f1f1f1;\n",
              "}\n",
              "</style>\n",
              "<table id=\"T_35a79\">\n",
              "  <thead>\n",
              "    <tr>\n",
              "      <th class=\"blank level0\" >&nbsp;</th>\n",
              "      <th id=\"T_35a79_level0_col0\" class=\"col_heading level0 col0\" >count</th>\n",
              "      <th id=\"T_35a79_level0_col1\" class=\"col_heading level0 col1\" >mean</th>\n",
              "      <th id=\"T_35a79_level0_col2\" class=\"col_heading level0 col2\" >std</th>\n",
              "      <th id=\"T_35a79_level0_col3\" class=\"col_heading level0 col3\" >min</th>\n",
              "      <th id=\"T_35a79_level0_col4\" class=\"col_heading level0 col4\" >25%</th>\n",
              "      <th id=\"T_35a79_level0_col5\" class=\"col_heading level0 col5\" >50%</th>\n",
              "      <th id=\"T_35a79_level0_col6\" class=\"col_heading level0 col6\" >75%</th>\n",
              "      <th id=\"T_35a79_level0_col7\" class=\"col_heading level0 col7\" >max</th>\n",
              "    </tr>\n",
              "    <tr>\n",
              "      <th class=\"index_name level0\" >В якій області ви зараз живете?</th>\n",
              "      <th class=\"blank col0\" >&nbsp;</th>\n",
              "      <th class=\"blank col1\" >&nbsp;</th>\n",
              "      <th class=\"blank col2\" >&nbsp;</th>\n",
              "      <th class=\"blank col3\" >&nbsp;</th>\n",
              "      <th class=\"blank col4\" >&nbsp;</th>\n",
              "      <th class=\"blank col5\" >&nbsp;</th>\n",
              "      <th class=\"blank col6\" >&nbsp;</th>\n",
              "      <th class=\"blank col7\" >&nbsp;</th>\n",
              "    </tr>\n",
              "  </thead>\n",
              "  <tbody>\n",
              "    <tr>\n",
              "      <th id=\"T_35a79_level0_row0\" class=\"row_heading level0 row0\" >Івано-Франківськ чи область</th>\n",
              "      <td id=\"T_35a79_row0_col0\" class=\"data row0 col0\" >478</td>\n",
              "      <td id=\"T_35a79_row0_col1\" class=\"data row0 col1\" >2705</td>\n",
              "      <td id=\"T_35a79_row0_col2\" class=\"data row0 col2\" >1906</td>\n",
              "      <td id=\"T_35a79_row0_col3\" class=\"data row0 col3\" >200</td>\n",
              "      <td id=\"T_35a79_row0_col4\" class=\"data row0 col4\" >1200</td>\n",
              "      <td id=\"T_35a79_row0_col5\" class=\"data row0 col5\" >2372</td>\n",
              "      <td id=\"T_35a79_row0_col6\" class=\"data row0 col6\" >3775</td>\n",
              "      <td id=\"T_35a79_row0_col7\" class=\"data row0 col7\" >12436</td>\n",
              "    </tr>\n",
              "    <tr>\n",
              "      <th id=\"T_35a79_level0_row1\" class=\"row_heading level0 row1\" >Вінниця чи область</th>\n",
              "      <td id=\"T_35a79_row1_col0\" class=\"data row1 col0\" >447</td>\n",
              "      <td id=\"T_35a79_row1_col1\" class=\"data row1 col1\" >2888</td>\n",
              "      <td id=\"T_35a79_row1_col2\" class=\"data row1 col2\" >1903</td>\n",
              "      <td id=\"T_35a79_row1_col3\" class=\"data row1 col3\" >100</td>\n",
              "      <td id=\"T_35a79_row1_col4\" class=\"data row1 col4\" >1300</td>\n",
              "      <td id=\"T_35a79_row1_col5\" class=\"data row1 col5\" >2612</td>\n",
              "      <td id=\"T_35a79_row1_col6\" class=\"data row1 col6\" >4100</td>\n",
              "      <td id=\"T_35a79_row1_col7\" class=\"data row1 col7\" >11675</td>\n",
              "    </tr>\n",
              "    <tr>\n",
              "      <th id=\"T_35a79_level0_row2\" class=\"row_heading level0 row2\" >Дніпро чи область</th>\n",
              "      <td id=\"T_35a79_row2_col0\" class=\"data row2 col0\" >751</td>\n",
              "      <td id=\"T_35a79_row2_col1\" class=\"data row2 col1\" >2583</td>\n",
              "      <td id=\"T_35a79_row2_col2\" class=\"data row2 col2\" >1865</td>\n",
              "      <td id=\"T_35a79_row2_col3\" class=\"data row2 col3\" >100</td>\n",
              "      <td id=\"T_35a79_row2_col4\" class=\"data row2 col4\" >1025</td>\n",
              "      <td id=\"T_35a79_row2_col5\" class=\"data row2 col5\" >2000</td>\n",
              "      <td id=\"T_35a79_row2_col6\" class=\"data row2 col6\" >3600</td>\n",
              "      <td id=\"T_35a79_row2_col7\" class=\"data row2 col7\" >12000</td>\n",
              "    </tr>\n",
              "    <tr>\n",
              "      <th id=\"T_35a79_level0_row3\" class=\"row_heading level0 row3\" >Київ чи область</th>\n",
              "      <td id=\"T_35a79_row3_col0\" class=\"data row3 col0\" >4411</td>\n",
              "      <td id=\"T_35a79_row3_col1\" class=\"data row3 col1\" >3142</td>\n",
              "      <td id=\"T_35a79_row3_col2\" class=\"data row3 col2\" >2040</td>\n",
              "      <td id=\"T_35a79_row3_col3\" class=\"data row3 col3\" >80</td>\n",
              "      <td id=\"T_35a79_row3_col4\" class=\"data row3 col4\" >1500</td>\n",
              "      <td id=\"T_35a79_row3_col5\" class=\"data row3 col5\" >2800</td>\n",
              "      <td id=\"T_35a79_row3_col6\" class=\"data row3 col6\" >4500</td>\n",
              "      <td id=\"T_35a79_row3_col7\" class=\"data row3 col7\" >16000</td>\n",
              "    </tr>\n",
              "    <tr>\n",
              "      <th id=\"T_35a79_level0_row4\" class=\"row_heading level0 row4\" >Львів чи область</th>\n",
              "      <td id=\"T_35a79_row4_col0\" class=\"data row4 col0\" >2353</td>\n",
              "      <td id=\"T_35a79_row4_col1\" class=\"data row4 col1\" >3121</td>\n",
              "      <td id=\"T_35a79_row4_col2\" class=\"data row4 col2\" >2103</td>\n",
              "      <td id=\"T_35a79_row4_col3\" class=\"data row4 col3\" >150</td>\n",
              "      <td id=\"T_35a79_row4_col4\" class=\"data row4 col4\" >1375</td>\n",
              "      <td id=\"T_35a79_row4_col5\" class=\"data row4 col5\" >2700</td>\n",
              "      <td id=\"T_35a79_row4_col6\" class=\"data row4 col6\" >4500</td>\n",
              "      <td id=\"T_35a79_row4_col7\" class=\"data row4 col7\" >14000</td>\n",
              "    </tr>\n",
              "  </tbody>\n",
              "</table>\n"
            ],
            "text/plain": [
              "<pandas.io.formats.style.Styler at 0x7f800b7c2a10>"
            ]
          },
          "execution_count": 132,
          "metadata": {},
          "output_type": "execute_result"
        }
      ],
      "source": [
        "df[df['В якій області ви зараз живете?'].isin(top_districts)].groupby('В якій області ви зараз живете?')['Зарплата у $$$ за місяць, лише ставка після сплати податків'].describe().style.background_gradient().format('{:.0f}')"
      ]
    },
    {
      "cell_type": "markdown",
      "id": "3bc4a018",
      "metadata": {
        "id": "3bc4a018"
      },
      "source": [
        "14. Як зростає зарплата з роками? Для цього нам треба відформатувати колонку \"Загальний стаж роботи за спеціальністю\" аналогічно до того, як ми це робили для колонки 'Знання англійської мови' і потім вивести медіанні значення для кількості років стажу."
      ]
    },
    {
      "cell_type": "code",
      "execution_count": null,
      "id": "e1080147",
      "metadata": {
        "ExecuteTime": {
          "end_time": "2023-07-06T12:13:24.027504Z",
          "start_time": "2023-07-06T12:13:24.020333Z"
        },
        "id": "e1080147",
        "outputId": "732dc7b3-27d2-47a5-9c86-e0be13ee0715",
        "colab": {
          "base_uri": "https://localhost:8080/"
        }
      },
      "outputs": [
        {
          "output_type": "execute_result",
          "data": {
            "text/plain": [
              "array(['8 років', '3 роки', '4 роки', 'Пів року', '6 років', '1,5 року',\n",
              "       '1 рік', '2 роки', '5 років', '10 років', 'Менше як 3 місяці',\n",
              "       '11 років', '7 років', '15 і більше років', '3 місяці', '12 років',\n",
              "       '9 років', '14 років', '13 років'], dtype=object)"
            ]
          },
          "metadata": {},
          "execution_count": 4
        }
      ],
      "source": [
        "df['Загальний стаж роботи за спеціальністю'].unique()"
      ]
    },
    {
      "cell_type": "code",
      "execution_count": 10,
      "id": "392335e6",
      "metadata": {
        "ExecuteTime": {
          "end_time": "2023-07-06T12:15:37.193772Z",
          "start_time": "2023-07-06T12:15:37.188402Z"
        },
        "id": "392335e6"
      },
      "outputs": [],
      "source": [
        "df['Загальний стаж роботи за спеціальністю'] = pd.Categorical(\n",
        "    df['Загальний стаж роботи за спеціальністю'],\n",
        "    categories=[\n",
        "        'Менше як 3 місяці', '3 місяці',  'Пів року', '1 рік', '1,5 року',\n",
        "        '2 роки', '3 роки', '4 роки','5 років','6 років', '7 років',\n",
        "        '8 років', '9 років', '10 років',  '11 років','12 років', '13 років', '14 років', '15 і більше років'],\n",
        "    ordered=True)"
      ]
    },
    {
      "cell_type": "code",
      "execution_count": null,
      "id": "c01e4a99",
      "metadata": {
        "ExecuteTime": {
          "end_time": "2023-07-06T12:16:09.046509Z",
          "start_time": "2023-07-06T12:16:09.036903Z"
        },
        "id": "c01e4a99",
        "outputId": "e99e0bd9-e348-4cd4-88d0-d1b170ec348a"
      },
      "outputs": [
        {
          "data": {
            "text/plain": [
              "Загальний стаж роботи за спеціальністю\n",
              "Менше як 3 місяці     800.0\n",
              "3 місяці              525.0\n",
              "Пів року              700.0\n",
              "1 рік                 950.0\n",
              "1,5 року             1200.0\n",
              "2 роки               1700.0\n",
              "3 роки               2450.0\n",
              "4 роки               3000.0\n",
              "5 років              3500.0\n",
              "6 років              4000.0\n",
              "7 років              4250.0\n",
              "8 років              4700.0\n",
              "9 років              4500.0\n",
              "10 років             4600.0\n",
              "11 років             5000.0\n",
              "12 років             4750.0\n",
              "13 років             4500.0\n",
              "14 років             5050.0\n",
              "15 і більше років    4500.0\n",
              "Name: Зарплата у $$$ за місяць, лише ставка після сплати податків, dtype: float64"
            ]
          },
          "execution_count": 136,
          "metadata": {},
          "output_type": "execute_result"
        }
      ],
      "source": [
        "df.groupby('Загальний стаж роботи за спеціальністю')['Зарплата у $$$ за місяць, лише ставка після сплати податків'].median()"
      ]
    },
    {
      "cell_type": "code",
      "execution_count": null,
      "id": "375dfd07",
      "metadata": {
        "ExecuteTime": {
          "end_time": "2023-07-06T12:16:28.941572Z",
          "start_time": "2023-07-06T12:16:28.265208Z"
        },
        "scrolled": false,
        "id": "375dfd07",
        "outputId": "de95adad-11dc-4160-edc4-918c5dbdd6c7"
      },
      "outputs": [
        {
          "data": {
            "text/plain": [
              "<Axes: xlabel='Загальний стаж роботи за спеціальністю'>"
            ]
          },
          "execution_count": 137,
          "metadata": {},
          "output_type": "execute_result"
        },
        {
          "data": {
            "image/png": "[encoded data removed]",
            "text/plain": [
              "<Figure size 432x288 with 1 Axes>"
            ]
          },
          "metadata": {
            "needs_background": "light"
          },
          "output_type": "display_data"
        }
      ],
      "source": [
        "# з графіка можна бачити, що після 7 років досвіду середня ЗП не дуже змінюється\n",
        "df.groupby('Загальний стаж роботи за спеціальністю')['Зарплата у $$$ за місяць, лише ставка після сплати податків'].median().plot();"
      ]
    },
    {
      "cell_type": "markdown",
      "id": "b14a10ee",
      "metadata": {
        "id": "b14a10ee"
      },
      "source": [
        "Далі тут можна зробити багато аналогічних агрегацій, проаналізувати, в який час люди заповнювали форму, хто більше отримує, Business Analyst, чи Data Analyst. Я вас заохочувати не стримувати свій інтерес і покапати ці дані далі :)"
      ]
    }
  ],
  "metadata": {
    "kernelspec": {
      "display_name": "Python 3 (ipykernel)",
      "language": "python",
      "name": "python3"
    },
    "language_info": {
      "codemirror_mode": {
        "name": "ipython",
        "version": 3
      },
      "file_extension": ".py",
      "mimetype": "text/x-python",
      "name": "python",
      "nbconvert_exporter": "python",
      "pygments_lexer": "ipython3",
      "version": "3.10.4"
    },
    "toc": {
      "base_numbering": 1,
      "nav_menu": {},
      "number_sections": true,
      "sideBar": true,
      "skip_h1_title": false,
      "title_cell": "Table of Contents",
      "title_sidebar": "Contents",
      "toc_cell": false,
      "toc_position": {},
      "toc_section_display": true,
      "toc_window_display": false
    },
    "colab": {
      "provenance": [],
      "include_colab_link": true
    }
  },
  "nbformat": 4,
  "nbformat_minor": 5
}