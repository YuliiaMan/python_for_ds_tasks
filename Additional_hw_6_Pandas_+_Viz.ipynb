{
  "cells": [
    {
      "cell_type": "markdown",
      "metadata": {
        "id": "view-in-github",
        "colab_type": "text"
      },
      "source": [
        "<a href=\"https://colab.research.google.com/github/YuliiaMan/python_for_ds_tasks/blob/main/Additional_hw_6_Pandas_%2B_Viz.ipynb\" target=\"_parent\"><img src=\"https://colab.research.google.com/assets/colab-badge.svg\" alt=\"Open In Colab\"/></a>"
      ]
    },
    {
      "cell_type": "markdown",
      "metadata": {
        "id": "KKi-WepMlk4Q"
      },
      "source": [
        "Усі імпорти рекомендую розташувати отут зверху для зручності."
      ]
    },
    {
      "cell_type": "code",
      "execution_count": 2,
      "metadata": {
        "id": "BWz0eRrSlk4S"
      },
      "outputs": [],
      "source": [
        "import pandas as pd\n",
        "import numpy as np\n",
        "from matplotlib import pyplot as plt\n",
        "import seaborn as sns"
      ]
    },
    {
      "cell_type": "markdown",
      "metadata": {
        "ExecuteTime": {
          "end_time": "2023-03-01T20:11:55.220367Z",
          "start_time": "2023-03-01T20:11:55.208289Z"
        },
        "id": "DkDZqG49lk4S"
      },
      "source": [
        "1.Завантажте дані у pandas dataframe з файла `ecommerce_data.csv`. Обовʼязково при завантаженні вкажіть параметр `encoding = 'ISO-8859-1'`, без нього буде помилка."
      ]
    },
    {
      "cell_type": "code",
      "execution_count": 3,
      "metadata": {
        "id": "3xPNIvnQlk4T",
        "outputId": "147a909a-89d1-4531-cac2-827abdb50ce6",
        "colab": {
          "base_uri": "https://localhost:8080/"
        }
      },
      "outputs": [
        {
          "output_type": "stream",
          "name": "stdout",
          "text": [
            "Mounted at /content/drive\n"
          ]
        }
      ],
      "source": [
        "from google.colab import drive\n",
        "drive.mount('/content/drive')"
      ]
    },
    {
      "cell_type": "code",
      "source": [
        "data_path = '/content/drive/MyDrive/datastat/ecommerce_data_1.csv'\n",
        "df = pd.read_csv(data_path, encoding = 'ISO-8859-1')"
      ],
      "metadata": {
        "id": "Mqwp0uVIivor"
      },
      "execution_count": 4,
      "outputs": []
    },
    {
      "cell_type": "markdown",
      "metadata": {
        "id": "8QIVAAn3lk4T"
      },
      "source": [
        "2.Виведіть перші три записи в завантаженому наборі даних"
      ]
    },
    {
      "cell_type": "code",
      "execution_count": 38,
      "metadata": {
        "id": "VrpskFY2lk4U",
        "outputId": "f6b940d5-c952-4a57-c025-1450a1043514",
        "colab": {
          "base_uri": "https://localhost:8080/",
          "height": 144
        }
      },
      "outputs": [
        {
          "output_type": "execute_result",
          "data": {
            "text/plain": [
              "  InvoiceNo StockCode                         Description  Quantity  \\\n",
              "0    536365    85123A  WHITE HANGING HEART T-LIGHT HOLDER         6   \n",
              "1    536365     71053                 WHITE METAL LANTERN         6   \n",
              "2    536365    84406B      CREAM CUPID HEARTS COAT HANGER         8   \n",
              "\n",
              "          InvoiceDate  UnitPrice  CustomerID         Country  \n",
              "0 2010-12-01 08:26:00       2.55     17850.0  United Kingdom  \n",
              "1 2010-12-01 08:26:00       3.39     17850.0  United Kingdom  \n",
              "2 2010-12-01 08:26:00       2.75     17850.0  United Kingdom  "
            ],
            "text/html": [
              "\n",
              "  <div id=\"df-fc5f853b-30d6-43f4-bd6f-cea3ca4dc059\" class=\"colab-df-container\">\n",
              "    <div>\n",
              "<style scoped>\n",
              "    .dataframe tbody tr th:only-of-type {\n",
              "        vertical-align: middle;\n",
              "    }\n",
              "\n",
              "    .dataframe tbody tr th {\n",
              "        vertical-align: top;\n",
              "    }\n",
              "\n",
              "    .dataframe thead th {\n",
              "        text-align: right;\n",
              "    }\n",
              "</style>\n",
              "<table border=\"1\" class=\"dataframe\">\n",
              "  <thead>\n",
              "    <tr style=\"text-align: right;\">\n",
              "      <th></th>\n",
              "      <th>InvoiceNo</th>\n",
              "      <th>StockCode</th>\n",
              "      <th>Description</th>\n",
              "      <th>Quantity</th>\n",
              "      <th>InvoiceDate</th>\n",
              "      <th>UnitPrice</th>\n",
              "      <th>CustomerID</th>\n",
              "      <th>Country</th>\n",
              "    </tr>\n",
              "  </thead>\n",
              "  <tbody>\n",
              "    <tr>\n",
              "      <th>0</th>\n",
              "      <td>536365</td>\n",
              "      <td>85123A</td>\n",
              "      <td>WHITE HANGING HEART T-LIGHT HOLDER</td>\n",
              "      <td>6</td>\n",
              "      <td>2010-12-01 08:26:00</td>\n",
              "      <td>2.55</td>\n",
              "      <td>17850.0</td>\n",
              "      <td>United Kingdom</td>\n",
              "    </tr>\n",
              "    <tr>\n",
              "      <th>1</th>\n",
              "      <td>536365</td>\n",
              "      <td>71053</td>\n",
              "      <td>WHITE METAL LANTERN</td>\n",
              "      <td>6</td>\n",
              "      <td>2010-12-01 08:26:00</td>\n",
              "      <td>3.39</td>\n",
              "      <td>17850.0</td>\n",
              "      <td>United Kingdom</td>\n",
              "    </tr>\n",
              "    <tr>\n",
              "      <th>2</th>\n",
              "      <td>536365</td>\n",
              "      <td>84406B</td>\n",
              "      <td>CREAM CUPID HEARTS COAT HANGER</td>\n",
              "      <td>8</td>\n",
              "      <td>2010-12-01 08:26:00</td>\n",
              "      <td>2.75</td>\n",
              "      <td>17850.0</td>\n",
              "      <td>United Kingdom</td>\n",
              "    </tr>\n",
              "  </tbody>\n",
              "</table>\n",
              "</div>\n",
              "    <div class=\"colab-df-buttons\">\n",
              "\n",
              "  <div class=\"colab-df-container\">\n",
              "    <button class=\"colab-df-convert\" onclick=\"convertToInteractive('df-fc5f853b-30d6-43f4-bd6f-cea3ca4dc059')\"\n",
              "            title=\"Convert this dataframe to an interactive table.\"\n",
              "            style=\"display:none;\">\n",
              "\n",
              "  <svg xmlns=\"http://www.w3.org/2000/svg\" height=\"24px\" viewBox=\"0 -960 960 960\">\n",
              "    <path d=\"M120-120v-720h720v720H120Zm60-500h600v-160H180v160Zm220 220h160v-160H400v160Zm0 220h160v-160H400v160ZM180-400h160v-160H180v160Zm440 0h160v-160H620v160ZM180-180h160v-160H180v160Zm440 0h160v-160H620v160Z\"/>\n",
              "  </svg>\n",
              "    </button>\n",
              "\n",
              "  <style>\n",
              "    .colab-df-container {\n",
              "      display:flex;\n",
              "      gap: 12px;\n",
              "    }\n",
              "\n",
              "    .colab-df-convert {\n",
              "      background-color: #E8F0FE;\n",
              "      border: none;\n",
              "      border-radius: 50%;\n",
              "      cursor: pointer;\n",
              "      display: none;\n",
              "      fill: #1967D2;\n",
              "      height: 32px;\n",
              "      padding: 0 0 0 0;\n",
              "      width: 32px;\n",
              "    }\n",
              "\n",
              "    .colab-df-convert:hover {\n",
              "      background-color: #E2EBFA;\n",
              "      box-shadow: 0px 1px 2px rgba(60, 64, 67, 0.3), 0px 1px 3px 1px rgba(60, 64, 67, 0.15);\n",
              "      fill: #174EA6;\n",
              "    }\n",
              "\n",
              "    .colab-df-buttons div {\n",
              "      margin-bottom: 4px;\n",
              "    }\n",
              "\n",
              "    [theme=dark] .colab-df-convert {\n",
              "      background-color: #3B4455;\n",
              "      fill: #D2E3FC;\n",
              "    }\n",
              "\n",
              "    [theme=dark] .colab-df-convert:hover {\n",
              "      background-color: #434B5C;\n",
              "      box-shadow: 0px 1px 3px 1px rgba(0, 0, 0, 0.15);\n",
              "      filter: drop-shadow(0px 1px 2px rgba(0, 0, 0, 0.3));\n",
              "      fill: #FFFFFF;\n",
              "    }\n",
              "  </style>\n",
              "\n",
              "    <script>\n",
              "      const buttonEl =\n",
              "        document.querySelector('#df-fc5f853b-30d6-43f4-bd6f-cea3ca4dc059 button.colab-df-convert');\n",
              "      buttonEl.style.display =\n",
              "        google.colab.kernel.accessAllowed ? 'block' : 'none';\n",
              "\n",
              "      async function convertToInteractive(key) {\n",
              "        const element = document.querySelector('#df-fc5f853b-30d6-43f4-bd6f-cea3ca4dc059');\n",
              "        const dataTable =\n",
              "          await google.colab.kernel.invokeFunction('convertToInteractive',\n",
              "                                                    [key], {});\n",
              "        if (!dataTable) return;\n",
              "\n",
              "        const docLinkHtml = 'Like what you see? Visit the ' +\n",
              "          '<a target=\"_blank\" href=https://colab.research.google.com/notebooks/data_table.ipynb>data table notebook</a>'\n",
              "          + ' to learn more about interactive tables.';\n",
              "        element.innerHTML = '';\n",
              "        dataTable['output_type'] = 'display_data';\n",
              "        await google.colab.output.renderOutput(dataTable, element);\n",
              "        const docLink = document.createElement('div');\n",
              "        docLink.innerHTML = docLinkHtml;\n",
              "        element.appendChild(docLink);\n",
              "      }\n",
              "    </script>\n",
              "  </div>\n",
              "\n",
              "\n",
              "<div id=\"df-b274076d-076e-46a0-8592-1cae52536ff7\">\n",
              "  <button class=\"colab-df-quickchart\" onclick=\"quickchart('df-b274076d-076e-46a0-8592-1cae52536ff7')\"\n",
              "            title=\"Suggest charts\"\n",
              "            style=\"display:none;\">\n",
              "\n",
              "<svg xmlns=\"http://www.w3.org/2000/svg\" height=\"24px\"viewBox=\"0 0 24 24\"\n",
              "     width=\"24px\">\n",
              "    <g>\n",
              "        <path d=\"M19 3H5c-1.1 0-2 .9-2 2v14c0 1.1.9 2 2 2h14c1.1 0 2-.9 2-2V5c0-1.1-.9-2-2-2zM9 17H7v-7h2v7zm4 0h-2V7h2v10zm4 0h-2v-4h2v4z\"/>\n",
              "    </g>\n",
              "</svg>\n",
              "  </button>\n",
              "\n",
              "<style>\n",
              "  .colab-df-quickchart {\n",
              "      --bg-color: #E8F0FE;\n",
              "      --fill-color: #1967D2;\n",
              "      --hover-bg-color: #E2EBFA;\n",
              "      --hover-fill-color: #174EA6;\n",
              "      --disabled-fill-color: #AAA;\n",
              "      --disabled-bg-color: #DDD;\n",
              "  }\n",
              "\n",
              "  [theme=dark] .colab-df-quickchart {\n",
              "      --bg-color: #3B4455;\n",
              "      --fill-color: #D2E3FC;\n",
              "      --hover-bg-color: #434B5C;\n",
              "      --hover-fill-color: #FFFFFF;\n",
              "      --disabled-bg-color: #3B4455;\n",
              "      --disabled-fill-color: #666;\n",
              "  }\n",
              "\n",
              "  .colab-df-quickchart {\n",
              "    background-color: var(--bg-color);\n",
              "    border: none;\n",
              "    border-radius: 50%;\n",
              "    cursor: pointer;\n",
              "    display: none;\n",
              "    fill: var(--fill-color);\n",
              "    height: 32px;\n",
              "    padding: 0;\n",
              "    width: 32px;\n",
              "  }\n",
              "\n",
              "  .colab-df-quickchart:hover {\n",
              "    background-color: var(--hover-bg-color);\n",
              "    box-shadow: 0 1px 2px rgba(60, 64, 67, 0.3), 0 1px 3px 1px rgba(60, 64, 67, 0.15);\n",
              "    fill: var(--button-hover-fill-color);\n",
              "  }\n",
              "\n",
              "  .colab-df-quickchart-complete:disabled,\n",
              "  .colab-df-quickchart-complete:disabled:hover {\n",
              "    background-color: var(--disabled-bg-color);\n",
              "    fill: var(--disabled-fill-color);\n",
              "    box-shadow: none;\n",
              "  }\n",
              "\n",
              "  .colab-df-spinner {\n",
              "    border: 2px solid var(--fill-color);\n",
              "    border-color: transparent;\n",
              "    border-bottom-color: var(--fill-color);\n",
              "    animation:\n",
              "      spin 1s steps(1) infinite;\n",
              "  }\n",
              "\n",
              "  @keyframes spin {\n",
              "    0% {\n",
              "      border-color: transparent;\n",
              "      border-bottom-color: var(--fill-color);\n",
              "      border-left-color: var(--fill-color);\n",
              "    }\n",
              "    20% {\n",
              "      border-color: transparent;\n",
              "      border-left-color: var(--fill-color);\n",
              "      border-top-color: var(--fill-color);\n",
              "    }\n",
              "    30% {\n",
              "      border-color: transparent;\n",
              "      border-left-color: var(--fill-color);\n",
              "      border-top-color: var(--fill-color);\n",
              "      border-right-color: var(--fill-color);\n",
              "    }\n",
              "    40% {\n",
              "      border-color: transparent;\n",
              "      border-right-color: var(--fill-color);\n",
              "      border-top-color: var(--fill-color);\n",
              "    }\n",
              "    60% {\n",
              "      border-color: transparent;\n",
              "      border-right-color: var(--fill-color);\n",
              "    }\n",
              "    80% {\n",
              "      border-color: transparent;\n",
              "      border-right-color: var(--fill-color);\n",
              "      border-bottom-color: var(--fill-color);\n",
              "    }\n",
              "    90% {\n",
              "      border-color: transparent;\n",
              "      border-bottom-color: var(--fill-color);\n",
              "    }\n",
              "  }\n",
              "</style>\n",
              "\n",
              "  <script>\n",
              "    async function quickchart(key) {\n",
              "      const quickchartButtonEl =\n",
              "        document.querySelector('#' + key + ' button');\n",
              "      quickchartButtonEl.disabled = true;  // To prevent multiple clicks.\n",
              "      quickchartButtonEl.classList.add('colab-df-spinner');\n",
              "      try {\n",
              "        const charts = await google.colab.kernel.invokeFunction(\n",
              "            'suggestCharts', [key], {});\n",
              "      } catch (error) {\n",
              "        console.error('Error during call to suggestCharts:', error);\n",
              "      }\n",
              "      quickchartButtonEl.classList.remove('colab-df-spinner');\n",
              "      quickchartButtonEl.classList.add('colab-df-quickchart-complete');\n",
              "    }\n",
              "    (() => {\n",
              "      let quickchartButtonEl =\n",
              "        document.querySelector('#df-b274076d-076e-46a0-8592-1cae52536ff7 button');\n",
              "      quickchartButtonEl.style.display =\n",
              "        google.colab.kernel.accessAllowed ? 'block' : 'none';\n",
              "    })();\n",
              "  </script>\n",
              "</div>\n",
              "    </div>\n",
              "  </div>\n"
            ],
            "application/vnd.google.colaboratory.intrinsic+json": {
              "type": "dataframe",
              "variable_name": "df"
            }
          },
          "metadata": {},
          "execution_count": 38
        }
      ],
      "source": [
        "df.head(3)"
      ]
    },
    {
      "cell_type": "markdown",
      "metadata": {
        "id": "hM1Ru0Q5lk4U"
      },
      "source": [
        "3.Перейменуйте колонки, для цього просто запустіть код нижче та зверніть увагу, як ми перейменували колонки. Перейменування тут - просто для зручності."
      ]
    },
    {
      "cell_type": "markdown",
      "source": [
        "Це завдання пропустила, адже код нижче не було вказано"
      ],
      "metadata": {
        "id": "psLeeB5JjqEQ"
      }
    },
    {
      "cell_type": "markdown",
      "metadata": {
        "id": "AxUY-PeFlk4U"
      },
      "source": [
        "4.Виведіть поточні назви колонок."
      ]
    },
    {
      "cell_type": "code",
      "execution_count": 5,
      "metadata": {
        "id": "IOMTpD4elk4U",
        "outputId": "6af36e8c-78c8-4ff3-bcb5-f8d936361e0e",
        "colab": {
          "base_uri": "https://localhost:8080/",
          "height": 335
        }
      },
      "outputs": [
        {
          "output_type": "execute_result",
          "data": {
            "text/plain": [
              "InvoiceNo       object\n",
              "StockCode       object\n",
              "Description     object\n",
              "Quantity         int64\n",
              "InvoiceDate     object\n",
              "UnitPrice      float64\n",
              "CustomerID     float64\n",
              "Country         object\n",
              "dtype: object"
            ],
            "text/html": [
              "<div>\n",
              "<style scoped>\n",
              "    .dataframe tbody tr th:only-of-type {\n",
              "        vertical-align: middle;\n",
              "    }\n",
              "\n",
              "    .dataframe tbody tr th {\n",
              "        vertical-align: top;\n",
              "    }\n",
              "\n",
              "    .dataframe thead th {\n",
              "        text-align: right;\n",
              "    }\n",
              "</style>\n",
              "<table border=\"1\" class=\"dataframe\">\n",
              "  <thead>\n",
              "    <tr style=\"text-align: right;\">\n",
              "      <th></th>\n",
              "      <th>0</th>\n",
              "    </tr>\n",
              "  </thead>\n",
              "  <tbody>\n",
              "    <tr>\n",
              "      <th>InvoiceNo</th>\n",
              "      <td>object</td>\n",
              "    </tr>\n",
              "    <tr>\n",
              "      <th>StockCode</th>\n",
              "      <td>object</td>\n",
              "    </tr>\n",
              "    <tr>\n",
              "      <th>Description</th>\n",
              "      <td>object</td>\n",
              "    </tr>\n",
              "    <tr>\n",
              "      <th>Quantity</th>\n",
              "      <td>int64</td>\n",
              "    </tr>\n",
              "    <tr>\n",
              "      <th>InvoiceDate</th>\n",
              "      <td>object</td>\n",
              "    </tr>\n",
              "    <tr>\n",
              "      <th>UnitPrice</th>\n",
              "      <td>float64</td>\n",
              "    </tr>\n",
              "    <tr>\n",
              "      <th>CustomerID</th>\n",
              "      <td>float64</td>\n",
              "    </tr>\n",
              "    <tr>\n",
              "      <th>Country</th>\n",
              "      <td>object</td>\n",
              "    </tr>\n",
              "  </tbody>\n",
              "</table>\n",
              "</div><br><label><b>dtype:</b> object</label>"
            ]
          },
          "metadata": {},
          "execution_count": 5
        }
      ],
      "source": [
        "df.dtypes"
      ]
    },
    {
      "cell_type": "markdown",
      "metadata": {
        "id": "mTi4g42Slk4V"
      },
      "source": [
        "# Базове розуміння даних"
      ]
    },
    {
      "cell_type": "markdown",
      "metadata": {
        "id": "xaLymfOnlk4V"
      },
      "source": [
        "5.Виведіть кількість колонок і стовпців в наборі даних."
      ]
    },
    {
      "cell_type": "code",
      "execution_count": 6,
      "metadata": {
        "id": "l2NCcrjklk4V",
        "outputId": "367643f5-538d-4505-e135-3059c1b58a4d",
        "colab": {
          "base_uri": "https://localhost:8080/"
        }
      },
      "outputs": [
        {
          "output_type": "execute_result",
          "data": {
            "text/plain": [
              "(541909, 8)"
            ]
          },
          "metadata": {},
          "execution_count": 6
        }
      ],
      "source": [
        "df.shape"
      ]
    },
    {
      "cell_type": "markdown",
      "metadata": {
        "id": "go5ZeXrGlk4V"
      },
      "source": [
        "6.Виведіть типи даних в кожній з колонок. Будь-яким способом, але аби для Вас як для дослідника стало зрозуміло, з якими даними ми зараз маємо справу."
      ]
    },
    {
      "cell_type": "code",
      "execution_count": 7,
      "metadata": {
        "id": "_dNEzIB-lk4V",
        "outputId": "486dad6e-e017-4a3d-f550-7aafcd37226b",
        "colab": {
          "base_uri": "https://localhost:8080/",
          "height": 335
        }
      },
      "outputs": [
        {
          "output_type": "execute_result",
          "data": {
            "text/plain": [
              "InvoiceNo       object\n",
              "StockCode       object\n",
              "Description     object\n",
              "Quantity         int64\n",
              "InvoiceDate     object\n",
              "UnitPrice      float64\n",
              "CustomerID     float64\n",
              "Country         object\n",
              "dtype: object"
            ],
            "text/html": [
              "<div>\n",
              "<style scoped>\n",
              "    .dataframe tbody tr th:only-of-type {\n",
              "        vertical-align: middle;\n",
              "    }\n",
              "\n",
              "    .dataframe tbody tr th {\n",
              "        vertical-align: top;\n",
              "    }\n",
              "\n",
              "    .dataframe thead th {\n",
              "        text-align: right;\n",
              "    }\n",
              "</style>\n",
              "<table border=\"1\" class=\"dataframe\">\n",
              "  <thead>\n",
              "    <tr style=\"text-align: right;\">\n",
              "      <th></th>\n",
              "      <th>0</th>\n",
              "    </tr>\n",
              "  </thead>\n",
              "  <tbody>\n",
              "    <tr>\n",
              "      <th>InvoiceNo</th>\n",
              "      <td>object</td>\n",
              "    </tr>\n",
              "    <tr>\n",
              "      <th>StockCode</th>\n",
              "      <td>object</td>\n",
              "    </tr>\n",
              "    <tr>\n",
              "      <th>Description</th>\n",
              "      <td>object</td>\n",
              "    </tr>\n",
              "    <tr>\n",
              "      <th>Quantity</th>\n",
              "      <td>int64</td>\n",
              "    </tr>\n",
              "    <tr>\n",
              "      <th>InvoiceDate</th>\n",
              "      <td>object</td>\n",
              "    </tr>\n",
              "    <tr>\n",
              "      <th>UnitPrice</th>\n",
              "      <td>float64</td>\n",
              "    </tr>\n",
              "    <tr>\n",
              "      <th>CustomerID</th>\n",
              "      <td>float64</td>\n",
              "    </tr>\n",
              "    <tr>\n",
              "      <th>Country</th>\n",
              "      <td>object</td>\n",
              "    </tr>\n",
              "  </tbody>\n",
              "</table>\n",
              "</div><br><label><b>dtype:</b> object</label>"
            ]
          },
          "metadata": {},
          "execution_count": 7
        }
      ],
      "source": [
        "df.dtypes"
      ]
    },
    {
      "cell_type": "markdown",
      "metadata": {
        "id": "Wx_5FTJslk4W"
      },
      "source": [
        "Очікуваний результат (один з):"
      ]
    },
    {
      "cell_type": "markdown",
      "metadata": {
        "id": "_B3d2OdAlk4W"
      },
      "source": [
        "![](https://drive.google.com/uc?export=view&id=1Pc2cam8vdZeEP4xLXlsoevOTt4O_KI4R)"
      ]
    },
    {
      "cell_type": "markdown",
      "metadata": {
        "id": "uTI7g3DLlk4W"
      },
      "source": [
        "7.Виведіть кількість пустих (null) значень в кожній з колонок за спаданням цієї кількості."
      ]
    },
    {
      "cell_type": "code",
      "execution_count": 8,
      "metadata": {
        "id": "Zfg9wDlelk4W",
        "outputId": "121dadd6-40d8-4a9e-99c5-e363a977935f",
        "colab": {
          "base_uri": "https://localhost:8080/",
          "height": 335
        }
      },
      "outputs": [
        {
          "output_type": "execute_result",
          "data": {
            "text/plain": [
              "CustomerID     135080\n",
              "Description      1454\n",
              "InvoiceNo           0\n",
              "StockCode           0\n",
              "Quantity            0\n",
              "InvoiceDate         0\n",
              "UnitPrice           0\n",
              "Country             0\n",
              "dtype: int64"
            ],
            "text/html": [
              "<div>\n",
              "<style scoped>\n",
              "    .dataframe tbody tr th:only-of-type {\n",
              "        vertical-align: middle;\n",
              "    }\n",
              "\n",
              "    .dataframe tbody tr th {\n",
              "        vertical-align: top;\n",
              "    }\n",
              "\n",
              "    .dataframe thead th {\n",
              "        text-align: right;\n",
              "    }\n",
              "</style>\n",
              "<table border=\"1\" class=\"dataframe\">\n",
              "  <thead>\n",
              "    <tr style=\"text-align: right;\">\n",
              "      <th></th>\n",
              "      <th>0</th>\n",
              "    </tr>\n",
              "  </thead>\n",
              "  <tbody>\n",
              "    <tr>\n",
              "      <th>CustomerID</th>\n",
              "      <td>135080</td>\n",
              "    </tr>\n",
              "    <tr>\n",
              "      <th>Description</th>\n",
              "      <td>1454</td>\n",
              "    </tr>\n",
              "    <tr>\n",
              "      <th>InvoiceNo</th>\n",
              "      <td>0</td>\n",
              "    </tr>\n",
              "    <tr>\n",
              "      <th>StockCode</th>\n",
              "      <td>0</td>\n",
              "    </tr>\n",
              "    <tr>\n",
              "      <th>Quantity</th>\n",
              "      <td>0</td>\n",
              "    </tr>\n",
              "    <tr>\n",
              "      <th>InvoiceDate</th>\n",
              "      <td>0</td>\n",
              "    </tr>\n",
              "    <tr>\n",
              "      <th>UnitPrice</th>\n",
              "      <td>0</td>\n",
              "    </tr>\n",
              "    <tr>\n",
              "      <th>Country</th>\n",
              "      <td>0</td>\n",
              "    </tr>\n",
              "  </tbody>\n",
              "</table>\n",
              "</div><br><label><b>dtype:</b> int64</label>"
            ]
          },
          "metadata": {},
          "execution_count": 8
        }
      ],
      "source": [
        "df.isna().sum().sort_values(ascending=False)"
      ]
    },
    {
      "cell_type": "markdown",
      "metadata": {
        "id": "FACq9-m4lk4X"
      },
      "source": [
        "Очікуваний результат:"
      ]
    },
    {
      "cell_type": "markdown",
      "metadata": {
        "id": "dE4ETItPlk4X"
      },
      "source": [
        "![](https://drive.google.com/uc?export=view&id=1IXVowBSH9-LtCR8gkMXcQHXWPinujkF5)"
      ]
    },
    {
      "cell_type": "markdown",
      "metadata": {
        "id": "PI1sNrqAlk4X"
      },
      "source": [
        "### Конвертація дат"
      ]
    },
    {
      "cell_type": "markdown",
      "metadata": {
        "id": "1jtiqHKclk4X"
      },
      "source": [
        "8.Конвертуйте дату колонки `invoicedate` у тип `datetime64[ns]`."
      ]
    },
    {
      "cell_type": "code",
      "execution_count": 9,
      "metadata": {
        "id": "2oytJiPtlk4X",
        "outputId": "79c15081-4193-49de-b20e-ce0184f06754",
        "colab": {
          "base_uri": "https://localhost:8080/"
        }
      },
      "outputs": [
        {
          "output_type": "stream",
          "name": "stdout",
          "text": [
            "datetime64[ns]\n"
          ]
        }
      ],
      "source": [
        "df['InvoiceDate'] = pd.to_datetime(df['InvoiceDate'])\n",
        "\n",
        "print(df['InvoiceDate'].dtypes)"
      ]
    },
    {
      "cell_type": "markdown",
      "metadata": {
        "id": "HHqMPHRklk4X"
      },
      "source": [
        "Запустіть код нижче:"
      ]
    },
    {
      "cell_type": "code",
      "execution_count": 10,
      "metadata": {
        "ExecuteTime": {
          "end_time": "2023-12-05T18:06:01.765252Z",
          "start_time": "2023-12-05T18:06:01.757679Z"
        },
        "id": "DuMbCDq1lk4X",
        "outputId": "4dcb3a7a-00aa-46e6-9d7e-92a34728ea75",
        "colab": {
          "base_uri": "https://localhost:8080/",
          "height": 147
        }
      },
      "outputs": [
        {
          "output_type": "execute_result",
          "data": {
            "text/plain": [
              "0   2010-12-01 08:26:00\n",
              "1   2010-12-01 08:26:00\n",
              "Name: InvoiceDate, dtype: datetime64[ns]"
            ],
            "text/html": [
              "<div>\n",
              "<style scoped>\n",
              "    .dataframe tbody tr th:only-of-type {\n",
              "        vertical-align: middle;\n",
              "    }\n",
              "\n",
              "    .dataframe tbody tr th {\n",
              "        vertical-align: top;\n",
              "    }\n",
              "\n",
              "    .dataframe thead th {\n",
              "        text-align: right;\n",
              "    }\n",
              "</style>\n",
              "<table border=\"1\" class=\"dataframe\">\n",
              "  <thead>\n",
              "    <tr style=\"text-align: right;\">\n",
              "      <th></th>\n",
              "      <th>InvoiceDate</th>\n",
              "    </tr>\n",
              "  </thead>\n",
              "  <tbody>\n",
              "    <tr>\n",
              "      <th>0</th>\n",
              "      <td>2010-12-01 08:26:00</td>\n",
              "    </tr>\n",
              "    <tr>\n",
              "      <th>1</th>\n",
              "      <td>2010-12-01 08:26:00</td>\n",
              "    </tr>\n",
              "  </tbody>\n",
              "</table>\n",
              "</div><br><label><b>dtype:</b> datetime64[ns]</label>"
            ]
          },
          "metadata": {},
          "execution_count": 10
        }
      ],
      "source": [
        "df.InvoiceDate[:2]"
      ]
    },
    {
      "cell_type": "markdown",
      "metadata": {
        "id": "FsTAjk2olk4Y"
      },
      "source": [
        "Очікуваний результат:"
      ]
    },
    {
      "cell_type": "markdown",
      "metadata": {
        "id": "z-3iVMuLlk4Y"
      },
      "source": [
        "![](https://drive.google.com/uc?export=view&id=1ds5CwdM5D50hlnk1zsDw7YT-aG_KErIg)"
      ]
    },
    {
      "cell_type": "markdown",
      "metadata": {
        "id": "nI7reejblk4Y"
      },
      "source": [
        "# Чистка даних"
      ]
    },
    {
      "cell_type": "markdown",
      "metadata": {
        "id": "quoW-Osxlk4Y"
      },
      "source": [
        "### Прибираємо пусті значення (NA)"
      ]
    },
    {
      "cell_type": "markdown",
      "metadata": {
        "id": "4gkHeABtlk4Z"
      },
      "source": [
        "9.Приберіть усі пусті значення з набору даних `df` і запишіть результат у нову змінну `df_new`."
      ]
    },
    {
      "cell_type": "code",
      "execution_count": 11,
      "metadata": {
        "id": "fScI8K2Dlk4Z"
      },
      "outputs": [],
      "source": [
        "df_new = df.dropna()\n",
        "\n"
      ]
    },
    {
      "cell_type": "markdown",
      "metadata": {
        "ExecuteTime": {
          "end_time": "2023-03-01T20:22:10.281104Z",
          "start_time": "2023-03-01T20:22:10.253826Z"
        },
        "id": "Ppp8wSO-lk4Z"
      },
      "source": [
        "10.Виведіть кількість колонок і рядків в `df_new`."
      ]
    },
    {
      "cell_type": "code",
      "execution_count": 12,
      "metadata": {
        "id": "5Jzz5CkElk4Z",
        "outputId": "b2ff0345-fc50-48a3-932d-1ca47bfae9ae",
        "colab": {
          "base_uri": "https://localhost:8080/"
        }
      },
      "outputs": [
        {
          "output_type": "execute_result",
          "data": {
            "text/plain": [
              "(406829, 8)"
            ]
          },
          "metadata": {},
          "execution_count": 12
        }
      ],
      "source": [
        "df_new.shape"
      ]
    },
    {
      "cell_type": "markdown",
      "metadata": {
        "id": "EIxshGdLlk4Z"
      },
      "source": [
        "11.Виведіть, який відсоток (від 0 до 100%) рядків ми видалили з `df`, коли прибрали пусті значення? Округліть результат до цілих відсотків."
      ]
    },
    {
      "cell_type": "code",
      "execution_count": 13,
      "metadata": {
        "id": "c9k5M-JUlk4Z",
        "outputId": "0b1e495a-1cb2-4d18-ce9b-0c52af241450",
        "colab": {
          "base_uri": "https://localhost:8080/"
        }
      },
      "outputs": [
        {
          "output_type": "stream",
          "name": "stdout",
          "text": [
            "Відсоток видалених рядків: 25%\n"
          ]
        }
      ],
      "source": [
        "initial_rows = len(df)\n",
        "new_rows = len(df_new)\n",
        "\n",
        "percent_deleted = ((initial_rows - new_rows) / initial_rows) * 100\n",
        "\n",
        "percent_deleted = round(percent_deleted)\n",
        "\n",
        "print(f\"Відсоток видалених рядків: {percent_deleted}%\")"
      ]
    },
    {
      "cell_type": "markdown",
      "metadata": {
        "id": "Si_JzJYwlk4Z"
      },
      "source": [
        "Очікуваний результат: `25%`"
      ]
    },
    {
      "cell_type": "markdown",
      "metadata": {
        "id": "jb1_yqM7lk4Z"
      },
      "source": [
        "### Приберемо негативні значення `quantity`"
      ]
    },
    {
      "cell_type": "markdown",
      "metadata": {
        "ExecuteTime": {
          "end_time": "2023-03-01T20:28:09.879644Z",
          "start_time": "2023-03-01T20:28:09.871420Z"
        },
        "id": "v2gsQD-Jlk4Z"
      },
      "source": [
        "12.Виведіть мінімальне, максимальне і середнє значення колонки `quantity`. Найкраще згадати, як це зробити одною командою, що дозволяє \"описати\" колонки в датафреймі :)"
      ]
    },
    {
      "cell_type": "code",
      "execution_count": 14,
      "metadata": {
        "id": "0DWmj_Bnlk4g",
        "outputId": "ff292e00-bfa9-4465-d371-bf6be6d61e39",
        "colab": {
          "base_uri": "https://localhost:8080/"
        }
      },
      "outputs": [
        {
          "output_type": "stream",
          "name": "stdout",
          "text": [
            "Мax: -80995.0\n",
            "Мin: 80995.0\n",
            "Mean: 12.06130339774205\n"
          ]
        }
      ],
      "source": [
        "stats = df_new['Quantity'].describe()\n",
        "\n",
        "min_value = stats['min']\n",
        "max_value = stats['max']\n",
        "mean_value = stats['mean']\n",
        "\n",
        "print(f\"Мax: {min_value}\")\n",
        "print(f\"Мin: {max_value}\")\n",
        "print(f\"Mean: {mean_value}\")"
      ]
    },
    {
      "cell_type": "markdown",
      "metadata": {
        "id": "3Od-reAblk4g"
      },
      "source": [
        "13.Скажімо, нас не цікавлять записи з негативними quantity (бо це поверненння).   \n",
        "Приберіть всі рядки, де `quantity` менше 0 з набора даних `df_new` і запишіть в той самий набір даних `df_new`."
      ]
    },
    {
      "cell_type": "code",
      "execution_count": 15,
      "metadata": {
        "id": "XuvzkjRklk4g",
        "outputId": "d2a691c8-a540-408c-9ba0-abcb1a846b3e",
        "colab": {
          "base_uri": "https://localhost:8080/"
        }
      },
      "outputs": [
        {
          "output_type": "stream",
          "name": "stdout",
          "text": [
            "Мінімальне значення quantity після фільтрації: 1\n"
          ]
        }
      ],
      "source": [
        "df_new = df_new[df_new['Quantity'] >= 0]\n",
        "\n",
        "print(\"Мінімальне значення quantity після фільтрації:\", df_new['Quantity'].min())"
      ]
    },
    {
      "cell_type": "markdown",
      "metadata": {
        "id": "YPrO0YQYlk4g"
      },
      "source": [
        "# Обробка даних"
      ]
    },
    {
      "cell_type": "markdown",
      "metadata": {
        "id": "Ezpb1dLTlk4g"
      },
      "source": [
        "### Зміна типу даних `custid`"
      ]
    },
    {
      "cell_type": "markdown",
      "metadata": {
        "id": "hB20z_kPlk4h"
      },
      "source": [
        "14.Ідентифікатор клієнта має мати тип \"рядок\" для простоти роботи з цією колонкою. Бо інакше пандас буде інтерпретувати цю колонку як число - а це логічно не правильно.\n",
        "Перетворіть тип даних колонки `custid`  спочатку на int, а потім на рядок. Або можете зробити ці перетворення в одній функції (лямбді)."
      ]
    },
    {
      "cell_type": "code",
      "execution_count": 16,
      "metadata": {
        "id": "1YbdaXh4lk4h"
      },
      "outputs": [],
      "source": [
        "df_new['CustomerID'] = df_new['CustomerID'].astype(int)"
      ]
    },
    {
      "cell_type": "code",
      "source": [
        "df_new['CustomerID'] = df_new['CustomerID'].astype(str)\n",
        "print(df_new['CustomerID'].dtype)"
      ],
      "metadata": {
        "id": "UPZ7hCZurFY7",
        "outputId": "3eb4c21b-100a-4e6f-a19e-ecdede07eeb5",
        "colab": {
          "base_uri": "https://localhost:8080/"
        }
      },
      "execution_count": 17,
      "outputs": [
        {
          "output_type": "stream",
          "name": "stdout",
          "text": [
            "object\n"
          ]
        }
      ]
    },
    {
      "cell_type": "markdown",
      "source": [
        "Або за допомогою однієї функції (лямбди)"
      ],
      "metadata": {
        "id": "NuqQlVWgrJkC"
      }
    },
    {
      "cell_type": "code",
      "source": [
        "df_new['CustomerID'] = df_new['CustomerID'].apply(lambda x: str(int(x)))\n",
        "print(df_new['CustomerID'].dtype)"
      ],
      "metadata": {
        "id": "uVMfJPtNrPLn",
        "outputId": "1e1279ef-fab5-4913-b346-e5f9f30c10a2",
        "colab": {
          "base_uri": "https://localhost:8080/"
        }
      },
      "execution_count": 18,
      "outputs": [
        {
          "output_type": "stream",
          "name": "stdout",
          "text": [
            "object\n"
          ]
        }
      ]
    },
    {
      "cell_type": "markdown",
      "metadata": {
        "id": "9atMPoIBlk4i"
      },
      "source": [
        "Запустіть код нижче:"
      ]
    },
    {
      "cell_type": "code",
      "execution_count": 34,
      "metadata": {
        "ExecuteTime": {
          "end_time": "2023-12-05T18:06:02.221506Z",
          "start_time": "2023-12-05T18:06:02.216299Z"
        },
        "id": "Kye7Ch8Ylk4i",
        "outputId": "b41f09c4-7d81-4725-c7ab-640c7df00086",
        "colab": {
          "base_uri": "https://localhost:8080/",
          "height": 178
        }
      },
      "outputs": [
        {
          "output_type": "execute_result",
          "data": {
            "text/plain": [
              "0    17850\n",
              "1    17850\n",
              "2    17850\n",
              "Name: CustomerID, dtype: object"
            ],
            "text/html": [
              "<div>\n",
              "<style scoped>\n",
              "    .dataframe tbody tr th:only-of-type {\n",
              "        vertical-align: middle;\n",
              "    }\n",
              "\n",
              "    .dataframe tbody tr th {\n",
              "        vertical-align: top;\n",
              "    }\n",
              "\n",
              "    .dataframe thead th {\n",
              "        text-align: right;\n",
              "    }\n",
              "</style>\n",
              "<table border=\"1\" class=\"dataframe\">\n",
              "  <thead>\n",
              "    <tr style=\"text-align: right;\">\n",
              "      <th></th>\n",
              "      <th>CustomerID</th>\n",
              "    </tr>\n",
              "  </thead>\n",
              "  <tbody>\n",
              "    <tr>\n",
              "      <th>0</th>\n",
              "      <td>17850</td>\n",
              "    </tr>\n",
              "    <tr>\n",
              "      <th>1</th>\n",
              "      <td>17850</td>\n",
              "    </tr>\n",
              "    <tr>\n",
              "      <th>2</th>\n",
              "      <td>17850</td>\n",
              "    </tr>\n",
              "  </tbody>\n",
              "</table>\n",
              "</div><br><label><b>dtype:</b> object</label>"
            ]
          },
          "metadata": {},
          "execution_count": 34
        }
      ],
      "source": [
        "df_new['CustomerID'][:3]"
      ]
    },
    {
      "cell_type": "markdown",
      "metadata": {
        "id": "EJuMZmBSlk4j"
      },
      "source": [
        "Очікуваний результат:"
      ]
    },
    {
      "cell_type": "markdown",
      "metadata": {
        "id": "PtXmjHnClk4j"
      },
      "source": [
        "![](https://drive.google.com/uc?export=view&id=1V5Mn0OC6hD-OmXGswe2N8CsIxsuBuoPE)"
      ]
    },
    {
      "cell_type": "markdown",
      "metadata": {
        "id": "0LJvcYBBlk4j"
      },
      "source": [
        "### Додамо колонку `amountspent`"
      ]
    },
    {
      "cell_type": "markdown",
      "metadata": {
        "id": "LQxLy_TDlk4j"
      },
      "source": [
        "15.Додайте в `df_new` колонку `amountspent`, яка є добутком колонок `quantity` і `unitprice`."
      ]
    },
    {
      "cell_type": "code",
      "execution_count": 19,
      "metadata": {
        "id": "Vk8Bgq7llk4j",
        "outputId": "4a1b0abf-fbd6-451c-d78a-92227cacaf10",
        "colab": {
          "base_uri": "https://localhost:8080/"
        }
      },
      "outputs": [
        {
          "output_type": "stream",
          "name": "stdout",
          "text": [
            "   Quantity  UnitPrice  amountspent\n",
            "0         6       2.55        15.30\n",
            "1         6       3.39        20.34\n",
            "2         8       2.75        22.00\n",
            "3         6       3.39        20.34\n",
            "4         6       3.39        20.34\n"
          ]
        }
      ],
      "source": [
        "df_new['amountspent'] = df_new['Quantity'] * df_new['UnitPrice']\n",
        "\n",
        "print(df_new[['Quantity', 'UnitPrice', 'amountspent']].head())"
      ]
    },
    {
      "cell_type": "markdown",
      "metadata": {
        "id": "ne_0J6NSlk4k"
      },
      "source": [
        "### Додавання колонок `month`, `day`, `hour`, `yearmonth` для інвойса."
      ]
    },
    {
      "cell_type": "markdown",
      "metadata": {
        "ExecuteTime": {
          "end_time": "2023-03-02T09:53:07.223570Z",
          "start_time": "2023-03-02T09:53:07.124132Z"
        },
        "id": "l2P5xpcylk4k"
      },
      "source": [
        "16.Використовуючи колонку invoicedate та те, що вона в нас вже має тип datetime, створіть 4 нових колонки в даних:\n",
        "- `yearmonth` - рік і місяць інвойсу разом у форматі \"2010-12\" - тобто 12 місяць 2010го року і тип цієї колонки має бути датою (підказка: просто робимо для колонки`invoicedate` `dt.to_period('M')` для того аби таке отримати)\n",
        "- `month` - місяць інвойсу\n",
        "- `day` - день тижня інвойсу (понеділок - це перший, неділя - останній)\n",
        "- `hour` - година інвойсу\n",
        "\n",
        "Зробіть також так, аби `yearmonth` була третьою (за рахунком) колонкою в датафреймі, `month` - четвертою, `day` - пʼятою, `hour` - шостою."
      ]
    },
    {
      "cell_type": "code",
      "execution_count": 20,
      "metadata": {
        "id": "vvtxybEblk4k"
      },
      "outputs": [],
      "source": [
        "df_new['yearmonth'] = df_new['InvoiceDate'].dt.to_period('M')\n",
        "df_new['month'] = df_new['InvoiceDate'].dt.month\n",
        "df_new['day'] = df_new['InvoiceDate'].dt.dayofweek + 1\n",
        "df_new['hour'] = df_new['InvoiceDate'].dt.hour\n",
        "\n",
        "new_column_order = (\n",
        "    list(df_new.columns[:2]) +\n",
        "    ['yearmonth', 'month', 'day', 'hour'] +\n",
        "    list(df_new.columns[2:-4])\n",
        ")\n",
        "df_new = df_new[new_column_order]"
      ]
    },
    {
      "cell_type": "markdown",
      "metadata": {
        "id": "TzG5HyQqlk4k"
      },
      "source": [
        "Запустіть код нижче:"
      ]
    },
    {
      "cell_type": "code",
      "source": [
        "df_new.head(3)"
      ],
      "metadata": {
        "id": "DF0DYea1u9QV",
        "outputId": "1c963b1c-b42b-425c-97f4-d2662a6feff2",
        "colab": {
          "base_uri": "https://localhost:8080/",
          "height": 144
        }
      },
      "execution_count": 21,
      "outputs": [
        {
          "output_type": "execute_result",
          "data": {
            "text/plain": [
              "  InvoiceNo StockCode yearmonth  month  day  hour  \\\n",
              "0    536365    85123A   2010-12     12    3     8   \n",
              "1    536365     71053   2010-12     12    3     8   \n",
              "2    536365    84406B   2010-12     12    3     8   \n",
              "\n",
              "                          Description  Quantity         InvoiceDate  \\\n",
              "0  WHITE HANGING HEART T-LIGHT HOLDER         6 2010-12-01 08:26:00   \n",
              "1                 WHITE METAL LANTERN         6 2010-12-01 08:26:00   \n",
              "2      CREAM CUPID HEARTS COAT HANGER         8 2010-12-01 08:26:00   \n",
              "\n",
              "   UnitPrice CustomerID         Country  amountspent  \n",
              "0       2.55      17850  United Kingdom        15.30  \n",
              "1       3.39      17850  United Kingdom        20.34  \n",
              "2       2.75      17850  United Kingdom        22.00  "
            ],
            "text/html": [
              "\n",
              "  <div id=\"df-576c662f-1737-4b02-a22f-c1bc133bde2c\" class=\"colab-df-container\">\n",
              "    <div>\n",
              "<style scoped>\n",
              "    .dataframe tbody tr th:only-of-type {\n",
              "        vertical-align: middle;\n",
              "    }\n",
              "\n",
              "    .dataframe tbody tr th {\n",
              "        vertical-align: top;\n",
              "    }\n",
              "\n",
              "    .dataframe thead th {\n",
              "        text-align: right;\n",
              "    }\n",
              "</style>\n",
              "<table border=\"1\" class=\"dataframe\">\n",
              "  <thead>\n",
              "    <tr style=\"text-align: right;\">\n",
              "      <th></th>\n",
              "      <th>InvoiceNo</th>\n",
              "      <th>StockCode</th>\n",
              "      <th>yearmonth</th>\n",
              "      <th>month</th>\n",
              "      <th>day</th>\n",
              "      <th>hour</th>\n",
              "      <th>Description</th>\n",
              "      <th>Quantity</th>\n",
              "      <th>InvoiceDate</th>\n",
              "      <th>UnitPrice</th>\n",
              "      <th>CustomerID</th>\n",
              "      <th>Country</th>\n",
              "      <th>amountspent</th>\n",
              "    </tr>\n",
              "  </thead>\n",
              "  <tbody>\n",
              "    <tr>\n",
              "      <th>0</th>\n",
              "      <td>536365</td>\n",
              "      <td>85123A</td>\n",
              "      <td>2010-12</td>\n",
              "      <td>12</td>\n",
              "      <td>3</td>\n",
              "      <td>8</td>\n",
              "      <td>WHITE HANGING HEART T-LIGHT HOLDER</td>\n",
              "      <td>6</td>\n",
              "      <td>2010-12-01 08:26:00</td>\n",
              "      <td>2.55</td>\n",
              "      <td>17850</td>\n",
              "      <td>United Kingdom</td>\n",
              "      <td>15.30</td>\n",
              "    </tr>\n",
              "    <tr>\n",
              "      <th>1</th>\n",
              "      <td>536365</td>\n",
              "      <td>71053</td>\n",
              "      <td>2010-12</td>\n",
              "      <td>12</td>\n",
              "      <td>3</td>\n",
              "      <td>8</td>\n",
              "      <td>WHITE METAL LANTERN</td>\n",
              "      <td>6</td>\n",
              "      <td>2010-12-01 08:26:00</td>\n",
              "      <td>3.39</td>\n",
              "      <td>17850</td>\n",
              "      <td>United Kingdom</td>\n",
              "      <td>20.34</td>\n",
              "    </tr>\n",
              "    <tr>\n",
              "      <th>2</th>\n",
              "      <td>536365</td>\n",
              "      <td>84406B</td>\n",
              "      <td>2010-12</td>\n",
              "      <td>12</td>\n",
              "      <td>3</td>\n",
              "      <td>8</td>\n",
              "      <td>CREAM CUPID HEARTS COAT HANGER</td>\n",
              "      <td>8</td>\n",
              "      <td>2010-12-01 08:26:00</td>\n",
              "      <td>2.75</td>\n",
              "      <td>17850</td>\n",
              "      <td>United Kingdom</td>\n",
              "      <td>22.00</td>\n",
              "    </tr>\n",
              "  </tbody>\n",
              "</table>\n",
              "</div>\n",
              "    <div class=\"colab-df-buttons\">\n",
              "\n",
              "  <div class=\"colab-df-container\">\n",
              "    <button class=\"colab-df-convert\" onclick=\"convertToInteractive('df-576c662f-1737-4b02-a22f-c1bc133bde2c')\"\n",
              "            title=\"Convert this dataframe to an interactive table.\"\n",
              "            style=\"display:none;\">\n",
              "\n",
              "  <svg xmlns=\"http://www.w3.org/2000/svg\" height=\"24px\" viewBox=\"0 -960 960 960\">\n",
              "    <path d=\"M120-120v-720h720v720H120Zm60-500h600v-160H180v160Zm220 220h160v-160H400v160Zm0 220h160v-160H400v160ZM180-400h160v-160H180v160Zm440 0h160v-160H620v160ZM180-180h160v-160H180v160Zm440 0h160v-160H620v160Z\"/>\n",
              "  </svg>\n",
              "    </button>\n",
              "\n",
              "  <style>\n",
              "    .colab-df-container {\n",
              "      display:flex;\n",
              "      gap: 12px;\n",
              "    }\n",
              "\n",
              "    .colab-df-convert {\n",
              "      background-color: #E8F0FE;\n",
              "      border: none;\n",
              "      border-radius: 50%;\n",
              "      cursor: pointer;\n",
              "      display: none;\n",
              "      fill: #1967D2;\n",
              "      height: 32px;\n",
              "      padding: 0 0 0 0;\n",
              "      width: 32px;\n",
              "    }\n",
              "\n",
              "    .colab-df-convert:hover {\n",
              "      background-color: #E2EBFA;\n",
              "      box-shadow: 0px 1px 2px rgba(60, 64, 67, 0.3), 0px 1px 3px 1px rgba(60, 64, 67, 0.15);\n",
              "      fill: #174EA6;\n",
              "    }\n",
              "\n",
              "    .colab-df-buttons div {\n",
              "      margin-bottom: 4px;\n",
              "    }\n",
              "\n",
              "    [theme=dark] .colab-df-convert {\n",
              "      background-color: #3B4455;\n",
              "      fill: #D2E3FC;\n",
              "    }\n",
              "\n",
              "    [theme=dark] .colab-df-convert:hover {\n",
              "      background-color: #434B5C;\n",
              "      box-shadow: 0px 1px 3px 1px rgba(0, 0, 0, 0.15);\n",
              "      filter: drop-shadow(0px 1px 2px rgba(0, 0, 0, 0.3));\n",
              "      fill: #FFFFFF;\n",
              "    }\n",
              "  </style>\n",
              "\n",
              "    <script>\n",
              "      const buttonEl =\n",
              "        document.querySelector('#df-576c662f-1737-4b02-a22f-c1bc133bde2c button.colab-df-convert');\n",
              "      buttonEl.style.display =\n",
              "        google.colab.kernel.accessAllowed ? 'block' : 'none';\n",
              "\n",
              "      async function convertToInteractive(key) {\n",
              "        const element = document.querySelector('#df-576c662f-1737-4b02-a22f-c1bc133bde2c');\n",
              "        const dataTable =\n",
              "          await google.colab.kernel.invokeFunction('convertToInteractive',\n",
              "                                                    [key], {});\n",
              "        if (!dataTable) return;\n",
              "\n",
              "        const docLinkHtml = 'Like what you see? Visit the ' +\n",
              "          '<a target=\"_blank\" href=https://colab.research.google.com/notebooks/data_table.ipynb>data table notebook</a>'\n",
              "          + ' to learn more about interactive tables.';\n",
              "        element.innerHTML = '';\n",
              "        dataTable['output_type'] = 'display_data';\n",
              "        await google.colab.output.renderOutput(dataTable, element);\n",
              "        const docLink = document.createElement('div');\n",
              "        docLink.innerHTML = docLinkHtml;\n",
              "        element.appendChild(docLink);\n",
              "      }\n",
              "    </script>\n",
              "  </div>\n",
              "\n",
              "\n",
              "<div id=\"df-dd5b1054-b090-473e-b6c7-b6ca3db25816\">\n",
              "  <button class=\"colab-df-quickchart\" onclick=\"quickchart('df-dd5b1054-b090-473e-b6c7-b6ca3db25816')\"\n",
              "            title=\"Suggest charts\"\n",
              "            style=\"display:none;\">\n",
              "\n",
              "<svg xmlns=\"http://www.w3.org/2000/svg\" height=\"24px\"viewBox=\"0 0 24 24\"\n",
              "     width=\"24px\">\n",
              "    <g>\n",
              "        <path d=\"M19 3H5c-1.1 0-2 .9-2 2v14c0 1.1.9 2 2 2h14c1.1 0 2-.9 2-2V5c0-1.1-.9-2-2-2zM9 17H7v-7h2v7zm4 0h-2V7h2v10zm4 0h-2v-4h2v4z\"/>\n",
              "    </g>\n",
              "</svg>\n",
              "  </button>\n",
              "\n",
              "<style>\n",
              "  .colab-df-quickchart {\n",
              "      --bg-color: #E8F0FE;\n",
              "      --fill-color: #1967D2;\n",
              "      --hover-bg-color: #E2EBFA;\n",
              "      --hover-fill-color: #174EA6;\n",
              "      --disabled-fill-color: #AAA;\n",
              "      --disabled-bg-color: #DDD;\n",
              "  }\n",
              "\n",
              "  [theme=dark] .colab-df-quickchart {\n",
              "      --bg-color: #3B4455;\n",
              "      --fill-color: #D2E3FC;\n",
              "      --hover-bg-color: #434B5C;\n",
              "      --hover-fill-color: #FFFFFF;\n",
              "      --disabled-bg-color: #3B4455;\n",
              "      --disabled-fill-color: #666;\n",
              "  }\n",
              "\n",
              "  .colab-df-quickchart {\n",
              "    background-color: var(--bg-color);\n",
              "    border: none;\n",
              "    border-radius: 50%;\n",
              "    cursor: pointer;\n",
              "    display: none;\n",
              "    fill: var(--fill-color);\n",
              "    height: 32px;\n",
              "    padding: 0;\n",
              "    width: 32px;\n",
              "  }\n",
              "\n",
              "  .colab-df-quickchart:hover {\n",
              "    background-color: var(--hover-bg-color);\n",
              "    box-shadow: 0 1px 2px rgba(60, 64, 67, 0.3), 0 1px 3px 1px rgba(60, 64, 67, 0.15);\n",
              "    fill: var(--button-hover-fill-color);\n",
              "  }\n",
              "\n",
              "  .colab-df-quickchart-complete:disabled,\n",
              "  .colab-df-quickchart-complete:disabled:hover {\n",
              "    background-color: var(--disabled-bg-color);\n",
              "    fill: var(--disabled-fill-color);\n",
              "    box-shadow: none;\n",
              "  }\n",
              "\n",
              "  .colab-df-spinner {\n",
              "    border: 2px solid var(--fill-color);\n",
              "    border-color: transparent;\n",
              "    border-bottom-color: var(--fill-color);\n",
              "    animation:\n",
              "      spin 1s steps(1) infinite;\n",
              "  }\n",
              "\n",
              "  @keyframes spin {\n",
              "    0% {\n",
              "      border-color: transparent;\n",
              "      border-bottom-color: var(--fill-color);\n",
              "      border-left-color: var(--fill-color);\n",
              "    }\n",
              "    20% {\n",
              "      border-color: transparent;\n",
              "      border-left-color: var(--fill-color);\n",
              "      border-top-color: var(--fill-color);\n",
              "    }\n",
              "    30% {\n",
              "      border-color: transparent;\n",
              "      border-left-color: var(--fill-color);\n",
              "      border-top-color: var(--fill-color);\n",
              "      border-right-color: var(--fill-color);\n",
              "    }\n",
              "    40% {\n",
              "      border-color: transparent;\n",
              "      border-right-color: var(--fill-color);\n",
              "      border-top-color: var(--fill-color);\n",
              "    }\n",
              "    60% {\n",
              "      border-color: transparent;\n",
              "      border-right-color: var(--fill-color);\n",
              "    }\n",
              "    80% {\n",
              "      border-color: transparent;\n",
              "      border-right-color: var(--fill-color);\n",
              "      border-bottom-color: var(--fill-color);\n",
              "    }\n",
              "    90% {\n",
              "      border-color: transparent;\n",
              "      border-bottom-color: var(--fill-color);\n",
              "    }\n",
              "  }\n",
              "</style>\n",
              "\n",
              "  <script>\n",
              "    async function quickchart(key) {\n",
              "      const quickchartButtonEl =\n",
              "        document.querySelector('#' + key + ' button');\n",
              "      quickchartButtonEl.disabled = true;  // To prevent multiple clicks.\n",
              "      quickchartButtonEl.classList.add('colab-df-spinner');\n",
              "      try {\n",
              "        const charts = await google.colab.kernel.invokeFunction(\n",
              "            'suggestCharts', [key], {});\n",
              "      } catch (error) {\n",
              "        console.error('Error during call to suggestCharts:', error);\n",
              "      }\n",
              "      quickchartButtonEl.classList.remove('colab-df-spinner');\n",
              "      quickchartButtonEl.classList.add('colab-df-quickchart-complete');\n",
              "    }\n",
              "    (() => {\n",
              "      let quickchartButtonEl =\n",
              "        document.querySelector('#df-dd5b1054-b090-473e-b6c7-b6ca3db25816 button');\n",
              "      quickchartButtonEl.style.display =\n",
              "        google.colab.kernel.accessAllowed ? 'block' : 'none';\n",
              "    })();\n",
              "  </script>\n",
              "</div>\n",
              "    </div>\n",
              "  </div>\n"
            ],
            "application/vnd.google.colaboratory.intrinsic+json": {
              "type": "dataframe",
              "variable_name": "df_new"
            }
          },
          "metadata": {},
          "execution_count": 21
        }
      ]
    },
    {
      "cell_type": "code",
      "execution_count": 22,
      "metadata": {
        "ExecuteTime": {
          "end_time": "2023-12-05T18:06:02.347853Z",
          "start_time": "2023-12-05T18:06:02.339841Z"
        },
        "id": "wH8so922lk4l",
        "outputId": "c533be22-6770-4c5d-8617-dad4b51b4ddf",
        "colab": {
          "base_uri": "https://localhost:8080/",
          "height": 492
        }
      },
      "outputs": [
        {
          "output_type": "execute_result",
          "data": {
            "text/plain": [
              "InvoiceNo              object\n",
              "StockCode              object\n",
              "yearmonth           period[M]\n",
              "month                   int32\n",
              "day                     int32\n",
              "hour                    int32\n",
              "Description            object\n",
              "Quantity                int64\n",
              "InvoiceDate    datetime64[ns]\n",
              "UnitPrice             float64\n",
              "CustomerID             object\n",
              "Country                object\n",
              "amountspent           float64\n",
              "dtype: object"
            ],
            "text/html": [
              "<div>\n",
              "<style scoped>\n",
              "    .dataframe tbody tr th:only-of-type {\n",
              "        vertical-align: middle;\n",
              "    }\n",
              "\n",
              "    .dataframe tbody tr th {\n",
              "        vertical-align: top;\n",
              "    }\n",
              "\n",
              "    .dataframe thead th {\n",
              "        text-align: right;\n",
              "    }\n",
              "</style>\n",
              "<table border=\"1\" class=\"dataframe\">\n",
              "  <thead>\n",
              "    <tr style=\"text-align: right;\">\n",
              "      <th></th>\n",
              "      <th>0</th>\n",
              "    </tr>\n",
              "  </thead>\n",
              "  <tbody>\n",
              "    <tr>\n",
              "      <th>InvoiceNo</th>\n",
              "      <td>object</td>\n",
              "    </tr>\n",
              "    <tr>\n",
              "      <th>StockCode</th>\n",
              "      <td>object</td>\n",
              "    </tr>\n",
              "    <tr>\n",
              "      <th>yearmonth</th>\n",
              "      <td>period[M]</td>\n",
              "    </tr>\n",
              "    <tr>\n",
              "      <th>month</th>\n",
              "      <td>int32</td>\n",
              "    </tr>\n",
              "    <tr>\n",
              "      <th>day</th>\n",
              "      <td>int32</td>\n",
              "    </tr>\n",
              "    <tr>\n",
              "      <th>hour</th>\n",
              "      <td>int32</td>\n",
              "    </tr>\n",
              "    <tr>\n",
              "      <th>Description</th>\n",
              "      <td>object</td>\n",
              "    </tr>\n",
              "    <tr>\n",
              "      <th>Quantity</th>\n",
              "      <td>int64</td>\n",
              "    </tr>\n",
              "    <tr>\n",
              "      <th>InvoiceDate</th>\n",
              "      <td>datetime64[ns]</td>\n",
              "    </tr>\n",
              "    <tr>\n",
              "      <th>UnitPrice</th>\n",
              "      <td>float64</td>\n",
              "    </tr>\n",
              "    <tr>\n",
              "      <th>CustomerID</th>\n",
              "      <td>object</td>\n",
              "    </tr>\n",
              "    <tr>\n",
              "      <th>Country</th>\n",
              "      <td>object</td>\n",
              "    </tr>\n",
              "    <tr>\n",
              "      <th>amountspent</th>\n",
              "      <td>float64</td>\n",
              "    </tr>\n",
              "  </tbody>\n",
              "</table>\n",
              "</div><br><label><b>dtype:</b> object</label>"
            ]
          },
          "metadata": {},
          "execution_count": 22
        }
      ],
      "source": [
        "df_new.dtypes"
      ]
    },
    {
      "cell_type": "markdown",
      "metadata": {
        "id": "UikR6kY5lk4m"
      },
      "source": [
        "Очікуваний результат:"
      ]
    },
    {
      "cell_type": "markdown",
      "metadata": {
        "id": "aFbekPUClk4m"
      },
      "source": [
        "![](https://drive.google.com/uc?export=view&id=1Wn4tNmFOvqHk0VLpfwASKWiPpjJ5_Jgt)"
      ]
    },
    {
      "cell_type": "markdown",
      "source": [
        "![](https://drive.google.com/uc?export=view&id=1fYm7_uYhk14J51YkqJLtsQo_aqxz6jGZ)"
      ],
      "metadata": {
        "id": "k9yoeUjDn7ZS"
      }
    },
    {
      "cell_type": "markdown",
      "metadata": {
        "id": "kgNk7SFClk4m"
      },
      "source": [
        "# Базовий Exploratory Data Analysis (EDA)"
      ]
    },
    {
      "cell_type": "markdown",
      "metadata": {
        "ExecuteTime": {
          "end_time": "2023-03-02T10:16:59.344114Z",
          "start_time": "2023-03-02T10:16:59.323331Z"
        },
        "id": "H0hnOXFJlk4m"
      },
      "source": [
        "17.Побудуйте з допомогою методів візуалізації `pandas` датафрейму (ті що з категорії `df.plot()`) стовпчастий графік кількості унікальних продажів помісячно за весь наявний період в даних. Зробіть так, аби підписи дат були нахилені під кутом 45 градусів для зручнішого перегляду.\n",
        "Кількість унікальних продажів - це кількість унікальних інвойсів.\n",
        "\n",
        "Підказка: для візуалізації нам спочатку треба агреугувати дані помісячно."
      ]
    },
    {
      "cell_type": "code",
      "execution_count": 27,
      "metadata": {
        "id": "AAr91rqvlk4m",
        "outputId": "7679269a-5d61-4b48-f065-32bbf4cc4967",
        "colab": {
          "base_uri": "https://localhost:8080/",
          "height": 407
        }
      },
      "outputs": [
        {
          "output_type": "display_data",
          "data": {
            "text/plain": [
              "<Figure size 600x400 with 1 Axes>"
            ],
            "image/png": "[encoded data removed]"
          },
          "metadata": {}
        }
      ],
      "source": [
        "monthly_sales = df_new.groupby('yearmonth')['InvoiceNo'].nunique()\n",
        "\n",
        "ax = monthly_sales.plot(kind='bar', figsize=(6, 4))\n",
        "\n",
        "ax.set_xlabel('yearmonth')\n",
        "ax.set_xticklabels(ax.get_xticklabels(), rotation=45)\n",
        "plt.legend()\n",
        "plt.tight_layout()\n",
        "plt.show()"
      ]
    },
    {
      "cell_type": "markdown",
      "metadata": {
        "id": "5Y2RGYqIlk4n"
      },
      "source": [
        "Очікуваний результат:"
      ]
    },
    {
      "cell_type": "markdown",
      "metadata": {
        "id": "mbzqZLV1lk4n"
      },
      "source": [
        "![](https://drive.google.com/uc?export=view&id=1xbjqTCroVKLgdRxFGA9LG1T6Xx9eWlO1)"
      ]
    },
    {
      "cell_type": "markdown",
      "metadata": {
        "ExecuteTime": {
          "end_time": "2023-03-02T15:19:08.598551Z",
          "start_time": "2023-03-02T15:19:08.584763Z"
        },
        "id": "9lIgcxf9lk4n"
      },
      "source": [
        "18.Побудуйте стовпчастий графік кількості унікальних інвойсів для топ 10 клієнтів за цим показником."
      ]
    },
    {
      "cell_type": "code",
      "execution_count": 29,
      "metadata": {
        "id": "l1KlBgnHlk4n",
        "outputId": "cdd40f91-849e-4262-8a6c-7e21b9d8a357",
        "colab": {
          "base_uri": "https://localhost:8080/",
          "height": 407
        }
      },
      "outputs": [
        {
          "output_type": "display_data",
          "data": {
            "text/plain": [
              "<Figure size 600x400 with 1 Axes>"
            ],
            "image/png": "[encoded data removed]"
          },
          "metadata": {}
        }
      ],
      "source": [
        "customer_invoices = df_new.groupby('CustomerID')['InvoiceNo'].nunique()\n",
        "\n",
        "top_10_customers = customer_invoices.sort_values(ascending=False).head(10)\n",
        "\n",
        "ax = top_10_customers.plot(kind='bar', figsize=(6, 4))\n",
        "\n",
        "ax.set_xlabel('CustomerID')\n",
        "ax.set_xticklabels(ax.get_xticklabels(), rotation=0)\n",
        "plt.legend()\n",
        "plt.tight_layout()\n",
        "plt.show()"
      ]
    },
    {
      "cell_type": "markdown",
      "metadata": {
        "id": "rGL-T3UVlk4n"
      },
      "source": [
        "Очікуваний результат:"
      ]
    },
    {
      "cell_type": "markdown",
      "metadata": {
        "id": "sFSq2CGdlk4n"
      },
      "source": [
        "![](https://drive.google.com/uc?export=view&id=1zGhcVaPZBqcKj8YG_P-0pOzGVAV8cJNr)"
      ]
    },
    {
      "cell_type": "markdown",
      "metadata": {
        "id": "UUzE_3NNlk4o"
      },
      "source": [
        "19.Створіть новий датафрейм, що містить сумарний `amountspent` по кожному ідентифікатору клієнта."
      ]
    },
    {
      "cell_type": "code",
      "execution_count": 30,
      "metadata": {
        "id": "ITfMoIqLlk4o",
        "outputId": "cd0e664a-abea-4fb7-d7a4-dc98ce9a5570",
        "colab": {
          "base_uri": "https://localhost:8080/"
        }
      },
      "outputs": [
        {
          "output_type": "stream",
          "name": "stdout",
          "text": [
            "  CustomerID  TotalAmountSpent\n",
            "0      12346          77183.60\n",
            "1      12347           4310.00\n",
            "2      12348           1797.24\n",
            "3      12349           1757.55\n",
            "4      12350            334.40\n"
          ]
        }
      ],
      "source": [
        "customer_spent = df_new.groupby('CustomerID')['amountspent'].sum().reset_index()\n",
        "\n",
        "customer_spent.columns = ['CustomerID', 'TotalAmountSpent']\n",
        "\n",
        "print(customer_spent.head())"
      ]
    },
    {
      "cell_type": "markdown",
      "metadata": {
        "id": "9ez98MTJlk4o"
      },
      "source": [
        "20.Використовуючи датафрейм з попереднього пункту, виведіть, якими є 10, 25, 50, 75 і 90 персентилі сумарних витрат клієнтів за розглянутий період:"
      ]
    },
    {
      "cell_type": "code",
      "execution_count": 31,
      "metadata": {
        "id": "eW3sUvSJlk4p",
        "outputId": "0eacf550-cc19-493a-d32d-eeb8ef094c6d",
        "colab": {
          "base_uri": "https://localhost:8080/"
        }
      },
      "outputs": [
        {
          "output_type": "stream",
          "name": "stdout",
          "text": [
            "10th percentile: 156.57\n",
            "25th percentile: 307.25\n",
            "50th percentile: 674.45\n",
            "75th percentile: 1661.64\n",
            "90th percentile: 3646.16\n"
          ]
        }
      ],
      "source": [
        "percentiles = [10, 25, 50, 75, 90]\n",
        "percentile_values = customer_spent['TotalAmountSpent'].quantile([p / 100 for p in percentiles])\n",
        "\n",
        "for p, value in zip(percentiles, percentile_values):\n",
        "    print(f\"{p}th percentile: {value:.2f}\")"
      ]
    },
    {
      "cell_type": "markdown",
      "metadata": {
        "id": "iY8-dm59lk4p"
      },
      "source": [
        "Очікуваний результат:"
      ]
    },
    {
      "cell_type": "markdown",
      "metadata": {
        "id": "_Wn8qUwklk4p"
      },
      "source": [
        "![](https://drive.google.com/uc?export=view&id=16h2lsEwR3GooNkzH0JLfJHRk5oyG3ZqE)"
      ]
    },
    {
      "cell_type": "markdown",
      "metadata": {
        "id": "j0rOupX_lk4p"
      },
      "source": [
        "21.Скільки унікальних клієнтів мають сумарні витрати вищі, ніж 90-тий персентиль в попередньому завдані?"
      ]
    },
    {
      "cell_type": "code",
      "execution_count": 32,
      "metadata": {
        "id": "sMvkoQ63lk4q",
        "outputId": "eda024e8-c396-4aa4-9856-d63130467ade",
        "colab": {
          "base_uri": "https://localhost:8080/"
        }
      },
      "outputs": [
        {
          "output_type": "stream",
          "name": "stdout",
          "text": [
            "Кількість клієнтів із витратами більше ніж 90-й персентиль: 434\n"
          ]
        }
      ],
      "source": [
        "p90 = customer_spent['TotalAmountSpent'].quantile(0.9)\n",
        "\n",
        "customers_above_p90 = customer_spent[customer_spent['TotalAmountSpent'] > p90]\n",
        "\n",
        "num_customers_above_p90 = customers_above_p90.shape[0]\n",
        "\n",
        "print(f\"Кількість клієнтів із витратами більше ніж 90-й персентиль: {num_customers_above_p90}\")"
      ]
    },
    {
      "cell_type": "markdown",
      "metadata": {
        "id": "DUIHdwu-lk4q"
      },
      "source": [
        "22.Виведіть середню суму покупок в мережі по дням тижня. Дні тижня мають йти в звичному порядку Monday, Tuesday і т.д."
      ]
    },
    {
      "cell_type": "code",
      "execution_count": 33,
      "metadata": {
        "id": "ZztKwmBXlk4q",
        "outputId": "9c4b83d1-29f0-4a62-952d-634ffd9fcf0d",
        "colab": {
          "base_uri": "https://localhost:8080/"
        }
      },
      "outputs": [
        {
          "output_type": "stream",
          "name": "stdout",
          "text": [
            "day\n",
            "Monday      NaN\n",
            "Tuesday     NaN\n",
            "Wednesday   NaN\n",
            "Thursday    NaN\n",
            "Friday      NaN\n",
            "Saturday    NaN\n",
            "Sunday      NaN\n",
            "Name: amountspent, dtype: float64\n"
          ]
        }
      ],
      "source": [
        "avg_spent_by_day = (\n",
        "    df_new.groupby('day')['amountspent']\n",
        "    .mean()\n",
        "    .reindex(['Monday', 'Tuesday', 'Wednesday', 'Thursday', 'Friday', 'Saturday', 'Sunday'])\n",
        ")\n",
        "\n",
        "print(avg_spent_by_day)"
      ]
    },
    {
      "cell_type": "markdown",
      "metadata": {
        "id": "gWlWanoWlk4q"
      },
      "source": [
        "## Дослідимо продажі на суму 0 умовних одиниць"
      ]
    },
    {
      "cell_type": "markdown",
      "metadata": {
        "id": "rOM2dMB2lk4q"
      },
      "source": [
        "23.Можна було помітити вище, що в нас є продажі на суму 0. Дослідимо їх. Створіть новий датафрейм з тільки такими продажами."
      ]
    },
    {
      "cell_type": "code",
      "execution_count": 34,
      "metadata": {
        "id": "yIYVLRmylk4r",
        "outputId": "e9108b32-cddf-4576-9aff-7413abd4ce73",
        "colab": {
          "base_uri": "https://localhost:8080/"
        }
      },
      "outputs": [
        {
          "output_type": "stream",
          "name": "stdout",
          "text": [
            "Кількість продажів із сумою 0: 40\n",
            "      InvoiceNo StockCode yearmonth  month  day  hour  \\\n",
            "9302     537197     22841   2010-12     12    7    14   \n",
            "33576    539263     22580   2010-12     12    4    14   \n",
            "40089    539722     22423   2010-12     12    2    13   \n",
            "47068    540372     22090   2011-01      1    4    16   \n",
            "47070    540372     22553   2011-01      1    4    16   \n",
            "\n",
            "                        Description  Quantity         InvoiceDate  UnitPrice  \\\n",
            "9302   ROUND CAKE TIN VINTAGE GREEN         1 2010-12-05 14:02:00        0.0   \n",
            "33576  ADVENT CALENDAR GINGHAM SACK         4 2010-12-16 14:36:00        0.0   \n",
            "40089      REGENCY CAKESTAND 3 TIER        10 2010-12-21 13:45:00        0.0   \n",
            "47068       PAPER BUNTING RETROSPOT        24 2011-01-06 16:41:00        0.0   \n",
            "47070        PLASTERS IN TIN SKULLS        24 2011-01-06 16:41:00        0.0   \n",
            "\n",
            "      CustomerID         Country  amountspent  \n",
            "9302       12647         Germany          0.0  \n",
            "33576      16560  United Kingdom          0.0  \n",
            "40089      14911            EIRE          0.0  \n",
            "47068      13081  United Kingdom          0.0  \n",
            "47070      13081  United Kingdom          0.0  \n"
          ]
        }
      ],
      "source": [
        "df_zero_sales = df_new[df_new['amountspent'] == 0]\n",
        "\n",
        "print(f\"Кількість продажів із сумою 0: {df_zero_sales.shape[0]}\")\n",
        "print(df_zero_sales.head())"
      ]
    },
    {
      "cell_type": "markdown",
      "metadata": {
        "id": "5ifdgVp4lk4r"
      },
      "source": [
        "### Динаміка продажів на суму 0"
      ]
    },
    {
      "cell_type": "markdown",
      "metadata": {
        "id": "KSKaDnbklk4r"
      },
      "source": [
        "24.Зобразіть у вигляді стовпчастої діаграми помісячну динаміку продажів на суму 0."
      ]
    },
    {
      "cell_type": "code",
      "execution_count": 37,
      "metadata": {
        "id": "mPJEdJ1Ulk4r",
        "outputId": "4739d774-bf18-4f76-ac8c-7365a2940070",
        "colab": {
          "base_uri": "https://localhost:8080/",
          "height": 407
        }
      },
      "outputs": [
        {
          "output_type": "display_data",
          "data": {
            "text/plain": [
              "<Figure size 600x400 with 1 Axes>"
            ],
            "image/png": "[encoded data removed]"
          },
          "metadata": {}
        }
      ],
      "source": [
        "zero_sales_monthly = (\n",
        "    df_zero_sales.groupby('yearmonth')\n",
        "    .size()\n",
        "    .reset_index(name='zero_sales_count')\n",
        ")\n",
        "\n",
        "plt.figure(figsize=(6, 4))\n",
        "plt.bar(zero_sales_monthly['yearmonth'].astype(str), zero_sales_monthly['zero_sales_count'])\n",
        "plt.xlabel('month', fontsize=12)\n",
        "plt.ylabel('Frequency', fontsize=12)\n",
        "plt.title('Frequency for diffrent mounth DEC 2010-DEC 2011', fontsize=14)\n",
        "plt.xticks(rotation=45)\n",
        "plt.tight_layout()\n",
        "plt.show()"
      ]
    },
    {
      "cell_type": "markdown",
      "metadata": {
        "id": "f9n3B1O3lk4r"
      },
      "source": [
        "Очікуваний результат:"
      ]
    },
    {
      "cell_type": "markdown",
      "metadata": {
        "id": "ZnAxdo5Blk4r"
      },
      "source": [
        "![](https://drive.google.com/uc?export=view&id=1RfpdWGqkOmwZ6RVUqQz-U-q3qkml5g88)"
      ]
    },
    {
      "cell_type": "markdown",
      "metadata": {
        "ExecuteTime": {
          "end_time": "2023-03-02T15:42:10.415462Z",
          "start_time": "2023-03-02T15:42:10.407147Z"
        },
        "id": "UBbs7r_ylk4s"
      },
      "source": [
        "25.Згрупуйте дані за країнами та підрахуйте кількість унікальних інвойсів з сумою 0 для кожної країни. Виведіть у вигляді датафрейму."
      ]
    },
    {
      "cell_type": "code",
      "execution_count": 39,
      "metadata": {
        "id": "CReBvdlklk4s",
        "outputId": "4efa2f01-2ca4-47a5-f5ed-38b8aeb16f06",
        "colab": {
          "base_uri": "https://localhost:8080/"
        }
      },
      "outputs": [
        {
          "output_type": "stream",
          "name": "stdout",
          "text": [
            "          Country  unique_zero_invoices_count\n",
            "9  United Kingdom                          21\n",
            "0       Australia                           3\n",
            "1            EIRE                           2\n",
            "3         Germany                           2\n",
            "2          France                           1\n",
            "4     Netherlands                           1\n",
            "5          Norway                           1\n",
            "6             RSA                           1\n",
            "7           Spain                           1\n",
            "8     Switzerland                           1\n"
          ]
        }
      ],
      "source": [
        "zero_invoices_by_country = (\n",
        "    df_zero_sales.groupby('Country')['InvoiceNo']\n",
        "    .nunique()\n",
        "    .reset_index(name='unique_zero_invoices_count')\n",
        "    .sort_values(by='unique_zero_invoices_count', ascending=False)\n",
        ")\n",
        "\n",
        "print(zero_invoices_by_country)"
      ]
    },
    {
      "cell_type": "markdown",
      "metadata": {
        "id": "mMrXc3Yalk4s"
      },
      "source": [
        "Очікуваний результат:"
      ]
    },
    {
      "cell_type": "markdown",
      "metadata": {
        "id": "-RaU-l0Plk4s"
      },
      "source": [
        "![](https://drive.google.com/uc?export=view&id=1N9rcWby_Umc31Q7e-1p2bCb1nCpzadoz)"
      ]
    },
    {
      "cell_type": "markdown",
      "metadata": {
        "id": "LSLjAhrmlk4w"
      },
      "source": [
        "Велике питання, чого магазин так багато порівняно роздавав безкоштовних товарів в UK, але така політика фірми :)"
      ]
    },
    {
      "cell_type": "markdown",
      "metadata": {
        "id": "h9S7eZr5lk4x"
      },
      "source": [
        "Якщо у вас ще є натхнення, пропоную задати до цих даних ще 3 своїх питання."
      ]
    },
    {
      "cell_type": "code",
      "execution_count": null,
      "metadata": {
        "id": "TsabDDfilk4x"
      },
      "outputs": [],
      "source": []
    }
  ],
  "metadata": {
    "kernelspec": {
      "display_name": "Python 3 (ipykernel)",
      "language": "python",
      "name": "python3"
    },
    "language_info": {
      "codemirror_mode": {
        "name": "ipython",
        "version": 3
      },
      "file_extension": ".py",
      "mimetype": "text/x-python",
      "name": "python",
      "nbconvert_exporter": "python",
      "pygments_lexer": "ipython3",
      "version": "3.10.4"
    },
    "toc": {
      "base_numbering": 1,
      "nav_menu": {},
      "number_sections": true,
      "sideBar": true,
      "skip_h1_title": false,
      "title_cell": "Table of Contents",
      "title_sidebar": "Contents",
      "toc_cell": false,
      "toc_position": {},
      "toc_section_display": true,
      "toc_window_display": true
    },
    "colab": {
      "provenance": [],
      "include_colab_link": true
    }
  },
  "nbformat": 4,
  "nbformat_minor": 0
}