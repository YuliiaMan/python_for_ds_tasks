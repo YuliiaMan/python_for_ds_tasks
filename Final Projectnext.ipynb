{
  "nbformat": 4,
  "nbformat_minor": 0,
  "metadata": {
    "colab": {
      "provenance": [],
      "mount_file_id": "1KE38I5X6opSoI1FwsWcrOgmH5KIx0aWq",
      "authorship_tag": "ABX9TyNqv8qq90ibC0tPRKafSZo4",
      "include_colab_link": true
    },
    "kernelspec": {
      "name": "python3",
      "display_name": "Python 3"
    },
    "language_info": {
      "name": "python"
    }
  },
  "cells": [
    {
      "cell_type": "markdown",
      "metadata": {
        "id": "view-in-github",
        "colab_type": "text"
      },
      "source": [
        "<a href=\"https://colab.research.google.com/github/YuliiaMan/python_for_ds_tasks/blob/main/Final%20Projectnext.ipynb\" target=\"_parent\"><img src=\"https://colab.research.google.com/assets/colab-badge.svg\" alt=\"Open In Colab\"/></a>"
      ]
    },
    {
      "cell_type": "markdown",
      "source": [
        "**ФІНАЛЬНИЙ ПРОЕКТ** (**Аналіз даних про продаж італійського бістро**)"
      ],
      "metadata": {
        "id": "8QvlnJ34x3bI"
      }
    },
    {
      "cell_type": "markdown",
      "source": [
        "**Завантаження бібліотек**"
      ],
      "metadata": {
        "id": "5tJZIuQoyNIR"
      }
    },
    {
      "cell_type": "code",
      "source": [
        "import pandas as pd\n",
        "import numpy as np\n",
        "from matplotlib import pyplot as plt\n",
        "import seaborn as sns\n",
        "import warnings"
      ],
      "metadata": {
        "id": "uBErZRN0i-GS"
      },
      "execution_count": 1,
      "outputs": []
    },
    {
      "cell_type": "markdown",
      "source": [
        "**Встановлення бібліотеки, яка потрібна для роботи з Excel файлами з pandas**"
      ],
      "metadata": {
        "id": "DcrXQM9Wot0c"
      }
    },
    {
      "cell_type": "code",
      "source": [
        "!pip install openpyxl"
      ],
      "metadata": {
        "colab": {
          "base_uri": "https://localhost:8080/"
        },
        "id": "3I4-vcrFfLLe",
        "outputId": "53ce97e0-ff65-48af-a5dd-f59db8b7b219"
      },
      "execution_count": 2,
      "outputs": [
        {
          "output_type": "stream",
          "name": "stdout",
          "text": [
            "Requirement already satisfied: openpyxl in /usr/local/lib/python3.11/dist-packages (3.1.5)\n",
            "Requirement already satisfied: et-xmlfile in /usr/local/lib/python3.11/dist-packages (from openpyxl) (2.0.0)\n"
          ]
        }
      ]
    },
    {
      "cell_type": "markdown",
      "source": [
        "**Шлях до даних, які записані до змінної df**"
      ],
      "metadata": {
        "id": "TF5B6qpKpeKN"
      }
    },
    {
      "cell_type": "code",
      "source": [
        "from google.colab import drive\n",
        "drive.mount('/content/drive')"
      ],
      "metadata": {
        "colab": {
          "base_uri": "https://localhost:8080/"
        },
        "id": "A9wmktQ0fLHi",
        "outputId": "1e809478-b3e9-44b8-c3b2-da80e98eb410"
      },
      "execution_count": 3,
      "outputs": [
        {
          "output_type": "stream",
          "name": "stdout",
          "text": [
            "Drive already mounted at /content/drive; to attempt to forcibly remount, call drive.mount(\"/content/drive\", force_remount=True).\n"
          ]
        }
      ]
    },
    {
      "cell_type": "code",
      "source": [
        "data_path = '/content/drive/MyDrive/Home tasks/large_italian_restaurant_sales.xlsx'\n",
        "df = pd.read_excel(data_path)"
      ],
      "metadata": {
        "id": "2NY7fVKffLBz"
      },
      "execution_count": 4,
      "outputs": []
    },
    {
      "cell_type": "markdown",
      "source": [
        "**0. Аналіз даних перед початком роботи**"
      ],
      "metadata": {
        "id": "rzwww96BhTyX"
      }
    },
    {
      "cell_type": "markdown",
      "source": [
        "\n",
        "\n",
        "*   **Розмір даних**\n",
        "\n",
        "\n"
      ],
      "metadata": {
        "id": "ylAo3pIkhzuy"
      }
    },
    {
      "cell_type": "code",
      "source": [
        "df.shape"
      ],
      "metadata": {
        "colab": {
          "base_uri": "https://localhost:8080/"
        },
        "id": "GvXDHXSUfKzK",
        "outputId": "c3080a3e-e004-4ffd-ef86-e3da427627b9"
      },
      "execution_count": 54,
      "outputs": [
        {
          "output_type": "execute_result",
          "data": {
            "text/plain": [
              "(10000, 9)"
            ]
          },
          "metadata": {},
          "execution_count": 54
        }
      ]
    },
    {
      "cell_type": "markdown",
      "source": [
        "\n",
        "\n",
        "*   **Перегляд набору даних**\n",
        "\n",
        "\n"
      ],
      "metadata": {
        "id": "Pi_NWxYwiIuF"
      }
    },
    {
      "cell_type": "code",
      "source": [
        "df"
      ],
      "metadata": {
        "colab": {
          "base_uri": "https://localhost:8080/",
          "height": 424
        },
        "id": "fKkDQ1lofKUi",
        "outputId": "08e911b6-4f12-47ea-a318-4c92d723c27f"
      },
      "execution_count": 70,
      "outputs": [
        {
          "output_type": "execute_result",
          "data": {
            "text/plain": [
              "           Date      Time         Menu Item     Category  Quantity  \\\n",
              "0    2024-11-23  03:48 AM  Margherita Pizza  Main Course         3   \n",
              "1    2024-03-12  03:29 AM     Caprese Salad    Appetizer         1   \n",
              "2    2024-01-17  01:01 AM          Tiramisu      Dessert         2   \n",
              "3    2024-11-04  12:54 AM     Caprese Salad    Appetizer         2   \n",
              "4    2024-12-25  06:36 PM            Gelato      Dessert         2   \n",
              "...         ...       ...               ...          ...       ...   \n",
              "9995 2024-04-27  08:00 AM            Gelato      Dessert         1   \n",
              "9996 2024-01-08  07:52 PM       Panna Cotta      Dessert         5   \n",
              "9997 2024-10-29  03:21 AM           Lasagna  Main Course         1   \n",
              "9998 2024-11-08  11:18 PM     Caprese Salad    Appetizer         1   \n",
              "9999 2024-11-15  03:25 PM          Tiramisu      Dessert         5   \n",
              "\n",
              "      Price (per item)  Revenue  Payment Method Customer Type  Month  \n",
              "0                 10.0     30.0     Credit Card       Dine-In     11  \n",
              "1                  8.0      8.0  Mobile Payment      Takeaway      3  \n",
              "2                  6.5     13.0     Credit Card      Delivery      1  \n",
              "3                  8.0     16.0  Mobile Payment      Delivery     11  \n",
              "4                  4.5      9.0            Cash      Delivery     12  \n",
              "...                ...      ...             ...           ...    ...  \n",
              "9995               4.5      4.5     Credit Card      Delivery      4  \n",
              "9996               5.5     27.5     Credit Card       Dine-In      1  \n",
              "9997              11.5     11.5     Credit Card      Delivery     10  \n",
              "9998               8.0      8.0     Credit Card      Delivery     11  \n",
              "9999               6.5     32.5     Credit Card      Delivery     11  \n",
              "\n",
              "[10000 rows x 10 columns]"
            ],
            "text/html": [
              "\n",
              "  <div id=\"df-291a8f7e-e1dd-497c-b2d7-d04078cfc262\" class=\"colab-df-container\">\n",
              "    <div>\n",
              "<style scoped>\n",
              "    .dataframe tbody tr th:only-of-type {\n",
              "        vertical-align: middle;\n",
              "    }\n",
              "\n",
              "    .dataframe tbody tr th {\n",
              "        vertical-align: top;\n",
              "    }\n",
              "\n",
              "    .dataframe thead th {\n",
              "        text-align: right;\n",
              "    }\n",
              "</style>\n",
              "<table border=\"1\" class=\"dataframe\">\n",
              "  <thead>\n",
              "    <tr style=\"text-align: right;\">\n",
              "      <th></th>\n",
              "      <th>Date</th>\n",
              "      <th>Time</th>\n",
              "      <th>Menu Item</th>\n",
              "      <th>Category</th>\n",
              "      <th>Quantity</th>\n",
              "      <th>Price (per item)</th>\n",
              "      <th>Revenue</th>\n",
              "      <th>Payment Method</th>\n",
              "      <th>Customer Type</th>\n",
              "      <th>Month</th>\n",
              "    </tr>\n",
              "  </thead>\n",
              "  <tbody>\n",
              "    <tr>\n",
              "      <th>0</th>\n",
              "      <td>2024-11-23</td>\n",
              "      <td>03:48 AM</td>\n",
              "      <td>Margherita Pizza</td>\n",
              "      <td>Main Course</td>\n",
              "      <td>3</td>\n",
              "      <td>10.0</td>\n",
              "      <td>30.0</td>\n",
              "      <td>Credit Card</td>\n",
              "      <td>Dine-In</td>\n",
              "      <td>11</td>\n",
              "    </tr>\n",
              "    <tr>\n",
              "      <th>1</th>\n",
              "      <td>2024-03-12</td>\n",
              "      <td>03:29 AM</td>\n",
              "      <td>Caprese Salad</td>\n",
              "      <td>Appetizer</td>\n",
              "      <td>1</td>\n",
              "      <td>8.0</td>\n",
              "      <td>8.0</td>\n",
              "      <td>Mobile Payment</td>\n",
              "      <td>Takeaway</td>\n",
              "      <td>3</td>\n",
              "    </tr>\n",
              "    <tr>\n",
              "      <th>2</th>\n",
              "      <td>2024-01-17</td>\n",
              "      <td>01:01 AM</td>\n",
              "      <td>Tiramisu</td>\n",
              "      <td>Dessert</td>\n",
              "      <td>2</td>\n",
              "      <td>6.5</td>\n",
              "      <td>13.0</td>\n",
              "      <td>Credit Card</td>\n",
              "      <td>Delivery</td>\n",
              "      <td>1</td>\n",
              "    </tr>\n",
              "    <tr>\n",
              "      <th>3</th>\n",
              "      <td>2024-11-04</td>\n",
              "      <td>12:54 AM</td>\n",
              "      <td>Caprese Salad</td>\n",
              "      <td>Appetizer</td>\n",
              "      <td>2</td>\n",
              "      <td>8.0</td>\n",
              "      <td>16.0</td>\n",
              "      <td>Mobile Payment</td>\n",
              "      <td>Delivery</td>\n",
              "      <td>11</td>\n",
              "    </tr>\n",
              "    <tr>\n",
              "      <th>4</th>\n",
              "      <td>2024-12-25</td>\n",
              "      <td>06:36 PM</td>\n",
              "      <td>Gelato</td>\n",
              "      <td>Dessert</td>\n",
              "      <td>2</td>\n",
              "      <td>4.5</td>\n",
              "      <td>9.0</td>\n",
              "      <td>Cash</td>\n",
              "      <td>Delivery</td>\n",
              "      <td>12</td>\n",
              "    </tr>\n",
              "    <tr>\n",
              "      <th>...</th>\n",
              "      <td>...</td>\n",
              "      <td>...</td>\n",
              "      <td>...</td>\n",
              "      <td>...</td>\n",
              "      <td>...</td>\n",
              "      <td>...</td>\n",
              "      <td>...</td>\n",
              "      <td>...</td>\n",
              "      <td>...</td>\n",
              "      <td>...</td>\n",
              "    </tr>\n",
              "    <tr>\n",
              "      <th>9995</th>\n",
              "      <td>2024-04-27</td>\n",
              "      <td>08:00 AM</td>\n",
              "      <td>Gelato</td>\n",
              "      <td>Dessert</td>\n",
              "      <td>1</td>\n",
              "      <td>4.5</td>\n",
              "      <td>4.5</td>\n",
              "      <td>Credit Card</td>\n",
              "      <td>Delivery</td>\n",
              "      <td>4</td>\n",
              "    </tr>\n",
              "    <tr>\n",
              "      <th>9996</th>\n",
              "      <td>2024-01-08</td>\n",
              "      <td>07:52 PM</td>\n",
              "      <td>Panna Cotta</td>\n",
              "      <td>Dessert</td>\n",
              "      <td>5</td>\n",
              "      <td>5.5</td>\n",
              "      <td>27.5</td>\n",
              "      <td>Credit Card</td>\n",
              "      <td>Dine-In</td>\n",
              "      <td>1</td>\n",
              "    </tr>\n",
              "    <tr>\n",
              "      <th>9997</th>\n",
              "      <td>2024-10-29</td>\n",
              "      <td>03:21 AM</td>\n",
              "      <td>Lasagna</td>\n",
              "      <td>Main Course</td>\n",
              "      <td>1</td>\n",
              "      <td>11.5</td>\n",
              "      <td>11.5</td>\n",
              "      <td>Credit Card</td>\n",
              "      <td>Delivery</td>\n",
              "      <td>10</td>\n",
              "    </tr>\n",
              "    <tr>\n",
              "      <th>9998</th>\n",
              "      <td>2024-11-08</td>\n",
              "      <td>11:18 PM</td>\n",
              "      <td>Caprese Salad</td>\n",
              "      <td>Appetizer</td>\n",
              "      <td>1</td>\n",
              "      <td>8.0</td>\n",
              "      <td>8.0</td>\n",
              "      <td>Credit Card</td>\n",
              "      <td>Delivery</td>\n",
              "      <td>11</td>\n",
              "    </tr>\n",
              "    <tr>\n",
              "      <th>9999</th>\n",
              "      <td>2024-11-15</td>\n",
              "      <td>03:25 PM</td>\n",
              "      <td>Tiramisu</td>\n",
              "      <td>Dessert</td>\n",
              "      <td>5</td>\n",
              "      <td>6.5</td>\n",
              "      <td>32.5</td>\n",
              "      <td>Credit Card</td>\n",
              "      <td>Delivery</td>\n",
              "      <td>11</td>\n",
              "    </tr>\n",
              "  </tbody>\n",
              "</table>\n",
              "<p>10000 rows × 10 columns</p>\n",
              "</div>\n",
              "    <div class=\"colab-df-buttons\">\n",
              "\n",
              "  <div class=\"colab-df-container\">\n",
              "    <button class=\"colab-df-convert\" onclick=\"convertToInteractive('df-291a8f7e-e1dd-497c-b2d7-d04078cfc262')\"\n",
              "            title=\"Convert this dataframe to an interactive table.\"\n",
              "            style=\"display:none;\">\n",
              "\n",
              "  <svg xmlns=\"http://www.w3.org/2000/svg\" height=\"24px\" viewBox=\"0 -960 960 960\">\n",
              "    <path d=\"M120-120v-720h720v720H120Zm60-500h600v-160H180v160Zm220 220h160v-160H400v160Zm0 220h160v-160H400v160ZM180-400h160v-160H180v160Zm440 0h160v-160H620v160ZM180-180h160v-160H180v160Zm440 0h160v-160H620v160Z\"/>\n",
              "  </svg>\n",
              "    </button>\n",
              "\n",
              "  <style>\n",
              "    .colab-df-container {\n",
              "      display:flex;\n",
              "      gap: 12px;\n",
              "    }\n",
              "\n",
              "    .colab-df-convert {\n",
              "      background-color: #E8F0FE;\n",
              "      border: none;\n",
              "      border-radius: 50%;\n",
              "      cursor: pointer;\n",
              "      display: none;\n",
              "      fill: #1967D2;\n",
              "      height: 32px;\n",
              "      padding: 0 0 0 0;\n",
              "      width: 32px;\n",
              "    }\n",
              "\n",
              "    .colab-df-convert:hover {\n",
              "      background-color: #E2EBFA;\n",
              "      box-shadow: 0px 1px 2px rgba(60, 64, 67, 0.3), 0px 1px 3px 1px rgba(60, 64, 67, 0.15);\n",
              "      fill: #174EA6;\n",
              "    }\n",
              "\n",
              "    .colab-df-buttons div {\n",
              "      margin-bottom: 4px;\n",
              "    }\n",
              "\n",
              "    [theme=dark] .colab-df-convert {\n",
              "      background-color: #3B4455;\n",
              "      fill: #D2E3FC;\n",
              "    }\n",
              "\n",
              "    [theme=dark] .colab-df-convert:hover {\n",
              "      background-color: #434B5C;\n",
              "      box-shadow: 0px 1px 3px 1px rgba(0, 0, 0, 0.15);\n",
              "      filter: drop-shadow(0px 1px 2px rgba(0, 0, 0, 0.3));\n",
              "      fill: #FFFFFF;\n",
              "    }\n",
              "  </style>\n",
              "\n",
              "    <script>\n",
              "      const buttonEl =\n",
              "        document.querySelector('#df-291a8f7e-e1dd-497c-b2d7-d04078cfc262 button.colab-df-convert');\n",
              "      buttonEl.style.display =\n",
              "        google.colab.kernel.accessAllowed ? 'block' : 'none';\n",
              "\n",
              "      async function convertToInteractive(key) {\n",
              "        const element = document.querySelector('#df-291a8f7e-e1dd-497c-b2d7-d04078cfc262');\n",
              "        const dataTable =\n",
              "          await google.colab.kernel.invokeFunction('convertToInteractive',\n",
              "                                                    [key], {});\n",
              "        if (!dataTable) return;\n",
              "\n",
              "        const docLinkHtml = 'Like what you see? Visit the ' +\n",
              "          '<a target=\"_blank\" href=https://colab.research.google.com/notebooks/data_table.ipynb>data table notebook</a>'\n",
              "          + ' to learn more about interactive tables.';\n",
              "        element.innerHTML = '';\n",
              "        dataTable['output_type'] = 'display_data';\n",
              "        await google.colab.output.renderOutput(dataTable, element);\n",
              "        const docLink = document.createElement('div');\n",
              "        docLink.innerHTML = docLinkHtml;\n",
              "        element.appendChild(docLink);\n",
              "      }\n",
              "    </script>\n",
              "  </div>\n",
              "\n",
              "\n",
              "<div id=\"df-a4686b8f-61a1-4912-8824-5d5847dc274a\">\n",
              "  <button class=\"colab-df-quickchart\" onclick=\"quickchart('df-a4686b8f-61a1-4912-8824-5d5847dc274a')\"\n",
              "            title=\"Suggest charts\"\n",
              "            style=\"display:none;\">\n",
              "\n",
              "<svg xmlns=\"http://www.w3.org/2000/svg\" height=\"24px\"viewBox=\"0 0 24 24\"\n",
              "     width=\"24px\">\n",
              "    <g>\n",
              "        <path d=\"M19 3H5c-1.1 0-2 .9-2 2v14c0 1.1.9 2 2 2h14c1.1 0 2-.9 2-2V5c0-1.1-.9-2-2-2zM9 17H7v-7h2v7zm4 0h-2V7h2v10zm4 0h-2v-4h2v4z\"/>\n",
              "    </g>\n",
              "</svg>\n",
              "  </button>\n",
              "\n",
              "<style>\n",
              "  .colab-df-quickchart {\n",
              "      --bg-color: #E8F0FE;\n",
              "      --fill-color: #1967D2;\n",
              "      --hover-bg-color: #E2EBFA;\n",
              "      --hover-fill-color: #174EA6;\n",
              "      --disabled-fill-color: #AAA;\n",
              "      --disabled-bg-color: #DDD;\n",
              "  }\n",
              "\n",
              "  [theme=dark] .colab-df-quickchart {\n",
              "      --bg-color: #3B4455;\n",
              "      --fill-color: #D2E3FC;\n",
              "      --hover-bg-color: #434B5C;\n",
              "      --hover-fill-color: #FFFFFF;\n",
              "      --disabled-bg-color: #3B4455;\n",
              "      --disabled-fill-color: #666;\n",
              "  }\n",
              "\n",
              "  .colab-df-quickchart {\n",
              "    background-color: var(--bg-color);\n",
              "    border: none;\n",
              "    border-radius: 50%;\n",
              "    cursor: pointer;\n",
              "    display: none;\n",
              "    fill: var(--fill-color);\n",
              "    height: 32px;\n",
              "    padding: 0;\n",
              "    width: 32px;\n",
              "  }\n",
              "\n",
              "  .colab-df-quickchart:hover {\n",
              "    background-color: var(--hover-bg-color);\n",
              "    box-shadow: 0 1px 2px rgba(60, 64, 67, 0.3), 0 1px 3px 1px rgba(60, 64, 67, 0.15);\n",
              "    fill: var(--button-hover-fill-color);\n",
              "  }\n",
              "\n",
              "  .colab-df-quickchart-complete:disabled,\n",
              "  .colab-df-quickchart-complete:disabled:hover {\n",
              "    background-color: var(--disabled-bg-color);\n",
              "    fill: var(--disabled-fill-color);\n",
              "    box-shadow: none;\n",
              "  }\n",
              "\n",
              "  .colab-df-spinner {\n",
              "    border: 2px solid var(--fill-color);\n",
              "    border-color: transparent;\n",
              "    border-bottom-color: var(--fill-color);\n",
              "    animation:\n",
              "      spin 1s steps(1) infinite;\n",
              "  }\n",
              "\n",
              "  @keyframes spin {\n",
              "    0% {\n",
              "      border-color: transparent;\n",
              "      border-bottom-color: var(--fill-color);\n",
              "      border-left-color: var(--fill-color);\n",
              "    }\n",
              "    20% {\n",
              "      border-color: transparent;\n",
              "      border-left-color: var(--fill-color);\n",
              "      border-top-color: var(--fill-color);\n",
              "    }\n",
              "    30% {\n",
              "      border-color: transparent;\n",
              "      border-left-color: var(--fill-color);\n",
              "      border-top-color: var(--fill-color);\n",
              "      border-right-color: var(--fill-color);\n",
              "    }\n",
              "    40% {\n",
              "      border-color: transparent;\n",
              "      border-right-color: var(--fill-color);\n",
              "      border-top-color: var(--fill-color);\n",
              "    }\n",
              "    60% {\n",
              "      border-color: transparent;\n",
              "      border-right-color: var(--fill-color);\n",
              "    }\n",
              "    80% {\n",
              "      border-color: transparent;\n",
              "      border-right-color: var(--fill-color);\n",
              "      border-bottom-color: var(--fill-color);\n",
              "    }\n",
              "    90% {\n",
              "      border-color: transparent;\n",
              "      border-bottom-color: var(--fill-color);\n",
              "    }\n",
              "  }\n",
              "</style>\n",
              "\n",
              "  <script>\n",
              "    async function quickchart(key) {\n",
              "      const quickchartButtonEl =\n",
              "        document.querySelector('#' + key + ' button');\n",
              "      quickchartButtonEl.disabled = true;  // To prevent multiple clicks.\n",
              "      quickchartButtonEl.classList.add('colab-df-spinner');\n",
              "      try {\n",
              "        const charts = await google.colab.kernel.invokeFunction(\n",
              "            'suggestCharts', [key], {});\n",
              "      } catch (error) {\n",
              "        console.error('Error during call to suggestCharts:', error);\n",
              "      }\n",
              "      quickchartButtonEl.classList.remove('colab-df-spinner');\n",
              "      quickchartButtonEl.classList.add('colab-df-quickchart-complete');\n",
              "    }\n",
              "    (() => {\n",
              "      let quickchartButtonEl =\n",
              "        document.querySelector('#df-a4686b8f-61a1-4912-8824-5d5847dc274a button');\n",
              "      quickchartButtonEl.style.display =\n",
              "        google.colab.kernel.accessAllowed ? 'block' : 'none';\n",
              "    })();\n",
              "  </script>\n",
              "</div>\n",
              "    </div>\n",
              "  </div>\n"
            ],
            "application/vnd.google.colaboratory.intrinsic+json": {
              "type": "dataframe",
              "variable_name": "df",
              "summary": "{\n  \"name\": \"df\",\n  \"rows\": 10000,\n  \"fields\": [\n    {\n      \"column\": \"Date\",\n      \"properties\": {\n        \"dtype\": \"date\",\n        \"min\": \"2024-01-01 00:00:00\",\n        \"max\": \"2024-12-30 00:00:00\",\n        \"num_unique_values\": 365,\n        \"samples\": [\n          \"2024-03-15 00:00:00\",\n          \"2024-07-23 00:00:00\",\n          \"2024-01-29 00:00:00\"\n        ],\n        \"semantic_type\": \"\",\n        \"description\": \"\"\n      }\n    },\n    {\n      \"column\": \"Time\",\n      \"properties\": {\n        \"dtype\": \"object\",\n        \"num_unique_values\": 1438,\n        \"samples\": [\n          \"06:07 PM\",\n          \"02:08 AM\",\n          \"01:19 PM\"\n        ],\n        \"semantic_type\": \"\",\n        \"description\": \"\"\n      }\n    },\n    {\n      \"column\": \"Menu Item\",\n      \"properties\": {\n        \"dtype\": \"category\",\n        \"num_unique_values\": 10,\n        \"samples\": [\n          \"Lasagna\",\n          \"Caprese Salad\",\n          \"Fettuccine Alfredo\"\n        ],\n        \"semantic_type\": \"\",\n        \"description\": \"\"\n      }\n    },\n    {\n      \"column\": \"Category\",\n      \"properties\": {\n        \"dtype\": \"category\",\n        \"num_unique_values\": 3,\n        \"samples\": [\n          \"Main Course\",\n          \"Appetizer\",\n          \"Dessert\"\n        ],\n        \"semantic_type\": \"\",\n        \"description\": \"\"\n      }\n    },\n    {\n      \"column\": \"Quantity\",\n      \"properties\": {\n        \"dtype\": \"number\",\n        \"std\": 1,\n        \"min\": 1,\n        \"max\": 5,\n        \"num_unique_values\": 5,\n        \"samples\": [\n          1,\n          5,\n          2\n        ],\n        \"semantic_type\": \"\",\n        \"description\": \"\"\n      }\n    },\n    {\n      \"column\": \"Price (per item)\",\n      \"properties\": {\n        \"dtype\": \"number\",\n        \"std\": 2.9628576290523516,\n        \"min\": 4.5,\n        \"max\": 13.0,\n        \"num_unique_values\": 10,\n        \"samples\": [\n          11.5,\n          8.0,\n          13.0\n        ],\n        \"semantic_type\": \"\",\n        \"description\": \"\"\n      }\n    },\n    {\n      \"column\": \"Revenue\",\n      \"properties\": {\n        \"dtype\": \"number\",\n        \"std\": 15.344064413602341,\n        \"min\": 4.5,\n        \"max\": 65.0,\n        \"num_unique_values\": 44,\n        \"samples\": [\n          4.5,\n          5.0,\n          32.0\n        ],\n        \"semantic_type\": \"\",\n        \"description\": \"\"\n      }\n    },\n    {\n      \"column\": \"Payment Method\",\n      \"properties\": {\n        \"dtype\": \"category\",\n        \"num_unique_values\": 3,\n        \"samples\": [\n          \"Credit Card\",\n          \"Mobile Payment\",\n          \"Cash\"\n        ],\n        \"semantic_type\": \"\",\n        \"description\": \"\"\n      }\n    },\n    {\n      \"column\": \"Customer Type\",\n      \"properties\": {\n        \"dtype\": \"category\",\n        \"num_unique_values\": 3,\n        \"samples\": [\n          \"Dine-In\",\n          \"Takeaway\",\n          \"Delivery\"\n        ],\n        \"semantic_type\": \"\",\n        \"description\": \"\"\n      }\n    },\n    {\n      \"column\": \"Month\",\n      \"properties\": {\n        \"dtype\": \"int32\",\n        \"num_unique_values\": 12,\n        \"samples\": [\n          6,\n          9,\n          11\n        ],\n        \"semantic_type\": \"\",\n        \"description\": \"\"\n      }\n    }\n  ]\n}"
            }
          },
          "metadata": {},
          "execution_count": 70
        }
      ]
    },
    {
      "cell_type": "markdown",
      "source": [
        "\n",
        "\n",
        "*   **Перегляд типів даних**\n",
        "\n",
        "\n",
        "\n",
        "\n",
        "\n",
        "\n"
      ],
      "metadata": {
        "id": "4x5d-Rzdljq6"
      }
    },
    {
      "cell_type": "code",
      "source": [
        "df.dtypes"
      ],
      "metadata": {
        "colab": {
          "base_uri": "https://localhost:8080/",
          "height": 366
        },
        "id": "aimOufKClrLd",
        "outputId": "3a09b2b2-ceb6-4859-dbfb-39adb12f2de6"
      },
      "execution_count": 60,
      "outputs": [
        {
          "output_type": "execute_result",
          "data": {
            "text/plain": [
              "Date                 object\n",
              "Time                 object\n",
              "Menu Item            object\n",
              "Category             object\n",
              "Quantity              int64\n",
              "Price (per item)    float64\n",
              "Revenue             float64\n",
              "Payment Method       object\n",
              "Customer Type        object\n",
              "dtype: object"
            ],
            "text/html": [
              "<div>\n",
              "<style scoped>\n",
              "    .dataframe tbody tr th:only-of-type {\n",
              "        vertical-align: middle;\n",
              "    }\n",
              "\n",
              "    .dataframe tbody tr th {\n",
              "        vertical-align: top;\n",
              "    }\n",
              "\n",
              "    .dataframe thead th {\n",
              "        text-align: right;\n",
              "    }\n",
              "</style>\n",
              "<table border=\"1\" class=\"dataframe\">\n",
              "  <thead>\n",
              "    <tr style=\"text-align: right;\">\n",
              "      <th></th>\n",
              "      <th>0</th>\n",
              "    </tr>\n",
              "  </thead>\n",
              "  <tbody>\n",
              "    <tr>\n",
              "      <th>Date</th>\n",
              "      <td>object</td>\n",
              "    </tr>\n",
              "    <tr>\n",
              "      <th>Time</th>\n",
              "      <td>object</td>\n",
              "    </tr>\n",
              "    <tr>\n",
              "      <th>Menu Item</th>\n",
              "      <td>object</td>\n",
              "    </tr>\n",
              "    <tr>\n",
              "      <th>Category</th>\n",
              "      <td>object</td>\n",
              "    </tr>\n",
              "    <tr>\n",
              "      <th>Quantity</th>\n",
              "      <td>int64</td>\n",
              "    </tr>\n",
              "    <tr>\n",
              "      <th>Price (per item)</th>\n",
              "      <td>float64</td>\n",
              "    </tr>\n",
              "    <tr>\n",
              "      <th>Revenue</th>\n",
              "      <td>float64</td>\n",
              "    </tr>\n",
              "    <tr>\n",
              "      <th>Payment Method</th>\n",
              "      <td>object</td>\n",
              "    </tr>\n",
              "    <tr>\n",
              "      <th>Customer Type</th>\n",
              "      <td>object</td>\n",
              "    </tr>\n",
              "  </tbody>\n",
              "</table>\n",
              "</div><br><label><b>dtype:</b> object</label>"
            ]
          },
          "metadata": {},
          "execution_count": 60
        }
      ]
    },
    {
      "cell_type": "markdown",
      "source": [
        "Колонка Date містить тип даних object, який необхідно змінити на тип datetime64[ns]."
      ],
      "metadata": {
        "id": "g7kLIbq208cF"
      }
    },
    {
      "cell_type": "markdown",
      "source": [
        "\n",
        "\n",
        "*   **Зміна типу даних колонки Date**\n",
        "\n",
        "\n"
      ],
      "metadata": {
        "id": "5NUFyODf2ges"
      }
    },
    {
      "cell_type": "code",
      "source": [
        "df['Date'] = pd.to_datetime(df['Date'])"
      ],
      "metadata": {
        "id": "RNHukknh2sAH"
      },
      "execution_count": 5,
      "outputs": []
    },
    {
      "cell_type": "markdown",
      "source": [
        "\n",
        "\n",
        "\n",
        "\n",
        "*   **Перевірка типу даних колонки Date**\n",
        "\n",
        "\n",
        "\n",
        "\n",
        "\n"
      ],
      "metadata": {
        "id": "gA4HzjAT20zH"
      }
    },
    {
      "cell_type": "code",
      "source": [
        "print(df['Date'].dtype)"
      ],
      "metadata": {
        "colab": {
          "base_uri": "https://localhost:8080/"
        },
        "id": "lG4PYJ8p3Nau",
        "outputId": "105f2a2a-c6b5-467a-de74-d47a2e619e6c"
      },
      "execution_count": 65,
      "outputs": [
        {
          "output_type": "stream",
          "name": "stdout",
          "text": [
            "datetime64[ns]\n"
          ]
        }
      ]
    },
    {
      "cell_type": "markdown",
      "source": [
        "\n",
        "\n",
        "*   **Перевірка на пропущені значення**\n",
        "\n",
        "\n"
      ],
      "metadata": {
        "id": "WalaQtKGmv7Q"
      }
    },
    {
      "cell_type": "code",
      "source": [
        "df.isna().sum()"
      ],
      "metadata": {
        "colab": {
          "base_uri": "https://localhost:8080/",
          "height": 366
        },
        "id": "ZK4S2jg51nyC",
        "outputId": "bf277532-ac3f-4448-cee5-86edd9768c53"
      },
      "execution_count": 66,
      "outputs": [
        {
          "output_type": "execute_result",
          "data": {
            "text/plain": [
              "Date                0\n",
              "Time                0\n",
              "Menu Item           0\n",
              "Category            0\n",
              "Quantity            0\n",
              "Price (per item)    0\n",
              "Revenue             0\n",
              "Payment Method      0\n",
              "Customer Type       0\n",
              "dtype: int64"
            ],
            "text/html": [
              "<div>\n",
              "<style scoped>\n",
              "    .dataframe tbody tr th:only-of-type {\n",
              "        vertical-align: middle;\n",
              "    }\n",
              "\n",
              "    .dataframe tbody tr th {\n",
              "        vertical-align: top;\n",
              "    }\n",
              "\n",
              "    .dataframe thead th {\n",
              "        text-align: right;\n",
              "    }\n",
              "</style>\n",
              "<table border=\"1\" class=\"dataframe\">\n",
              "  <thead>\n",
              "    <tr style=\"text-align: right;\">\n",
              "      <th></th>\n",
              "      <th>0</th>\n",
              "    </tr>\n",
              "  </thead>\n",
              "  <tbody>\n",
              "    <tr>\n",
              "      <th>Date</th>\n",
              "      <td>0</td>\n",
              "    </tr>\n",
              "    <tr>\n",
              "      <th>Time</th>\n",
              "      <td>0</td>\n",
              "    </tr>\n",
              "    <tr>\n",
              "      <th>Menu Item</th>\n",
              "      <td>0</td>\n",
              "    </tr>\n",
              "    <tr>\n",
              "      <th>Category</th>\n",
              "      <td>0</td>\n",
              "    </tr>\n",
              "    <tr>\n",
              "      <th>Quantity</th>\n",
              "      <td>0</td>\n",
              "    </tr>\n",
              "    <tr>\n",
              "      <th>Price (per item)</th>\n",
              "      <td>0</td>\n",
              "    </tr>\n",
              "    <tr>\n",
              "      <th>Revenue</th>\n",
              "      <td>0</td>\n",
              "    </tr>\n",
              "    <tr>\n",
              "      <th>Payment Method</th>\n",
              "      <td>0</td>\n",
              "    </tr>\n",
              "    <tr>\n",
              "      <th>Customer Type</th>\n",
              "      <td>0</td>\n",
              "    </tr>\n",
              "  </tbody>\n",
              "</table>\n",
              "</div><br><label><b>dtype:</b> int64</label>"
            ]
          },
          "metadata": {},
          "execution_count": 66
        }
      ]
    },
    {
      "cell_type": "markdown",
      "source": [
        "Пропущені значення відсутні."
      ],
      "metadata": {
        "id": "wIpYIum919bJ"
      }
    },
    {
      "cell_type": "markdown",
      "source": [
        "\n",
        "\n",
        "*   **Перевірка на дублі**\n",
        "\n",
        "\n"
      ],
      "metadata": {
        "id": "nWgJxXsvq8Mw"
      }
    },
    {
      "cell_type": "code",
      "source": [
        "df[df.duplicated()]"
      ],
      "metadata": {
        "colab": {
          "base_uri": "https://localhost:8080/",
          "height": 53
        },
        "id": "Qzl0h9HQm8db",
        "outputId": "77f3cd73-0800-4950-92c4-dcc37f10c4de"
      },
      "execution_count": 21,
      "outputs": [
        {
          "output_type": "execute_result",
          "data": {
            "text/plain": [
              "Empty DataFrame\n",
              "Columns: [Date, Time, Menu Item, Category, Quantity, Price (per item), Revenue, Payment Method, Customer Type]\n",
              "Index: []"
            ],
            "text/html": [
              "\n",
              "  <div id=\"df-b388cebb-4ea1-4e43-9c5d-ca8731eac9c4\" class=\"colab-df-container\">\n",
              "    <div>\n",
              "<style scoped>\n",
              "    .dataframe tbody tr th:only-of-type {\n",
              "        vertical-align: middle;\n",
              "    }\n",
              "\n",
              "    .dataframe tbody tr th {\n",
              "        vertical-align: top;\n",
              "    }\n",
              "\n",
              "    .dataframe thead th {\n",
              "        text-align: right;\n",
              "    }\n",
              "</style>\n",
              "<table border=\"1\" class=\"dataframe\">\n",
              "  <thead>\n",
              "    <tr style=\"text-align: right;\">\n",
              "      <th></th>\n",
              "      <th>Date</th>\n",
              "      <th>Time</th>\n",
              "      <th>Menu Item</th>\n",
              "      <th>Category</th>\n",
              "      <th>Quantity</th>\n",
              "      <th>Price (per item)</th>\n",
              "      <th>Revenue</th>\n",
              "      <th>Payment Method</th>\n",
              "      <th>Customer Type</th>\n",
              "    </tr>\n",
              "  </thead>\n",
              "  <tbody>\n",
              "  </tbody>\n",
              "</table>\n",
              "</div>\n",
              "    <div class=\"colab-df-buttons\">\n",
              "\n",
              "  <div class=\"colab-df-container\">\n",
              "    <button class=\"colab-df-convert\" onclick=\"convertToInteractive('df-b388cebb-4ea1-4e43-9c5d-ca8731eac9c4')\"\n",
              "            title=\"Convert this dataframe to an interactive table.\"\n",
              "            style=\"display:none;\">\n",
              "\n",
              "  <svg xmlns=\"http://www.w3.org/2000/svg\" height=\"24px\" viewBox=\"0 -960 960 960\">\n",
              "    <path d=\"M120-120v-720h720v720H120Zm60-500h600v-160H180v160Zm220 220h160v-160H400v160Zm0 220h160v-160H400v160ZM180-400h160v-160H180v160Zm440 0h160v-160H620v160ZM180-180h160v-160H180v160Zm440 0h160v-160H620v160Z\"/>\n",
              "  </svg>\n",
              "    </button>\n",
              "\n",
              "  <style>\n",
              "    .colab-df-container {\n",
              "      display:flex;\n",
              "      gap: 12px;\n",
              "    }\n",
              "\n",
              "    .colab-df-convert {\n",
              "      background-color: #E8F0FE;\n",
              "      border: none;\n",
              "      border-radius: 50%;\n",
              "      cursor: pointer;\n",
              "      display: none;\n",
              "      fill: #1967D2;\n",
              "      height: 32px;\n",
              "      padding: 0 0 0 0;\n",
              "      width: 32px;\n",
              "    }\n",
              "\n",
              "    .colab-df-convert:hover {\n",
              "      background-color: #E2EBFA;\n",
              "      box-shadow: 0px 1px 2px rgba(60, 64, 67, 0.3), 0px 1px 3px 1px rgba(60, 64, 67, 0.15);\n",
              "      fill: #174EA6;\n",
              "    }\n",
              "\n",
              "    .colab-df-buttons div {\n",
              "      margin-bottom: 4px;\n",
              "    }\n",
              "\n",
              "    [theme=dark] .colab-df-convert {\n",
              "      background-color: #3B4455;\n",
              "      fill: #D2E3FC;\n",
              "    }\n",
              "\n",
              "    [theme=dark] .colab-df-convert:hover {\n",
              "      background-color: #434B5C;\n",
              "      box-shadow: 0px 1px 3px 1px rgba(0, 0, 0, 0.15);\n",
              "      filter: drop-shadow(0px 1px 2px rgba(0, 0, 0, 0.3));\n",
              "      fill: #FFFFFF;\n",
              "    }\n",
              "  </style>\n",
              "\n",
              "    <script>\n",
              "      const buttonEl =\n",
              "        document.querySelector('#df-b388cebb-4ea1-4e43-9c5d-ca8731eac9c4 button.colab-df-convert');\n",
              "      buttonEl.style.display =\n",
              "        google.colab.kernel.accessAllowed ? 'block' : 'none';\n",
              "\n",
              "      async function convertToInteractive(key) {\n",
              "        const element = document.querySelector('#df-b388cebb-4ea1-4e43-9c5d-ca8731eac9c4');\n",
              "        const dataTable =\n",
              "          await google.colab.kernel.invokeFunction('convertToInteractive',\n",
              "                                                    [key], {});\n",
              "        if (!dataTable) return;\n",
              "\n",
              "        const docLinkHtml = 'Like what you see? Visit the ' +\n",
              "          '<a target=\"_blank\" href=https://colab.research.google.com/notebooks/data_table.ipynb>data table notebook</a>'\n",
              "          + ' to learn more about interactive tables.';\n",
              "        element.innerHTML = '';\n",
              "        dataTable['output_type'] = 'display_data';\n",
              "        await google.colab.output.renderOutput(dataTable, element);\n",
              "        const docLink = document.createElement('div');\n",
              "        docLink.innerHTML = docLinkHtml;\n",
              "        element.appendChild(docLink);\n",
              "      }\n",
              "    </script>\n",
              "  </div>\n",
              "\n",
              "    </div>\n",
              "  </div>\n"
            ],
            "application/vnd.google.colaboratory.intrinsic+json": {
              "type": "dataframe",
              "repr_error": "Out of range float values are not JSON compliant: nan"
            }
          },
          "metadata": {},
          "execution_count": 21
        }
      ]
    },
    {
      "cell_type": "markdown",
      "source": [
        "Дублі в наборі даних відсутні."
      ],
      "metadata": {
        "id": "DCv80B_I2hHH"
      }
    },
    {
      "cell_type": "markdown",
      "source": [
        "\n",
        "\n",
        "*   **Відокремлення місяця із колонки Date**\n",
        "\n",
        "\n"
      ],
      "metadata": {
        "id": "nROdUsxz3qhx"
      }
    },
    {
      "cell_type": "code",
      "source": [
        "df['Month'] = df['Date'].dt.month"
      ],
      "metadata": {
        "id": "2VwABq1R5S-x"
      },
      "execution_count": 6,
      "outputs": []
    },
    {
      "cell_type": "code",
      "source": [
        "df[:3]"
      ],
      "metadata": {
        "colab": {
          "base_uri": "https://localhost:8080/",
          "height": 144
        },
        "id": "wpOYLn_A5ZW0",
        "outputId": "79dfd3b5-8fc9-4632-80ed-61a1c1fd8a64"
      },
      "execution_count": 69,
      "outputs": [
        {
          "output_type": "execute_result",
          "data": {
            "text/plain": [
              "        Date      Time         Menu Item     Category  Quantity  \\\n",
              "0 2024-11-23  03:48 AM  Margherita Pizza  Main Course         3   \n",
              "1 2024-03-12  03:29 AM     Caprese Salad    Appetizer         1   \n",
              "2 2024-01-17  01:01 AM          Tiramisu      Dessert         2   \n",
              "\n",
              "   Price (per item)  Revenue  Payment Method Customer Type  Month  \n",
              "0              10.0     30.0     Credit Card       Dine-In     11  \n",
              "1               8.0      8.0  Mobile Payment      Takeaway      3  \n",
              "2               6.5     13.0     Credit Card      Delivery      1  "
            ],
            "text/html": [
              "\n",
              "  <div id=\"df-aaa53d51-2de3-4081-bb59-7aeb6975fce9\" class=\"colab-df-container\">\n",
              "    <div>\n",
              "<style scoped>\n",
              "    .dataframe tbody tr th:only-of-type {\n",
              "        vertical-align: middle;\n",
              "    }\n",
              "\n",
              "    .dataframe tbody tr th {\n",
              "        vertical-align: top;\n",
              "    }\n",
              "\n",
              "    .dataframe thead th {\n",
              "        text-align: right;\n",
              "    }\n",
              "</style>\n",
              "<table border=\"1\" class=\"dataframe\">\n",
              "  <thead>\n",
              "    <tr style=\"text-align: right;\">\n",
              "      <th></th>\n",
              "      <th>Date</th>\n",
              "      <th>Time</th>\n",
              "      <th>Menu Item</th>\n",
              "      <th>Category</th>\n",
              "      <th>Quantity</th>\n",
              "      <th>Price (per item)</th>\n",
              "      <th>Revenue</th>\n",
              "      <th>Payment Method</th>\n",
              "      <th>Customer Type</th>\n",
              "      <th>Month</th>\n",
              "    </tr>\n",
              "  </thead>\n",
              "  <tbody>\n",
              "    <tr>\n",
              "      <th>0</th>\n",
              "      <td>2024-11-23</td>\n",
              "      <td>03:48 AM</td>\n",
              "      <td>Margherita Pizza</td>\n",
              "      <td>Main Course</td>\n",
              "      <td>3</td>\n",
              "      <td>10.0</td>\n",
              "      <td>30.0</td>\n",
              "      <td>Credit Card</td>\n",
              "      <td>Dine-In</td>\n",
              "      <td>11</td>\n",
              "    </tr>\n",
              "    <tr>\n",
              "      <th>1</th>\n",
              "      <td>2024-03-12</td>\n",
              "      <td>03:29 AM</td>\n",
              "      <td>Caprese Salad</td>\n",
              "      <td>Appetizer</td>\n",
              "      <td>1</td>\n",
              "      <td>8.0</td>\n",
              "      <td>8.0</td>\n",
              "      <td>Mobile Payment</td>\n",
              "      <td>Takeaway</td>\n",
              "      <td>3</td>\n",
              "    </tr>\n",
              "    <tr>\n",
              "      <th>2</th>\n",
              "      <td>2024-01-17</td>\n",
              "      <td>01:01 AM</td>\n",
              "      <td>Tiramisu</td>\n",
              "      <td>Dessert</td>\n",
              "      <td>2</td>\n",
              "      <td>6.5</td>\n",
              "      <td>13.0</td>\n",
              "      <td>Credit Card</td>\n",
              "      <td>Delivery</td>\n",
              "      <td>1</td>\n",
              "    </tr>\n",
              "  </tbody>\n",
              "</table>\n",
              "</div>\n",
              "    <div class=\"colab-df-buttons\">\n",
              "\n",
              "  <div class=\"colab-df-container\">\n",
              "    <button class=\"colab-df-convert\" onclick=\"convertToInteractive('df-aaa53d51-2de3-4081-bb59-7aeb6975fce9')\"\n",
              "            title=\"Convert this dataframe to an interactive table.\"\n",
              "            style=\"display:none;\">\n",
              "\n",
              "  <svg xmlns=\"http://www.w3.org/2000/svg\" height=\"24px\" viewBox=\"0 -960 960 960\">\n",
              "    <path d=\"M120-120v-720h720v720H120Zm60-500h600v-160H180v160Zm220 220h160v-160H400v160Zm0 220h160v-160H400v160ZM180-400h160v-160H180v160Zm440 0h160v-160H620v160ZM180-180h160v-160H180v160Zm440 0h160v-160H620v160Z\"/>\n",
              "  </svg>\n",
              "    </button>\n",
              "\n",
              "  <style>\n",
              "    .colab-df-container {\n",
              "      display:flex;\n",
              "      gap: 12px;\n",
              "    }\n",
              "\n",
              "    .colab-df-convert {\n",
              "      background-color: #E8F0FE;\n",
              "      border: none;\n",
              "      border-radius: 50%;\n",
              "      cursor: pointer;\n",
              "      display: none;\n",
              "      fill: #1967D2;\n",
              "      height: 32px;\n",
              "      padding: 0 0 0 0;\n",
              "      width: 32px;\n",
              "    }\n",
              "\n",
              "    .colab-df-convert:hover {\n",
              "      background-color: #E2EBFA;\n",
              "      box-shadow: 0px 1px 2px rgba(60, 64, 67, 0.3), 0px 1px 3px 1px rgba(60, 64, 67, 0.15);\n",
              "      fill: #174EA6;\n",
              "    }\n",
              "\n",
              "    .colab-df-buttons div {\n",
              "      margin-bottom: 4px;\n",
              "    }\n",
              "\n",
              "    [theme=dark] .colab-df-convert {\n",
              "      background-color: #3B4455;\n",
              "      fill: #D2E3FC;\n",
              "    }\n",
              "\n",
              "    [theme=dark] .colab-df-convert:hover {\n",
              "      background-color: #434B5C;\n",
              "      box-shadow: 0px 1px 3px 1px rgba(0, 0, 0, 0.15);\n",
              "      filter: drop-shadow(0px 1px 2px rgba(0, 0, 0, 0.3));\n",
              "      fill: #FFFFFF;\n",
              "    }\n",
              "  </style>\n",
              "\n",
              "    <script>\n",
              "      const buttonEl =\n",
              "        document.querySelector('#df-aaa53d51-2de3-4081-bb59-7aeb6975fce9 button.colab-df-convert');\n",
              "      buttonEl.style.display =\n",
              "        google.colab.kernel.accessAllowed ? 'block' : 'none';\n",
              "\n",
              "      async function convertToInteractive(key) {\n",
              "        const element = document.querySelector('#df-aaa53d51-2de3-4081-bb59-7aeb6975fce9');\n",
              "        const dataTable =\n",
              "          await google.colab.kernel.invokeFunction('convertToInteractive',\n",
              "                                                    [key], {});\n",
              "        if (!dataTable) return;\n",
              "\n",
              "        const docLinkHtml = 'Like what you see? Visit the ' +\n",
              "          '<a target=\"_blank\" href=https://colab.research.google.com/notebooks/data_table.ipynb>data table notebook</a>'\n",
              "          + ' to learn more about interactive tables.';\n",
              "        element.innerHTML = '';\n",
              "        dataTable['output_type'] = 'display_data';\n",
              "        await google.colab.output.renderOutput(dataTable, element);\n",
              "        const docLink = document.createElement('div');\n",
              "        docLink.innerHTML = docLinkHtml;\n",
              "        element.appendChild(docLink);\n",
              "      }\n",
              "    </script>\n",
              "  </div>\n",
              "\n",
              "\n",
              "<div id=\"df-55d8fe08-9884-4051-badd-614554d8cc73\">\n",
              "  <button class=\"colab-df-quickchart\" onclick=\"quickchart('df-55d8fe08-9884-4051-badd-614554d8cc73')\"\n",
              "            title=\"Suggest charts\"\n",
              "            style=\"display:none;\">\n",
              "\n",
              "<svg xmlns=\"http://www.w3.org/2000/svg\" height=\"24px\"viewBox=\"0 0 24 24\"\n",
              "     width=\"24px\">\n",
              "    <g>\n",
              "        <path d=\"M19 3H5c-1.1 0-2 .9-2 2v14c0 1.1.9 2 2 2h14c1.1 0 2-.9 2-2V5c0-1.1-.9-2-2-2zM9 17H7v-7h2v7zm4 0h-2V7h2v10zm4 0h-2v-4h2v4z\"/>\n",
              "    </g>\n",
              "</svg>\n",
              "  </button>\n",
              "\n",
              "<style>\n",
              "  .colab-df-quickchart {\n",
              "      --bg-color: #E8F0FE;\n",
              "      --fill-color: #1967D2;\n",
              "      --hover-bg-color: #E2EBFA;\n",
              "      --hover-fill-color: #174EA6;\n",
              "      --disabled-fill-color: #AAA;\n",
              "      --disabled-bg-color: #DDD;\n",
              "  }\n",
              "\n",
              "  [theme=dark] .colab-df-quickchart {\n",
              "      --bg-color: #3B4455;\n",
              "      --fill-color: #D2E3FC;\n",
              "      --hover-bg-color: #434B5C;\n",
              "      --hover-fill-color: #FFFFFF;\n",
              "      --disabled-bg-color: #3B4455;\n",
              "      --disabled-fill-color: #666;\n",
              "  }\n",
              "\n",
              "  .colab-df-quickchart {\n",
              "    background-color: var(--bg-color);\n",
              "    border: none;\n",
              "    border-radius: 50%;\n",
              "    cursor: pointer;\n",
              "    display: none;\n",
              "    fill: var(--fill-color);\n",
              "    height: 32px;\n",
              "    padding: 0;\n",
              "    width: 32px;\n",
              "  }\n",
              "\n",
              "  .colab-df-quickchart:hover {\n",
              "    background-color: var(--hover-bg-color);\n",
              "    box-shadow: 0 1px 2px rgba(60, 64, 67, 0.3), 0 1px 3px 1px rgba(60, 64, 67, 0.15);\n",
              "    fill: var(--button-hover-fill-color);\n",
              "  }\n",
              "\n",
              "  .colab-df-quickchart-complete:disabled,\n",
              "  .colab-df-quickchart-complete:disabled:hover {\n",
              "    background-color: var(--disabled-bg-color);\n",
              "    fill: var(--disabled-fill-color);\n",
              "    box-shadow: none;\n",
              "  }\n",
              "\n",
              "  .colab-df-spinner {\n",
              "    border: 2px solid var(--fill-color);\n",
              "    border-color: transparent;\n",
              "    border-bottom-color: var(--fill-color);\n",
              "    animation:\n",
              "      spin 1s steps(1) infinite;\n",
              "  }\n",
              "\n",
              "  @keyframes spin {\n",
              "    0% {\n",
              "      border-color: transparent;\n",
              "      border-bottom-color: var(--fill-color);\n",
              "      border-left-color: var(--fill-color);\n",
              "    }\n",
              "    20% {\n",
              "      border-color: transparent;\n",
              "      border-left-color: var(--fill-color);\n",
              "      border-top-color: var(--fill-color);\n",
              "    }\n",
              "    30% {\n",
              "      border-color: transparent;\n",
              "      border-left-color: var(--fill-color);\n",
              "      border-top-color: var(--fill-color);\n",
              "      border-right-color: var(--fill-color);\n",
              "    }\n",
              "    40% {\n",
              "      border-color: transparent;\n",
              "      border-right-color: var(--fill-color);\n",
              "      border-top-color: var(--fill-color);\n",
              "    }\n",
              "    60% {\n",
              "      border-color: transparent;\n",
              "      border-right-color: var(--fill-color);\n",
              "    }\n",
              "    80% {\n",
              "      border-color: transparent;\n",
              "      border-right-color: var(--fill-color);\n",
              "      border-bottom-color: var(--fill-color);\n",
              "    }\n",
              "    90% {\n",
              "      border-color: transparent;\n",
              "      border-bottom-color: var(--fill-color);\n",
              "    }\n",
              "  }\n",
              "</style>\n",
              "\n",
              "  <script>\n",
              "    async function quickchart(key) {\n",
              "      const quickchartButtonEl =\n",
              "        document.querySelector('#' + key + ' button');\n",
              "      quickchartButtonEl.disabled = true;  // To prevent multiple clicks.\n",
              "      quickchartButtonEl.classList.add('colab-df-spinner');\n",
              "      try {\n",
              "        const charts = await google.colab.kernel.invokeFunction(\n",
              "            'suggestCharts', [key], {});\n",
              "      } catch (error) {\n",
              "        console.error('Error during call to suggestCharts:', error);\n",
              "      }\n",
              "      quickchartButtonEl.classList.remove('colab-df-spinner');\n",
              "      quickchartButtonEl.classList.add('colab-df-quickchart-complete');\n",
              "    }\n",
              "    (() => {\n",
              "      let quickchartButtonEl =\n",
              "        document.querySelector('#df-55d8fe08-9884-4051-badd-614554d8cc73 button');\n",
              "      quickchartButtonEl.style.display =\n",
              "        google.colab.kernel.accessAllowed ? 'block' : 'none';\n",
              "    })();\n",
              "  </script>\n",
              "</div>\n",
              "    </div>\n",
              "  </div>\n"
            ],
            "application/vnd.google.colaboratory.intrinsic+json": {
              "type": "dataframe",
              "summary": "{\n  \"name\": \"df[:3]\",\n  \"rows\": 3,\n  \"fields\": [\n    {\n      \"column\": \"Date\",\n      \"properties\": {\n        \"dtype\": \"date\",\n        \"min\": \"2024-01-17 00:00:00\",\n        \"max\": \"2024-11-23 00:00:00\",\n        \"num_unique_values\": 3,\n        \"samples\": [\n          \"2024-11-23 00:00:00\",\n          \"2024-03-12 00:00:00\",\n          \"2024-01-17 00:00:00\"\n        ],\n        \"semantic_type\": \"\",\n        \"description\": \"\"\n      }\n    },\n    {\n      \"column\": \"Time\",\n      \"properties\": {\n        \"dtype\": \"object\",\n        \"num_unique_values\": 3,\n        \"samples\": [\n          \"03:48 AM\",\n          \"03:29 AM\",\n          \"01:01 AM\"\n        ],\n        \"semantic_type\": \"\",\n        \"description\": \"\"\n      }\n    },\n    {\n      \"column\": \"Menu Item\",\n      \"properties\": {\n        \"dtype\": \"string\",\n        \"num_unique_values\": 3,\n        \"samples\": [\n          \"Margherita Pizza\",\n          \"Caprese Salad\",\n          \"Tiramisu\"\n        ],\n        \"semantic_type\": \"\",\n        \"description\": \"\"\n      }\n    },\n    {\n      \"column\": \"Category\",\n      \"properties\": {\n        \"dtype\": \"string\",\n        \"num_unique_values\": 3,\n        \"samples\": [\n          \"Main Course\",\n          \"Appetizer\",\n          \"Dessert\"\n        ],\n        \"semantic_type\": \"\",\n        \"description\": \"\"\n      }\n    },\n    {\n      \"column\": \"Quantity\",\n      \"properties\": {\n        \"dtype\": \"number\",\n        \"std\": 1,\n        \"min\": 1,\n        \"max\": 3,\n        \"num_unique_values\": 3,\n        \"samples\": [\n          3,\n          1,\n          2\n        ],\n        \"semantic_type\": \"\",\n        \"description\": \"\"\n      }\n    },\n    {\n      \"column\": \"Price (per item)\",\n      \"properties\": {\n        \"dtype\": \"number\",\n        \"std\": 1.7559422921421233,\n        \"min\": 6.5,\n        \"max\": 10.0,\n        \"num_unique_values\": 3,\n        \"samples\": [\n          10.0,\n          8.0,\n          6.5\n        ],\n        \"semantic_type\": \"\",\n        \"description\": \"\"\n      }\n    },\n    {\n      \"column\": \"Revenue\",\n      \"properties\": {\n        \"dtype\": \"number\",\n        \"std\": 11.532562594670797,\n        \"min\": 8.0,\n        \"max\": 30.0,\n        \"num_unique_values\": 3,\n        \"samples\": [\n          30.0,\n          8.0,\n          13.0\n        ],\n        \"semantic_type\": \"\",\n        \"description\": \"\"\n      }\n    },\n    {\n      \"column\": \"Payment Method\",\n      \"properties\": {\n        \"dtype\": \"string\",\n        \"num_unique_values\": 2,\n        \"samples\": [\n          \"Mobile Payment\",\n          \"Credit Card\"\n        ],\n        \"semantic_type\": \"\",\n        \"description\": \"\"\n      }\n    },\n    {\n      \"column\": \"Customer Type\",\n      \"properties\": {\n        \"dtype\": \"string\",\n        \"num_unique_values\": 3,\n        \"samples\": [\n          \"Dine-In\",\n          \"Takeaway\"\n        ],\n        \"semantic_type\": \"\",\n        \"description\": \"\"\n      }\n    },\n    {\n      \"column\": \"Month\",\n      \"properties\": {\n        \"dtype\": \"int32\",\n        \"num_unique_values\": 3,\n        \"samples\": [\n          11,\n          3\n        ],\n        \"semantic_type\": \"\",\n        \"description\": \"\"\n      }\n    }\n  ]\n}"
            }
          },
          "metadata": {},
          "execution_count": 69
        }
      ]
    },
    {
      "cell_type": "markdown",
      "source": [
        "**Питання 1. Переглянемо які є категорії меню і який дохід вони приносять.**"
      ],
      "metadata": {
        "id": "TlU4T8OiI8Wk"
      }
    },
    {
      "cell_type": "code",
      "source": [
        "df.groupby(['Category'])['Revenue'].sum()"
      ],
      "metadata": {
        "colab": {
          "base_uri": "https://localhost:8080/",
          "height": 210
        },
        "id": "mTq3rFfLHpH6",
        "outputId": "fa093a92-f11f-494a-ecdd-4c2e016411f2"
      },
      "execution_count": 36,
      "outputs": [
        {
          "output_type": "execute_result",
          "data": {
            "text/plain": [
              "Category\n",
              "Appetizer       57608.0\n",
              "Dessert         50541.0\n",
              "Main Course    139581.5\n",
              "Name: Revenue, dtype: float64"
            ],
            "text/html": [
              "<div>\n",
              "<style scoped>\n",
              "    .dataframe tbody tr th:only-of-type {\n",
              "        vertical-align: middle;\n",
              "    }\n",
              "\n",
              "    .dataframe tbody tr th {\n",
              "        vertical-align: top;\n",
              "    }\n",
              "\n",
              "    .dataframe thead th {\n",
              "        text-align: right;\n",
              "    }\n",
              "</style>\n",
              "<table border=\"1\" class=\"dataframe\">\n",
              "  <thead>\n",
              "    <tr style=\"text-align: right;\">\n",
              "      <th></th>\n",
              "      <th>Revenue</th>\n",
              "    </tr>\n",
              "    <tr>\n",
              "      <th>Category</th>\n",
              "      <th></th>\n",
              "    </tr>\n",
              "  </thead>\n",
              "  <tbody>\n",
              "    <tr>\n",
              "      <th>Appetizer</th>\n",
              "      <td>57608.0</td>\n",
              "    </tr>\n",
              "    <tr>\n",
              "      <th>Dessert</th>\n",
              "      <td>50541.0</td>\n",
              "    </tr>\n",
              "    <tr>\n",
              "      <th>Main Course</th>\n",
              "      <td>139581.5</td>\n",
              "    </tr>\n",
              "  </tbody>\n",
              "</table>\n",
              "</div><br><label><b>dtype:</b> float64</label>"
            ]
          },
          "metadata": {},
          "execution_count": 36
        }
      ]
    },
    {
      "cell_type": "markdown",
      "source": [
        "Найпопулярнішою категорією меню є Main Course (основне меню), що приносить найбільшу виручку. Необхідно звернути увагу на категорії меню: закуски та десерти.    \n",
        "\n",
        "Рекомендації: звернути увагу на оформлення меню цих категорій, підбір меню під цільову аудиторію, оптимізація цін, акційні пропозиції."
      ],
      "metadata": {
        "id": "-WAiPI3xJUzh"
      }
    },
    {
      "cell_type": "markdown",
      "source": [
        "**Питання 2. Яким стравам відвідувачі надають перевагу?**"
      ],
      "metadata": {
        "id": "a-YPx0onXuNz"
      }
    },
    {
      "cell_type": "code",
      "source": [
        "df.groupby(['Menu Item'])['Quantity'].sum().sort_values(ascending=False)"
      ],
      "metadata": {
        "colab": {
          "base_uri": "https://localhost:8080/",
          "height": 429
        },
        "id": "soM45CwoWCjz",
        "outputId": "4f7bd0ce-a6f0-401b-9e39-05ec9a5569c1"
      },
      "execution_count": 8,
      "outputs": [
        {
          "output_type": "display_data",
          "data": {
            "text/plain": [
              "Menu Item\n",
              "Tiramisu               3148\n",
              "Fettuccine Alfredo     3089\n",
              "Panna Cotta            3016\n",
              "Lasagna                2999\n",
              "Gelato                 2998\n",
              "Minestrone Soup        2990\n",
              "Spaghetti Carbonara    2983\n",
              "Margherita Pizza       2914\n",
              "Bruschetta             2822\n",
              "Caprese Salad          2821\n",
              "Name: Quantity, dtype: int64"
            ],
            "text/html": [
              "<div>\n",
              "<style scoped>\n",
              "    .dataframe tbody tr th:only-of-type {\n",
              "        vertical-align: middle;\n",
              "    }\n",
              "\n",
              "    .dataframe tbody tr th {\n",
              "        vertical-align: top;\n",
              "    }\n",
              "\n",
              "    .dataframe thead th {\n",
              "        text-align: right;\n",
              "    }\n",
              "</style>\n",
              "<table border=\"1\" class=\"dataframe\">\n",
              "  <thead>\n",
              "    <tr style=\"text-align: right;\">\n",
              "      <th></th>\n",
              "      <th>Quantity</th>\n",
              "    </tr>\n",
              "    <tr>\n",
              "      <th>Menu Item</th>\n",
              "      <th></th>\n",
              "    </tr>\n",
              "  </thead>\n",
              "  <tbody>\n",
              "    <tr>\n",
              "      <th>Tiramisu</th>\n",
              "      <td>3148</td>\n",
              "    </tr>\n",
              "    <tr>\n",
              "      <th>Fettuccine Alfredo</th>\n",
              "      <td>3089</td>\n",
              "    </tr>\n",
              "    <tr>\n",
              "      <th>Panna Cotta</th>\n",
              "      <td>3016</td>\n",
              "    </tr>\n",
              "    <tr>\n",
              "      <th>Lasagna</th>\n",
              "      <td>2999</td>\n",
              "    </tr>\n",
              "    <tr>\n",
              "      <th>Gelato</th>\n",
              "      <td>2998</td>\n",
              "    </tr>\n",
              "    <tr>\n",
              "      <th>Minestrone Soup</th>\n",
              "      <td>2990</td>\n",
              "    </tr>\n",
              "    <tr>\n",
              "      <th>Spaghetti Carbonara</th>\n",
              "      <td>2983</td>\n",
              "    </tr>\n",
              "    <tr>\n",
              "      <th>Margherita Pizza</th>\n",
              "      <td>2914</td>\n",
              "    </tr>\n",
              "    <tr>\n",
              "      <th>Bruschetta</th>\n",
              "      <td>2822</td>\n",
              "    </tr>\n",
              "    <tr>\n",
              "      <th>Caprese Salad</th>\n",
              "      <td>2821</td>\n",
              "    </tr>\n",
              "  </tbody>\n",
              "</table>\n",
              "</div><br><label><b>dtype:</b> int64</label>"
            ]
          },
          "metadata": {}
        }
      ]
    },
    {
      "cell_type": "markdown",
      "source": [
        "Найбільш привабливими стравами для відвідувачів є Tiramisu, Fettuccine Alfredo, Panna Cotta.\n",
        "Відповідно найменш привабливими для відвідувачів є Bruschetta та Caprese Salad.\n",
        "\n",
        "Рекомендація: зробити опитування відвідувачів, які замовили ці страви, та спитати, щоб вони додали до цих страв або що їм в них не вистачало. Зміна рецептури цих страв.\n",
        "\n"
      ],
      "metadata": {
        "id": "vyfifBFiWvrn"
      }
    },
    {
      "cell_type": "markdown",
      "source": [
        "**Питання 3. Динаміка доходу по місяцям за категоріями меню.**"
      ],
      "metadata": {
        "id": "QTnLnR0UMmXK"
      }
    },
    {
      "cell_type": "code",
      "source": [
        "revenue_pivot = df.pivot_table(index = 'Month', columns = 'Category', values = 'Revenue', aggfunc = 'sum').round(2)"
      ],
      "metadata": {
        "id": "v2r7CIixKcXU"
      },
      "execution_count": 78,
      "outputs": []
    },
    {
      "cell_type": "code",
      "source": [
        "revenue_pivot\n",
        "display(revenue_pivot.style.format(\"{:.2f}\").background_gradient(low=0.75, high=1.0))"
      ],
      "metadata": {
        "colab": {
          "base_uri": "https://localhost:8080/",
          "height": 457
        },
        "id": "W2TO_BNOK0L-",
        "outputId": "af2bdda8-4dc8-41e7-86ee-46ae1bb9f920"
      },
      "execution_count": 82,
      "outputs": [
        {
          "output_type": "display_data",
          "data": {
            "text/plain": [
              "<pandas.io.formats.style.Styler at 0x7d75c4610550>"
            ],
            "text/html": [
              "<style type=\"text/css\">\n",
              "#T_3cce0_row0_col0, #T_3cce0_row1_col1, #T_3cce0_row5_col2 {\n",
              "  background-color: #c9cee4;\n",
              "  color: #000000;\n",
              "}\n",
              "#T_3cce0_row0_col1, #T_3cce0_row2_col0 {\n",
              "  background-color: #4094c3;\n",
              "  color: #f1f1f1;\n",
              "}\n",
              "#T_3cce0_row0_col2 {\n",
              "  background-color: #94b6d7;\n",
              "  color: #000000;\n",
              "}\n",
              "#T_3cce0_row1_col0 {\n",
              "  background-color: #76aad0;\n",
              "  color: #f1f1f1;\n",
              "}\n",
              "#T_3cce0_row1_col2 {\n",
              "  background-color: #a5bddb;\n",
              "  color: #000000;\n",
              "}\n",
              "#T_3cce0_row2_col1, #T_3cce0_row9_col2, #T_3cce0_row10_col2 {\n",
              "  background-color: #7eadd1;\n",
              "  color: #f1f1f1;\n",
              "}\n",
              "#T_3cce0_row2_col2, #T_3cce0_row6_col2 {\n",
              "  background-color: #84b0d3;\n",
              "  color: #f1f1f1;\n",
              "}\n",
              "#T_3cce0_row3_col0 {\n",
              "  background-color: #4496c3;\n",
              "  color: #f1f1f1;\n",
              "}\n",
              "#T_3cce0_row3_col1 {\n",
              "  background-color: #6ba5cd;\n",
              "  color: #f1f1f1;\n",
              "}\n",
              "#T_3cce0_row3_col2 {\n",
              "  background-color: #9ebad9;\n",
              "  color: #000000;\n",
              "}\n",
              "#T_3cce0_row4_col0 {\n",
              "  background-color: #69a5cc;\n",
              "  color: #f1f1f1;\n",
              "}\n",
              "#T_3cce0_row4_col1 {\n",
              "  background-color: #91b5d6;\n",
              "  color: #000000;\n",
              "}\n",
              "#T_3cce0_row4_col2, #T_3cce0_row7_col1 {\n",
              "  background-color: #89b1d4;\n",
              "  color: #000000;\n",
              "}\n",
              "#T_3cce0_row5_col0 {\n",
              "  background-color: #589ec8;\n",
              "  color: #f1f1f1;\n",
              "}\n",
              "#T_3cce0_row5_col1, #T_3cce0_row7_col2, #T_3cce0_row9_col0 {\n",
              "  background-color: #328dbf;\n",
              "  color: #f1f1f1;\n",
              "}\n",
              "#T_3cce0_row6_col0 {\n",
              "  background-color: #62a2cb;\n",
              "  color: #f1f1f1;\n",
              "}\n",
              "#T_3cce0_row6_col1 {\n",
              "  background-color: #3d93c2;\n",
              "  color: #f1f1f1;\n",
              "}\n",
              "#T_3cce0_row7_col0, #T_3cce0_row9_col1, #T_3cce0_row10_col1 {\n",
              "  background-color: #8cb3d5;\n",
              "  color: #000000;\n",
              "}\n",
              "#T_3cce0_row8_col0, #T_3cce0_row8_col1 {\n",
              "  background-color: #4c99c5;\n",
              "  color: #f1f1f1;\n",
              "}\n",
              "#T_3cce0_row8_col2 {\n",
              "  background-color: #a4bcda;\n",
              "  color: #000000;\n",
              "}\n",
              "#T_3cce0_row10_col0 {\n",
              "  background-color: #80aed2;\n",
              "  color: #f1f1f1;\n",
              "}\n",
              "#T_3cce0_row11_col0 {\n",
              "  background-color: #3b92c1;\n",
              "  color: #f1f1f1;\n",
              "}\n",
              "#T_3cce0_row11_col1 {\n",
              "  background-color: #a8bedc;\n",
              "  color: #000000;\n",
              "}\n",
              "#T_3cce0_row11_col2 {\n",
              "  background-color: #96b6d7;\n",
              "  color: #000000;\n",
              "}\n",
              "</style>\n",
              "<table id=\"T_3cce0\" class=\"dataframe\">\n",
              "  <thead>\n",
              "    <tr>\n",
              "      <th class=\"index_name level0\" >Category</th>\n",
              "      <th id=\"T_3cce0_level0_col0\" class=\"col_heading level0 col0\" >Appetizer</th>\n",
              "      <th id=\"T_3cce0_level0_col1\" class=\"col_heading level0 col1\" >Dessert</th>\n",
              "      <th id=\"T_3cce0_level0_col2\" class=\"col_heading level0 col2\" >Main Course</th>\n",
              "    </tr>\n",
              "    <tr>\n",
              "      <th class=\"index_name level0\" >Month</th>\n",
              "      <th class=\"blank col0\" >&nbsp;</th>\n",
              "      <th class=\"blank col1\" >&nbsp;</th>\n",
              "      <th class=\"blank col2\" >&nbsp;</th>\n",
              "    </tr>\n",
              "  </thead>\n",
              "  <tbody>\n",
              "    <tr>\n",
              "      <th id=\"T_3cce0_level0_row0\" class=\"row_heading level0 row0\" >1</th>\n",
              "      <td id=\"T_3cce0_row0_col0\" class=\"data row0 col0\" >3873.00</td>\n",
              "      <td id=\"T_3cce0_row0_col1\" class=\"data row0 col1\" >4570.50</td>\n",
              "      <td id=\"T_3cce0_row0_col2\" class=\"data row0 col2\" >11428.00</td>\n",
              "    </tr>\n",
              "    <tr>\n",
              "      <th id=\"T_3cce0_level0_row1\" class=\"row_heading level0 row1\" >2</th>\n",
              "      <td id=\"T_3cce0_row1_col0\" class=\"data row1 col0\" >4680.00</td>\n",
              "      <td id=\"T_3cce0_row1_col1\" class=\"data row1 col1\" >3568.50</td>\n",
              "      <td id=\"T_3cce0_row1_col2\" class=\"data row1 col2\" >10864.50</td>\n",
              "    </tr>\n",
              "    <tr>\n",
              "      <th id=\"T_3cce0_level0_row2\" class=\"row_heading level0 row2\" >3</th>\n",
              "      <td id=\"T_3cce0_row2_col0\" class=\"data row2 col0\" >5081.00</td>\n",
              "      <td id=\"T_3cce0_row2_col1\" class=\"data row2 col1\" >4178.50</td>\n",
              "      <td id=\"T_3cce0_row2_col2\" class=\"data row2 col2\" >11958.00</td>\n",
              "    </tr>\n",
              "    <tr>\n",
              "      <th id=\"T_3cce0_level0_row3\" class=\"row_heading level0 row3\" >4</th>\n",
              "      <td id=\"T_3cce0_row3_col0\" class=\"data row3 col0\" >5054.00</td>\n",
              "      <td id=\"T_3cce0_row3_col1\" class=\"data row3 col1\" >4314.00</td>\n",
              "      <td id=\"T_3cce0_row3_col2\" class=\"data row3 col2\" >11153.50</td>\n",
              "    </tr>\n",
              "    <tr>\n",
              "      <th id=\"T_3cce0_level0_row4\" class=\"row_heading level0 row4\" >5</th>\n",
              "      <td id=\"T_3cce0_row4_col0\" class=\"data row4 col0\" >4783.00</td>\n",
              "      <td id=\"T_3cce0_row4_col1\" class=\"data row4 col1\" >4040.50</td>\n",
              "      <td id=\"T_3cce0_row4_col2\" class=\"data row4 col2\" >11791.00</td>\n",
              "    </tr>\n",
              "    <tr>\n",
              "      <th id=\"T_3cce0_level0_row5\" class=\"row_heading level0 row5\" >6</th>\n",
              "      <td id=\"T_3cce0_row5_col0\" class=\"data row5 col0\" >4908.00</td>\n",
              "      <td id=\"T_3cce0_row5_col1\" class=\"data row5 col1\" >4670.50</td>\n",
              "      <td id=\"T_3cce0_row5_col2\" class=\"data row5 col2\" >9532.00</td>\n",
              "    </tr>\n",
              "    <tr>\n",
              "      <th id=\"T_3cce0_level0_row6\" class=\"row_heading level0 row6\" >7</th>\n",
              "      <td id=\"T_3cce0_row6_col0\" class=\"data row6 col0\" >4840.00</td>\n",
              "      <td id=\"T_3cce0_row6_col1\" class=\"data row6 col1\" >4597.00</td>\n",
              "      <td id=\"T_3cce0_row6_col2\" class=\"data row6 col2\" >11973.50</td>\n",
              "    </tr>\n",
              "    <tr>\n",
              "      <th id=\"T_3cce0_level0_row7\" class=\"row_heading level0 row7\" >8</th>\n",
              "      <td id=\"T_3cce0_row7_col0\" class=\"data row7 col0\" >4475.00</td>\n",
              "      <td id=\"T_3cce0_row7_col1\" class=\"data row7 col1\" >4098.50</td>\n",
              "      <td id=\"T_3cce0_row7_col2\" class=\"data row7 col2\" >14254.00</td>\n",
              "    </tr>\n",
              "    <tr>\n",
              "      <th id=\"T_3cce0_level0_row8\" class=\"row_heading level0 row8\" >9</th>\n",
              "      <td id=\"T_3cce0_row8_col0\" class=\"data row8 col0\" >4994.00</td>\n",
              "      <td id=\"T_3cce0_row8_col1\" class=\"data row8 col1\" >4497.50</td>\n",
              "      <td id=\"T_3cce0_row8_col2\" class=\"data row8 col2\" >10918.00</td>\n",
              "    </tr>\n",
              "    <tr>\n",
              "      <th id=\"T_3cce0_level0_row9\" class=\"row_heading level0 row9\" >10</th>\n",
              "      <td id=\"T_3cce0_row9_col0\" class=\"data row9 col0\" >5196.00</td>\n",
              "      <td id=\"T_3cce0_row9_col1\" class=\"data row9 col1\" >4076.00</td>\n",
              "      <td id=\"T_3cce0_row9_col2\" class=\"data row9 col2\" >12176.50</td>\n",
              "    </tr>\n",
              "    <tr>\n",
              "      <th id=\"T_3cce0_level0_row10\" class=\"row_heading level0 row10\" >11</th>\n",
              "      <td id=\"T_3cce0_row10_col0\" class=\"data row10 col0\" >4598.00</td>\n",
              "      <td id=\"T_3cce0_row10_col1\" class=\"data row10 col1\" >4073.50</td>\n",
              "      <td id=\"T_3cce0_row10_col2\" class=\"data row10 col2\" >12132.50</td>\n",
              "    </tr>\n",
              "    <tr>\n",
              "      <th id=\"T_3cce0_level0_row11\" class=\"row_heading level0 row11\" >12</th>\n",
              "      <td id=\"T_3cce0_row11_col0\" class=\"data row11 col0\" >5126.00</td>\n",
              "      <td id=\"T_3cce0_row11_col1\" class=\"data row11 col1\" >3856.00</td>\n",
              "      <td id=\"T_3cce0_row11_col2\" class=\"data row11 col2\" >11400.00</td>\n",
              "    </tr>\n",
              "  </tbody>\n",
              "</table>\n"
            ]
          },
          "metadata": {}
        }
      ]
    },
    {
      "cell_type": "code",
      "source": [
        "revenue_pivot.plot()\n",
        "plt.title('Динаміка доходу по місяцям')\n",
        "plt.xlabel('Month')\n",
        "plt.ylabel('Revenue');"
      ],
      "metadata": {
        "colab": {
          "base_uri": "https://localhost:8080/",
          "height": 472
        },
        "id": "GxXEGcGQK9Dx",
        "outputId": "1026f3b3-a96f-4055-8f96-6a5878a6b077"
      },
      "execution_count": 83,
      "outputs": [
        {
          "output_type": "display_data",
          "data": {
            "text/plain": [
              "<Figure size 640x480 with 1 Axes>"
            ],
            "image/png": "[encoded data removed]"
          },
          "metadata": {}
        }
      ]
    },
    {
      "cell_type": "markdown",
      "source": [
        "Основним джерелом прибутку є Main Course (основні страви).\n",
        "Лінія для Main Course (зелена) значно вища, ніж для інших категорій.\n",
        "У серпні спостерігається пік прибутку, після чого йде спад.\n",
        "Можливо, у цьому місяці були акції, сезонний попит або якісь події, що вплинули на продажі. Червень – помітний спад у Main Course. Варто перевірити, чи це сезонне зниження попиту.\n",
        "\n",
        "Appetizer (закуски) та Dessert (десерти) мають значно нижчий рівень прибутку, проте вони демонструють стабільність, що може бути плюсом для прогнозування продажів. Динаміка закусок виглядає трохи кращою за десерти, що може вказувати на їхню більшу популярність. Найменший прибуток від десертів, що може свідчити про менший попит на них.\n",
        "\n",
        "**Рекомендації:**\n",
        "Дослідити, чому серпень був таким прибутковим для основних страв і чи можна повторити цей ефект.\n",
        "Проаналізувати, чому десерти мають найнижчий рівень прибутку – можливо, варто переглянути меню або зробити спеціальні пропозиції.\n",
        "Закуски мають стабільний прибуток, але без сплесків – можна протестувати нові позиції або маркетингові стратегії для підвищення продажів.\n"
      ],
      "metadata": {
        "id": "DYBWOzvOHoX-"
      }
    },
    {
      "cell_type": "markdown",
      "source": [
        "**Питання 4. Визначення періодів пікових продажів?**"
      ],
      "metadata": {
        "id": "UHWijxLEUbPA"
      }
    },
    {
      "cell_type": "markdown",
      "source": [
        "\n",
        "\n",
        "*   **Розподіл продажів за годинами**\n",
        "\n",
        "\n"
      ],
      "metadata": {
        "id": "r2kRcKz_QPv5"
      }
    },
    {
      "cell_type": "code",
      "source": [
        "# Перетворення в datetime\n",
        "df['Time'] = pd.to_datetime(df['Time'], format='%I:%M %p')\n",
        "# Виділення лише години\n",
        "df['Hour'] = df['Time'].dt.hour"
      ],
      "metadata": {
        "id": "yFf9rnBVSgZI"
      },
      "execution_count": 84,
      "outputs": []
    },
    {
      "cell_type": "code",
      "source": [
        "# Підрахунок доходу за годинами\n",
        "hourly_sales = df.groupby('Hour')['Revenue'].sum().reset_index()"
      ],
      "metadata": {
        "id": "VfaZX-H0Sgq_"
      },
      "execution_count": 85,
      "outputs": []
    },
    {
      "cell_type": "code",
      "source": [
        "plt.figure(figsize=(10,5))\n",
        "sns.barplot(data=hourly_sales, x='Hour', y='Revenue', color='skyblue')\n",
        "plt.xlabel(\"Hour\")\n",
        "plt.ylabel(\"Revenue\")\n",
        "plt.title(\"Розподіл продажів за годинами\")\n",
        "plt.show()"
      ],
      "metadata": {
        "colab": {
          "base_uri": "https://localhost:8080/",
          "height": 487
        },
        "id": "iE6Ly1tUThso",
        "outputId": "d9f98e44-2915-4b70-ce71-0463a0fac042"
      },
      "execution_count": 87,
      "outputs": [
        {
          "output_type": "display_data",
          "data": {
            "text/plain": [
              "<Figure size 1000x500 with 1 Axes>"
            ],
            "image/png": "[encoded data removed]"
          },
          "metadata": {}
        }
      ]
    },
    {
      "cell_type": "markdown",
      "source": [
        "Замовлення розподілені рівномірно протягом доби. Це може означати, що кафе працює цілодобово або має постійний потік клієнтів. Найбільше замовлень о 8:00, 16:00 та 22:00.\n",
        "\n",
        "О 8:00 – можливий сніданковий пік (люди приходять за кавою та сніданком).\n",
        "\n",
        "О 16:00 – підйом може свідчити про вечірній чай/каву або перекуси після роботи.\n",
        "\n",
        "О 22:00 – активність може бути пов’язана з вечірніми зустрічами або пізніми перекусами.\n",
        "\n",
        "Немає сильної різниці між денними та нічними годинами.\n",
        "Це незвично, оскільки в більшості кафе нічні години мають значно менше замовлень.\n",
        "Можливо, це кафе в туристичному районі або місце, популярне серед людей, які працюють у нічну зміну."
      ],
      "metadata": {
        "id": "3unA8aieVLtY"
      }
    },
    {
      "cell_type": "markdown",
      "source": [
        "\n",
        "\n",
        "*   **Розподіл продажів за днями тижня**\n",
        "\n",
        "\n"
      ],
      "metadata": {
        "id": "jitY7ApJTKgL"
      }
    },
    {
      "cell_type": "code",
      "source": [
        "# додаємо колонку з днем тижня\n",
        "df['Date'] = pd.to_datetime(df['Date'])\n",
        "df['Weekday'] = df['Date'].dt.day_name()"
      ],
      "metadata": {
        "id": "tnPzq31uTDtv"
      },
      "execution_count": 14,
      "outputs": []
    },
    {
      "cell_type": "code",
      "source": [
        "# Підрахунок доходу за днями тижня\n",
        "weekday_sales = df.groupby('Weekday')['Revenue'].sum().reset_index()\n",
        "sns.barplot(data=weekday_sales, x='Weekday', y='Revenue', color='skyblue')\n",
        "plt.title(\"Дохід по днях тижня\")\n",
        "plt.show()"
      ],
      "metadata": {
        "colab": {
          "base_uri": "https://localhost:8080/",
          "height": 472
        },
        "id": "T0_mI5WIT8Ss",
        "outputId": "5db777af-6e8c-4db3-f5f5-14ad1815f9f3"
      },
      "execution_count": 93,
      "outputs": [
        {
          "output_type": "display_data",
          "data": {
            "text/plain": [
              "<Figure size 640x480 with 1 Axes>"
            ],
            "image/png": "[encoded data removed]"
          },
          "metadata": {}
        }
      ]
    },
    {
      "cell_type": "markdown",
      "source": [
        "Замовлення розподілені рівномірно протягом тижня"
      ],
      "metadata": {
        "id": "nR2K5gS7Ut0v"
      }
    },
    {
      "cell_type": "code",
      "source": [
        "pivot = df.pivot_table(index=['Payment Method'],  columns=['Weekday'] , values=['Quantity'], aggfunc='sum')\n",
        "display(pivot.style.background_gradient(axis=None, cmap='YlOrRd'))"
      ],
      "metadata": {
        "colab": {
          "base_uri": "https://localhost:8080/",
          "height": 206
        },
        "id": "yaLUbm_Q8mFA",
        "outputId": "33d70ca8-5de0-459c-d3fd-88945b8b7614"
      },
      "execution_count": 15,
      "outputs": [
        {
          "output_type": "display_data",
          "data": {
            "text/plain": [
              "<pandas.io.formats.style.Styler at 0x79c20c21ab50>"
            ],
            "text/html": [
              "<style type=\"text/css\">\n",
              "#T_ae2e3_row0_col0 {\n",
              "  background-color: #fec15d;\n",
              "  color: #000000;\n",
              "}\n",
              "#T_ae2e3_row0_col1 {\n",
              "  background-color: #e92720;\n",
              "  color: #f1f1f1;\n",
              "}\n",
              "#T_ae2e3_row0_col2 {\n",
              "  background-color: #fc612f;\n",
              "  color: #f1f1f1;\n",
              "}\n",
              "#T_ae2e3_row0_col3 {\n",
              "  background-color: #fd7234;\n",
              "  color: #f1f1f1;\n",
              "}\n",
              "#T_ae2e3_row0_col4 {\n",
              "  background-color: #fed36f;\n",
              "  color: #000000;\n",
              "}\n",
              "#T_ae2e3_row0_col5 {\n",
              "  background-color: #fc5b2e;\n",
              "  color: #f1f1f1;\n",
              "}\n",
              "#T_ae2e3_row0_col6 {\n",
              "  background-color: #fede80;\n",
              "  color: #000000;\n",
              "}\n",
              "#T_ae2e3_row1_col0 {\n",
              "  background-color: #febf5a;\n",
              "  color: #000000;\n",
              "}\n",
              "#T_ae2e3_row1_col1 {\n",
              "  background-color: #fec561;\n",
              "  color: #000000;\n",
              "}\n",
              "#T_ae2e3_row1_col2 {\n",
              "  background-color: #fedf83;\n",
              "  color: #000000;\n",
              "}\n",
              "#T_ae2e3_row1_col3 {\n",
              "  background-color: #feca66;\n",
              "  color: #000000;\n",
              "}\n",
              "#T_ae2e3_row1_col4 {\n",
              "  background-color: #feb24c;\n",
              "  color: #000000;\n",
              "}\n",
              "#T_ae2e3_row1_col5 {\n",
              "  background-color: #f43d25;\n",
              "  color: #f1f1f1;\n",
              "}\n",
              "#T_ae2e3_row1_col6 {\n",
              "  background-color: #ffffcc;\n",
              "  color: #000000;\n",
              "}\n",
              "#T_ae2e3_row2_col0 {\n",
              "  background-color: #ffe58f;\n",
              "  color: #000000;\n",
              "}\n",
              "#T_ae2e3_row2_col1 {\n",
              "  background-color: #ffefa4;\n",
              "  color: #000000;\n",
              "}\n",
              "#T_ae2e3_row2_col2 {\n",
              "  background-color: #feaf4b;\n",
              "  color: #000000;\n",
              "}\n",
              "#T_ae2e3_row2_col3 {\n",
              "  background-color: #fd7636;\n",
              "  color: #f1f1f1;\n",
              "}\n",
              "#T_ae2e3_row2_col4 {\n",
              "  background-color: #fff4b2;\n",
              "  color: #000000;\n",
              "}\n",
              "#T_ae2e3_row2_col5 {\n",
              "  background-color: #fed16e;\n",
              "  color: #000000;\n",
              "}\n",
              "#T_ae2e3_row2_col6 {\n",
              "  background-color: #800026;\n",
              "  color: #f1f1f1;\n",
              "}\n",
              "</style>\n",
              "<table id=\"T_ae2e3\" class=\"dataframe\">\n",
              "  <thead>\n",
              "    <tr>\n",
              "      <th class=\"blank level0\" >&nbsp;</th>\n",
              "      <th id=\"T_ae2e3_level0_col0\" class=\"col_heading level0 col0\" colspan=\"7\">Quantity</th>\n",
              "    </tr>\n",
              "    <tr>\n",
              "      <th class=\"index_name level1\" >Weekday</th>\n",
              "      <th id=\"T_ae2e3_level1_col0\" class=\"col_heading level1 col0\" >Friday</th>\n",
              "      <th id=\"T_ae2e3_level1_col1\" class=\"col_heading level1 col1\" >Monday</th>\n",
              "      <th id=\"T_ae2e3_level1_col2\" class=\"col_heading level1 col2\" >Saturday</th>\n",
              "      <th id=\"T_ae2e3_level1_col3\" class=\"col_heading level1 col3\" >Sunday</th>\n",
              "      <th id=\"T_ae2e3_level1_col4\" class=\"col_heading level1 col4\" >Thursday</th>\n",
              "      <th id=\"T_ae2e3_level1_col5\" class=\"col_heading level1 col5\" >Tuesday</th>\n",
              "      <th id=\"T_ae2e3_level1_col6\" class=\"col_heading level1 col6\" >Wednesday</th>\n",
              "    </tr>\n",
              "    <tr>\n",
              "      <th class=\"index_name level0\" >Payment Method</th>\n",
              "      <th class=\"blank col0\" >&nbsp;</th>\n",
              "      <th class=\"blank col1\" >&nbsp;</th>\n",
              "      <th class=\"blank col2\" >&nbsp;</th>\n",
              "      <th class=\"blank col3\" >&nbsp;</th>\n",
              "      <th class=\"blank col4\" >&nbsp;</th>\n",
              "      <th class=\"blank col5\" >&nbsp;</th>\n",
              "      <th class=\"blank col6\" >&nbsp;</th>\n",
              "    </tr>\n",
              "  </thead>\n",
              "  <tbody>\n",
              "    <tr>\n",
              "      <th id=\"T_ae2e3_level0_row0\" class=\"row_heading level0 row0\" >Cash</th>\n",
              "      <td id=\"T_ae2e3_row0_col0\" class=\"data row0 col0\" >1401</td>\n",
              "      <td id=\"T_ae2e3_row0_col1\" class=\"data row0 col1\" >1516</td>\n",
              "      <td id=\"T_ae2e3_row0_col2\" class=\"data row0 col2\" >1478</td>\n",
              "      <td id=\"T_ae2e3_row0_col3\" class=\"data row0 col3\" >1468</td>\n",
              "      <td id=\"T_ae2e3_row0_col4\" class=\"data row0 col4\" >1385</td>\n",
              "      <td id=\"T_ae2e3_row0_col5\" class=\"data row0 col5\" >1482</td>\n",
              "      <td id=\"T_ae2e3_row0_col6\" class=\"data row0 col6\" >1370</td>\n",
              "    </tr>\n",
              "    <tr>\n",
              "      <th id=\"T_ae2e3_level0_row1\" class=\"row_heading level0 row1\" >Credit Card</th>\n",
              "      <td id=\"T_ae2e3_row1_col0\" class=\"data row1 col0\" >1404</td>\n",
              "      <td id=\"T_ae2e3_row1_col1\" class=\"data row1 col1\" >1398</td>\n",
              "      <td id=\"T_ae2e3_row1_col2\" class=\"data row1 col2\" >1368</td>\n",
              "      <td id=\"T_ae2e3_row1_col3\" class=\"data row1 col3\" >1393</td>\n",
              "      <td id=\"T_ae2e3_row1_col4\" class=\"data row1 col4\" >1416</td>\n",
              "      <td id=\"T_ae2e3_row1_col5\" class=\"data row1 col5\" >1502</td>\n",
              "      <td id=\"T_ae2e3_row1_col6\" class=\"data row1 col6\" >1305</td>\n",
              "    </tr>\n",
              "    <tr>\n",
              "      <th id=\"T_ae2e3_level0_row2\" class=\"row_heading level0 row2\" >Mobile Payment</th>\n",
              "      <td id=\"T_ae2e3_row2_col0\" class=\"data row2 col0\" >1357</td>\n",
              "      <td id=\"T_ae2e3_row2_col1\" class=\"data row2 col1\" >1339</td>\n",
              "      <td id=\"T_ae2e3_row2_col2\" class=\"data row2 col2\" >1418</td>\n",
              "      <td id=\"T_ae2e3_row2_col3\" class=\"data row2 col3\" >1466</td>\n",
              "      <td id=\"T_ae2e3_row2_col4\" class=\"data row2 col4\" >1328</td>\n",
              "      <td id=\"T_ae2e3_row2_col5\" class=\"data row2 col5\" >1386</td>\n",
              "      <td id=\"T_ae2e3_row2_col6\" class=\"data row2 col6\" >1600</td>\n",
              "    </tr>\n",
              "  </tbody>\n",
              "</table>\n"
            ]
          },
          "metadata": {}
        }
      ]
    },
    {
      "cell_type": "markdown",
      "source": [
        "**Питання 5. Ефективність меню.**"
      ],
      "metadata": {
        "id": "dmsoMitqdjWT"
      }
    },
    {
      "cell_type": "markdown",
      "source": [
        "\n",
        "\n",
        "*   **Аналіз продажів кожного пункту меню**\n",
        "\n",
        "\n"
      ],
      "metadata": {
        "id": "VTQaxVHiL24_"
      }
    },
    {
      "cell_type": "code",
      "source": [
        "menu_analysis = df.groupby('Menu Item')['Quantity'].sum().sort_values(ascending=False)"
      ],
      "metadata": {
        "id": "Ug9taXH9dtGN"
      },
      "execution_count": 11,
      "outputs": []
    },
    {
      "cell_type": "markdown",
      "source": [
        "\n",
        "\n",
        "*   **Оцінка прибутковості**\n",
        "\n",
        "\n"
      ],
      "metadata": {
        "id": "1hbLFmU_MR8s"
      }
    },
    {
      "cell_type": "code",
      "source": [
        "revenue_analysis = df.groupby('Menu Item')['Revenue'].sum().sort_values(ascending=False)"
      ],
      "metadata": {
        "id": "tmL7SeiCeNHH"
      },
      "execution_count": 12,
      "outputs": []
    },
    {
      "cell_type": "markdown",
      "source": [
        "\n",
        "\n",
        "*   **Оцінка ефективності меню**\n",
        "\n",
        "\n"
      ],
      "metadata": {
        "id": "Ukoga3eYNNYa"
      }
    },
    {
      "cell_type": "code",
      "source": [
        "result = pd.DataFrame({'Quantity': menu_analysis, 'Revenue': revenue_analysis})\n",
        "result = result.sort_values(by='Quantity', ascending=False)\n",
        "print(result)"
      ],
      "metadata": {
        "colab": {
          "base_uri": "https://localhost:8080/"
        },
        "id": "8xY3XI8oeNg4",
        "outputId": "22267cff-18aa-432e-b270-8eb4fee88687"
      },
      "execution_count": 13,
      "outputs": [
        {
          "output_type": "stream",
          "name": "stdout",
          "text": [
            "                     Quantity  Revenue\n",
            "Menu Item                             \n",
            "Tiramisu                 3148  20462.0\n",
            "Fettuccine Alfredo       3089  40157.0\n",
            "Panna Cotta              3016  16588.0\n",
            "Lasagna                  2999  34488.5\n",
            "Gelato                   2998  13491.0\n",
            "Minestrone Soup          2990  20930.0\n",
            "Spaghetti Carbonara      2983  35796.0\n",
            "Margherita Pizza         2914  29140.0\n",
            "Bruschetta               2822  14110.0\n",
            "Caprese Salad            2821  22568.0\n"
          ]
        }
      ]
    },
    {
      "cell_type": "markdown",
      "source": [
        "Лідером за кількістю продажів є десерт Tiramisu (3148 порцій), але його загальний дохід (20462) менший за інші страви, наприклад, Fettuccine Alfredo (40157). Це може бути через те, що його середня ціна нижча, або що клієнти часто обирають його як доповнення до основних страв.\n",
        "\n",
        "Найбільший дохід приносить Fettuccine Alfredo (40157), хоча за кількістю продажів (3089) він на другому місці. Його висока ціна робить його найприбутковішим товаром у меню. Варто розглянути можливість просування цієї страви, щоб підвищити її продажі ще більше.\n",
        "\n",
        "Дорогі, але менш популярні страви – Spaghetti Carbonara та Lasagna. Spaghetti Carbonara має 2983 продажів, але його дохід (35796) значно вищий, ніж у Minestrone Soup (20930), хоча обидва мають схожу кількість продажів.\n",
        "Lasagna продано 2999 разів, але її дохід (34488.5), також один із найвищих. Це означає, що ціна на ці страви є достатньо високою.\n",
        "\n",
        "Десерти та закуски мають високий попит, але нижчий дохід. Panna Cotta продана 3016 разів, але принесла лише 16588, що говорить про її низьку ціну.\n",
        "Gelato та Bruschetta мають понад 2800 продажів, але їхній дохід є одним із найнижчих у списку.\n",
        "\n",
        "**Рекомендації:**\n",
        "Популярні, але недоходні страви: розглянути підвищення ціни на Tiramisu, Panna\n",
        "Cotta, Gelato та Bruschetta.\n",
        "\n",
        "Дохідні, але не найбільш популярні: Fettuccine Alfredo та Spaghetti Carbonara мають високу вартість – їх можна активніше просувати через акції або комбо-пропозиції.\n",
        "\n",
        "Оптимізація меню: можливо, варто переглянути Gelato, Bruschetta та інші низькодохідні страви – чи варто їх залишати в меню в поточному вигляді?"
      ],
      "metadata": {
        "id": "eGKA3qumNlZH"
      }
    },
    {
      "cell_type": "markdown",
      "source": [
        "**Питання 6. Розглянемо залежність між кількістю проданих одиниць (Quantity) та виручкою (Revenue) за допомогою діаграми розсіювання.**"
      ],
      "metadata": {
        "id": "SrSVWlLoXasB"
      }
    },
    {
      "cell_type": "code",
      "source": [
        "sns.regplot(data = df, x = 'Quantity', y = 'Revenue', scatter_kws = {'alpha': 0.4}, line_kws = {'color': 'red'});"
      ],
      "metadata": {
        "colab": {
          "base_uri": "https://localhost:8080/",
          "height": 449
        },
        "id": "mIuiRsRGAiQW",
        "outputId": "142c3f8b-b636-4c55-9ade-4a2d0bf59ee4"
      },
      "execution_count": 7,
      "outputs": [
        {
          "output_type": "display_data",
          "data": {
            "text/plain": [
              "<Figure size 640x480 with 1 Axes>"
            ],
            "image/png": "[encoded data removed]"
          },
          "metadata": {}
        }
      ]
    },
    {
      "cell_type": "markdown",
      "source": [
        "Графік показує залежність між кількістю проданих одиниць (Quantity) та виручкою (Revenue).\n",
        "\n",
        "Позитивна кореляція – червона лінія тренду свідчить, що зі збільшенням кількості проданих товарів виручка також зростає. Це логічно, адже чим більше продано, тим вищий дохід.\n",
        "\n",
        "Різний рівень доходу при однаковій кількості продажів – видно, що для одного значення Quantity (наприклад, 3 чи 4) виручка варіюється. Це означає, що товари мають різні ціни.\n",
        "\n",
        "Деякі товари мають високу виручку навіть при малій кількості продажів – на графіку є точки з високим Revenue при низькому Quantity. Це можуть бути дорогі позиції меню, які продаються рідше, але приносять більше прибутку.\n",
        "\n"
      ],
      "metadata": {
        "id": "OvOMvYcFDXRs"
      }
    },
    {
      "cell_type": "markdown",
      "source": [
        "**Питання 7. Перевіримо, чи є статистично значуща різниця в доході (Revenue) між двома різними способами оплати: Credit Card та Cash.**\n",
        "Використаємо статистий тест z-test. Рівень статистичної значущості alpha = 0.05."
      ],
      "metadata": {
        "id": "0oRgAu8Vdnu8"
      }
    },
    {
      "cell_type": "markdown",
      "source": [
        "**Формулюємо гіпотези:**\n",
        "\n",
        "Н0 (нульова гіпотеза): дохід для Credit Card і Cash однаковий.\n",
        "\n",
        "H1 (альтернативна гіпотеза): дохід для Credit Card і Cash відрізняється."
      ],
      "metadata": {
        "id": "z64_efLleiSB"
      }
    },
    {
      "cell_type": "code",
      "source": [
        "from statsmodels.stats.weightstats import ztest"
      ],
      "metadata": {
        "id": "mac_nD7DVqEk"
      },
      "execution_count": 41,
      "outputs": []
    },
    {
      "cell_type": "code",
      "source": [
        "# Формуємо дві вибірки за методом оплати\n",
        "credit_card_revenue = df[df['Payment Method'] == 'Credit Card']['Revenue']\n",
        "cash_revenue = df[df['Payment Method'] == 'Cash']['Revenue']\n",
        "\n",
        "# Виконуємо Z-тест\n",
        "z_stat, p_value = ztest(credit_card_revenue, cash_revenue)\n",
        "\n",
        "# Виводимо результати\n",
        "print(f\"Z-статистика: {z_stat:.2f}\")\n",
        "print(f\"P-значення: {p_value:.4f}\")\n",
        "\n",
        "# Перевірка гіпотези\n",
        "alpha = 0.05\n",
        "if p_value < alpha:\n",
        "    print(\"Відхиляємо нульову гіпотезу. Дохід значно відрізняється для цих методів оплати.\")\n",
        "else:\n",
        "    print(\"Не можемо відхилити нульову гіпотезу. Немає статистично значущої різниці між доходом для цих методів оплати.\")"
      ],
      "metadata": {
        "colab": {
          "base_uri": "https://localhost:8080/"
        },
        "id": "9mRMbIrgVrZs",
        "outputId": "735b26b3-f396-4539-e793-334a7f0ac88e"
      },
      "execution_count": 42,
      "outputs": [
        {
          "output_type": "stream",
          "name": "stdout",
          "text": [
            "Z-статистика: -1.34\n",
            "P-значення: 0.1812\n",
            "Не можемо відхилити нульову гіпотезу. Немає статистично значущої різниці між середнім доходом.\n"
          ]
        }
      ]
    },
    {
      "cell_type": "markdown",
      "source": [
        "Таким чином, p-value є більшим ніж рівень статистичної значущості alpha. Це означає, що не можна відхилити нульову гіпотезу, оскільки немає статистично значущої різниці між доходом для методів оплати Credit Card і Cash."
      ],
      "metadata": {
        "id": "lm8GNj5dg0YY"
      }
    },
    {
      "cell_type": "markdown",
      "source": [
        "**Питання 8. Перевірка кореляції між колонками з числовими показниками.**"
      ],
      "metadata": {
        "id": "j0sEDapRisGr"
      }
    },
    {
      "cell_type": "code",
      "source": [
        "# Вибираємо лише числові колонки\n",
        "df_numeric = df.select_dtypes(include=['number'])\n",
        "\n",
        "# Обчислюємо кореляційну матрицю\n",
        "matrix = np.triu(df_numeric.corr())\n",
        "\n",
        "# Будуємо heatmap\n",
        "plt.figure(figsize=(8,6))\n",
        "sns.heatmap(df_numeric.corr(), annot=True, cmap=\"coolwarm\", mask=matrix, fmt=\".2f\", linewidths=0.5)\n",
        "\n",
        "plt.title(\"Кореляційна матриця\")\n",
        "plt.show()"
      ],
      "metadata": {
        "colab": {
          "base_uri": "https://localhost:8080/",
          "height": 545
        },
        "id": "Kl71BUpKZgBM",
        "outputId": "1c54b3d9-e787-4edd-e55f-2c3cd1639eea"
      },
      "execution_count": 23,
      "outputs": [
        {
          "output_type": "display_data",
          "data": {
            "text/plain": [
              "<Figure size 800x600 with 2 Axes>"
            ],
            "image/png": "[encoded data removed]"
          },
          "metadata": {}
        }
      ]
    },
    {
      "cell_type": "markdown",
      "source": [
        "Revenue & Quantity мають позитивну кореляцію, оскільки чим більше товарів купують, тим більший дохід.\n",
        "Revenue & Price (per item) також мають позитивну кореляцію, але ці показники мають більш слабкий зв’язок, а ніж попередні два показники. Дохід залежить від попиту на дорожчі страви."
      ],
      "metadata": {
        "id": "EOHD2Dsdj8o_"
      }
    },
    {
      "cell_type": "markdown",
      "source": [
        "**Питання 9. Аналіз Payment Method (Метод оплати).**"
      ],
      "metadata": {
        "id": "Kn2BB5sQmkMH"
      }
    },
    {
      "cell_type": "markdown",
      "source": [
        "Щоб дізнатися, який метод оплати найпопулярніший, побудуймо кругову діаграму (pie chart)."
      ],
      "metadata": {
        "id": "j2nQVYbgmrTb"
      }
    },
    {
      "cell_type": "code",
      "source": [
        "df['Payment Method'].value_counts().plot(kind='pie', autopct='%1.1f%%')\n",
        "\n",
        "plt.title('Розподіл методів оплати')\n",
        "plt.ylabel('')\n",
        "plt.show()"
      ],
      "metadata": {
        "colab": {
          "base_uri": "https://localhost:8080/",
          "height": 428
        },
        "id": "qmXmNcOynI3u",
        "outputId": "c19f42e3-870b-4db2-8c3f-df3711917022"
      },
      "execution_count": 24,
      "outputs": [
        {
          "output_type": "display_data",
          "data": {
            "text/plain": [
              "<Figure size 640x480 with 1 Axes>"
            ],
            "image/png": "[encoded data removed]"
          },
          "metadata": {}
        }
      ]
    },
    {
      "cell_type": "markdown",
      "source": [
        "Система оплати замовлень розподілена рівномірно, але перевага все ж таки надається оплаті готівкою та мобільними розрахунками."
      ],
      "metadata": {
        "id": "XbFAdu9wnZxo"
      }
    },
    {
      "cell_type": "code",
      "source": [
        "df['Avg_Price'] = df['Revenue'] / df['Quantity']\n",
        "\n",
        "# Побудова scatter plot\n",
        "plt.figure(figsize=(9, 4))\n",
        "sns.scatterplot(data=df, x='Avg_Price', y='Quantity', hue='Menu Item', palette='viridis', s=100, alpha=0.7)\n",
        "\n",
        "# Додаємо підписи осей і заголовок\n",
        "plt.xlabel('Average Price per Item ($)')\n",
        "plt.ylabel('Quantity Sold')\n",
        "plt.title('Scatter Plot: Price vs Quantity Sold')\n",
        "plt.legend(loc='upper right', bbox_to_anchor=(1.3, 1))  # Відображаємо легенду\n",
        "plt.grid(True)\n",
        "\n",
        "# Відображаємо графік\n",
        "plt.show()"
      ],
      "metadata": {
        "colab": {
          "base_uri": "https://localhost:8080/",
          "height": 410
        },
        "id": "HY4O_4WzejAy",
        "outputId": "d6759507-299b-42e8-ede3-c10ee5235402"
      },
      "execution_count": 109,
      "outputs": [
        {
          "output_type": "display_data",
          "data": {
            "text/plain": [
              "<Figure size 900x400 with 1 Axes>"
            ],
            "image/png": "[encoded data removed]"
          },
          "metadata": {}
        }
      ]
    },
    {
      "cell_type": "code",
      "source": [
        "df.groupby('Payment Method')['Revenue'].sum().plot(kind='bar', color='skyblue')\n",
        "plt.title('Виручка по методу оплати')\n",
        "plt.ylabel('Виручка')\n",
        "plt.xlabel('Метод оплати')\n",
        "plt.show()"
      ],
      "metadata": {
        "colab": {
          "base_uri": "https://localhost:8080/",
          "height": 569
        },
        "id": "a9OagBeXbo8r",
        "outputId": "23cfec58-3499-4dab-fafd-34a5689ee880"
      },
      "execution_count": 17,
      "outputs": [
        {
          "output_type": "display_data",
          "data": {
            "text/plain": [
              "<Figure size 640x480 with 1 Axes>"
            ],
            "image/png": "[encoded data removed]"
          },
          "metadata": {}
        }
      ]
    },
    {
      "cell_type": "code",
      "source": [
        "df.groupby('Payment Method')['Revenue'].mean()"
      ],
      "metadata": {
        "colab": {
          "base_uri": "https://localhost:8080/",
          "height": 210
        },
        "id": "Jl60FjHqb3Lu",
        "outputId": "541f2f8f-6418-4051-daa2-f39caeb070c9"
      },
      "execution_count": 18,
      "outputs": [
        {
          "output_type": "execute_result",
          "data": {
            "text/plain": [
              "Payment Method\n",
              "Cash              25.056758\n",
              "Credit Card       24.553848\n",
              "Mobile Payment    24.702156\n",
              "Name: Revenue, dtype: float64"
            ],
            "text/html": [
              "<div>\n",
              "<style scoped>\n",
              "    .dataframe tbody tr th:only-of-type {\n",
              "        vertical-align: middle;\n",
              "    }\n",
              "\n",
              "    .dataframe tbody tr th {\n",
              "        vertical-align: top;\n",
              "    }\n",
              "\n",
              "    .dataframe thead th {\n",
              "        text-align: right;\n",
              "    }\n",
              "</style>\n",
              "<table border=\"1\" class=\"dataframe\">\n",
              "  <thead>\n",
              "    <tr style=\"text-align: right;\">\n",
              "      <th></th>\n",
              "      <th>Revenue</th>\n",
              "    </tr>\n",
              "    <tr>\n",
              "      <th>Payment Method</th>\n",
              "      <th></th>\n",
              "    </tr>\n",
              "  </thead>\n",
              "  <tbody>\n",
              "    <tr>\n",
              "      <th>Cash</th>\n",
              "      <td>25.056758</td>\n",
              "    </tr>\n",
              "    <tr>\n",
              "      <th>Credit Card</th>\n",
              "      <td>24.553848</td>\n",
              "    </tr>\n",
              "    <tr>\n",
              "      <th>Mobile Payment</th>\n",
              "      <td>24.702156</td>\n",
              "    </tr>\n",
              "  </tbody>\n",
              "</table>\n",
              "</div><br><label><b>dtype:</b> float64</label>"
            ]
          },
          "metadata": {},
          "execution_count": 18
        }
      ]
    },
    {
      "cell_type": "code",
      "source": [
        "df['Customer Type'].value_counts().plot(kind='bar', color='orange')\n",
        "plt.title('Розподіл типів клієнтів')\n",
        "plt.xlabel('Тип клієнта')\n",
        "plt.ylabel('Кількість замовлень')\n",
        "plt.show()"
      ],
      "metadata": {
        "colab": {
          "base_uri": "https://localhost:8080/",
          "height": 526
        },
        "id": "mR2NrrH1cHsD",
        "outputId": "26cebfc3-d1ed-491f-8ac5-58b070fe87ca"
      },
      "execution_count": 19,
      "outputs": [
        {
          "output_type": "display_data",
          "data": {
            "text/plain": [
              "<Figure size 640x480 with 1 Axes>"
            ],
            "image/png": "[encoded data removed]"
          },
          "metadata": {}
        }
      ]
    },
    {
      "cell_type": "code",
      "source": [
        "df['Payment Method'].value_counts().plot(kind='pie', autopct='%1.1f%%', colors=['lightpink', 'lightgreen', 'lightblue'])\n",
        "plt.title('Розподіл методів оплати')\n",
        "plt.ylabel('')\n",
        "plt.show()"
      ],
      "metadata": {
        "colab": {
          "base_uri": "https://localhost:8080/",
          "height": 428
        },
        "id": "acrfuS9rcPYR",
        "outputId": "b1115d83-8302-401f-af91-a8875107a289"
      },
      "execution_count": 29,
      "outputs": [
        {
          "output_type": "display_data",
          "data": {
            "text/plain": [
              "<Figure size 640x480 with 1 Axes>"
            ],
            "image/png": "[encoded data removed]"
          },
          "metadata": {}
        }
      ]
    },
    {
      "cell_type": "code",
      "source": [
        "df.groupby('Customer Type')['Revenue'].sum().plot(kind='bar', color='green')\n",
        "plt.title('Прибуток по типу клієнтів')\n",
        "plt.xlabel('Тип клієнта')\n",
        "plt.ylabel('Прибуток')\n",
        "plt.show()"
      ],
      "metadata": {
        "colab": {
          "base_uri": "https://localhost:8080/",
          "height": 526
        },
        "id": "hYMUv2NDcav2",
        "outputId": "09ddf97e-a741-4f60-e4a1-a88264f15735"
      },
      "execution_count": 21,
      "outputs": [
        {
          "output_type": "display_data",
          "data": {
            "text/plain": [
              "<Figure size 640x480 with 1 Axes>"
            ],
            "image/png": "[encoded data removed]"
          },
          "metadata": {}
        }
      ]
    },
    {
      "cell_type": "code",
      "source": [
        "payment_customer = df.pivot_table(index='Customer Type', columns='Payment Method', values='Revenue', aggfunc='sum')\n",
        "sns.heatmap(payment_customer, annot=True, cmap='coolwarm')\n",
        "plt.title('Прибуток по методам оплати і типу клієнтів')\n",
        "plt.show()"
      ],
      "metadata": {
        "colab": {
          "base_uri": "https://localhost:8080/",
          "height": 472
        },
        "id": "XhT9QyWTcm4i",
        "outputId": "ab1e443f-63cd-4e03-d942-93949e065205"
      },
      "execution_count": 22,
      "outputs": [
        {
          "output_type": "display_data",
          "data": {
            "text/plain": [
              "<Figure size 640x480 with 2 Axes>"
            ],
            "image/png": "[encoded data removed]"
          },
          "metadata": {}
        }
      ]
    }
  ]
}