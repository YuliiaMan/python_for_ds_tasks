{
  "nbformat": 4,
  "nbformat_minor": 0,
  "metadata": {
    "colab": {
      "provenance": [],
      "mount_file_id": "1KE38I5X6opSoI1FwsWcrOgmH5KIx0aWq",
      "authorship_tag": "ABX9TyM5jQ6Du7f6s2YXfeaX02Eo",
      "include_colab_link": true
    },
    "kernelspec": {
      "name": "python3",
      "display_name": "Python 3"
    },
    "language_info": {
      "name": "python"
    }
  },
  "cells": [
    {
      "cell_type": "markdown",
      "metadata": {
        "id": "view-in-github",
        "colab_type": "text"
      },
      "source": [
        "<a href=\"https://colab.research.google.com/github/YuliiaMan/python_for_ds_tasks/blob/main/Italian_restaurant_sales.ipynb\" target=\"_parent\"><img src=\"https://colab.research.google.com/assets/colab-badge.svg\" alt=\"Open In Colab\"/></a>"
      ]
    },
    {
      "cell_type": "markdown",
      "source": [
        "# **Аналіз продажів Італійського бістро**"
      ],
      "metadata": {
        "id": "8QvlnJ34x3bI"
      }
    },
    {
      "cell_type": "markdown",
      "source": [
        "**Завантаження бібліотек**"
      ],
      "metadata": {
        "id": "5tJZIuQoyNIR"
      }
    },
    {
      "cell_type": "code",
      "source": [
        "import pandas as pd\n",
        "import numpy as np\n",
        "from matplotlib import pyplot as plt\n",
        "import seaborn as sns\n",
        "import warnings"
      ],
      "metadata": {
        "id": "uBErZRN0i-GS"
      },
      "execution_count": 1,
      "outputs": []
    },
    {
      "cell_type": "markdown",
      "source": [
        "**Встановлення бібліотеки, яка потрібна для роботи з Excel файлами з pandas**"
      ],
      "metadata": {
        "id": "DcrXQM9Wot0c"
      }
    },
    {
      "cell_type": "code",
      "source": [
        "!pip install openpyxl"
      ],
      "metadata": {
        "colab": {
          "base_uri": "https://localhost:8080/"
        },
        "id": "3I4-vcrFfLLe",
        "outputId": "4d54fbc3-126c-4ee2-ed1a-03d77ead2982"
      },
      "execution_count": 2,
      "outputs": [
        {
          "output_type": "stream",
          "name": "stdout",
          "text": [
            "Requirement already satisfied: openpyxl in /usr/local/lib/python3.11/dist-packages (3.1.5)\n",
            "Requirement already satisfied: et-xmlfile in /usr/local/lib/python3.11/dist-packages (from openpyxl) (2.0.0)\n"
          ]
        }
      ]
    },
    {
      "cell_type": "markdown",
      "source": [
        "**Шлях до даних, які записані до змінної df**"
      ],
      "metadata": {
        "id": "TF5B6qpKpeKN"
      }
    },
    {
      "cell_type": "code",
      "source": [
        "from google.colab import drive\n",
        "drive.mount('/content/drive')"
      ],
      "metadata": {
        "colab": {
          "base_uri": "https://localhost:8080/"
        },
        "id": "A9wmktQ0fLHi",
        "outputId": "4c280dd4-f43f-43da-af6a-27422ccf3206"
      },
      "execution_count": 3,
      "outputs": [
        {
          "output_type": "stream",
          "name": "stdout",
          "text": [
            "Drive already mounted at /content/drive; to attempt to forcibly remount, call drive.mount(\"/content/drive\", force_remount=True).\n"
          ]
        }
      ]
    },
    {
      "cell_type": "code",
      "source": [
        "data_path = '/content/drive/MyDrive/Home tasks/large_italian_restaurant_sales.xlsx'\n",
        "df = pd.read_excel(data_path)"
      ],
      "metadata": {
        "id": "2NY7fVKffLBz"
      },
      "execution_count": 4,
      "outputs": []
    },
    {
      "cell_type": "markdown",
      "source": [
        "# **1. Аналіз даних перед початком роботи**"
      ],
      "metadata": {
        "id": "rzwww96BhTyX"
      }
    },
    {
      "cell_type": "markdown",
      "source": [
        "\n",
        "\n",
        "*   **Розмір даних**\n",
        "\n",
        "\n"
      ],
      "metadata": {
        "id": "ylAo3pIkhzuy"
      }
    },
    {
      "cell_type": "code",
      "source": [
        "df.shape"
      ],
      "metadata": {
        "colab": {
          "base_uri": "https://localhost:8080/"
        },
        "id": "GvXDHXSUfKzK",
        "outputId": "334acdc8-aeeb-4fd5-872f-edefd3b312b4"
      },
      "execution_count": 5,
      "outputs": [
        {
          "output_type": "execute_result",
          "data": {
            "text/plain": [
              "(10000, 9)"
            ]
          },
          "metadata": {},
          "execution_count": 5
        }
      ]
    },
    {
      "cell_type": "markdown",
      "source": [
        "\n",
        "\n",
        "*   **Перегляд набору даних**\n",
        "\n",
        "\n"
      ],
      "metadata": {
        "id": "Pi_NWxYwiIuF"
      }
    },
    {
      "cell_type": "code",
      "source": [
        "pd.concat([df.head(3), df.tail(3)])"
      ],
      "metadata": {
        "colab": {
          "base_uri": "https://localhost:8080/",
          "height": 238
        },
        "id": "fKkDQ1lofKUi",
        "outputId": "418ee855-d678-448a-cb0c-d55286ec8ceb"
      },
      "execution_count": 6,
      "outputs": [
        {
          "output_type": "execute_result",
          "data": {
            "text/plain": [
              "            Date      Time         Menu Item     Category  Quantity  \\\n",
              "0     2024-11-23  03:48 AM  Margherita Pizza  Main Course         3   \n",
              "1     2024-03-12  03:29 AM     Caprese Salad    Appetizer         1   \n",
              "2     2024-01-17  01:01 AM          Tiramisu      Dessert         2   \n",
              "9997  2024-10-29  03:21 AM           Lasagna  Main Course         1   \n",
              "9998  2024-11-08  11:18 PM     Caprese Salad    Appetizer         1   \n",
              "9999  2024-11-15  03:25 PM          Tiramisu      Dessert         5   \n",
              "\n",
              "      Price (per item)  Revenue  Payment Method Customer Type  \n",
              "0                 10.0     30.0     Credit Card       Dine-In  \n",
              "1                  8.0      8.0  Mobile Payment      Takeaway  \n",
              "2                  6.5     13.0     Credit Card      Delivery  \n",
              "9997              11.5     11.5     Credit Card      Delivery  \n",
              "9998               8.0      8.0     Credit Card      Delivery  \n",
              "9999               6.5     32.5     Credit Card      Delivery  "
            ],
            "text/html": [
              "\n",
              "  <div id=\"df-6495c458-0d88-45d1-a085-6ac379953018\" class=\"colab-df-container\">\n",
              "    <div>\n",
              "<style scoped>\n",
              "    .dataframe tbody tr th:only-of-type {\n",
              "        vertical-align: middle;\n",
              "    }\n",
              "\n",
              "    .dataframe tbody tr th {\n",
              "        vertical-align: top;\n",
              "    }\n",
              "\n",
              "    .dataframe thead th {\n",
              "        text-align: right;\n",
              "    }\n",
              "</style>\n",
              "<table border=\"1\" class=\"dataframe\">\n",
              "  <thead>\n",
              "    <tr style=\"text-align: right;\">\n",
              "      <th></th>\n",
              "      <th>Date</th>\n",
              "      <th>Time</th>\n",
              "      <th>Menu Item</th>\n",
              "      <th>Category</th>\n",
              "      <th>Quantity</th>\n",
              "      <th>Price (per item)</th>\n",
              "      <th>Revenue</th>\n",
              "      <th>Payment Method</th>\n",
              "      <th>Customer Type</th>\n",
              "    </tr>\n",
              "  </thead>\n",
              "  <tbody>\n",
              "    <tr>\n",
              "      <th>0</th>\n",
              "      <td>2024-11-23</td>\n",
              "      <td>03:48 AM</td>\n",
              "      <td>Margherita Pizza</td>\n",
              "      <td>Main Course</td>\n",
              "      <td>3</td>\n",
              "      <td>10.0</td>\n",
              "      <td>30.0</td>\n",
              "      <td>Credit Card</td>\n",
              "      <td>Dine-In</td>\n",
              "    </tr>\n",
              "    <tr>\n",
              "      <th>1</th>\n",
              "      <td>2024-03-12</td>\n",
              "      <td>03:29 AM</td>\n",
              "      <td>Caprese Salad</td>\n",
              "      <td>Appetizer</td>\n",
              "      <td>1</td>\n",
              "      <td>8.0</td>\n",
              "      <td>8.0</td>\n",
              "      <td>Mobile Payment</td>\n",
              "      <td>Takeaway</td>\n",
              "    </tr>\n",
              "    <tr>\n",
              "      <th>2</th>\n",
              "      <td>2024-01-17</td>\n",
              "      <td>01:01 AM</td>\n",
              "      <td>Tiramisu</td>\n",
              "      <td>Dessert</td>\n",
              "      <td>2</td>\n",
              "      <td>6.5</td>\n",
              "      <td>13.0</td>\n",
              "      <td>Credit Card</td>\n",
              "      <td>Delivery</td>\n",
              "    </tr>\n",
              "    <tr>\n",
              "      <th>9997</th>\n",
              "      <td>2024-10-29</td>\n",
              "      <td>03:21 AM</td>\n",
              "      <td>Lasagna</td>\n",
              "      <td>Main Course</td>\n",
              "      <td>1</td>\n",
              "      <td>11.5</td>\n",
              "      <td>11.5</td>\n",
              "      <td>Credit Card</td>\n",
              "      <td>Delivery</td>\n",
              "    </tr>\n",
              "    <tr>\n",
              "      <th>9998</th>\n",
              "      <td>2024-11-08</td>\n",
              "      <td>11:18 PM</td>\n",
              "      <td>Caprese Salad</td>\n",
              "      <td>Appetizer</td>\n",
              "      <td>1</td>\n",
              "      <td>8.0</td>\n",
              "      <td>8.0</td>\n",
              "      <td>Credit Card</td>\n",
              "      <td>Delivery</td>\n",
              "    </tr>\n",
              "    <tr>\n",
              "      <th>9999</th>\n",
              "      <td>2024-11-15</td>\n",
              "      <td>03:25 PM</td>\n",
              "      <td>Tiramisu</td>\n",
              "      <td>Dessert</td>\n",
              "      <td>5</td>\n",
              "      <td>6.5</td>\n",
              "      <td>32.5</td>\n",
              "      <td>Credit Card</td>\n",
              "      <td>Delivery</td>\n",
              "    </tr>\n",
              "  </tbody>\n",
              "</table>\n",
              "</div>\n",
              "    <div class=\"colab-df-buttons\">\n",
              "\n",
              "  <div class=\"colab-df-container\">\n",
              "    <button class=\"colab-df-convert\" onclick=\"convertToInteractive('df-6495c458-0d88-45d1-a085-6ac379953018')\"\n",
              "            title=\"Convert this dataframe to an interactive table.\"\n",
              "            style=\"display:none;\">\n",
              "\n",
              "  <svg xmlns=\"http://www.w3.org/2000/svg\" height=\"24px\" viewBox=\"0 -960 960 960\">\n",
              "    <path d=\"M120-120v-720h720v720H120Zm60-500h600v-160H180v160Zm220 220h160v-160H400v160Zm0 220h160v-160H400v160ZM180-400h160v-160H180v160Zm440 0h160v-160H620v160ZM180-180h160v-160H180v160Zm440 0h160v-160H620v160Z\"/>\n",
              "  </svg>\n",
              "    </button>\n",
              "\n",
              "  <style>\n",
              "    .colab-df-container {\n",
              "      display:flex;\n",
              "      gap: 12px;\n",
              "    }\n",
              "\n",
              "    .colab-df-convert {\n",
              "      background-color: #E8F0FE;\n",
              "      border: none;\n",
              "      border-radius: 50%;\n",
              "      cursor: pointer;\n",
              "      display: none;\n",
              "      fill: #1967D2;\n",
              "      height: 32px;\n",
              "      padding: 0 0 0 0;\n",
              "      width: 32px;\n",
              "    }\n",
              "\n",
              "    .colab-df-convert:hover {\n",
              "      background-color: #E2EBFA;\n",
              "      box-shadow: 0px 1px 2px rgba(60, 64, 67, 0.3), 0px 1px 3px 1px rgba(60, 64, 67, 0.15);\n",
              "      fill: #174EA6;\n",
              "    }\n",
              "\n",
              "    .colab-df-buttons div {\n",
              "      margin-bottom: 4px;\n",
              "    }\n",
              "\n",
              "    [theme=dark] .colab-df-convert {\n",
              "      background-color: #3B4455;\n",
              "      fill: #D2E3FC;\n",
              "    }\n",
              "\n",
              "    [theme=dark] .colab-df-convert:hover {\n",
              "      background-color: #434B5C;\n",
              "      box-shadow: 0px 1px 3px 1px rgba(0, 0, 0, 0.15);\n",
              "      filter: drop-shadow(0px 1px 2px rgba(0, 0, 0, 0.3));\n",
              "      fill: #FFFFFF;\n",
              "    }\n",
              "  </style>\n",
              "\n",
              "    <script>\n",
              "      const buttonEl =\n",
              "        document.querySelector('#df-6495c458-0d88-45d1-a085-6ac379953018 button.colab-df-convert');\n",
              "      buttonEl.style.display =\n",
              "        google.colab.kernel.accessAllowed ? 'block' : 'none';\n",
              "\n",
              "      async function convertToInteractive(key) {\n",
              "        const element = document.querySelector('#df-6495c458-0d88-45d1-a085-6ac379953018');\n",
              "        const dataTable =\n",
              "          await google.colab.kernel.invokeFunction('convertToInteractive',\n",
              "                                                    [key], {});\n",
              "        if (!dataTable) return;\n",
              "\n",
              "        const docLinkHtml = 'Like what you see? Visit the ' +\n",
              "          '<a target=\"_blank\" href=https://colab.research.google.com/notebooks/data_table.ipynb>data table notebook</a>'\n",
              "          + ' to learn more about interactive tables.';\n",
              "        element.innerHTML = '';\n",
              "        dataTable['output_type'] = 'display_data';\n",
              "        await google.colab.output.renderOutput(dataTable, element);\n",
              "        const docLink = document.createElement('div');\n",
              "        docLink.innerHTML = docLinkHtml;\n",
              "        element.appendChild(docLink);\n",
              "      }\n",
              "    </script>\n",
              "  </div>\n",
              "\n",
              "\n",
              "<div id=\"df-6f9bdd2e-0fb8-4377-8568-ceb4262f2475\">\n",
              "  <button class=\"colab-df-quickchart\" onclick=\"quickchart('df-6f9bdd2e-0fb8-4377-8568-ceb4262f2475')\"\n",
              "            title=\"Suggest charts\"\n",
              "            style=\"display:none;\">\n",
              "\n",
              "<svg xmlns=\"http://www.w3.org/2000/svg\" height=\"24px\"viewBox=\"0 0 24 24\"\n",
              "     width=\"24px\">\n",
              "    <g>\n",
              "        <path d=\"M19 3H5c-1.1 0-2 .9-2 2v14c0 1.1.9 2 2 2h14c1.1 0 2-.9 2-2V5c0-1.1-.9-2-2-2zM9 17H7v-7h2v7zm4 0h-2V7h2v10zm4 0h-2v-4h2v4z\"/>\n",
              "    </g>\n",
              "</svg>\n",
              "  </button>\n",
              "\n",
              "<style>\n",
              "  .colab-df-quickchart {\n",
              "      --bg-color: #E8F0FE;\n",
              "      --fill-color: #1967D2;\n",
              "      --hover-bg-color: #E2EBFA;\n",
              "      --hover-fill-color: #174EA6;\n",
              "      --disabled-fill-color: #AAA;\n",
              "      --disabled-bg-color: #DDD;\n",
              "  }\n",
              "\n",
              "  [theme=dark] .colab-df-quickchart {\n",
              "      --bg-color: #3B4455;\n",
              "      --fill-color: #D2E3FC;\n",
              "      --hover-bg-color: #434B5C;\n",
              "      --hover-fill-color: #FFFFFF;\n",
              "      --disabled-bg-color: #3B4455;\n",
              "      --disabled-fill-color: #666;\n",
              "  }\n",
              "\n",
              "  .colab-df-quickchart {\n",
              "    background-color: var(--bg-color);\n",
              "    border: none;\n",
              "    border-radius: 50%;\n",
              "    cursor: pointer;\n",
              "    display: none;\n",
              "    fill: var(--fill-color);\n",
              "    height: 32px;\n",
              "    padding: 0;\n",
              "    width: 32px;\n",
              "  }\n",
              "\n",
              "  .colab-df-quickchart:hover {\n",
              "    background-color: var(--hover-bg-color);\n",
              "    box-shadow: 0 1px 2px rgba(60, 64, 67, 0.3), 0 1px 3px 1px rgba(60, 64, 67, 0.15);\n",
              "    fill: var(--button-hover-fill-color);\n",
              "  }\n",
              "\n",
              "  .colab-df-quickchart-complete:disabled,\n",
              "  .colab-df-quickchart-complete:disabled:hover {\n",
              "    background-color: var(--disabled-bg-color);\n",
              "    fill: var(--disabled-fill-color);\n",
              "    box-shadow: none;\n",
              "  }\n",
              "\n",
              "  .colab-df-spinner {\n",
              "    border: 2px solid var(--fill-color);\n",
              "    border-color: transparent;\n",
              "    border-bottom-color: var(--fill-color);\n",
              "    animation:\n",
              "      spin 1s steps(1) infinite;\n",
              "  }\n",
              "\n",
              "  @keyframes spin {\n",
              "    0% {\n",
              "      border-color: transparent;\n",
              "      border-bottom-color: var(--fill-color);\n",
              "      border-left-color: var(--fill-color);\n",
              "    }\n",
              "    20% {\n",
              "      border-color: transparent;\n",
              "      border-left-color: var(--fill-color);\n",
              "      border-top-color: var(--fill-color);\n",
              "    }\n",
              "    30% {\n",
              "      border-color: transparent;\n",
              "      border-left-color: var(--fill-color);\n",
              "      border-top-color: var(--fill-color);\n",
              "      border-right-color: var(--fill-color);\n",
              "    }\n",
              "    40% {\n",
              "      border-color: transparent;\n",
              "      border-right-color: var(--fill-color);\n",
              "      border-top-color: var(--fill-color);\n",
              "    }\n",
              "    60% {\n",
              "      border-color: transparent;\n",
              "      border-right-color: var(--fill-color);\n",
              "    }\n",
              "    80% {\n",
              "      border-color: transparent;\n",
              "      border-right-color: var(--fill-color);\n",
              "      border-bottom-color: var(--fill-color);\n",
              "    }\n",
              "    90% {\n",
              "      border-color: transparent;\n",
              "      border-bottom-color: var(--fill-color);\n",
              "    }\n",
              "  }\n",
              "</style>\n",
              "\n",
              "  <script>\n",
              "    async function quickchart(key) {\n",
              "      const quickchartButtonEl =\n",
              "        document.querySelector('#' + key + ' button');\n",
              "      quickchartButtonEl.disabled = true;  // To prevent multiple clicks.\n",
              "      quickchartButtonEl.classList.add('colab-df-spinner');\n",
              "      try {\n",
              "        const charts = await google.colab.kernel.invokeFunction(\n",
              "            'suggestCharts', [key], {});\n",
              "      } catch (error) {\n",
              "        console.error('Error during call to suggestCharts:', error);\n",
              "      }\n",
              "      quickchartButtonEl.classList.remove('colab-df-spinner');\n",
              "      quickchartButtonEl.classList.add('colab-df-quickchart-complete');\n",
              "    }\n",
              "    (() => {\n",
              "      let quickchartButtonEl =\n",
              "        document.querySelector('#df-6f9bdd2e-0fb8-4377-8568-ceb4262f2475 button');\n",
              "      quickchartButtonEl.style.display =\n",
              "        google.colab.kernel.accessAllowed ? 'block' : 'none';\n",
              "    })();\n",
              "  </script>\n",
              "</div>\n",
              "    </div>\n",
              "  </div>\n"
            ],
            "application/vnd.google.colaboratory.intrinsic+json": {
              "type": "dataframe",
              "summary": "{\n  \"name\": \"pd\",\n  \"rows\": 6,\n  \"fields\": [\n    {\n      \"column\": \"Date\",\n      \"properties\": {\n        \"dtype\": \"object\",\n        \"num_unique_values\": 6,\n        \"samples\": [\n          \"2024-11-23\",\n          \"2024-03-12\",\n          \"2024-11-15\"\n        ],\n        \"semantic_type\": \"\",\n        \"description\": \"\"\n      }\n    },\n    {\n      \"column\": \"Time\",\n      \"properties\": {\n        \"dtype\": \"object\",\n        \"num_unique_values\": 6,\n        \"samples\": [\n          \"03:48 AM\",\n          \"03:29 AM\",\n          \"03:25 PM\"\n        ],\n        \"semantic_type\": \"\",\n        \"description\": \"\"\n      }\n    },\n    {\n      \"column\": \"Menu Item\",\n      \"properties\": {\n        \"dtype\": \"string\",\n        \"num_unique_values\": 4,\n        \"samples\": [\n          \"Caprese Salad\",\n          \"Lasagna\",\n          \"Margherita Pizza\"\n        ],\n        \"semantic_type\": \"\",\n        \"description\": \"\"\n      }\n    },\n    {\n      \"column\": \"Category\",\n      \"properties\": {\n        \"dtype\": \"string\",\n        \"num_unique_values\": 3,\n        \"samples\": [\n          \"Main Course\",\n          \"Appetizer\",\n          \"Dessert\"\n        ],\n        \"semantic_type\": \"\",\n        \"description\": \"\"\n      }\n    },\n    {\n      \"column\": \"Quantity\",\n      \"properties\": {\n        \"dtype\": \"number\",\n        \"std\": 1,\n        \"min\": 1,\n        \"max\": 5,\n        \"num_unique_values\": 4,\n        \"samples\": [\n          1,\n          5,\n          3\n        ],\n        \"semantic_type\": \"\",\n        \"description\": \"\"\n      }\n    },\n    {\n      \"column\": \"Price (per item)\",\n      \"properties\": {\n        \"dtype\": \"number\",\n        \"std\": 1.9853631070075488,\n        \"min\": 6.5,\n        \"max\": 11.5,\n        \"num_unique_values\": 4,\n        \"samples\": [\n          8.0,\n          11.5,\n          10.0\n        ],\n        \"semantic_type\": \"\",\n        \"description\": \"\"\n      }\n    },\n    {\n      \"column\": \"Revenue\",\n      \"properties\": {\n        \"dtype\": \"number\",\n        \"std\": 11.111555546667022,\n        \"min\": 8.0,\n        \"max\": 32.5,\n        \"num_unique_values\": 5,\n        \"samples\": [\n          8.0,\n          32.5,\n          13.0\n        ],\n        \"semantic_type\": \"\",\n        \"description\": \"\"\n      }\n    },\n    {\n      \"column\": \"Payment Method\",\n      \"properties\": {\n        \"dtype\": \"category\",\n        \"num_unique_values\": 2,\n        \"samples\": [\n          \"Mobile Payment\",\n          \"Credit Card\"\n        ],\n        \"semantic_type\": \"\",\n        \"description\": \"\"\n      }\n    },\n    {\n      \"column\": \"Customer Type\",\n      \"properties\": {\n        \"dtype\": \"string\",\n        \"num_unique_values\": 3,\n        \"samples\": [\n          \"Dine-In\",\n          \"Takeaway\"\n        ],\n        \"semantic_type\": \"\",\n        \"description\": \"\"\n      }\n    }\n  ]\n}"
            }
          },
          "metadata": {},
          "execution_count": 6
        }
      ]
    },
    {
      "cell_type": "markdown",
      "source": [
        "\n",
        "\n",
        "*   **Перегляд типів даних**\n",
        "\n",
        "\n",
        "\n",
        "\n",
        "\n",
        "\n"
      ],
      "metadata": {
        "id": "4x5d-Rzdljq6"
      }
    },
    {
      "cell_type": "code",
      "source": [
        "df.dtypes"
      ],
      "metadata": {
        "colab": {
          "base_uri": "https://localhost:8080/",
          "height": 366
        },
        "id": "aimOufKClrLd",
        "outputId": "8de92455-e907-4a9d-858d-a7226c4292a6"
      },
      "execution_count": 7,
      "outputs": [
        {
          "output_type": "execute_result",
          "data": {
            "text/plain": [
              "Date                 object\n",
              "Time                 object\n",
              "Menu Item            object\n",
              "Category             object\n",
              "Quantity              int64\n",
              "Price (per item)    float64\n",
              "Revenue             float64\n",
              "Payment Method       object\n",
              "Customer Type        object\n",
              "dtype: object"
            ],
            "text/html": [
              "<div>\n",
              "<style scoped>\n",
              "    .dataframe tbody tr th:only-of-type {\n",
              "        vertical-align: middle;\n",
              "    }\n",
              "\n",
              "    .dataframe tbody tr th {\n",
              "        vertical-align: top;\n",
              "    }\n",
              "\n",
              "    .dataframe thead th {\n",
              "        text-align: right;\n",
              "    }\n",
              "</style>\n",
              "<table border=\"1\" class=\"dataframe\">\n",
              "  <thead>\n",
              "    <tr style=\"text-align: right;\">\n",
              "      <th></th>\n",
              "      <th>0</th>\n",
              "    </tr>\n",
              "  </thead>\n",
              "  <tbody>\n",
              "    <tr>\n",
              "      <th>Date</th>\n",
              "      <td>object</td>\n",
              "    </tr>\n",
              "    <tr>\n",
              "      <th>Time</th>\n",
              "      <td>object</td>\n",
              "    </tr>\n",
              "    <tr>\n",
              "      <th>Menu Item</th>\n",
              "      <td>object</td>\n",
              "    </tr>\n",
              "    <tr>\n",
              "      <th>Category</th>\n",
              "      <td>object</td>\n",
              "    </tr>\n",
              "    <tr>\n",
              "      <th>Quantity</th>\n",
              "      <td>int64</td>\n",
              "    </tr>\n",
              "    <tr>\n",
              "      <th>Price (per item)</th>\n",
              "      <td>float64</td>\n",
              "    </tr>\n",
              "    <tr>\n",
              "      <th>Revenue</th>\n",
              "      <td>float64</td>\n",
              "    </tr>\n",
              "    <tr>\n",
              "      <th>Payment Method</th>\n",
              "      <td>object</td>\n",
              "    </tr>\n",
              "    <tr>\n",
              "      <th>Customer Type</th>\n",
              "      <td>object</td>\n",
              "    </tr>\n",
              "  </tbody>\n",
              "</table>\n",
              "</div><br><label><b>dtype:</b> object</label>"
            ]
          },
          "metadata": {},
          "execution_count": 7
        }
      ]
    },
    {
      "cell_type": "markdown",
      "source": [
        "Колонка Date містить тип даних object, який необхідно змінити на тип datetime64[ns]."
      ],
      "metadata": {
        "id": "g7kLIbq208cF"
      }
    },
    {
      "cell_type": "markdown",
      "source": [
        "\n",
        "\n",
        "*   **Зміна типу даних колонки Date**\n",
        "\n",
        "\n"
      ],
      "metadata": {
        "id": "5NUFyODf2ges"
      }
    },
    {
      "cell_type": "code",
      "source": [
        "df['Date'] = pd.to_datetime(df['Date'])"
      ],
      "metadata": {
        "id": "RNHukknh2sAH"
      },
      "execution_count": 8,
      "outputs": []
    },
    {
      "cell_type": "markdown",
      "source": [
        "\n",
        "\n",
        "\n",
        "\n",
        "*   **Перевірка типу даних колонки Date**\n",
        "\n",
        "\n",
        "\n",
        "\n",
        "\n"
      ],
      "metadata": {
        "id": "gA4HzjAT20zH"
      }
    },
    {
      "cell_type": "code",
      "source": [
        "print(df['Date'].dtype)"
      ],
      "metadata": {
        "colab": {
          "base_uri": "https://localhost:8080/"
        },
        "id": "lG4PYJ8p3Nau",
        "outputId": "be51ead0-950f-46fc-9f54-cb863e62eef6"
      },
      "execution_count": 9,
      "outputs": [
        {
          "output_type": "stream",
          "name": "stdout",
          "text": [
            "datetime64[ns]\n"
          ]
        }
      ]
    },
    {
      "cell_type": "markdown",
      "source": [
        "\n",
        "\n",
        "*   **Перевірка на пропущені значення**\n",
        "\n",
        "\n"
      ],
      "metadata": {
        "id": "WalaQtKGmv7Q"
      }
    },
    {
      "cell_type": "code",
      "source": [
        "df.isna().sum()"
      ],
      "metadata": {
        "colab": {
          "base_uri": "https://localhost:8080/",
          "height": 366
        },
        "id": "ZK4S2jg51nyC",
        "outputId": "13185fbc-6ac0-415d-ce35-38f83ce1c39a"
      },
      "execution_count": 10,
      "outputs": [
        {
          "output_type": "execute_result",
          "data": {
            "text/plain": [
              "Date                0\n",
              "Time                0\n",
              "Menu Item           0\n",
              "Category            0\n",
              "Quantity            0\n",
              "Price (per item)    0\n",
              "Revenue             0\n",
              "Payment Method      0\n",
              "Customer Type       0\n",
              "dtype: int64"
            ],
            "text/html": [
              "<div>\n",
              "<style scoped>\n",
              "    .dataframe tbody tr th:only-of-type {\n",
              "        vertical-align: middle;\n",
              "    }\n",
              "\n",
              "    .dataframe tbody tr th {\n",
              "        vertical-align: top;\n",
              "    }\n",
              "\n",
              "    .dataframe thead th {\n",
              "        text-align: right;\n",
              "    }\n",
              "</style>\n",
              "<table border=\"1\" class=\"dataframe\">\n",
              "  <thead>\n",
              "    <tr style=\"text-align: right;\">\n",
              "      <th></th>\n",
              "      <th>0</th>\n",
              "    </tr>\n",
              "  </thead>\n",
              "  <tbody>\n",
              "    <tr>\n",
              "      <th>Date</th>\n",
              "      <td>0</td>\n",
              "    </tr>\n",
              "    <tr>\n",
              "      <th>Time</th>\n",
              "      <td>0</td>\n",
              "    </tr>\n",
              "    <tr>\n",
              "      <th>Menu Item</th>\n",
              "      <td>0</td>\n",
              "    </tr>\n",
              "    <tr>\n",
              "      <th>Category</th>\n",
              "      <td>0</td>\n",
              "    </tr>\n",
              "    <tr>\n",
              "      <th>Quantity</th>\n",
              "      <td>0</td>\n",
              "    </tr>\n",
              "    <tr>\n",
              "      <th>Price (per item)</th>\n",
              "      <td>0</td>\n",
              "    </tr>\n",
              "    <tr>\n",
              "      <th>Revenue</th>\n",
              "      <td>0</td>\n",
              "    </tr>\n",
              "    <tr>\n",
              "      <th>Payment Method</th>\n",
              "      <td>0</td>\n",
              "    </tr>\n",
              "    <tr>\n",
              "      <th>Customer Type</th>\n",
              "      <td>0</td>\n",
              "    </tr>\n",
              "  </tbody>\n",
              "</table>\n",
              "</div><br><label><b>dtype:</b> int64</label>"
            ]
          },
          "metadata": {},
          "execution_count": 10
        }
      ]
    },
    {
      "cell_type": "markdown",
      "source": [
        "Пропущені значення відсутні."
      ],
      "metadata": {
        "id": "wIpYIum919bJ"
      }
    },
    {
      "cell_type": "markdown",
      "source": [
        "\n",
        "\n",
        "*   **Перевірка на дублі**\n",
        "\n",
        "\n"
      ],
      "metadata": {
        "id": "nWgJxXsvq8Mw"
      }
    },
    {
      "cell_type": "code",
      "source": [
        "df[df.duplicated()]"
      ],
      "metadata": {
        "colab": {
          "base_uri": "https://localhost:8080/",
          "height": 53
        },
        "id": "Qzl0h9HQm8db",
        "outputId": "10c34b0b-3a82-4a7b-eb45-4f231f2ff573"
      },
      "execution_count": 11,
      "outputs": [
        {
          "output_type": "execute_result",
          "data": {
            "text/plain": [
              "Empty DataFrame\n",
              "Columns: [Date, Time, Menu Item, Category, Quantity, Price (per item), Revenue, Payment Method, Customer Type]\n",
              "Index: []"
            ],
            "text/html": [
              "\n",
              "  <div id=\"df-18817893-b4da-45cf-9720-889291ec0181\" class=\"colab-df-container\">\n",
              "    <div>\n",
              "<style scoped>\n",
              "    .dataframe tbody tr th:only-of-type {\n",
              "        vertical-align: middle;\n",
              "    }\n",
              "\n",
              "    .dataframe tbody tr th {\n",
              "        vertical-align: top;\n",
              "    }\n",
              "\n",
              "    .dataframe thead th {\n",
              "        text-align: right;\n",
              "    }\n",
              "</style>\n",
              "<table border=\"1\" class=\"dataframe\">\n",
              "  <thead>\n",
              "    <tr style=\"text-align: right;\">\n",
              "      <th></th>\n",
              "      <th>Date</th>\n",
              "      <th>Time</th>\n",
              "      <th>Menu Item</th>\n",
              "      <th>Category</th>\n",
              "      <th>Quantity</th>\n",
              "      <th>Price (per item)</th>\n",
              "      <th>Revenue</th>\n",
              "      <th>Payment Method</th>\n",
              "      <th>Customer Type</th>\n",
              "    </tr>\n",
              "  </thead>\n",
              "  <tbody>\n",
              "  </tbody>\n",
              "</table>\n",
              "</div>\n",
              "    <div class=\"colab-df-buttons\">\n",
              "\n",
              "  <div class=\"colab-df-container\">\n",
              "    <button class=\"colab-df-convert\" onclick=\"convertToInteractive('df-18817893-b4da-45cf-9720-889291ec0181')\"\n",
              "            title=\"Convert this dataframe to an interactive table.\"\n",
              "            style=\"display:none;\">\n",
              "\n",
              "  <svg xmlns=\"http://www.w3.org/2000/svg\" height=\"24px\" viewBox=\"0 -960 960 960\">\n",
              "    <path d=\"M120-120v-720h720v720H120Zm60-500h600v-160H180v160Zm220 220h160v-160H400v160Zm0 220h160v-160H400v160ZM180-400h160v-160H180v160Zm440 0h160v-160H620v160ZM180-180h160v-160H180v160Zm440 0h160v-160H620v160Z\"/>\n",
              "  </svg>\n",
              "    </button>\n",
              "\n",
              "  <style>\n",
              "    .colab-df-container {\n",
              "      display:flex;\n",
              "      gap: 12px;\n",
              "    }\n",
              "\n",
              "    .colab-df-convert {\n",
              "      background-color: #E8F0FE;\n",
              "      border: none;\n",
              "      border-radius: 50%;\n",
              "      cursor: pointer;\n",
              "      display: none;\n",
              "      fill: #1967D2;\n",
              "      height: 32px;\n",
              "      padding: 0 0 0 0;\n",
              "      width: 32px;\n",
              "    }\n",
              "\n",
              "    .colab-df-convert:hover {\n",
              "      background-color: #E2EBFA;\n",
              "      box-shadow: 0px 1px 2px rgba(60, 64, 67, 0.3), 0px 1px 3px 1px rgba(60, 64, 67, 0.15);\n",
              "      fill: #174EA6;\n",
              "    }\n",
              "\n",
              "    .colab-df-buttons div {\n",
              "      margin-bottom: 4px;\n",
              "    }\n",
              "\n",
              "    [theme=dark] .colab-df-convert {\n",
              "      background-color: #3B4455;\n",
              "      fill: #D2E3FC;\n",
              "    }\n",
              "\n",
              "    [theme=dark] .colab-df-convert:hover {\n",
              "      background-color: #434B5C;\n",
              "      box-shadow: 0px 1px 3px 1px rgba(0, 0, 0, 0.15);\n",
              "      filter: drop-shadow(0px 1px 2px rgba(0, 0, 0, 0.3));\n",
              "      fill: #FFFFFF;\n",
              "    }\n",
              "  </style>\n",
              "\n",
              "    <script>\n",
              "      const buttonEl =\n",
              "        document.querySelector('#df-18817893-b4da-45cf-9720-889291ec0181 button.colab-df-convert');\n",
              "      buttonEl.style.display =\n",
              "        google.colab.kernel.accessAllowed ? 'block' : 'none';\n",
              "\n",
              "      async function convertToInteractive(key) {\n",
              "        const element = document.querySelector('#df-18817893-b4da-45cf-9720-889291ec0181');\n",
              "        const dataTable =\n",
              "          await google.colab.kernel.invokeFunction('convertToInteractive',\n",
              "                                                    [key], {});\n",
              "        if (!dataTable) return;\n",
              "\n",
              "        const docLinkHtml = 'Like what you see? Visit the ' +\n",
              "          '<a target=\"_blank\" href=https://colab.research.google.com/notebooks/data_table.ipynb>data table notebook</a>'\n",
              "          + ' to learn more about interactive tables.';\n",
              "        element.innerHTML = '';\n",
              "        dataTable['output_type'] = 'display_data';\n",
              "        await google.colab.output.renderOutput(dataTable, element);\n",
              "        const docLink = document.createElement('div');\n",
              "        docLink.innerHTML = docLinkHtml;\n",
              "        element.appendChild(docLink);\n",
              "      }\n",
              "    </script>\n",
              "  </div>\n",
              "\n",
              "    </div>\n",
              "  </div>\n"
            ],
            "application/vnd.google.colaboratory.intrinsic+json": {
              "type": "dataframe",
              "repr_error": "Out of range float values are not JSON compliant: nan"
            }
          },
          "metadata": {},
          "execution_count": 11
        }
      ]
    },
    {
      "cell_type": "markdown",
      "source": [
        "Дублі в наборі даних відсутні."
      ],
      "metadata": {
        "id": "DCv80B_I2hHH"
      }
    },
    {
      "cell_type": "markdown",
      "source": [
        "\n",
        "\n",
        "*   **Відокремлення місяця із колонки Date**\n",
        "\n",
        "\n"
      ],
      "metadata": {
        "id": "nROdUsxz3qhx"
      }
    },
    {
      "cell_type": "code",
      "source": [
        "df['Month'] = df['Date'].dt.month"
      ],
      "metadata": {
        "id": "2VwABq1R5S-x"
      },
      "execution_count": 12,
      "outputs": []
    },
    {
      "cell_type": "code",
      "source": [
        "df[:3]"
      ],
      "metadata": {
        "colab": {
          "base_uri": "https://localhost:8080/",
          "height": 144
        },
        "id": "wpOYLn_A5ZW0",
        "outputId": "cba86521-1dc9-40d1-a6ca-b9d0c1c3dd46"
      },
      "execution_count": 13,
      "outputs": [
        {
          "output_type": "execute_result",
          "data": {
            "text/plain": [
              "        Date      Time         Menu Item     Category  Quantity  \\\n",
              "0 2024-11-23  03:48 AM  Margherita Pizza  Main Course         3   \n",
              "1 2024-03-12  03:29 AM     Caprese Salad    Appetizer         1   \n",
              "2 2024-01-17  01:01 AM          Tiramisu      Dessert         2   \n",
              "\n",
              "   Price (per item)  Revenue  Payment Method Customer Type  Month  \n",
              "0              10.0     30.0     Credit Card       Dine-In     11  \n",
              "1               8.0      8.0  Mobile Payment      Takeaway      3  \n",
              "2               6.5     13.0     Credit Card      Delivery      1  "
            ],
            "text/html": [
              "\n",
              "  <div id=\"df-e3d052a9-8a7d-45e3-b1f4-f0a3f566f1db\" class=\"colab-df-container\">\n",
              "    <div>\n",
              "<style scoped>\n",
              "    .dataframe tbody tr th:only-of-type {\n",
              "        vertical-align: middle;\n",
              "    }\n",
              "\n",
              "    .dataframe tbody tr th {\n",
              "        vertical-align: top;\n",
              "    }\n",
              "\n",
              "    .dataframe thead th {\n",
              "        text-align: right;\n",
              "    }\n",
              "</style>\n",
              "<table border=\"1\" class=\"dataframe\">\n",
              "  <thead>\n",
              "    <tr style=\"text-align: right;\">\n",
              "      <th></th>\n",
              "      <th>Date</th>\n",
              "      <th>Time</th>\n",
              "      <th>Menu Item</th>\n",
              "      <th>Category</th>\n",
              "      <th>Quantity</th>\n",
              "      <th>Price (per item)</th>\n",
              "      <th>Revenue</th>\n",
              "      <th>Payment Method</th>\n",
              "      <th>Customer Type</th>\n",
              "      <th>Month</th>\n",
              "    </tr>\n",
              "  </thead>\n",
              "  <tbody>\n",
              "    <tr>\n",
              "      <th>0</th>\n",
              "      <td>2024-11-23</td>\n",
              "      <td>03:48 AM</td>\n",
              "      <td>Margherita Pizza</td>\n",
              "      <td>Main Course</td>\n",
              "      <td>3</td>\n",
              "      <td>10.0</td>\n",
              "      <td>30.0</td>\n",
              "      <td>Credit Card</td>\n",
              "      <td>Dine-In</td>\n",
              "      <td>11</td>\n",
              "    </tr>\n",
              "    <tr>\n",
              "      <th>1</th>\n",
              "      <td>2024-03-12</td>\n",
              "      <td>03:29 AM</td>\n",
              "      <td>Caprese Salad</td>\n",
              "      <td>Appetizer</td>\n",
              "      <td>1</td>\n",
              "      <td>8.0</td>\n",
              "      <td>8.0</td>\n",
              "      <td>Mobile Payment</td>\n",
              "      <td>Takeaway</td>\n",
              "      <td>3</td>\n",
              "    </tr>\n",
              "    <tr>\n",
              "      <th>2</th>\n",
              "      <td>2024-01-17</td>\n",
              "      <td>01:01 AM</td>\n",
              "      <td>Tiramisu</td>\n",
              "      <td>Dessert</td>\n",
              "      <td>2</td>\n",
              "      <td>6.5</td>\n",
              "      <td>13.0</td>\n",
              "      <td>Credit Card</td>\n",
              "      <td>Delivery</td>\n",
              "      <td>1</td>\n",
              "    </tr>\n",
              "  </tbody>\n",
              "</table>\n",
              "</div>\n",
              "    <div class=\"colab-df-buttons\">\n",
              "\n",
              "  <div class=\"colab-df-container\">\n",
              "    <button class=\"colab-df-convert\" onclick=\"convertToInteractive('df-e3d052a9-8a7d-45e3-b1f4-f0a3f566f1db')\"\n",
              "            title=\"Convert this dataframe to an interactive table.\"\n",
              "            style=\"display:none;\">\n",
              "\n",
              "  <svg xmlns=\"http://www.w3.org/2000/svg\" height=\"24px\" viewBox=\"0 -960 960 960\">\n",
              "    <path d=\"M120-120v-720h720v720H120Zm60-500h600v-160H180v160Zm220 220h160v-160H400v160Zm0 220h160v-160H400v160ZM180-400h160v-160H180v160Zm440 0h160v-160H620v160ZM180-180h160v-160H180v160Zm440 0h160v-160H620v160Z\"/>\n",
              "  </svg>\n",
              "    </button>\n",
              "\n",
              "  <style>\n",
              "    .colab-df-container {\n",
              "      display:flex;\n",
              "      gap: 12px;\n",
              "    }\n",
              "\n",
              "    .colab-df-convert {\n",
              "      background-color: #E8F0FE;\n",
              "      border: none;\n",
              "      border-radius: 50%;\n",
              "      cursor: pointer;\n",
              "      display: none;\n",
              "      fill: #1967D2;\n",
              "      height: 32px;\n",
              "      padding: 0 0 0 0;\n",
              "      width: 32px;\n",
              "    }\n",
              "\n",
              "    .colab-df-convert:hover {\n",
              "      background-color: #E2EBFA;\n",
              "      box-shadow: 0px 1px 2px rgba(60, 64, 67, 0.3), 0px 1px 3px 1px rgba(60, 64, 67, 0.15);\n",
              "      fill: #174EA6;\n",
              "    }\n",
              "\n",
              "    .colab-df-buttons div {\n",
              "      margin-bottom: 4px;\n",
              "    }\n",
              "\n",
              "    [theme=dark] .colab-df-convert {\n",
              "      background-color: #3B4455;\n",
              "      fill: #D2E3FC;\n",
              "    }\n",
              "\n",
              "    [theme=dark] .colab-df-convert:hover {\n",
              "      background-color: #434B5C;\n",
              "      box-shadow: 0px 1px 3px 1px rgba(0, 0, 0, 0.15);\n",
              "      filter: drop-shadow(0px 1px 2px rgba(0, 0, 0, 0.3));\n",
              "      fill: #FFFFFF;\n",
              "    }\n",
              "  </style>\n",
              "\n",
              "    <script>\n",
              "      const buttonEl =\n",
              "        document.querySelector('#df-e3d052a9-8a7d-45e3-b1f4-f0a3f566f1db button.colab-df-convert');\n",
              "      buttonEl.style.display =\n",
              "        google.colab.kernel.accessAllowed ? 'block' : 'none';\n",
              "\n",
              "      async function convertToInteractive(key) {\n",
              "        const element = document.querySelector('#df-e3d052a9-8a7d-45e3-b1f4-f0a3f566f1db');\n",
              "        const dataTable =\n",
              "          await google.colab.kernel.invokeFunction('convertToInteractive',\n",
              "                                                    [key], {});\n",
              "        if (!dataTable) return;\n",
              "\n",
              "        const docLinkHtml = 'Like what you see? Visit the ' +\n",
              "          '<a target=\"_blank\" href=https://colab.research.google.com/notebooks/data_table.ipynb>data table notebook</a>'\n",
              "          + ' to learn more about interactive tables.';\n",
              "        element.innerHTML = '';\n",
              "        dataTable['output_type'] = 'display_data';\n",
              "        await google.colab.output.renderOutput(dataTable, element);\n",
              "        const docLink = document.createElement('div');\n",
              "        docLink.innerHTML = docLinkHtml;\n",
              "        element.appendChild(docLink);\n",
              "      }\n",
              "    </script>\n",
              "  </div>\n",
              "\n",
              "\n",
              "<div id=\"df-96e3f744-d071-4b91-8446-27ef7e3fb79b\">\n",
              "  <button class=\"colab-df-quickchart\" onclick=\"quickchart('df-96e3f744-d071-4b91-8446-27ef7e3fb79b')\"\n",
              "            title=\"Suggest charts\"\n",
              "            style=\"display:none;\">\n",
              "\n",
              "<svg xmlns=\"http://www.w3.org/2000/svg\" height=\"24px\"viewBox=\"0 0 24 24\"\n",
              "     width=\"24px\">\n",
              "    <g>\n",
              "        <path d=\"M19 3H5c-1.1 0-2 .9-2 2v14c0 1.1.9 2 2 2h14c1.1 0 2-.9 2-2V5c0-1.1-.9-2-2-2zM9 17H7v-7h2v7zm4 0h-2V7h2v10zm4 0h-2v-4h2v4z\"/>\n",
              "    </g>\n",
              "</svg>\n",
              "  </button>\n",
              "\n",
              "<style>\n",
              "  .colab-df-quickchart {\n",
              "      --bg-color: #E8F0FE;\n",
              "      --fill-color: #1967D2;\n",
              "      --hover-bg-color: #E2EBFA;\n",
              "      --hover-fill-color: #174EA6;\n",
              "      --disabled-fill-color: #AAA;\n",
              "      --disabled-bg-color: #DDD;\n",
              "  }\n",
              "\n",
              "  [theme=dark] .colab-df-quickchart {\n",
              "      --bg-color: #3B4455;\n",
              "      --fill-color: #D2E3FC;\n",
              "      --hover-bg-color: #434B5C;\n",
              "      --hover-fill-color: #FFFFFF;\n",
              "      --disabled-bg-color: #3B4455;\n",
              "      --disabled-fill-color: #666;\n",
              "  }\n",
              "\n",
              "  .colab-df-quickchart {\n",
              "    background-color: var(--bg-color);\n",
              "    border: none;\n",
              "    border-radius: 50%;\n",
              "    cursor: pointer;\n",
              "    display: none;\n",
              "    fill: var(--fill-color);\n",
              "    height: 32px;\n",
              "    padding: 0;\n",
              "    width: 32px;\n",
              "  }\n",
              "\n",
              "  .colab-df-quickchart:hover {\n",
              "    background-color: var(--hover-bg-color);\n",
              "    box-shadow: 0 1px 2px rgba(60, 64, 67, 0.3), 0 1px 3px 1px rgba(60, 64, 67, 0.15);\n",
              "    fill: var(--button-hover-fill-color);\n",
              "  }\n",
              "\n",
              "  .colab-df-quickchart-complete:disabled,\n",
              "  .colab-df-quickchart-complete:disabled:hover {\n",
              "    background-color: var(--disabled-bg-color);\n",
              "    fill: var(--disabled-fill-color);\n",
              "    box-shadow: none;\n",
              "  }\n",
              "\n",
              "  .colab-df-spinner {\n",
              "    border: 2px solid var(--fill-color);\n",
              "    border-color: transparent;\n",
              "    border-bottom-color: var(--fill-color);\n",
              "    animation:\n",
              "      spin 1s steps(1) infinite;\n",
              "  }\n",
              "\n",
              "  @keyframes spin {\n",
              "    0% {\n",
              "      border-color: transparent;\n",
              "      border-bottom-color: var(--fill-color);\n",
              "      border-left-color: var(--fill-color);\n",
              "    }\n",
              "    20% {\n",
              "      border-color: transparent;\n",
              "      border-left-color: var(--fill-color);\n",
              "      border-top-color: var(--fill-color);\n",
              "    }\n",
              "    30% {\n",
              "      border-color: transparent;\n",
              "      border-left-color: var(--fill-color);\n",
              "      border-top-color: var(--fill-color);\n",
              "      border-right-color: var(--fill-color);\n",
              "    }\n",
              "    40% {\n",
              "      border-color: transparent;\n",
              "      border-right-color: var(--fill-color);\n",
              "      border-top-color: var(--fill-color);\n",
              "    }\n",
              "    60% {\n",
              "      border-color: transparent;\n",
              "      border-right-color: var(--fill-color);\n",
              "    }\n",
              "    80% {\n",
              "      border-color: transparent;\n",
              "      border-right-color: var(--fill-color);\n",
              "      border-bottom-color: var(--fill-color);\n",
              "    }\n",
              "    90% {\n",
              "      border-color: transparent;\n",
              "      border-bottom-color: var(--fill-color);\n",
              "    }\n",
              "  }\n",
              "</style>\n",
              "\n",
              "  <script>\n",
              "    async function quickchart(key) {\n",
              "      const quickchartButtonEl =\n",
              "        document.querySelector('#' + key + ' button');\n",
              "      quickchartButtonEl.disabled = true;  // To prevent multiple clicks.\n",
              "      quickchartButtonEl.classList.add('colab-df-spinner');\n",
              "      try {\n",
              "        const charts = await google.colab.kernel.invokeFunction(\n",
              "            'suggestCharts', [key], {});\n",
              "      } catch (error) {\n",
              "        console.error('Error during call to suggestCharts:', error);\n",
              "      }\n",
              "      quickchartButtonEl.classList.remove('colab-df-spinner');\n",
              "      quickchartButtonEl.classList.add('colab-df-quickchart-complete');\n",
              "    }\n",
              "    (() => {\n",
              "      let quickchartButtonEl =\n",
              "        document.querySelector('#df-96e3f744-d071-4b91-8446-27ef7e3fb79b button');\n",
              "      quickchartButtonEl.style.display =\n",
              "        google.colab.kernel.accessAllowed ? 'block' : 'none';\n",
              "    })();\n",
              "  </script>\n",
              "</div>\n",
              "    </div>\n",
              "  </div>\n"
            ],
            "application/vnd.google.colaboratory.intrinsic+json": {
              "type": "dataframe",
              "summary": "{\n  \"name\": \"df[:3]\",\n  \"rows\": 3,\n  \"fields\": [\n    {\n      \"column\": \"Date\",\n      \"properties\": {\n        \"dtype\": \"date\",\n        \"min\": \"2024-01-17 00:00:00\",\n        \"max\": \"2024-11-23 00:00:00\",\n        \"num_unique_values\": 3,\n        \"samples\": [\n          \"2024-11-23 00:00:00\",\n          \"2024-03-12 00:00:00\",\n          \"2024-01-17 00:00:00\"\n        ],\n        \"semantic_type\": \"\",\n        \"description\": \"\"\n      }\n    },\n    {\n      \"column\": \"Time\",\n      \"properties\": {\n        \"dtype\": \"object\",\n        \"num_unique_values\": 3,\n        \"samples\": [\n          \"03:48 AM\",\n          \"03:29 AM\",\n          \"01:01 AM\"\n        ],\n        \"semantic_type\": \"\",\n        \"description\": \"\"\n      }\n    },\n    {\n      \"column\": \"Menu Item\",\n      \"properties\": {\n        \"dtype\": \"string\",\n        \"num_unique_values\": 3,\n        \"samples\": [\n          \"Margherita Pizza\",\n          \"Caprese Salad\",\n          \"Tiramisu\"\n        ],\n        \"semantic_type\": \"\",\n        \"description\": \"\"\n      }\n    },\n    {\n      \"column\": \"Category\",\n      \"properties\": {\n        \"dtype\": \"string\",\n        \"num_unique_values\": 3,\n        \"samples\": [\n          \"Main Course\",\n          \"Appetizer\",\n          \"Dessert\"\n        ],\n        \"semantic_type\": \"\",\n        \"description\": \"\"\n      }\n    },\n    {\n      \"column\": \"Quantity\",\n      \"properties\": {\n        \"dtype\": \"number\",\n        \"std\": 1,\n        \"min\": 1,\n        \"max\": 3,\n        \"num_unique_values\": 3,\n        \"samples\": [\n          3,\n          1,\n          2\n        ],\n        \"semantic_type\": \"\",\n        \"description\": \"\"\n      }\n    },\n    {\n      \"column\": \"Price (per item)\",\n      \"properties\": {\n        \"dtype\": \"number\",\n        \"std\": 1.7559422921421233,\n        \"min\": 6.5,\n        \"max\": 10.0,\n        \"num_unique_values\": 3,\n        \"samples\": [\n          10.0,\n          8.0,\n          6.5\n        ],\n        \"semantic_type\": \"\",\n        \"description\": \"\"\n      }\n    },\n    {\n      \"column\": \"Revenue\",\n      \"properties\": {\n        \"dtype\": \"number\",\n        \"std\": 11.532562594670797,\n        \"min\": 8.0,\n        \"max\": 30.0,\n        \"num_unique_values\": 3,\n        \"samples\": [\n          30.0,\n          8.0,\n          13.0\n        ],\n        \"semantic_type\": \"\",\n        \"description\": \"\"\n      }\n    },\n    {\n      \"column\": \"Payment Method\",\n      \"properties\": {\n        \"dtype\": \"string\",\n        \"num_unique_values\": 2,\n        \"samples\": [\n          \"Mobile Payment\",\n          \"Credit Card\"\n        ],\n        \"semantic_type\": \"\",\n        \"description\": \"\"\n      }\n    },\n    {\n      \"column\": \"Customer Type\",\n      \"properties\": {\n        \"dtype\": \"string\",\n        \"num_unique_values\": 3,\n        \"samples\": [\n          \"Dine-In\",\n          \"Takeaway\"\n        ],\n        \"semantic_type\": \"\",\n        \"description\": \"\"\n      }\n    },\n    {\n      \"column\": \"Month\",\n      \"properties\": {\n        \"dtype\": \"int32\",\n        \"num_unique_values\": 3,\n        \"samples\": [\n          11,\n          3\n        ],\n        \"semantic_type\": \"\",\n        \"description\": \"\"\n      }\n    }\n  ]\n}"
            }
          },
          "metadata": {},
          "execution_count": 13
        }
      ]
    },
    {
      "cell_type": "markdown",
      "source": [
        "# **2. Аналіз продажів замовлень в ресторані та оцінка ефективності меню.**"
      ],
      "metadata": {
        "id": "7OkRFGvdJDiY"
      }
    },
    {
      "cell_type": "markdown",
      "source": [
        "**Питання 1. Переглянемо, які є категорії в меню і який дохід вони приносять.**"
      ],
      "metadata": {
        "id": "TlU4T8OiI8Wk"
      }
    },
    {
      "cell_type": "code",
      "source": [
        "df.groupby(['Category'])['Revenue'].sum().sort_values(ascending=False)"
      ],
      "metadata": {
        "colab": {
          "base_uri": "https://localhost:8080/",
          "height": 210
        },
        "id": "mTq3rFfLHpH6",
        "outputId": "c91ef00c-2840-4b27-890f-451a15a845e9"
      },
      "execution_count": 14,
      "outputs": [
        {
          "output_type": "execute_result",
          "data": {
            "text/plain": [
              "Category\n",
              "Main Course    139581.5\n",
              "Appetizer       57608.0\n",
              "Dessert         50541.0\n",
              "Name: Revenue, dtype: float64"
            ],
            "text/html": [
              "<div>\n",
              "<style scoped>\n",
              "    .dataframe tbody tr th:only-of-type {\n",
              "        vertical-align: middle;\n",
              "    }\n",
              "\n",
              "    .dataframe tbody tr th {\n",
              "        vertical-align: top;\n",
              "    }\n",
              "\n",
              "    .dataframe thead th {\n",
              "        text-align: right;\n",
              "    }\n",
              "</style>\n",
              "<table border=\"1\" class=\"dataframe\">\n",
              "  <thead>\n",
              "    <tr style=\"text-align: right;\">\n",
              "      <th></th>\n",
              "      <th>Revenue</th>\n",
              "    </tr>\n",
              "    <tr>\n",
              "      <th>Category</th>\n",
              "      <th></th>\n",
              "    </tr>\n",
              "  </thead>\n",
              "  <tbody>\n",
              "    <tr>\n",
              "      <th>Main Course</th>\n",
              "      <td>139581.5</td>\n",
              "    </tr>\n",
              "    <tr>\n",
              "      <th>Appetizer</th>\n",
              "      <td>57608.0</td>\n",
              "    </tr>\n",
              "    <tr>\n",
              "      <th>Dessert</th>\n",
              "      <td>50541.0</td>\n",
              "    </tr>\n",
              "  </tbody>\n",
              "</table>\n",
              "</div><br><label><b>dtype:</b> float64</label>"
            ]
          },
          "metadata": {},
          "execution_count": 14
        }
      ]
    },
    {
      "cell_type": "markdown",
      "source": [
        "Найпопулярніша категорія меню, що приносить найбільший дохід – Main Course (Основне меню).\n",
        "\n",
        "**Рекомендації:** звернути увагу на оформлення меню категорій: закуски (Appetizer) та десерти (Dessert), які мають менший дохід. Розглянути підбір меню під цільову аудиторію (пенсіонери, діти, студенти), оптимізація цін, акційні пропозиції.\n"
      ],
      "metadata": {
        "id": "-WAiPI3xJUzh"
      }
    },
    {
      "cell_type": "markdown",
      "source": [
        "**Питання 2. Яким стравам відвідувачі надають перевагу?**"
      ],
      "metadata": {
        "id": "a-YPx0onXuNz"
      }
    },
    {
      "cell_type": "code",
      "source": [
        "df.groupby(['Menu Item'])['Quantity'].sum().sort_values(ascending=False)"
      ],
      "metadata": {
        "colab": {
          "base_uri": "https://localhost:8080/",
          "height": 429
        },
        "id": "soM45CwoWCjz",
        "outputId": "30d70864-9258-4cf5-807c-75e87ea658b1"
      },
      "execution_count": 15,
      "outputs": [
        {
          "output_type": "execute_result",
          "data": {
            "text/plain": [
              "Menu Item\n",
              "Tiramisu               3148\n",
              "Fettuccine Alfredo     3089\n",
              "Panna Cotta            3016\n",
              "Lasagna                2999\n",
              "Gelato                 2998\n",
              "Minestrone Soup        2990\n",
              "Spaghetti Carbonara    2983\n",
              "Margherita Pizza       2914\n",
              "Bruschetta             2822\n",
              "Caprese Salad          2821\n",
              "Name: Quantity, dtype: int64"
            ],
            "text/html": [
              "<div>\n",
              "<style scoped>\n",
              "    .dataframe tbody tr th:only-of-type {\n",
              "        vertical-align: middle;\n",
              "    }\n",
              "\n",
              "    .dataframe tbody tr th {\n",
              "        vertical-align: top;\n",
              "    }\n",
              "\n",
              "    .dataframe thead th {\n",
              "        text-align: right;\n",
              "    }\n",
              "</style>\n",
              "<table border=\"1\" class=\"dataframe\">\n",
              "  <thead>\n",
              "    <tr style=\"text-align: right;\">\n",
              "      <th></th>\n",
              "      <th>Quantity</th>\n",
              "    </tr>\n",
              "    <tr>\n",
              "      <th>Menu Item</th>\n",
              "      <th></th>\n",
              "    </tr>\n",
              "  </thead>\n",
              "  <tbody>\n",
              "    <tr>\n",
              "      <th>Tiramisu</th>\n",
              "      <td>3148</td>\n",
              "    </tr>\n",
              "    <tr>\n",
              "      <th>Fettuccine Alfredo</th>\n",
              "      <td>3089</td>\n",
              "    </tr>\n",
              "    <tr>\n",
              "      <th>Panna Cotta</th>\n",
              "      <td>3016</td>\n",
              "    </tr>\n",
              "    <tr>\n",
              "      <th>Lasagna</th>\n",
              "      <td>2999</td>\n",
              "    </tr>\n",
              "    <tr>\n",
              "      <th>Gelato</th>\n",
              "      <td>2998</td>\n",
              "    </tr>\n",
              "    <tr>\n",
              "      <th>Minestrone Soup</th>\n",
              "      <td>2990</td>\n",
              "    </tr>\n",
              "    <tr>\n",
              "      <th>Spaghetti Carbonara</th>\n",
              "      <td>2983</td>\n",
              "    </tr>\n",
              "    <tr>\n",
              "      <th>Margherita Pizza</th>\n",
              "      <td>2914</td>\n",
              "    </tr>\n",
              "    <tr>\n",
              "      <th>Bruschetta</th>\n",
              "      <td>2822</td>\n",
              "    </tr>\n",
              "    <tr>\n",
              "      <th>Caprese Salad</th>\n",
              "      <td>2821</td>\n",
              "    </tr>\n",
              "  </tbody>\n",
              "</table>\n",
              "</div><br><label><b>dtype:</b> int64</label>"
            ]
          },
          "metadata": {},
          "execution_count": 15
        }
      ]
    },
    {
      "cell_type": "markdown",
      "source": [
        "Найбільш привабливими стравами для відвідувачів є Tiramisu, Fettuccine Alfredo, Panna Cotta. Відповідно найменш привабливими є Bruschetta та Caprese Salad.\n",
        "\n",
        "**Рекомендації**: зробити опитування відвідувачів, які замовили менш привабливі страви, щоб зрозуміти, чого не вистачає в цих стравах, для можливої зміни їх рецептури.\n",
        "\n",
        "\n"
      ],
      "metadata": {
        "id": "vyfifBFiWvrn"
      }
    },
    {
      "cell_type": "markdown",
      "source": [
        "**Питання 3. Динаміка доходу та продажів по місяцям за категоріями меню.**"
      ],
      "metadata": {
        "id": "QTnLnR0UMmXK"
      }
    },
    {
      "cell_type": "markdown",
      "source": [
        "\n",
        "\n",
        "*   **Динаміка доходу по місяцям**\n",
        "\n",
        "\n"
      ],
      "metadata": {
        "id": "C_fN7s_Wz6Wq"
      }
    },
    {
      "cell_type": "code",
      "source": [
        "revenue_pivot = df.pivot_table(index = 'Month', columns = 'Category', values = 'Revenue', aggfunc = 'sum').round(2)"
      ],
      "metadata": {
        "id": "v2r7CIixKcXU"
      },
      "execution_count": 16,
      "outputs": []
    },
    {
      "cell_type": "code",
      "source": [
        "revenue_pivot\n",
        "display(revenue_pivot.style.format(\"{:.2f}\").background_gradient(low=0.75, high=1.0))"
      ],
      "metadata": {
        "colab": {
          "base_uri": "https://localhost:8080/",
          "height": 457
        },
        "id": "W2TO_BNOK0L-",
        "outputId": "828b213a-3618-49d4-9c93-f14dce0cfe4e"
      },
      "execution_count": 17,
      "outputs": [
        {
          "output_type": "display_data",
          "data": {
            "text/plain": [
              "<pandas.io.formats.style.Styler at 0x7bd9429cbe10>"
            ],
            "text/html": [
              "<style type=\"text/css\">\n",
              "#T_9425b_row0_col0, #T_9425b_row1_col1, #T_9425b_row5_col2 {\n",
              "  background-color: #c9cee4;\n",
              "  color: #000000;\n",
              "}\n",
              "#T_9425b_row0_col1, #T_9425b_row2_col0 {\n",
              "  background-color: #4094c3;\n",
              "  color: #f1f1f1;\n",
              "}\n",
              "#T_9425b_row0_col2 {\n",
              "  background-color: #94b6d7;\n",
              "  color: #000000;\n",
              "}\n",
              "#T_9425b_row1_col0 {\n",
              "  background-color: #76aad0;\n",
              "  color: #f1f1f1;\n",
              "}\n",
              "#T_9425b_row1_col2 {\n",
              "  background-color: #a5bddb;\n",
              "  color: #000000;\n",
              "}\n",
              "#T_9425b_row2_col1, #T_9425b_row9_col2, #T_9425b_row10_col2 {\n",
              "  background-color: #7eadd1;\n",
              "  color: #f1f1f1;\n",
              "}\n",
              "#T_9425b_row2_col2, #T_9425b_row6_col2 {\n",
              "  background-color: #84b0d3;\n",
              "  color: #f1f1f1;\n",
              "}\n",
              "#T_9425b_row3_col0 {\n",
              "  background-color: #4496c3;\n",
              "  color: #f1f1f1;\n",
              "}\n",
              "#T_9425b_row3_col1 {\n",
              "  background-color: #6ba5cd;\n",
              "  color: #f1f1f1;\n",
              "}\n",
              "#T_9425b_row3_col2 {\n",
              "  background-color: #9ebad9;\n",
              "  color: #000000;\n",
              "}\n",
              "#T_9425b_row4_col0 {\n",
              "  background-color: #69a5cc;\n",
              "  color: #f1f1f1;\n",
              "}\n",
              "#T_9425b_row4_col1 {\n",
              "  background-color: #91b5d6;\n",
              "  color: #000000;\n",
              "}\n",
              "#T_9425b_row4_col2, #T_9425b_row7_col1 {\n",
              "  background-color: #89b1d4;\n",
              "  color: #000000;\n",
              "}\n",
              "#T_9425b_row5_col0 {\n",
              "  background-color: #589ec8;\n",
              "  color: #f1f1f1;\n",
              "}\n",
              "#T_9425b_row5_col1, #T_9425b_row7_col2, #T_9425b_row9_col0 {\n",
              "  background-color: #328dbf;\n",
              "  color: #f1f1f1;\n",
              "}\n",
              "#T_9425b_row6_col0 {\n",
              "  background-color: #62a2cb;\n",
              "  color: #f1f1f1;\n",
              "}\n",
              "#T_9425b_row6_col1 {\n",
              "  background-color: #3d93c2;\n",
              "  color: #f1f1f1;\n",
              "}\n",
              "#T_9425b_row7_col0, #T_9425b_row9_col1, #T_9425b_row10_col1 {\n",
              "  background-color: #8cb3d5;\n",
              "  color: #000000;\n",
              "}\n",
              "#T_9425b_row8_col0, #T_9425b_row8_col1 {\n",
              "  background-color: #4c99c5;\n",
              "  color: #f1f1f1;\n",
              "}\n",
              "#T_9425b_row8_col2 {\n",
              "  background-color: #a4bcda;\n",
              "  color: #000000;\n",
              "}\n",
              "#T_9425b_row10_col0 {\n",
              "  background-color: #80aed2;\n",
              "  color: #f1f1f1;\n",
              "}\n",
              "#T_9425b_row11_col0 {\n",
              "  background-color: #3b92c1;\n",
              "  color: #f1f1f1;\n",
              "}\n",
              "#T_9425b_row11_col1 {\n",
              "  background-color: #a8bedc;\n",
              "  color: #000000;\n",
              "}\n",
              "#T_9425b_row11_col2 {\n",
              "  background-color: #96b6d7;\n",
              "  color: #000000;\n",
              "}\n",
              "</style>\n",
              "<table id=\"T_9425b\" class=\"dataframe\">\n",
              "  <thead>\n",
              "    <tr>\n",
              "      <th class=\"index_name level0\" >Category</th>\n",
              "      <th id=\"T_9425b_level0_col0\" class=\"col_heading level0 col0\" >Appetizer</th>\n",
              "      <th id=\"T_9425b_level0_col1\" class=\"col_heading level0 col1\" >Dessert</th>\n",
              "      <th id=\"T_9425b_level0_col2\" class=\"col_heading level0 col2\" >Main Course</th>\n",
              "    </tr>\n",
              "    <tr>\n",
              "      <th class=\"index_name level0\" >Month</th>\n",
              "      <th class=\"blank col0\" >&nbsp;</th>\n",
              "      <th class=\"blank col1\" >&nbsp;</th>\n",
              "      <th class=\"blank col2\" >&nbsp;</th>\n",
              "    </tr>\n",
              "  </thead>\n",
              "  <tbody>\n",
              "    <tr>\n",
              "      <th id=\"T_9425b_level0_row0\" class=\"row_heading level0 row0\" >1</th>\n",
              "      <td id=\"T_9425b_row0_col0\" class=\"data row0 col0\" >3873.00</td>\n",
              "      <td id=\"T_9425b_row0_col1\" class=\"data row0 col1\" >4570.50</td>\n",
              "      <td id=\"T_9425b_row0_col2\" class=\"data row0 col2\" >11428.00</td>\n",
              "    </tr>\n",
              "    <tr>\n",
              "      <th id=\"T_9425b_level0_row1\" class=\"row_heading level0 row1\" >2</th>\n",
              "      <td id=\"T_9425b_row1_col0\" class=\"data row1 col0\" >4680.00</td>\n",
              "      <td id=\"T_9425b_row1_col1\" class=\"data row1 col1\" >3568.50</td>\n",
              "      <td id=\"T_9425b_row1_col2\" class=\"data row1 col2\" >10864.50</td>\n",
              "    </tr>\n",
              "    <tr>\n",
              "      <th id=\"T_9425b_level0_row2\" class=\"row_heading level0 row2\" >3</th>\n",
              "      <td id=\"T_9425b_row2_col0\" class=\"data row2 col0\" >5081.00</td>\n",
              "      <td id=\"T_9425b_row2_col1\" class=\"data row2 col1\" >4178.50</td>\n",
              "      <td id=\"T_9425b_row2_col2\" class=\"data row2 col2\" >11958.00</td>\n",
              "    </tr>\n",
              "    <tr>\n",
              "      <th id=\"T_9425b_level0_row3\" class=\"row_heading level0 row3\" >4</th>\n",
              "      <td id=\"T_9425b_row3_col0\" class=\"data row3 col0\" >5054.00</td>\n",
              "      <td id=\"T_9425b_row3_col1\" class=\"data row3 col1\" >4314.00</td>\n",
              "      <td id=\"T_9425b_row3_col2\" class=\"data row3 col2\" >11153.50</td>\n",
              "    </tr>\n",
              "    <tr>\n",
              "      <th id=\"T_9425b_level0_row4\" class=\"row_heading level0 row4\" >5</th>\n",
              "      <td id=\"T_9425b_row4_col0\" class=\"data row4 col0\" >4783.00</td>\n",
              "      <td id=\"T_9425b_row4_col1\" class=\"data row4 col1\" >4040.50</td>\n",
              "      <td id=\"T_9425b_row4_col2\" class=\"data row4 col2\" >11791.00</td>\n",
              "    </tr>\n",
              "    <tr>\n",
              "      <th id=\"T_9425b_level0_row5\" class=\"row_heading level0 row5\" >6</th>\n",
              "      <td id=\"T_9425b_row5_col0\" class=\"data row5 col0\" >4908.00</td>\n",
              "      <td id=\"T_9425b_row5_col1\" class=\"data row5 col1\" >4670.50</td>\n",
              "      <td id=\"T_9425b_row5_col2\" class=\"data row5 col2\" >9532.00</td>\n",
              "    </tr>\n",
              "    <tr>\n",
              "      <th id=\"T_9425b_level0_row6\" class=\"row_heading level0 row6\" >7</th>\n",
              "      <td id=\"T_9425b_row6_col0\" class=\"data row6 col0\" >4840.00</td>\n",
              "      <td id=\"T_9425b_row6_col1\" class=\"data row6 col1\" >4597.00</td>\n",
              "      <td id=\"T_9425b_row6_col2\" class=\"data row6 col2\" >11973.50</td>\n",
              "    </tr>\n",
              "    <tr>\n",
              "      <th id=\"T_9425b_level0_row7\" class=\"row_heading level0 row7\" >8</th>\n",
              "      <td id=\"T_9425b_row7_col0\" class=\"data row7 col0\" >4475.00</td>\n",
              "      <td id=\"T_9425b_row7_col1\" class=\"data row7 col1\" >4098.50</td>\n",
              "      <td id=\"T_9425b_row7_col2\" class=\"data row7 col2\" >14254.00</td>\n",
              "    </tr>\n",
              "    <tr>\n",
              "      <th id=\"T_9425b_level0_row8\" class=\"row_heading level0 row8\" >9</th>\n",
              "      <td id=\"T_9425b_row8_col0\" class=\"data row8 col0\" >4994.00</td>\n",
              "      <td id=\"T_9425b_row8_col1\" class=\"data row8 col1\" >4497.50</td>\n",
              "      <td id=\"T_9425b_row8_col2\" class=\"data row8 col2\" >10918.00</td>\n",
              "    </tr>\n",
              "    <tr>\n",
              "      <th id=\"T_9425b_level0_row9\" class=\"row_heading level0 row9\" >10</th>\n",
              "      <td id=\"T_9425b_row9_col0\" class=\"data row9 col0\" >5196.00</td>\n",
              "      <td id=\"T_9425b_row9_col1\" class=\"data row9 col1\" >4076.00</td>\n",
              "      <td id=\"T_9425b_row9_col2\" class=\"data row9 col2\" >12176.50</td>\n",
              "    </tr>\n",
              "    <tr>\n",
              "      <th id=\"T_9425b_level0_row10\" class=\"row_heading level0 row10\" >11</th>\n",
              "      <td id=\"T_9425b_row10_col0\" class=\"data row10 col0\" >4598.00</td>\n",
              "      <td id=\"T_9425b_row10_col1\" class=\"data row10 col1\" >4073.50</td>\n",
              "      <td id=\"T_9425b_row10_col2\" class=\"data row10 col2\" >12132.50</td>\n",
              "    </tr>\n",
              "    <tr>\n",
              "      <th id=\"T_9425b_level0_row11\" class=\"row_heading level0 row11\" >12</th>\n",
              "      <td id=\"T_9425b_row11_col0\" class=\"data row11 col0\" >5126.00</td>\n",
              "      <td id=\"T_9425b_row11_col1\" class=\"data row11 col1\" >3856.00</td>\n",
              "      <td id=\"T_9425b_row11_col2\" class=\"data row11 col2\" >11400.00</td>\n",
              "    </tr>\n",
              "  </tbody>\n",
              "</table>\n"
            ]
          },
          "metadata": {}
        }
      ]
    },
    {
      "cell_type": "code",
      "source": [
        "revenue_pivot.plot()\n",
        "plt.title('Динаміка доходу по місяцям за категоріями меню')\n",
        "plt.xlabel('Month')\n",
        "plt.ylabel('Revenue');"
      ],
      "metadata": {
        "colab": {
          "base_uri": "https://localhost:8080/",
          "height": 472
        },
        "id": "GxXEGcGQK9Dx",
        "outputId": "f357070d-9977-4b88-d162-6e76fd9573fd"
      },
      "execution_count": 18,
      "outputs": [
        {
          "output_type": "display_data",
          "data": {
            "text/plain": [
              "<Figure size 640x480 with 1 Axes>"
            ],
            "image/png": "[encoded data removed]"
          },
          "metadata": {}
        }
      ]
    },
    {
      "cell_type": "markdown",
      "source": [
        "*   **Динаміка продажів по місяцям**"
      ],
      "metadata": {
        "id": "V0KZnLVl0fCg"
      }
    },
    {
      "cell_type": "code",
      "source": [
        "quantity_pivot = df.pivot_table(index = 'Month', columns = 'Category', values = 'Quantity', aggfunc = 'sum')\n",
        "quantity_pivot.plot()\n",
        "plt.title('Динаміка продажів по місяцям за категоріями меню')\n",
        "plt.xlabel('Month')\n",
        "plt.ylabel('Quantity');"
      ],
      "metadata": {
        "colab": {
          "base_uri": "https://localhost:8080/",
          "height": 472
        },
        "id": "7ye7T_iv-BMJ",
        "outputId": "661e669b-9cce-4d74-b058-96f0882f7229"
      },
      "execution_count": 19,
      "outputs": [
        {
          "output_type": "display_data",
          "data": {
            "text/plain": [
              "<Figure size 640x480 with 1 Axes>"
            ],
            "image/png": "[encoded data removed]"
          },
          "metadata": {}
        }
      ]
    },
    {
      "cell_type": "markdown",
      "source": [
        "Основним джерелом прибутку є Main Course (Основні страви). Лінія для Main Course (зелена) значно вища, ніж для інших категорій. У серпні спостерігається пік прибутку, після чого йде спад. Можливо, у цьому місяці були акції, сезонний попит або якісь події, що вплинули на продажі. Червень – помітний спад у Main Course.\n",
        "\n",
        "Appetizer (закуски) та Dessert (десерти) мають значно нижчий рівень прибутку, проте вони демонструють стабільність, що може бути плюсом для прогнозування продажів. Динаміка закусок виглядає трохи кращою за десерти та приносить більший дохід. Найменший прибуток надходить від десертів.\n",
        "\n",
        "На другому графіку можна помітити, що десертів замовляють більше, ніж закусок. Тобто, попит на десерти більший, ніж на закуски, але при цьому дохід від їх продажів менший. Це свідчить про їх меншу вартість.\n",
        "\n",
        "**Рекомендації**: Дослідити, чому серпень був таким прибутковим для основних страв і чи можна повторити цей ефект. Проаналізувати, чому десерти мають найнижчий рівень прибутку. Можливо, варто розглянути підвищення цін на десерти, переглянути меню або зробити спеціальні пропозиції. Закуски мають стабільний прибуток, але без сплесків. Можна протестувати нові позиції або маркетингові стратегії для підвищення продажів.\n"
      ],
      "metadata": {
        "id": "DYBWOzvOHoX-"
      }
    },
    {
      "cell_type": "markdown",
      "source": [
        "**Питання 4. Визначення періодів пікових продажів.**"
      ],
      "metadata": {
        "id": "UHWijxLEUbPA"
      }
    },
    {
      "cell_type": "markdown",
      "source": [
        "\n",
        "\n",
        "*   **Розподіл продажів за годинами**\n",
        "\n",
        "\n"
      ],
      "metadata": {
        "id": "r2kRcKz_QPv5"
      }
    },
    {
      "cell_type": "code",
      "source": [
        "# Перетворення в datetime\n",
        "df['Time'] = pd.to_datetime(df['Time'], format='%I:%M %p')\n",
        "# Виділення лише години\n",
        "df['Hour'] = df['Time'].dt.hour"
      ],
      "metadata": {
        "id": "yFf9rnBVSgZI"
      },
      "execution_count": 20,
      "outputs": []
    },
    {
      "cell_type": "code",
      "source": [
        "# Підрахунок доходу за годинами\n",
        "hourly_sales = df.groupby('Hour')['Revenue'].sum().reset_index()"
      ],
      "metadata": {
        "id": "VfaZX-H0Sgq_"
      },
      "execution_count": 21,
      "outputs": []
    },
    {
      "cell_type": "code",
      "source": [
        "plt.figure(figsize=(10,5))\n",
        "sns.barplot(data=hourly_sales, x='Hour', y='Revenue', color='skyblue')\n",
        "plt.xlabel(\"Hour\")\n",
        "plt.ylabel(\"Revenue\")\n",
        "plt.title(\"Розподіл продажів за годинами\")\n",
        "plt.show()"
      ],
      "metadata": {
        "colab": {
          "base_uri": "https://localhost:8080/",
          "height": 487
        },
        "id": "iE6Ly1tUThso",
        "outputId": "7f7d5cb9-8202-4706-8b72-011230206ed3"
      },
      "execution_count": 22,
      "outputs": [
        {
          "output_type": "display_data",
          "data": {
            "text/plain": [
              "<Figure size 1000x500 with 1 Axes>"
            ],
            "image/png": "[encoded data removed]"
          },
          "metadata": {}
        }
      ]
    },
    {
      "cell_type": "markdown",
      "source": [
        "Замовлення розподілені рівномірно протягом доби. Це може означати, що кафе працює цілодобово або має постійний потік клієнтів. Найбільше замовлень о 8:00, 16:00 та 22:00.\n",
        "\n",
        "8:00 – можливий сніданковий пік (люди приходять за кавою та сніданком).\n",
        "\n",
        "16:00 – підйом може свідчити про вечірній чай/каву або перекуси після роботи.\n",
        "\n",
        "22:00 – активність може бути пов’язана з вечірніми зустрічами, пізніми перекусами у нічні зміни.\n",
        "\n",
        "Немає сильної різниці між денними та нічними годинами. Можливо ресторан знаходиться в туристичному районі або місце, популярне серед людей, які працюють у нічну зміну.\n"
      ],
      "metadata": {
        "id": "3unA8aieVLtY"
      }
    },
    {
      "cell_type": "markdown",
      "source": [
        "\n",
        "\n",
        "*   **Розподіл продажів за днями тижня**\n",
        "\n",
        "\n"
      ],
      "metadata": {
        "id": "jitY7ApJTKgL"
      }
    },
    {
      "cell_type": "code",
      "source": [
        "# додаємо колонку з днем тижня\n",
        "df['Date'] = pd.to_datetime(df['Date'])\n",
        "df['Weekday'] = df['Date'].dt.day_name()"
      ],
      "metadata": {
        "id": "tnPzq31uTDtv"
      },
      "execution_count": 23,
      "outputs": []
    },
    {
      "cell_type": "code",
      "source": [
        "# Підрахунок доходу за днями тижня\n",
        "weekday_sales = df.groupby('Weekday')['Revenue'].sum().reset_index()\n",
        "sns.barplot(data=weekday_sales, x='Weekday', y='Revenue', color='skyblue')\n",
        "plt.title(\"Дохід по днях тижня\")\n",
        "plt.show()"
      ],
      "metadata": {
        "colab": {
          "base_uri": "https://localhost:8080/",
          "height": 472
        },
        "id": "T0_mI5WIT8Ss",
        "outputId": "07b769ba-32d0-45d1-a75c-26ed22299480"
      },
      "execution_count": 24,
      "outputs": [
        {
          "output_type": "display_data",
          "data": {
            "text/plain": [
              "<Figure size 640x480 with 1 Axes>"
            ],
            "image/png": "[encoded data removed]"
          },
          "metadata": {}
        }
      ]
    },
    {
      "cell_type": "markdown",
      "source": [
        "Замовлення розподілені майже рівномірно протягом тижня."
      ],
      "metadata": {
        "id": "nR2K5gS7Ut0v"
      }
    },
    {
      "cell_type": "markdown",
      "source": [
        "**Питання 5. Ефективність меню.**"
      ],
      "metadata": {
        "id": "dmsoMitqdjWT"
      }
    },
    {
      "cell_type": "markdown",
      "source": [
        "\n",
        "\n",
        "*   **Аналіз продажів кожного пункту меню**\n",
        "\n",
        "\n"
      ],
      "metadata": {
        "id": "VTQaxVHiL24_"
      }
    },
    {
      "cell_type": "code",
      "source": [
        "menu_analysis = df.groupby('Menu Item')['Quantity'].sum().sort_values(ascending=False)"
      ],
      "metadata": {
        "id": "Ug9taXH9dtGN"
      },
      "execution_count": 25,
      "outputs": []
    },
    {
      "cell_type": "markdown",
      "source": [
        "\n",
        "\n",
        "*   **Оцінка прибутковості**\n",
        "\n",
        "\n"
      ],
      "metadata": {
        "id": "1hbLFmU_MR8s"
      }
    },
    {
      "cell_type": "code",
      "source": [
        "revenue_analysis = df.groupby('Menu Item')['Revenue'].sum().sort_values(ascending=False)"
      ],
      "metadata": {
        "id": "tmL7SeiCeNHH"
      },
      "execution_count": 26,
      "outputs": []
    },
    {
      "cell_type": "markdown",
      "source": [
        "\n",
        "\n",
        "*   **Оцінка ефективності меню**\n",
        "\n",
        "\n"
      ],
      "metadata": {
        "id": "Ukoga3eYNNYa"
      }
    },
    {
      "cell_type": "code",
      "source": [
        "result = pd.DataFrame({'Quantity': menu_analysis, 'Revenue': revenue_analysis})\n",
        "result = result.sort_values(by='Quantity', ascending=False)\n",
        "print(result)"
      ],
      "metadata": {
        "colab": {
          "base_uri": "https://localhost:8080/"
        },
        "id": "8xY3XI8oeNg4",
        "outputId": "bc8f1bc2-455a-40a1-ba11-073159c5ee6f"
      },
      "execution_count": 27,
      "outputs": [
        {
          "output_type": "stream",
          "name": "stdout",
          "text": [
            "                     Quantity  Revenue\n",
            "Menu Item                             \n",
            "Tiramisu                 3148  20462.0\n",
            "Fettuccine Alfredo       3089  40157.0\n",
            "Panna Cotta              3016  16588.0\n",
            "Lasagna                  2999  34488.5\n",
            "Gelato                   2998  13491.0\n",
            "Minestrone Soup          2990  20930.0\n",
            "Spaghetti Carbonara      2983  35796.0\n",
            "Margherita Pizza         2914  29140.0\n",
            "Bruschetta               2822  14110.0\n",
            "Caprese Salad            2821  22568.0\n"
          ]
        }
      ]
    },
    {
      "cell_type": "markdown",
      "source": [
        "Лідером за кількістю продажів є десерт Tiramisu (3148 порцій), але його загальний дохід (20462) менший за інші страви, наприклад, Fettuccine Alfredo (40157). Це може бути через те, що його середня ціна нижча, або що клієнти часто обирають його як доповнення до основних страв.\n",
        "\n",
        "Найбільший дохід приносить Fettuccine Alfredo (40157), хоча за кількістю продажів (3089) він на другому місці. Його висока ціна робить його найприбутковішим товаром у меню. Варто розглянути можливість просування цієї страви, щоб підвищити її продажі ще більше.\n",
        "\n",
        "Дорогі, але менш популярні страви – Spaghetti Carbonara та Lasagna. Spaghetti Carbonara має 2983 продажів, але його дохід (35796) значно вищий, ніж у Minestrone Soup (20930), хоча обидва мають схожу кількість продажів. Lasagna продано 2999 разів, але її дохід (34488.5), також один із найвищих. Це означає, що ціна на ці страви є достатньо високою.\n",
        "\n",
        "Десерти та закуски мають високий попит, але нижчий дохід. Panna Cotta продана 3016 разів, але принесла лише 16588, що говорить про її низьку ціну. Gelato та Bruschetta мають понад 2800 продажів, але їхній дохід є одним із найнижчих у списку.\n",
        "\n",
        "**Рекомендації**:\n",
        "Популярні, але недоходні страви: розглянути підвищення ціни на Tiramisu, Panna Cotta, Gelato та Bruschetta.\n",
        "Дохідні, але не найбільш популярні: Fettuccine Alfredo та Spaghetti Carbonara можна активніше просувати через акції або комбо-пропозиції.\n",
        "Оптимізація меню: варто переглянути низькодохідні страви Gelato, Bruschetta та інші, чи варто їх залишати в меню в поточному вигляді?\n",
        "\n"
      ],
      "metadata": {
        "id": "eGKA3qumNlZH"
      }
    },
    {
      "cell_type": "markdown",
      "source": [
        "**Питання 6. Розглянемо залежність між кількістю проданих одиниць (Quantity) та виручкою (Revenue) за допомогою діаграми розсіювання.**"
      ],
      "metadata": {
        "id": "SrSVWlLoXasB"
      }
    },
    {
      "cell_type": "code",
      "source": [
        "sns.regplot(data = df, x = 'Quantity', y = 'Revenue', scatter_kws = {'alpha': 0.4}, line_kws = {'color': 'red'})\n",
        "plt.title(\"Залежність між кількістю проданих одиниць (Quantity) та виручкою (Revenue)\");"
      ],
      "metadata": {
        "colab": {
          "base_uri": "https://localhost:8080/",
          "height": 472
        },
        "id": "mIuiRsRGAiQW",
        "outputId": "80edbabe-75a9-4844-bc14-93f7f20037c3"
      },
      "execution_count": 28,
      "outputs": [
        {
          "output_type": "display_data",
          "data": {
            "text/plain": [
              "<Figure size 640x480 with 1 Axes>"
            ],
            "image/png": "[encoded data removed]"
          },
          "metadata": {}
        }
      ]
    },
    {
      "cell_type": "markdown",
      "source": [
        "Графік показує залежність між кількістю проданих одиниць (Quantity) та виручкою (Revenue).\n",
        "\n",
        "Позитивна кореляція – червона лінія свідчить, що зі збільшенням кількості проданих товарів виручка також зростає. Це логічно, адже чим більше продано, тим вищий дохід.\n",
        "\n",
        "Різний рівень доходу при однаковій кількості продажів свідчить, що для одного значення Quantity виручка варіюється. Це означає, що товари мають різні ціни.\n",
        "\n",
        "Деякі товари мають високу виручку навіть при малій кількості продажів – на графіку є точки з високим Revenue при низькому Quantity. Це можуть бути дорогі позиції меню, які продаються рідше, але приносять більше прибутку.\n",
        "\n",
        "\n"
      ],
      "metadata": {
        "id": "OvOMvYcFDXRs"
      }
    },
    {
      "cell_type": "markdown",
      "source": [
        "**Питання 7. Перевіримо, чи є статистично значуща різниця в доході (Revenue) між двома різними способами оплати: Credit Card та Cash.**\n",
        "Використаємо статистий тест z-test. Рівень статистичної значущості alpha = 0.05."
      ],
      "metadata": {
        "id": "0oRgAu8Vdnu8"
      }
    },
    {
      "cell_type": "markdown",
      "source": [
        "**Формулювання гіпотези:**\n",
        "\n",
        "Н0 (нульова гіпотеза): дохід для Credit Card і Cash однаковий.\n",
        "\n",
        "H1 (альтернативна гіпотеза): дохід для Credit Card і Cash відрізняється."
      ],
      "metadata": {
        "id": "z64_efLleiSB"
      }
    },
    {
      "cell_type": "code",
      "source": [
        "from statsmodels.stats.weightstats import ztest"
      ],
      "metadata": {
        "id": "mac_nD7DVqEk"
      },
      "execution_count": 29,
      "outputs": []
    },
    {
      "cell_type": "code",
      "source": [
        "# Формуємо дві вибірки за методом оплати\n",
        "credit_card_revenue = df[df['Payment Method'] == 'Credit Card']['Revenue']\n",
        "cash_revenue = df[df['Payment Method'] == 'Cash']['Revenue']\n",
        "\n",
        "# Виконуємо Z-тест\n",
        "z_stat, p_value = ztest(credit_card_revenue, cash_revenue)\n",
        "\n",
        "# Виводимо результати\n",
        "print(f\"Z-статистика: {z_stat:.2f}\")\n",
        "print(f\"P-значення: {p_value:.4f}\")\n",
        "\n",
        "# Перевірка гіпотези\n",
        "alpha = 0.05\n",
        "if p_value < alpha:\n",
        "    print(\"Відхиляємо нульову гіпотезу. Дохід значно відрізняється для цих методів оплати.\")\n",
        "else:\n",
        "    print(\"Не можемо відхилити нульову гіпотезу. Немає статистично значущої різниці між доходом для цих методів оплати.\")"
      ],
      "metadata": {
        "colab": {
          "base_uri": "https://localhost:8080/"
        },
        "id": "9mRMbIrgVrZs",
        "outputId": "92043c3b-507f-41bb-8ca0-68f77844bd6f"
      },
      "execution_count": 30,
      "outputs": [
        {
          "output_type": "stream",
          "name": "stdout",
          "text": [
            "Z-статистика: -1.34\n",
            "P-значення: 0.1812\n",
            "Не можемо відхилити нульову гіпотезу. Немає статистично значущої різниці між доходом для цих методів оплати.\n"
          ]
        }
      ]
    },
    {
      "cell_type": "markdown",
      "source": [
        "Таким чином, p-value є більшим ніж рівень статистичної значущості alpha. Це означає, що не можна відхилити нульову гіпотезу, оскільки немає статистично значущої різниці між доходом для методів оплати Credit Card і Cash."
      ],
      "metadata": {
        "id": "lm8GNj5dg0YY"
      }
    },
    {
      "cell_type": "markdown",
      "source": [
        "**Питання 8. Перевірка кореляції між колонками з числовими показниками.**"
      ],
      "metadata": {
        "id": "j0sEDapRisGr"
      }
    },
    {
      "cell_type": "code",
      "source": [
        "# Вибираємо лише числові колонки\n",
        "df_numeric = df.select_dtypes(include=['number'])\n",
        "\n",
        "# Обчислюємо кореляційну матрицю\n",
        "matrix = np.triu(df_numeric.corr())\n",
        "\n",
        "# Будуємо heatmap\n",
        "plt.figure(figsize=(8,6))\n",
        "sns.heatmap(df_numeric.corr(), annot=True, cmap=\"coolwarm\", mask=matrix, fmt=\".2f\", linewidths=0.5)\n",
        "\n",
        "plt.title(\"Кореляційна матриця\")\n",
        "plt.show()"
      ],
      "metadata": {
        "colab": {
          "base_uri": "https://localhost:8080/",
          "height": 545
        },
        "id": "Kl71BUpKZgBM",
        "outputId": "bb758c07-78eb-4132-a2b8-68815ba4ad76"
      },
      "execution_count": 31,
      "outputs": [
        {
          "output_type": "display_data",
          "data": {
            "text/plain": [
              "<Figure size 800x600 with 2 Axes>"
            ],
            "image/png": "[encoded data removed]"
          },
          "metadata": {}
        }
      ]
    },
    {
      "cell_type": "markdown",
      "source": [
        "Revenue & Quantity мають позитивну кореляцію, оскільки чим більше товарів купують, тим більший дохід.\n",
        "Revenue & Price (per item) також мають позитивну кореляцію, але ці показники мають більш слабкий зв’язок, а ніж попередні два показники. Дохід залежить від попиту на дорожчі страви."
      ],
      "metadata": {
        "id": "EOHD2Dsdj8o_"
      }
    },
    {
      "cell_type": "markdown",
      "source": [
        "**Питання 9. Аналіз Payment Method (Метод оплати).**"
      ],
      "metadata": {
        "id": "Kn2BB5sQmkMH"
      }
    },
    {
      "cell_type": "markdown",
      "source": [
        "*  **Який метод оплати найпопулярніший? З’ясуємо це, побудувавши кругову діаграму (pie chart).**\n",
        "\n",
        "\n"
      ],
      "metadata": {
        "id": "j2nQVYbgmrTb"
      }
    },
    {
      "cell_type": "code",
      "source": [
        "df['Payment Method'].value_counts().plot(kind='pie', autopct='%1.1f%%', colors=['lightpink', 'lightgreen', 'lightblue'])\n",
        "\n",
        "plt.title('Розподіл Payment Method')\n",
        "plt.ylabel('')\n",
        "plt.show()"
      ],
      "metadata": {
        "colab": {
          "base_uri": "https://localhost:8080/",
          "height": 428
        },
        "id": "qmXmNcOynI3u",
        "outputId": "80818d93-d4ca-4329-be0d-f529b8f2974d"
      },
      "execution_count": 32,
      "outputs": [
        {
          "output_type": "display_data",
          "data": {
            "text/plain": [
              "<Figure size 640x480 with 1 Axes>"
            ],
            "image/png": "[encoded data removed]"
          },
          "metadata": {}
        }
      ]
    },
    {
      "cell_type": "markdown",
      "source": [
        "*   **Залежність між методом оплати та виручкою**\n",
        "\n",
        "\n"
      ],
      "metadata": {
        "id": "GHB059dMJdrc"
      }
    },
    {
      "cell_type": "code",
      "source": [
        "df.groupby('Payment Method')['Revenue'].sum().plot(kind='bar', color='skyblue')\n",
        "plt.title('Дохід по методу оплати')\n",
        "plt.ylabel('Revenue')\n",
        "plt.xlabel('Payment Method')\n",
        "plt.xticks(rotation=0)\n",
        "plt.show()"
      ],
      "metadata": {
        "colab": {
          "base_uri": "https://localhost:8080/",
          "height": 472
        },
        "id": "nXH09bFrJ4pk",
        "outputId": "1bd48ee5-63c2-40b2-efc6-411129ed8fae"
      },
      "execution_count": 33,
      "outputs": [
        {
          "output_type": "display_data",
          "data": {
            "text/plain": [
              "<Figure size 640x480 with 1 Axes>"
            ],
            "image/png": "[encoded data removed]"
          },
          "metadata": {}
        }
      ]
    },
    {
      "cell_type": "markdown",
      "source": [
        "Згідно двох графіків система оплати замовлень  розподілена рівномірно, але перевага все ж таки надається оплаті готівкою та мобільним розрахункам."
      ],
      "metadata": {
        "id": "jliTV0ugLXww"
      }
    },
    {
      "cell_type": "markdown",
      "source": [
        "**Питання 10. Аналіз Customer Type (Тип клієнта)**"
      ],
      "metadata": {
        "id": "sAORpzSeLB1h"
      }
    },
    {
      "cell_type": "markdown",
      "source": [
        "\n",
        "\n",
        "*   **Який тип Customer Type переважає над іншими типами**\n",
        "\n",
        "\n"
      ],
      "metadata": {
        "id": "aBe8m3ClMK-i"
      }
    },
    {
      "cell_type": "code",
      "source": [
        "df['Customer Type'].value_counts().plot(kind='pie', autopct='%1.1f%%')\n",
        "\n",
        "plt.title('Розподіл Customer Type')\n",
        "plt.ylabel('')\n",
        "plt.show()"
      ],
      "metadata": {
        "colab": {
          "base_uri": "https://localhost:8080/",
          "height": 428
        },
        "id": "VHiq4fTrM55Z",
        "outputId": "041510ed-7d9f-4df0-876b-3c742ab67bab"
      },
      "execution_count": 34,
      "outputs": [
        {
          "output_type": "display_data",
          "data": {
            "text/plain": [
              "<Figure size 640x480 with 1 Axes>"
            ],
            "image/png": "[encoded data removed]"
          },
          "metadata": {}
        }
      ]
    },
    {
      "cell_type": "markdown",
      "source": [
        "\n",
        "\n",
        "*   **Який тип клієнта приносить найбільший дохід?**\n",
        "\n",
        "\n"
      ],
      "metadata": {
        "id": "VE8n2fWFOMC3"
      }
    },
    {
      "cell_type": "code",
      "source": [
        "df.groupby('Customer Type')['Revenue'].sum().plot(kind='bar', color='lightblue')\n",
        "plt.title('Дохід по Customer Type')\n",
        "plt.xlabel('Customer Type')\n",
        "plt.ylabel('Revenue')\n",
        "plt.xticks(rotation=0)\n",
        "plt.show()"
      ],
      "metadata": {
        "colab": {
          "base_uri": "https://localhost:8080/",
          "height": 472
        },
        "id": "ednP6yFWOKZU",
        "outputId": "7bd2c10c-8e89-4aa0-b6ec-164166d6c710"
      },
      "execution_count": 35,
      "outputs": [
        {
          "output_type": "display_data",
          "data": {
            "text/plain": [
              "<Figure size 640x480 with 1 Axes>"
            ],
            "image/png": "[encoded data removed]"
          },
          "metadata": {}
        }
      ]
    },
    {
      "cell_type": "markdown",
      "source": [
        "Згідно двох графіків типи клієнтів розподілені рівномірно, переважає Takeaway (самовивіз) та Dine-In (відвідувачі у ресторані)."
      ],
      "metadata": {
        "id": "9VrlOdwzPxFg"
      }
    },
    {
      "cell_type": "markdown",
      "source": [
        "**Питання 11. Поведінка різних типів клієнтів (Customer Type) за годинами доби.**"
      ],
      "metadata": {
        "id": "VFEsVU04VnzF"
      }
    },
    {
      "cell_type": "code",
      "source": [
        "pivot = df.pivot_table(index=['Customer Type'],  columns=['Hour'] , values=['Quantity'], aggfunc='sum')\n",
        "display(pivot.style.background_gradient(axis=None))"
      ],
      "metadata": {
        "colab": {
          "base_uri": "https://localhost:8080/",
          "height": 206
        },
        "id": "qXUm0zWLV3Xi",
        "outputId": "d5e09103-5c61-4b4d-9420-cf0e193cdca2"
      },
      "execution_count": 36,
      "outputs": [
        {
          "output_type": "display_data",
          "data": {
            "text/plain": [
              "<pandas.io.formats.style.Styler at 0x7bd93ecdca50>"
            ],
            "text/html": [
              "<style type=\"text/css\">\n",
              "#T_36135_row0_col0 {\n",
              "  background-color: #0771b1;\n",
              "  color: #f1f1f1;\n",
              "}\n",
              "#T_36135_row0_col1, #T_36135_row0_col2 {\n",
              "  background-color: #afc1dd;\n",
              "  color: #000000;\n",
              "}\n",
              "#T_36135_row0_col3 {\n",
              "  background-color: #9cb9d9;\n",
              "  color: #000000;\n",
              "}\n",
              "#T_36135_row0_col4 {\n",
              "  background-color: #569dc8;\n",
              "  color: #f1f1f1;\n",
              "}\n",
              "#T_36135_row0_col5 {\n",
              "  background-color: #fff7fb;\n",
              "  color: #000000;\n",
              "}\n",
              "#T_36135_row0_col6 {\n",
              "  background-color: #e7e3f0;\n",
              "  color: #000000;\n",
              "}\n",
              "#T_36135_row0_col7 {\n",
              "  background-color: #d5d5e8;\n",
              "  color: #000000;\n",
              "}\n",
              "#T_36135_row0_col8 {\n",
              "  background-color: #04649e;\n",
              "  color: #f1f1f1;\n",
              "}\n",
              "#T_36135_row0_col9 {\n",
              "  background-color: #99b8d8;\n",
              "  color: #000000;\n",
              "}\n",
              "#T_36135_row0_col10, #T_36135_row2_col3 {\n",
              "  background-color: #d8d7e9;\n",
              "  color: #000000;\n",
              "}\n",
              "#T_36135_row0_col11 {\n",
              "  background-color: #549cc7;\n",
              "  color: #f1f1f1;\n",
              "}\n",
              "#T_36135_row0_col12 {\n",
              "  background-color: #81aed2;\n",
              "  color: #f1f1f1;\n",
              "}\n",
              "#T_36135_row0_col13, #T_36135_row2_col22 {\n",
              "  background-color: #045483;\n",
              "  color: #f1f1f1;\n",
              "}\n",
              "#T_36135_row0_col14, #T_36135_row2_col5 {\n",
              "  background-color: #60a1ca;\n",
              "  color: #f1f1f1;\n",
              "}\n",
              "#T_36135_row0_col15, #T_36135_row1_col22 {\n",
              "  background-color: #2987bc;\n",
              "  color: #f1f1f1;\n",
              "}\n",
              "#T_36135_row0_col16, #T_36135_row1_col18 {\n",
              "  background-color: #358fc0;\n",
              "  color: #f1f1f1;\n",
              "}\n",
              "#T_36135_row0_col17 {\n",
              "  background-color: #2685bb;\n",
              "  color: #f1f1f1;\n",
              "}\n",
              "#T_36135_row0_col18, #T_36135_row1_col23 {\n",
              "  background-color: #69a5cc;\n",
              "  color: #f1f1f1;\n",
              "}\n",
              "#T_36135_row0_col19 {\n",
              "  background-color: #ced0e6;\n",
              "  color: #000000;\n",
              "}\n",
              "#T_36135_row0_col20 {\n",
              "  background-color: #05659f;\n",
              "  color: #f1f1f1;\n",
              "}\n",
              "#T_36135_row0_col21, #T_36135_row2_col1 {\n",
              "  background-color: #4a98c5;\n",
              "  color: #f1f1f1;\n",
              "}\n",
              "#T_36135_row0_col22 {\n",
              "  background-color: #67a4cc;\n",
              "  color: #f1f1f1;\n",
              "}\n",
              "#T_36135_row0_col23, #T_36135_row2_col4 {\n",
              "  background-color: #046299;\n",
              "  color: #f1f1f1;\n",
              "}\n",
              "#T_36135_row1_col0 {\n",
              "  background-color: #056dac;\n",
              "  color: #f1f1f1;\n",
              "}\n",
              "#T_36135_row1_col1, #T_36135_row1_col20 {\n",
              "  background-color: #71a8ce;\n",
              "  color: #f1f1f1;\n",
              "}\n",
              "#T_36135_row1_col2 {\n",
              "  background-color: #86b0d3;\n",
              "  color: #000000;\n",
              "}\n",
              "#T_36135_row1_col3 {\n",
              "  background-color: #d6d6e9;\n",
              "  color: #000000;\n",
              "}\n",
              "#T_36135_row1_col4 {\n",
              "  background-color: #eee9f3;\n",
              "  color: #000000;\n",
              "}\n",
              "#T_36135_row1_col5, #T_36135_row1_col9 {\n",
              "  background-color: #96b6d7;\n",
              "  color: #000000;\n",
              "}\n",
              "#T_36135_row1_col6, #T_36135_row2_col15, #T_36135_row2_col20 {\n",
              "  background-color: #167bb6;\n",
              "  color: #f1f1f1;\n",
              "}\n",
              "#T_36135_row1_col7, #T_36135_row1_col8 {\n",
              "  background-color: #056aa6;\n",
              "  color: #f1f1f1;\n",
              "}\n",
              "#T_36135_row1_col10 {\n",
              "  background-color: #91b5d6;\n",
              "  color: #000000;\n",
              "}\n",
              "#T_36135_row1_col11 {\n",
              "  background-color: #3d93c2;\n",
              "  color: #f1f1f1;\n",
              "}\n",
              "#T_36135_row1_col12, #T_36135_row1_col16 {\n",
              "  background-color: #5ea0ca;\n",
              "  color: #f1f1f1;\n",
              "}\n",
              "#T_36135_row1_col13, #T_36135_row2_col0 {\n",
              "  background-color: #b5c4df;\n",
              "  color: #000000;\n",
              "}\n",
              "#T_36135_row1_col14 {\n",
              "  background-color: #0568a3;\n",
              "  color: #f1f1f1;\n",
              "}\n",
              "#T_36135_row1_col15 {\n",
              "  background-color: #509ac6;\n",
              "  color: #f1f1f1;\n",
              "}\n",
              "#T_36135_row1_col17 {\n",
              "  background-color: #2c89bd;\n",
              "  color: #f1f1f1;\n",
              "}\n",
              "#T_36135_row1_col19, #T_36135_row2_col9 {\n",
              "  background-color: #8cb3d5;\n",
              "  color: #000000;\n",
              "}\n",
              "#T_36135_row1_col21 {\n",
              "  background-color: #045687;\n",
              "  color: #f1f1f1;\n",
              "}\n",
              "#T_36135_row2_col2 {\n",
              "  background-color: #a8bedc;\n",
              "  color: #000000;\n",
              "}\n",
              "#T_36135_row2_col6 {\n",
              "  background-color: #d3d4e7;\n",
              "  color: #000000;\n",
              "}\n",
              "#T_36135_row2_col7 {\n",
              "  background-color: #f0eaf4;\n",
              "  color: #000000;\n",
              "}\n",
              "#T_36135_row2_col8 {\n",
              "  background-color: #63a2cb;\n",
              "  color: #f1f1f1;\n",
              "}\n",
              "#T_36135_row2_col10 {\n",
              "  background-color: #034e7b;\n",
              "  color: #f1f1f1;\n",
              "}\n",
              "#T_36135_row2_col11 {\n",
              "  background-color: #0f76b3;\n",
              "  color: #f1f1f1;\n",
              "}\n",
              "#T_36135_row2_col12 {\n",
              "  background-color: #1278b4;\n",
              "  color: #f1f1f1;\n",
              "}\n",
              "#T_36135_row2_col13 {\n",
              "  background-color: #b1c2de;\n",
              "  color: #000000;\n",
              "}\n",
              "#T_36135_row2_col14 {\n",
              "  background-color: #79abd0;\n",
              "  color: #f1f1f1;\n",
              "}\n",
              "#T_36135_row2_col16 {\n",
              "  background-color: #023858;\n",
              "  color: #f1f1f1;\n",
              "}\n",
              "#T_36135_row2_col17 {\n",
              "  background-color: #dedcec;\n",
              "  color: #000000;\n",
              "}\n",
              "#T_36135_row2_col18 {\n",
              "  background-color: #a1bbda;\n",
              "  color: #000000;\n",
              "}\n",
              "#T_36135_row2_col19 {\n",
              "  background-color: #197db7;\n",
              "  color: #f1f1f1;\n",
              "}\n",
              "#T_36135_row2_col21 {\n",
              "  background-color: #bbc7e0;\n",
              "  color: #000000;\n",
              "}\n",
              "#T_36135_row2_col23 {\n",
              "  background-color: #76aad0;\n",
              "  color: #f1f1f1;\n",
              "}\n",
              "</style>\n",
              "<table id=\"T_36135\" class=\"dataframe\">\n",
              "  <thead>\n",
              "    <tr>\n",
              "      <th class=\"blank level0\" >&nbsp;</th>\n",
              "      <th id=\"T_36135_level0_col0\" class=\"col_heading level0 col0\" colspan=\"24\">Quantity</th>\n",
              "    </tr>\n",
              "    <tr>\n",
              "      <th class=\"index_name level1\" >Hour</th>\n",
              "      <th id=\"T_36135_level1_col0\" class=\"col_heading level1 col0\" >0</th>\n",
              "      <th id=\"T_36135_level1_col1\" class=\"col_heading level1 col1\" >1</th>\n",
              "      <th id=\"T_36135_level1_col2\" class=\"col_heading level1 col2\" >2</th>\n",
              "      <th id=\"T_36135_level1_col3\" class=\"col_heading level1 col3\" >3</th>\n",
              "      <th id=\"T_36135_level1_col4\" class=\"col_heading level1 col4\" >4</th>\n",
              "      <th id=\"T_36135_level1_col5\" class=\"col_heading level1 col5\" >5</th>\n",
              "      <th id=\"T_36135_level1_col6\" class=\"col_heading level1 col6\" >6</th>\n",
              "      <th id=\"T_36135_level1_col7\" class=\"col_heading level1 col7\" >7</th>\n",
              "      <th id=\"T_36135_level1_col8\" class=\"col_heading level1 col8\" >8</th>\n",
              "      <th id=\"T_36135_level1_col9\" class=\"col_heading level1 col9\" >9</th>\n",
              "      <th id=\"T_36135_level1_col10\" class=\"col_heading level1 col10\" >10</th>\n",
              "      <th id=\"T_36135_level1_col11\" class=\"col_heading level1 col11\" >11</th>\n",
              "      <th id=\"T_36135_level1_col12\" class=\"col_heading level1 col12\" >12</th>\n",
              "      <th id=\"T_36135_level1_col13\" class=\"col_heading level1 col13\" >13</th>\n",
              "      <th id=\"T_36135_level1_col14\" class=\"col_heading level1 col14\" >14</th>\n",
              "      <th id=\"T_36135_level1_col15\" class=\"col_heading level1 col15\" >15</th>\n",
              "      <th id=\"T_36135_level1_col16\" class=\"col_heading level1 col16\" >16</th>\n",
              "      <th id=\"T_36135_level1_col17\" class=\"col_heading level1 col17\" >17</th>\n",
              "      <th id=\"T_36135_level1_col18\" class=\"col_heading level1 col18\" >18</th>\n",
              "      <th id=\"T_36135_level1_col19\" class=\"col_heading level1 col19\" >19</th>\n",
              "      <th id=\"T_36135_level1_col20\" class=\"col_heading level1 col20\" >20</th>\n",
              "      <th id=\"T_36135_level1_col21\" class=\"col_heading level1 col21\" >21</th>\n",
              "      <th id=\"T_36135_level1_col22\" class=\"col_heading level1 col22\" >22</th>\n",
              "      <th id=\"T_36135_level1_col23\" class=\"col_heading level1 col23\" >23</th>\n",
              "    </tr>\n",
              "    <tr>\n",
              "      <th class=\"index_name level0\" >Customer Type</th>\n",
              "      <th class=\"blank col0\" >&nbsp;</th>\n",
              "      <th class=\"blank col1\" >&nbsp;</th>\n",
              "      <th class=\"blank col2\" >&nbsp;</th>\n",
              "      <th class=\"blank col3\" >&nbsp;</th>\n",
              "      <th class=\"blank col4\" >&nbsp;</th>\n",
              "      <th class=\"blank col5\" >&nbsp;</th>\n",
              "      <th class=\"blank col6\" >&nbsp;</th>\n",
              "      <th class=\"blank col7\" >&nbsp;</th>\n",
              "      <th class=\"blank col8\" >&nbsp;</th>\n",
              "      <th class=\"blank col9\" >&nbsp;</th>\n",
              "      <th class=\"blank col10\" >&nbsp;</th>\n",
              "      <th class=\"blank col11\" >&nbsp;</th>\n",
              "      <th class=\"blank col12\" >&nbsp;</th>\n",
              "      <th class=\"blank col13\" >&nbsp;</th>\n",
              "      <th class=\"blank col14\" >&nbsp;</th>\n",
              "      <th class=\"blank col15\" >&nbsp;</th>\n",
              "      <th class=\"blank col16\" >&nbsp;</th>\n",
              "      <th class=\"blank col17\" >&nbsp;</th>\n",
              "      <th class=\"blank col18\" >&nbsp;</th>\n",
              "      <th class=\"blank col19\" >&nbsp;</th>\n",
              "      <th class=\"blank col20\" >&nbsp;</th>\n",
              "      <th class=\"blank col21\" >&nbsp;</th>\n",
              "      <th class=\"blank col22\" >&nbsp;</th>\n",
              "      <th class=\"blank col23\" >&nbsp;</th>\n",
              "    </tr>\n",
              "  </thead>\n",
              "  <tbody>\n",
              "    <tr>\n",
              "      <th id=\"T_36135_level0_row0\" class=\"row_heading level0 row0\" >Delivery</th>\n",
              "      <td id=\"T_36135_row0_col0\" class=\"data row0 col0\" >446</td>\n",
              "      <td id=\"T_36135_row0_col1\" class=\"data row0 col1\" >386</td>\n",
              "      <td id=\"T_36135_row0_col2\" class=\"data row0 col2\" >386</td>\n",
              "      <td id=\"T_36135_row0_col3\" class=\"data row0 col3\" >394</td>\n",
              "      <td id=\"T_36135_row0_col4\" class=\"data row0 col4\" >418</td>\n",
              "      <td id=\"T_36135_row0_col5\" class=\"data row0 col5\" >333</td>\n",
              "      <td id=\"T_36135_row0_col6\" class=\"data row0 col6\" >355</td>\n",
              "      <td id=\"T_36135_row0_col7\" class=\"data row0 col7\" >368</td>\n",
              "      <td id=\"T_36135_row0_col8\" class=\"data row0 col8\" >457</td>\n",
              "      <td id=\"T_36135_row0_col9\" class=\"data row0 col9\" >395</td>\n",
              "      <td id=\"T_36135_row0_col10\" class=\"data row0 col10\" >366</td>\n",
              "      <td id=\"T_36135_row0_col11\" class=\"data row0 col11\" >419</td>\n",
              "      <td id=\"T_36135_row0_col12\" class=\"data row0 col12\" >404</td>\n",
              "      <td id=\"T_36135_row0_col13\" class=\"data row0 col13\" >469</td>\n",
              "      <td id=\"T_36135_row0_col14\" class=\"data row0 col14\" >415</td>\n",
              "      <td id=\"T_36135_row0_col15\" class=\"data row0 col15\" >433</td>\n",
              "      <td id=\"T_36135_row0_col16\" class=\"data row0 col16\" >428</td>\n",
              "      <td id=\"T_36135_row0_col17\" class=\"data row0 col17\" >434</td>\n",
              "      <td id=\"T_36135_row0_col18\" class=\"data row0 col18\" >412</td>\n",
              "      <td id=\"T_36135_row0_col19\" class=\"data row0 col19\" >372</td>\n",
              "      <td id=\"T_36135_row0_col20\" class=\"data row0 col20\" >456</td>\n",
              "      <td id=\"T_36135_row0_col21\" class=\"data row0 col21\" >422</td>\n",
              "      <td id=\"T_36135_row0_col22\" class=\"data row0 col22\" >413</td>\n",
              "      <td id=\"T_36135_row0_col23\" class=\"data row0 col23\" >459</td>\n",
              "    </tr>\n",
              "    <tr>\n",
              "      <th id=\"T_36135_level0_row1\" class=\"row_heading level0 row1\" >Dine-In</th>\n",
              "      <td id=\"T_36135_row1_col0\" class=\"data row1 col0\" >449</td>\n",
              "      <td id=\"T_36135_row1_col1\" class=\"data row1 col1\" >410</td>\n",
              "      <td id=\"T_36135_row1_col2\" class=\"data row1 col2\" >402</td>\n",
              "      <td id=\"T_36135_row1_col3\" class=\"data row1 col3\" >367</td>\n",
              "      <td id=\"T_36135_row1_col4\" class=\"data row1 col4\" >350</td>\n",
              "      <td id=\"T_36135_row1_col5\" class=\"data row1 col5\" >396</td>\n",
              "      <td id=\"T_36135_row1_col6\" class=\"data row1 col6\" >440</td>\n",
              "      <td id=\"T_36135_row1_col7\" class=\"data row1 col7\" >452</td>\n",
              "      <td id=\"T_36135_row1_col8\" class=\"data row1 col8\" >452</td>\n",
              "      <td id=\"T_36135_row1_col9\" class=\"data row1 col9\" >396</td>\n",
              "      <td id=\"T_36135_row1_col10\" class=\"data row1 col10\" >398</td>\n",
              "      <td id=\"T_36135_row1_col11\" class=\"data row1 col11\" >426</td>\n",
              "      <td id=\"T_36135_row1_col12\" class=\"data row1 col12\" >416</td>\n",
              "      <td id=\"T_36135_row1_col13\" class=\"data row1 col13\" >383</td>\n",
              "      <td id=\"T_36135_row1_col14\" class=\"data row1 col14\" >454</td>\n",
              "      <td id=\"T_36135_row1_col15\" class=\"data row1 col15\" >420</td>\n",
              "      <td id=\"T_36135_row1_col16\" class=\"data row1 col16\" >416</td>\n",
              "      <td id=\"T_36135_row1_col17\" class=\"data row1 col17\" >432</td>\n",
              "      <td id=\"T_36135_row1_col18\" class=\"data row1 col18\" >428</td>\n",
              "      <td id=\"T_36135_row1_col19\" class=\"data row1 col19\" >400</td>\n",
              "      <td id=\"T_36135_row1_col20\" class=\"data row1 col20\" >410</td>\n",
              "      <td id=\"T_36135_row1_col21\" class=\"data row1 col21\" >468</td>\n",
              "      <td id=\"T_36135_row1_col22\" class=\"data row1 col22\" >433</td>\n",
              "      <td id=\"T_36135_row1_col23\" class=\"data row1 col23\" >412</td>\n",
              "    </tr>\n",
              "    <tr>\n",
              "      <th id=\"T_36135_level0_row2\" class=\"row_heading level0 row2\" >Takeaway</th>\n",
              "      <td id=\"T_36135_row2_col0\" class=\"data row2 col0\" >383</td>\n",
              "      <td id=\"T_36135_row2_col1\" class=\"data row2 col1\" >422</td>\n",
              "      <td id=\"T_36135_row2_col2\" class=\"data row2 col2\" >389</td>\n",
              "      <td id=\"T_36135_row2_col3\" class=\"data row2 col3\" >366</td>\n",
              "      <td id=\"T_36135_row2_col4\" class=\"data row2 col4\" >459</td>\n",
              "      <td id=\"T_36135_row2_col5\" class=\"data row2 col5\" >415</td>\n",
              "      <td id=\"T_36135_row2_col6\" class=\"data row2 col6\" >369</td>\n",
              "      <td id=\"T_36135_row2_col7\" class=\"data row2 col7\" >348</td>\n",
              "      <td id=\"T_36135_row2_col8\" class=\"data row2 col8\" >414</td>\n",
              "      <td id=\"T_36135_row2_col9\" class=\"data row2 col9\" >400</td>\n",
              "      <td id=\"T_36135_row2_col10\" class=\"data row2 col10\" >472</td>\n",
              "      <td id=\"T_36135_row2_col11\" class=\"data row2 col11\" >443</td>\n",
              "      <td id=\"T_36135_row2_col12\" class=\"data row2 col12\" >442</td>\n",
              "      <td id=\"T_36135_row2_col13\" class=\"data row2 col13\" >385</td>\n",
              "      <td id=\"T_36135_row2_col14\" class=\"data row2 col14\" >407</td>\n",
              "      <td id=\"T_36135_row2_col15\" class=\"data row2 col15\" >440</td>\n",
              "      <td id=\"T_36135_row2_col16\" class=\"data row2 col16\" >485</td>\n",
              "      <td id=\"T_36135_row2_col17\" class=\"data row2 col17\" >362</td>\n",
              "      <td id=\"T_36135_row2_col18\" class=\"data row2 col18\" >392</td>\n",
              "      <td id=\"T_36135_row2_col19\" class=\"data row2 col19\" >439</td>\n",
              "      <td id=\"T_36135_row2_col20\" class=\"data row2 col20\" >440</td>\n",
              "      <td id=\"T_36135_row2_col21\" class=\"data row2 col21\" >381</td>\n",
              "      <td id=\"T_36135_row2_col22\" class=\"data row2 col22\" >469</td>\n",
              "      <td id=\"T_36135_row2_col23\" class=\"data row2 col23\" >408</td>\n",
              "    </tr>\n",
              "  </tbody>\n",
              "</table>\n"
            ]
          },
          "metadata": {}
        }
      ]
    },
    {
      "cell_type": "markdown",
      "source": [
        "Найвища активність замовлень припадає на другу половину дня (приблизно 14:00 - 23:00). Відповідно вранці і до обіду замовлень менше.\n",
        "\n",
        "**Поведінка різних типів клієнтів:**\n",
        "\n",
        "**Dine-In (відвідувачі в ресторані)**: найбільша активність спостерігається вранці, в обід та ввечері. Тобто більшість відвідувачів приходять на сніданок, обід та вечерю до ресторану.\n",
        "\n",
        "**Delivery (доставка)**: найбільше замовлень в обід та ввечері, оскільки люди замовляють їжу на обід та додому після роботи. Кількість замовлень вранці значно менша.\n",
        "\n",
        "**Takeaway (самовивіз)**: піки спостерігаються о 4-00, 10-00, 16-00 та 22-00 годинах.\n",
        "\n",
        "**Рекомендації**: Основний дохід ресторан отримує у після обідній та вечірній час. Можна запропонувати знижки або спеціальні акції на цей період та покращити обслуговування в пікові години.\n",
        "\n",
        "Ранковий попит нижчий, тож можливо слід додати сніданкове меню або спеціальні пропозиції. Тобто для збільшення прибутку варто посилити маркетинг у ранкові години.\n"
      ],
      "metadata": {
        "id": "yLcrJLfd7v4_"
      }
    },
    {
      "cell_type": "markdown",
      "source": [
        "# **3. Висновки та рекомендації щодо діяльності ресторану.**"
      ],
      "metadata": {
        "id": "-QxBh_4kkBml"
      }
    },
    {
      "cell_type": "markdown",
      "source": [
        "*   Найпопулярніша категорія меню, що приносить найбільший дохід – Main Course\n",
        "(Основне меню).\n",
        "\n",
        "**Звернути увагу на оформлення меню категорій: закуски та десерти, які мають менший дохід. Розглянути підбір меню під цільову аудиторію (пенсіонери, діти, студенти), оптимізація цін, акційні пропозиції.**\n",
        "\n",
        " *   Найбільш привабливими стравами для відвідувачів є Tiramisu, Fettuccine Alfredo, Panna Cotta. Відповідно найменш привабливими є Bruschetta та Caprese Salad.\n",
        "\n",
        "**Зробити опитування відвідувачів, які замовили менш привабливі страви, щоб зрозуміти, чого не вистачає в цих стравах, для можливої зміни їх рецептури.**\n",
        "\n",
        "*   У серпні спостерігається пік прибутку.\n",
        "\n",
        "**Дослідити, чому серпень був таким прибутковим для основних страв і чи можна повторити цей ефект.**\n",
        "\n",
        "*  Appetizer (закуски) та Dessert (десерти) мають значно нижчий рівень прибутку, проте вони демонструють стабільність, що може бути плюсом для прогнозування продажів. Динаміка закусок виглядає трохи кращою за десерти та приносить більший дохід. Найменший прибуток надходить від десертів. Проте десертів замовляють більше, ніж закусок. Тобто, попит на десерти більший, ніж на закуски, але при цьому дохід від їх продажів менший. Це свідчить про їх меншу вартість.\n",
        "\n",
        "**Проаналізувати, чому десерти мають найнижчий рівень прибутку. Можливо, варто розглянути підвищення цін на десерти, переглянути меню або зробити спеціальні пропозиції. Закуски мають стабільний прибуток, але без сплесків. Можна протестувати нові позиції або маркетингові стратегії для підвищення продажів.**\n",
        "\n",
        "*  Замовлення розподілені рівномірно протягом доби. Немає сильної різниці між денними та нічними годинами. Це може означати, що кафе працює цілодобово або має постійний потік клієнтів.\n",
        "\n",
        "*  Оцінка ефективності меню показала, що є дві категорії страв:\n",
        "популярні, але недоходні страви (Tiramisu, Panna Cotta, Gelato та Bruschetta) та\n",
        "дохідні, але не найбільш популярні (Fettuccine Alfredo та Spaghetti Carbonara).\n",
        "\n",
        "**Для першої категорії варто розглянути підвищення ціни. Для другої категорії варто активніше просувати через акції або комбо-пропозиції.**\n",
        "\n",
        "**Оптимізація меню: варто переглянути низькодохідні страви Gelato, Bruschetta та інші, чи варто їх залишати в меню в поточному вигляді?**\n",
        "\n",
        "*  Залежність між кількістю проданих одиниць (Quantity) та виручкою (Revenue) за допомогою діаграми розсіювання показала позитивну кореляцію. Це свідчить про те, що зі збільшенням кількості проданих товарів виручка також зростає.\n",
        "Різний рівень доходу при однаковій кількості продажів свідчить, що для одного значення Quantity виручка варіюється. Це означає, що товари мають різні ціни.\n",
        "\n",
        "*  Система оплати замовлень розподілена рівномірно, але перевага все ж таки надається оплаті готівкою та мобільними розрахунками.\n",
        "\n",
        "*  Типи клієнтів розподілені рівномірно, хоча трохи переважає їжа на винос та обіди у ресторані.\n",
        "\n",
        "*  Найвища активність замовлень припадає на другу половину дня (приблизно 14:00 - 23:00). Відповідно вранці і до обіду замовлень менше.\n",
        "\n",
        "**Основний дохід ресторан отримує у після обідній та вечірній час. Можна запропонувати знижки або спеціальні акції на цей період та покращити обслуговування в пікові години.**\n",
        "\n",
        "**Ранковий попит нижчий, тож можливо слід додати сніданкове меню або спеціальні пропозиції. Тобто для збільшення прибутку варто посилити маркетинг у ранкові години.**\n",
        "\n",
        "\n",
        "\n",
        "\n",
        "\n",
        "\n",
        "\n",
        "\n",
        "\n",
        "\n",
        "\n",
        "\n",
        "\n",
        "\n",
        "\n",
        "\n",
        "\n",
        "\n",
        "\n",
        "\n",
        "\n"
      ],
      "metadata": {
        "id": "CsOUIBhreu1S"
      }
    }
  ]
}