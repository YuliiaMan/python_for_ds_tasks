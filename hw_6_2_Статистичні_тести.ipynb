{
  "cells": [
    {
      "cell_type": "markdown",
      "metadata": {
        "id": "view-in-github",
        "colab_type": "text"
      },
      "source": [
        "<a href=\"https://colab.research.google.com/github/YuliiaMan/python_for_ds_tasks/blob/main/hw_6_2_%D0%A1%D1%82%D0%B0%D1%82%D0%B8%D1%81%D1%82%D0%B8%D1%87%D0%BD%D1%96_%D1%82%D0%B5%D1%81%D1%82%D0%B8.ipynb\" target=\"_parent\"><img src=\"https://colab.research.google.com/assets/colab-badge.svg\" alt=\"Open In Colab\"/></a>"
      ]
    },
    {
      "cell_type": "markdown",
      "id": "e152f6d6",
      "metadata": {
        "ExecuteTime": {
          "end_time": "2022-12-10T14:29:24.703416Z",
          "start_time": "2022-12-10T14:29:24.688485Z"
        },
        "id": "e152f6d6"
      },
      "source": [
        "## Домашнє завдання 6: Статистичні тести"
      ]
    },
    {
      "cell_type": "markdown",
      "id": "cd404683",
      "metadata": {
        "id": "cd404683"
      },
      "source": [
        "0. Зчитайте дані з `data.csv` та запишіть значення колонки data у форматі np.ndarray в змінну data. Ми будемо далі працювати з цією змінною."
      ]
    },
    {
      "cell_type": "code",
      "source": [
        "import numpy as np\n",
        "import pandas as pd"
      ],
      "metadata": {
        "id": "a8M1Xqa3hInl"
      },
      "id": "a8M1Xqa3hInl",
      "execution_count": 1,
      "outputs": []
    },
    {
      "cell_type": "code",
      "source": [
        "from google.colab import drive\n",
        "drive.mount('/content/drive')"
      ],
      "metadata": {
        "id": "LABSkaBhfdSH",
        "outputId": "c928a318-0022-4ae1-d886-d559fdd687f8",
        "colab": {
          "base_uri": "https://localhost:8080/"
        }
      },
      "id": "LABSkaBhfdSH",
      "execution_count": 2,
      "outputs": [
        {
          "output_type": "stream",
          "name": "stdout",
          "text": [
            "Mounted at /content/drive\n"
          ]
        }
      ]
    },
    {
      "cell_type": "code",
      "source": [
        "data_path = '/content/drive/MyDrive/datastat/data.csv'\n",
        "df = pd.read_csv(data_path)"
      ],
      "metadata": {
        "id": "roIEACnSfrrX"
      },
      "id": "roIEACnSfrrX",
      "execution_count": 3,
      "outputs": []
    },
    {
      "cell_type": "markdown",
      "id": "3d06cbbf",
      "metadata": {
        "id": "3d06cbbf"
      },
      "source": [
        "Запустіть код нижче. Для коректної робити всіх подальших методів дані мають бути у вигляді одновимірного вектора, тобто мати розмір (100,)."
      ]
    },
    {
      "cell_type": "code",
      "source": [
        "data = df['data'].values"
      ],
      "metadata": {
        "id": "BOIf8SmXknhF"
      },
      "id": "BOIf8SmXknhF",
      "execution_count": 16,
      "outputs": []
    },
    {
      "cell_type": "code",
      "source": [
        "if len(data.shape) > 1:\n",
        "    data = data.ravel()"
      ],
      "metadata": {
        "id": "zhHhpvf6lIu6"
      },
      "id": "zhHhpvf6lIu6",
      "execution_count": 17,
      "outputs": []
    },
    {
      "cell_type": "markdown",
      "id": "abdcef5d",
      "metadata": {
        "id": "abdcef5d"
      },
      "source": [
        "1. Зчитані дані - це сума покупок в доларах наших покупців на сайті протягом липня 2022 року.\n",
        "\n",
        "До цього місяця, ми мали продажі в середньому на чек $20. Чи вийшло у нас статистично значущо **підвищити** середній чек за останній місяць?\n",
        "\n",
        "Оберіть статистичний тест (z-test чи t-test). Виведіть p-значення статистичного тесту та зробіть висновок, чи ми маємо зараз статистично значущу різницю у розмірі середнього чеку.\n",
        "\n",
        "**Підказка**: тут тест буде одновибірковий."
      ]
    },
    {
      "cell_type": "code",
      "source": [
        "from scipy.stats import ttest_1samp"
      ],
      "metadata": {
        "id": "nZ6aeUWGsCh2"
      },
      "id": "nZ6aeUWGsCh2",
      "execution_count": 20,
      "outputs": []
    },
    {
      "cell_type": "code",
      "source": [
        "null_mean = 20\n",
        "\n",
        "t_stat, p_value = ttest_1samp(data, null_mean)\n",
        "\n",
        "print(f\"T-статистика: {t_stat:.4f}\")\n",
        "print(f\"P-значення: {p_value:.4f}\")"
      ],
      "metadata": {
        "id": "XhxcSbYqhLz9",
        "outputId": "d3397572-b456-4652-afaa-bedb0898eba5",
        "colab": {
          "base_uri": "https://localhost:8080/"
        }
      },
      "id": "XhxcSbYqhLz9",
      "execution_count": 21,
      "outputs": [
        {
          "output_type": "stream",
          "name": "stdout",
          "text": [
            "T-статистика: -0.9953\n",
            "P-значення: 0.3220\n"
          ]
        }
      ]
    },
    {
      "cell_type": "code",
      "source": [
        "alpha = 0.05\n",
        "if p_value < alpha:\n",
        "    print(\"Ми маємо статистично значущу різницю в середньому чеку (відмінність від $20).\")\n",
        "else:\n",
        "    print(\"Немає статистично значущої різниці в середньому чеку.\")"
      ],
      "metadata": {
        "id": "881TTDU8qvBo",
        "outputId": "d7802435-5911-4a9e-a5df-1193d0a2d7af",
        "colab": {
          "base_uri": "https://localhost:8080/"
        }
      },
      "id": "881TTDU8qvBo",
      "execution_count": 22,
      "outputs": [
        {
          "output_type": "stream",
          "name": "stdout",
          "text": [
            "Немає статистично значущої різниці в середньому чеку.\n"
          ]
        }
      ]
    },
    {
      "cell_type": "markdown",
      "id": "05219e41",
      "metadata": {
        "ExecuteTime": {
          "end_time": "2022-12-10T14:52:46.140204Z",
          "start_time": "2022-12-10T14:52:46.112068Z"
        },
        "id": "05219e41"
      },
      "source": [
        "2. Пройшов час, і ми зібрали дані про продажі за серпень 2022 року, які зберігли у файл `data_2.csv`. Продажів було дещо більше, але чи змінився стат. значущо середній чек порівняно з липнем 2022? Перевірте це використовуючи ztest.\n",
        "\n",
        "  Виведіть p-значення статистичного тесту та зробіть висновок, чи ми маємо зараз статистично значущу різницю у розмірі середнього чека між двома місяцями.\n",
        "\n",
        "  **Підказка**: треба провести двовибірковий ztest з Н0 - що середні значення в липні та серпні 2022 року - однакові. Для кращого розуміння ситуації, можливо вам буде цікаво переглянути, які середні показники чеку були в кожен з місяців. Порівняйте свій висновок з простого спостереження середніх значень і висновок статистичного тесту. Чи вони збігаються?"
      ]
    },
    {
      "cell_type": "code",
      "source": [
        "data_path = '/content/drive/MyDrive/datastat/data_2.csv'\n",
        "df_2 = pd.read_csv(data_path)"
      ],
      "metadata": {
        "id": "hbs7LPI4hP-6"
      },
      "id": "hbs7LPI4hP-6",
      "execution_count": 23,
      "outputs": []
    },
    {
      "cell_type": "code",
      "source": [
        "data_2 = df_2['data'].values"
      ],
      "metadata": {
        "id": "DjcImS0Sulu7"
      },
      "id": "DjcImS0Sulu7",
      "execution_count": 25,
      "outputs": []
    },
    {
      "cell_type": "code",
      "source": [
        "if len(data_2.shape) > 1:\n",
        "    data_2 = data.ravel()"
      ],
      "metadata": {
        "id": "_GDSPfPkumBL"
      },
      "id": "_GDSPfPkumBL",
      "execution_count": 26,
      "outputs": []
    },
    {
      "cell_type": "code",
      "source": [
        "from statsmodels.stats.weightstats import ztest"
      ],
      "metadata": {
        "id": "iD19Q1PE0b8Z"
      },
      "id": "iD19Q1PE0b8Z",
      "execution_count": 28,
      "outputs": []
    },
    {
      "cell_type": "code",
      "source": [
        "mean_july = np.mean(data)\n",
        "mean_august = np.mean(data_2)\n",
        "\n",
        "z_stat, p_value = ztest(data, data_2)\n",
        "\n",
        "print(f\"Середній чек у липні 2022: {mean_july:.2f}\")\n",
        "print(f\"Середній чек у серпні 2022: {mean_august:.2f}\")\n",
        "print(f\"Z-статистика: {z_stat:.4f}\")\n",
        "print(f\"P-значення: {p_value:.4f}\")\n"
      ],
      "metadata": {
        "id": "Mq2oxqR-zyg7",
        "outputId": "20f11113-9815-43b9-c39d-5e8ffca65a22",
        "colab": {
          "base_uri": "https://localhost:8080/"
        }
      },
      "id": "Mq2oxqR-zyg7",
      "execution_count": 29,
      "outputs": [
        {
          "output_type": "stream",
          "name": "stdout",
          "text": [
            "Середній чек у липні 2022: 19.38\n",
            "Середній чек у серпні 2022: 19.37\n",
            "Z-статистика: 0.0052\n",
            "P-значення: 0.9958\n"
          ]
        }
      ]
    },
    {
      "cell_type": "code",
      "source": [
        "alpha = 0.05\n",
        "if p_value < alpha:\n",
        "    print(\"Ми маємо статистично значущу різницю у середньому чеку між липнем та серпнем 2022.\")\n",
        "else:\n",
        "    print(\"Статистично значущої різниці у середньому чеку між липнем та серпнем 2022 немає.\")"
      ],
      "metadata": {
        "id": "CmNGDhV9zy2B",
        "outputId": "07277311-ee4f-4a54-c06e-8cff97c90c78",
        "colab": {
          "base_uri": "https://localhost:8080/"
        }
      },
      "id": "CmNGDhV9zy2B",
      "execution_count": 30,
      "outputs": [
        {
          "output_type": "stream",
          "name": "stdout",
          "text": [
            "Статистично значущої різниці у середньому чеку між липнем та серпнем 2022 немає.\n"
          ]
        }
      ]
    },
    {
      "cell_type": "markdown",
      "source": [
        "Середні показники чеків обох місяців майже однакові, що також підтверджується статистичним тестом."
      ],
      "metadata": {
        "id": "XUrqJKcZ010X"
      },
      "id": "XUrqJKcZ010X"
    }
  ],
  "metadata": {
    "hide_input": false,
    "kernelspec": {
      "display_name": "Python 3 (ipykernel)",
      "language": "python",
      "name": "python3"
    },
    "language_info": {
      "codemirror_mode": {
        "name": "ipython",
        "version": 3
      },
      "file_extension": ".py",
      "mimetype": "text/x-python",
      "name": "python",
      "nbconvert_exporter": "python",
      "pygments_lexer": "ipython3",
      "version": "3.11.3"
    },
    "toc": {
      "base_numbering": 1,
      "nav_menu": {},
      "number_sections": true,
      "sideBar": true,
      "skip_h1_title": false,
      "title_cell": "Table of Contents",
      "title_sidebar": "Contents",
      "toc_cell": false,
      "toc_position": {},
      "toc_section_display": true,
      "toc_window_display": false
    },
    "varInspector": {
      "cols": {
        "lenName": 16,
        "lenType": 16,
        "lenVar": 40
      },
      "kernels_config": {
        "python": {
          "delete_cmd_postfix": "",
          "delete_cmd_prefix": "del ",
          "library": "var_list.py",
          "varRefreshCmd": "print(var_dic_list())"
        },
        "r": {
          "delete_cmd_postfix": ") ",
          "delete_cmd_prefix": "rm(",
          "library": "var_list.r",
          "varRefreshCmd": "cat(var_dic_list()) "
        }
      },
      "types_to_exclude": [
        "module",
        "function",
        "builtin_function_or_method",
        "instance",
        "_Feature"
      ],
      "window_display": false
    },
    "colab": {
      "provenance": [],
      "include_colab_link": true
    }
  },
  "nbformat": 4,
  "nbformat_minor": 5
}